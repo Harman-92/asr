{
 "cells": [
  {
   "cell_type": "markdown",
   "metadata": {
    "id": "LBSYoWbi-45k"
   },
   "source": [
    "# **Fine-tuning Wav2Vec2 for English ASR with 🤗 Transformers**"
   ]
  },
  {
   "cell_type": "markdown",
   "metadata": {
    "id": "nT_QrfWtsxIz"
   },
   "source": [
    "fine-tune the \"base\"-sized [pretrained checkpoint](https://huggingface.co/facebook/wav2vec2-base) on LJSpeech Dataset"
   ]
  },
  {
   "cell_type": "markdown",
   "metadata": {
    "id": "Gx9OdDYrCtQ1"
   },
   "source": [
    "Wav2Vec2 is fine-tuned using Connectionist Temporal Classification (CTC), which is an algorithm that is used to train neural networks for sequence-to-sequence problems and mainly in Automatic Speech Recognition and handwriting recognition. "
   ]
  },
  {
   "cell_type": "markdown",
   "metadata": {
    "id": "e335hPmdtASZ"
   },
   "source": [
    "\n",
    "SETUP"
   ]
  },
  {
   "cell_type": "code",
   "execution_count": null,
   "metadata": {
    "id": "c8eh87Hoee5d"
   },
   "outputs": [],
   "source": [
    "# !pip install datasets\n",
    "# !pip install transformers\n",
    "# !pip install librosa\n",
    "# !pip install jiwer"
   ]
  },
  {
   "cell_type": "code",
   "execution_count": 1,
   "metadata": {
    "colab": {
     "base_uri": "https://localhost:8080/"
    },
    "id": "SLAufgh_xxj7",
    "outputId": "434bfe8f-9c7a-4ff8-f490-6a29e41c54b3"
   },
   "outputs": [
    {
     "data": {
      "text/plain": [
       "True"
      ]
     },
     "execution_count": 1,
     "metadata": {},
     "output_type": "execute_result"
    }
   ],
   "source": [
    "import torch\n",
    "import librosa\n",
    "torch.cuda.is_available()"
   ]
  },
  {
   "cell_type": "markdown",
   "metadata": {
    "id": "0mW-C1Nt-j7k"
   },
   "source": [
    "## Prepare Data, Tokenizer, Feature Extractor"
   ]
  },
  {
   "cell_type": "markdown",
   "metadata": {
    "id": "BeBosnY9BH3e"
   },
   "source": [
    "In 🤗 Transformers, the Wav2Vec2 model is accompanied by both a tokenizer, called [Wav2Vec2CTCTokenizer](https://huggingface.co/transformers/master/model_doc/wav2vec2.html#wav2vec2ctctokenizer), and a feature extractor, called [Wav2Vec2FeatureExtractor](https://huggingface.co/transformers/master/model_doc/wav2vec2.html#wav2vec2featureextractor).\n",
    "\n",
    "Let's start by creating the tokenizer responsible for decoding the model's predictions."
   ]
  },
  {
   "cell_type": "markdown",
   "metadata": {
    "id": "sEXEWEJGQPqD"
   },
   "source": [
    "### Create Wav2Vec2CTCTokenizer"
   ]
  },
  {
   "cell_type": "markdown",
   "metadata": {
    "id": "bee4g9rpLxll"
   },
   "source": [
    "Let's start by loading the dataset and taking a look at its structure."
   ]
  },
  {
   "cell_type": "code",
   "execution_count": 2,
   "metadata": {
    "colab": {
     "base_uri": "https://localhost:8080/"
    },
    "id": "2MMXcWFFgCXU",
    "outputId": "2624ff73-961b-42a3-cd03-f381504f5dca"
   },
   "outputs": [
    {
     "name": "stderr",
     "output_type": "stream",
     "text": [
      "Reusing dataset lj_speech (C:\\Users\\Harman\\.cache\\huggingface\\datasets\\lj_speech\\main\\1.1.0\\f4518d8fe24e62a9045ac697d23037d073cc76202777ee14267664978c222c2f)\n",
      "Reusing dataset lj_speech (C:\\Users\\Harman\\.cache\\huggingface\\datasets\\lj_speech\\main\\1.1.0\\f4518d8fe24e62a9045ac697d23037d073cc76202777ee14267664978c222c2f)\n"
     ]
    }
   ],
   "source": [
    "from datasets import load_dataset, load_metric, Audio\n",
    "\n",
    "train_ds = load_dataset(\"lj_speech\",split='train[:90%]')\n",
    "val_ds = load_dataset(\"lj_speech\",split='train[-10%:]')"
   ]
  },
  {
   "cell_type": "code",
   "execution_count": 3,
   "metadata": {
    "colab": {
     "base_uri": "https://localhost:8080/"
    },
    "id": "QbIM-L0xdvf4",
    "outputId": "5663ffcc-9017-4121-9152-1d7601ec33e0"
   },
   "outputs": [
    {
     "data": {
      "text/plain": [
       "Dataset({\n",
       "    features: ['id', 'audio', 'file', 'text', 'normalized_text'],\n",
       "    num_rows: 11790\n",
       "})"
      ]
     },
     "execution_count": 3,
     "metadata": {},
     "output_type": "execute_result"
    }
   ],
   "source": [
    "train_ds"
   ]
  },
  {
   "cell_type": "code",
   "execution_count": 4,
   "metadata": {
    "colab": {
     "base_uri": "https://localhost:8080/"
    },
    "id": "sDblgtHkitLG",
    "outputId": "64967363-fae9-408a-8f53-987436b67d7d"
   },
   "outputs": [
    {
     "data": {
      "text/plain": [
       "Dataset({\n",
       "    features: ['id', 'audio', 'file', 'text', 'normalized_text'],\n",
       "    num_rows: 1310\n",
       "})"
      ]
     },
     "execution_count": 4,
     "metadata": {},
     "output_type": "execute_result"
    }
   ],
   "source": [
    "val_ds"
   ]
  },
  {
   "cell_type": "code",
   "execution_count": 5,
   "metadata": {
    "id": "kbyq6lDgQc2a"
   },
   "outputs": [
    {
     "data": {
      "text/plain": [
       "Dataset({\n",
       "    features: ['audio', 'normalized_text'],\n",
       "    num_rows: 11790\n",
       "})"
      ]
     },
     "execution_count": 5,
     "metadata": {},
     "output_type": "execute_result"
    }
   ],
   "source": [
    "train_ds = train_ds.remove_columns([\"id\",\"file\",\"text\"])\n",
    "val_ds = val_ds.remove_columns([\"id\",\"file\",\"text\"])\n",
    "\n",
    "train_ds"
   ]
  },
  {
   "cell_type": "markdown",
   "metadata": {
    "id": "Go9Hq4e4NDT9"
   },
   "source": [
    "Let's write a short function to display some random samples of the dataset and run it a couple of times to get a feeling for the transcriptions."
   ]
  },
  {
   "cell_type": "code",
   "execution_count": 6,
   "metadata": {
    "id": "72737oog2F6U"
   },
   "outputs": [],
   "source": [
    "from datasets import ClassLabel\n",
    "import random\n",
    "import pandas as pd\n",
    "from IPython.display import display, HTML\n",
    "\n",
    "def show_random_elements(dataset, num_examples=10):\n",
    "    picks = []\n",
    "    for _ in range(num_examples):\n",
    "        pick = random.randint(0, len(dataset)-1)\n",
    "        while pick in picks:\n",
    "            pick = random.randint(0, len(dataset)-1)\n",
    "        picks.append(pick)\n",
    "    \n",
    "    df = pd.DataFrame(dataset[picks])\n",
    "    display(HTML(df.to_html()))"
   ]
  },
  {
   "cell_type": "code",
   "execution_count": 7,
   "metadata": {
    "colab": {
     "base_uri": "https://localhost:8080/",
     "height": 359
    },
    "id": "K_JUmf3G3b9S",
    "outputId": "ba6fe75a-80f8-44e3-825b-f607f58245c0"
   },
   "outputs": [
    {
     "data": {
      "text/html": [
       "<table border=\"1\" class=\"dataframe\">\n",
       "  <thead>\n",
       "    <tr style=\"text-align: right;\">\n",
       "      <th></th>\n",
       "      <th>normalized_text</th>\n",
       "    </tr>\n",
       "  </thead>\n",
       "  <tbody>\n",
       "    <tr>\n",
       "      <th>0</th>\n",
       "      <td>The courtyards and streets are paved with them, and as you walk about the city the name of Nebuchadnezzar everywhere meets your eye.</td>\n",
       "    </tr>\n",
       "    <tr>\n",
       "      <th>1</th>\n",
       "      <td>to carry out a carefully planned killing of another human being and was willing to consummate such a purpose if he thought there was sufficient reason to do so.</td>\n",
       "    </tr>\n",
       "    <tr>\n",
       "      <th>2</th>\n",
       "      <td>and said, quote, Everybody will know who I am now, end quote.</td>\n",
       "    </tr>\n",
       "    <tr>\n",
       "      <th>3</th>\n",
       "      <td>Concerning the shots which struck the President in the back of the neck,</td>\n",
       "    </tr>\n",
       "    <tr>\n",
       "      <th>4</th>\n",
       "      <td>Mr. Cobbett was also a lodger of Mr. Newman's; and so were any members of the aristocracy,</td>\n",
       "    </tr>\n",
       "    <tr>\n",
       "      <th>5</th>\n",
       "      <td>to May fourteen, nineteen sixty-three.</td>\n",
       "    </tr>\n",
       "    <tr>\n",
       "      <th>6</th>\n",
       "      <td>The relation of skeleton and muscle in arthropods is exactly the reverse.</td>\n",
       "    </tr>\n",
       "    <tr>\n",
       "      <th>7</th>\n",
       "      <td>All vertebrates, and none other, have two cavities,</td>\n",
       "    </tr>\n",
       "    <tr>\n",
       "      <th>8</th>\n",
       "      <td>The Aliases \"Hidell\" and \"O. H. Lee\"</td>\n",
       "    </tr>\n",
       "    <tr>\n",
       "      <th>9</th>\n",
       "      <td>This was the well and astutely devised plot of the brothers Bidwell,</td>\n",
       "    </tr>\n",
       "  </tbody>\n",
       "</table>"
      ],
      "text/plain": [
       "<IPython.core.display.HTML object>"
      ]
     },
     "metadata": {},
     "output_type": "display_data"
    }
   ],
   "source": [
    "show_random_elements(train_ds.remove_columns([\"audio\"]), num_examples=10)"
   ]
  },
  {
   "cell_type": "markdown",
   "metadata": {
    "id": "vq7OR50LN49m"
   },
   "source": [
    "Normalize the text to only have lower case letters and append a word separator token at the end."
   ]
  },
  {
   "cell_type": "code",
   "execution_count": 8,
   "metadata": {
    "id": "svKzVJ_hQGK6"
   },
   "outputs": [],
   "source": [
    "import re\n",
    "chars_to_ignore_regex = '[^A-Za-z0-9\\s\\']'\n",
    "\n",
    "def remove_special_characters(batch):\n",
    "    batch[\"normalized_text\"] = re.sub(chars_to_ignore_regex, '', batch[\"normalized_text\"]).lower() + \" \"\n",
    "    return batch"
   ]
  },
  {
   "cell_type": "code",
   "execution_count": 9,
   "metadata": {
    "colab": {
     "base_uri": "https://localhost:8080/",
     "height": 49,
     "referenced_widgets": [
      "43dee20fb25044909d9b8ae534108f4f",
      "687c579dd22e4922ba99f31759c57d44",
      "5559661cb5414407aa3dd7d403baf1f4",
      "b68e2ce04cbf4f6fa1adc245bc1bf6a3",
      "1010a1da0bf847bdb947a8a531467e68",
      "116d8f74ba924b25a7308b884e415bf8",
      "014f806c3b8948248e5be9bd5370178b",
      "aab53fb4053649c4b31b916a7d3c39bf",
      "3847f0eb02c64151bba5722abf51d4be",
      "2c296830a8f244fbb3a6e8297db5f7c9",
      "43cc39e9f3bb4eefab8a69b0b5b8b876"
     ]
    },
    "id": "XIHocAuTQbBR",
    "outputId": "0fba3e94-966d-4b32-e737-2b2f2fd3d601"
   },
   "outputs": [
    {
     "name": "stderr",
     "output_type": "stream",
     "text": [
      "Loading cached processed dataset at C:\\Users\\Harman\\.cache\\huggingface\\datasets\\lj_speech\\main\\1.1.0\\f4518d8fe24e62a9045ac697d23037d073cc76202777ee14267664978c222c2f\\cache-2485e78dd968bfcc.arrow\n",
      "Loading cached processed dataset at C:\\Users\\Harman\\.cache\\huggingface\\datasets\\lj_speech\\main\\1.1.0\\f4518d8fe24e62a9045ac697d23037d073cc76202777ee14267664978c222c2f\\cache-5ebba5d7b5386287.arrow\n"
     ]
    }
   ],
   "source": [
    "train_ds = train_ds.map(remove_special_characters)\n",
    "val_ds = val_ds.map(remove_special_characters)"
   ]
  },
  {
   "cell_type": "code",
   "execution_count": 10,
   "metadata": {
    "colab": {
     "base_uri": "https://localhost:8080/",
     "height": 376
    },
    "id": "RBDRAAYxRE6n",
    "outputId": "e1dfe469-46a2-4a8d-e98d-fca8b58c4b89"
   },
   "outputs": [
    {
     "data": {
      "text/html": [
       "<table border=\"1\" class=\"dataframe\">\n",
       "  <thead>\n",
       "    <tr style=\"text-align: right;\">\n",
       "      <th></th>\n",
       "      <th>normalized_text</th>\n",
       "    </tr>\n",
       "  </thead>\n",
       "  <tbody>\n",
       "    <tr>\n",
       "      <th>0</th>\n",
       "      <td>and it was on the entire absence of the latter that the defense was principally based when palmer was brought to trial</td>\n",
       "    </tr>\n",
       "    <tr>\n",
       "      <th>1</th>\n",
       "      <td>the governor himself admitted that a prisoner of weak intellect who had been severely beaten and much injured by a wardsman did not dare complain</td>\n",
       "    </tr>\n",
       "    <tr>\n",
       "      <th>2</th>\n",
       "      <td>committed by the house of commons who had been lodged in the governor's own house</td>\n",
       "    </tr>\n",
       "    <tr>\n",
       "      <th>3</th>\n",
       "      <td>the sheepstealer smiles and extending his arms upwards looks with a glad expression to the roof of the chapel</td>\n",
       "    </tr>\n",
       "    <tr>\n",
       "      <th>4</th>\n",
       "      <td>the economic embargo against that country and the general policy of the united states with regard to cuba</td>\n",
       "    </tr>\n",
       "    <tr>\n",
       "      <th>5</th>\n",
       "      <td>both from the soil through the roots liquids and from the atmosphere through the leaves gases</td>\n",
       "    </tr>\n",
       "    <tr>\n",
       "      <th>6</th>\n",
       "      <td>he saw certain rooms fill up and yet took no steps to open others that were locked up and empty</td>\n",
       "    </tr>\n",
       "    <tr>\n",
       "      <th>7</th>\n",
       "      <td>the car lurched forward causing him to lose his footing he ran three or four steps regained his position and mounted the car</td>\n",
       "    </tr>\n",
       "    <tr>\n",
       "      <th>8</th>\n",
       "      <td>the proceeds of these forgeries amounted it was said to some thousands per annum</td>\n",
       "    </tr>\n",
       "    <tr>\n",
       "      <th>9</th>\n",
       "      <td>the 'dryad' was a brig owned principally by two persons named wallace one a seaman the other merchant</td>\n",
       "    </tr>\n",
       "  </tbody>\n",
       "</table>"
      ],
      "text/plain": [
       "<IPython.core.display.HTML object>"
      ]
     },
     "metadata": {},
     "output_type": "display_data"
    }
   ],
   "source": [
    "show_random_elements(train_ds.remove_columns([\"audio\"]))"
   ]
  },
  {
   "cell_type": "code",
   "execution_count": 11,
   "metadata": {
    "id": "LwCshNbbeRZR"
   },
   "outputs": [],
   "source": [
    "def extract_all_chars(batch):\n",
    "    all_text = \" \".join(batch[\"normalized_text\"])\n",
    "    vocab = list(set(all_text))\n",
    "    return {\"vocab\": [vocab], \"all_text\": [all_text]}"
   ]
  },
  {
   "cell_type": "code",
   "execution_count": 12,
   "metadata": {
    "colab": {
     "base_uri": "https://localhost:8080/",
     "height": 180
    },
    "id": "_m6uUjjcfbjH",
    "outputId": "c5d4010e-0aa1-4c29-d295-49a54501fdf7"
   },
   "outputs": [
    {
     "data": {
      "application/vnd.jupyter.widget-view+json": {
       "model_id": "bb2e9c18bd6841c780ae0371015dcc92",
       "version_major": 2,
       "version_minor": 0
      },
      "text/plain": [
       "  0%|          | 0/1 [00:00<?, ?ba/s]"
      ]
     },
     "metadata": {},
     "output_type": "display_data"
    },
    {
     "data": {
      "application/vnd.jupyter.widget-view+json": {
       "model_id": "8a071c37045b46b0b86dcfec100915cf",
       "version_major": 2,
       "version_minor": 0
      },
      "text/plain": [
       "  0%|          | 0/1 [00:00<?, ?ba/s]"
      ]
     },
     "metadata": {},
     "output_type": "display_data"
    }
   ],
   "source": [
    "vocab_train = train_ds.map(extract_all_chars, batched=True, batch_size=-1, keep_in_memory=True, remove_columns=train_ds.column_names)\n",
    "vocab_test = val_ds.map(extract_all_chars, batched=True, batch_size=-1, keep_in_memory=True, remove_columns=val_ds.column_names)"
   ]
  },
  {
   "cell_type": "markdown",
   "metadata": {
    "id": "7oVgE8RZSJNP"
   },
   "source": [
    "Now, we create the union of all distinct letters in the training dataset and test dataset and convert the resulting list into an enumerated dictionary."
   ]
  },
  {
   "cell_type": "code",
   "execution_count": 13,
   "metadata": {
    "id": "aQfneNsmlJI0"
   },
   "outputs": [],
   "source": [
    "vocab_list = list(set(vocab_train[\"vocab\"][0]) | set(vocab_test[\"vocab\"][0]))"
   ]
  },
  {
   "cell_type": "code",
   "execution_count": 14,
   "metadata": {
    "colab": {
     "base_uri": "https://localhost:8080/"
    },
    "id": "_0kRndSvqaKk",
    "outputId": "e7ec1845-1780-4b86-d17a-0fd1e21636f4"
   },
   "outputs": [
    {
     "data": {
      "text/plain": [
       "{'a': 0,\n",
       " 'c': 1,\n",
       " 'm': 2,\n",
       " 'w': 3,\n",
       " 'x': 4,\n",
       " 'd': 5,\n",
       " 'g': 6,\n",
       " 'q': 7,\n",
       " 'b': 8,\n",
       " 'j': 9,\n",
       " 'k': 10,\n",
       " 'v': 11,\n",
       " 's': 12,\n",
       " \"'\": 13,\n",
       " 'o': 14,\n",
       " 'y': 15,\n",
       " 'f': 16,\n",
       " 't': 17,\n",
       " 'h': 18,\n",
       " 'z': 19,\n",
       " 'e': 20,\n",
       " 'l': 21,\n",
       " 'i': 22,\n",
       " 'p': 23,\n",
       " 'u': 24,\n",
       " 'r': 25,\n",
       " 'n': 26,\n",
       " ' ': 27}"
      ]
     },
     "execution_count": 14,
     "metadata": {},
     "output_type": "execute_result"
    }
   ],
   "source": [
    "vocab_dict = {v: k for k, v in enumerate(vocab_list)}\n",
    "vocab_dict"
   ]
  },
  {
   "cell_type": "code",
   "execution_count": 15,
   "metadata": {
    "id": "npbIbBoLgaFX"
   },
   "outputs": [],
   "source": [
    "vocab_dict[\"|\"] = vocab_dict[\" \"]\n",
    "del vocab_dict[\" \"]"
   ]
  },
  {
   "cell_type": "code",
   "execution_count": 16,
   "metadata": {
    "colab": {
     "base_uri": "https://localhost:8080/"
    },
    "id": "znF0bNunsjbl",
    "outputId": "63399bed-c8b0-4c83-fa8a-4dc49a7e0f5b"
   },
   "outputs": [
    {
     "data": {
      "text/plain": [
       "30"
      ]
     },
     "execution_count": 16,
     "metadata": {},
     "output_type": "execute_result"
    }
   ],
   "source": [
    "vocab_dict[\"[UNK]\"] = len(vocab_dict)\n",
    "vocab_dict[\"[PAD]\"] = len(vocab_dict)\n",
    "len(vocab_dict)"
   ]
  },
  {
   "cell_type": "markdown",
   "metadata": {
    "id": "SFPGfet8U5sL"
   },
   "source": [
    "Our vocabulary is complete and consists of 30 tokens, which means that the linear layer that we will add on top of the pretrained Wav2Vec2 checkpoint will have an output dimension of 30."
   ]
  },
  {
   "cell_type": "markdown",
   "metadata": {
    "id": "1CujRgBNVRaD"
   },
   "source": [
    "Let's now save the vocabulary as a json file."
   ]
  },
  {
   "cell_type": "code",
   "execution_count": 18,
   "metadata": {
    "id": "ehyUoh9vk191"
   },
   "outputs": [],
   "source": [
    "import json\n",
    "with open('vocab.json', 'w') as vocab_file:\n",
    "    json.dump(vocab_dict, vocab_file)"
   ]
  },
  {
   "cell_type": "markdown",
   "metadata": {
    "id": "SHJDaKlIVVim"
   },
   "source": [
    "Use the json file to instantiate an object of the `Wav2Vec2CTCTokenizer` class."
   ]
  },
  {
   "cell_type": "code",
   "execution_count": 19,
   "metadata": {
    "id": "xriFGEWQkO4M"
   },
   "outputs": [],
   "source": [
    "from transformers import Wav2Vec2CTCTokenizer\n",
    "\n",
    "tokenizer = Wav2Vec2CTCTokenizer(\"./vocab.json\", unk_token=\"[UNK]\", pad_token=\"[PAD]\", word_delimiter_token=\"|\")"
   ]
  },
  {
   "cell_type": "markdown",
   "metadata": {
    "id": "mYcIiR2FQ96i"
   },
   "source": [
    "### Create Wav2Vec2 Feature Extractor"
   ]
  },
  {
   "cell_type": "code",
   "execution_count": 20,
   "metadata": {
    "id": "kAR0-2KLkopp"
   },
   "outputs": [],
   "source": [
    "from transformers import Wav2Vec2FeatureExtractor\n",
    "\n",
    "feature_extractor = Wav2Vec2FeatureExtractor(feature_size=1, sampling_rate=16000, padding_value=0.0, do_normalize=True, return_attention_mask=False)"
   ]
  },
  {
   "cell_type": "code",
   "execution_count": 21,
   "metadata": {
    "id": "KYZtoW-tlZgl"
   },
   "outputs": [],
   "source": [
    "from transformers import Wav2Vec2Processor\n",
    "\n",
    "processor = Wav2Vec2Processor(feature_extractor=feature_extractor, tokenizer=tokenizer)"
   ]
  },
  {
   "cell_type": "markdown",
   "metadata": {
    "id": "YFmShnl7RE35"
   },
   "source": [
    "### Preprocess Data\n",
    "\n",
    "So far, we have not looked at the actual values of the speech signal but just the transcription. In addition to `'normalized_text'`, our datasets include one more column `'audio'`. "
   ]
  },
  {
   "cell_type": "code",
   "execution_count": 22,
   "metadata": {
    "colab": {
     "base_uri": "https://localhost:8080/"
    },
    "id": "mk9QHuSsN7lf",
    "outputId": "0b38f3ab-81f6-4539-c183-a320b6dd700c"
   },
   "outputs": [
    {
     "data": {
      "text/plain": [
       "{'path': 'C:\\\\Users\\\\Harman\\\\.cache\\\\huggingface\\\\datasets\\\\downloads\\\\extracted\\\\9260b0031f61f6673594580f2aaf1cb6d744ff1b7ea8ef7afc4131ecd7b02cd5\\\\LJSpeech-1.1\\\\wavs\\\\LJ001-0001.wav',\n",
       " 'array': array([-7.3242188e-04, -7.6293945e-04, -6.4086914e-04, ...,\n",
       "         7.3242188e-04,  2.1362305e-04,  6.1035156e-05], dtype=float32),\n",
       " 'sampling_rate': 22050}"
      ]
     },
     "execution_count": 22,
     "metadata": {},
     "output_type": "execute_result"
    }
   ],
   "source": [
    "train_ds[0][\"audio\"]"
   ]
  },
  {
   "cell_type": "code",
   "execution_count": 23,
   "metadata": {},
   "outputs": [],
   "source": [
    "train_ds = train_ds.cast_column(\"audio\", Audio(sampling_rate=16_000))\n",
    "val_ds = val_ds.cast_column(\"audio\", Audio(sampling_rate=16_000))"
   ]
  },
  {
   "cell_type": "code",
   "execution_count": 24,
   "metadata": {},
   "outputs": [
    {
     "data": {
      "text/plain": [
       "{'path': 'C:\\\\Users\\\\Harman\\\\.cache\\\\huggingface\\\\datasets\\\\downloads\\\\extracted\\\\9260b0031f61f6673594580f2aaf1cb6d744ff1b7ea8ef7afc4131ecd7b02cd5\\\\LJSpeech-1.1\\\\wavs\\\\LJ001-0001.wav',\n",
       " 'array': array([-0.00064146, -0.00074657, -0.00068768, ...,  0.00068341,\n",
       "         0.00014045,  0.        ], dtype=float32),\n",
       " 'sampling_rate': 16000}"
      ]
     },
     "execution_count": 24,
     "metadata": {},
     "output_type": "execute_result"
    }
   ],
   "source": [
    "train_ds[0]['audio']"
   ]
  },
  {
   "cell_type": "markdown",
   "metadata": {
    "id": "wSBIGEiaKHMn"
   },
   "source": [
    "The sampling rate is set to 16kHz which is what `Wav2Vec2` expects as an input."
   ]
  },
  {
   "cell_type": "markdown",
   "metadata": {
    "id": "SOckzFd4Mbzq"
   },
   "source": [
    "Verify that the audio was correctly loaded. "
   ]
  },
  {
   "cell_type": "code",
   "execution_count": 25,
   "metadata": {
    "colab": {
     "base_uri": "https://localhost:8080/",
     "height": 92
    },
    "id": "dueM6U7Ev0OA",
    "outputId": "17d78b9b-a940-47e5-f546-87fac22b036e"
   },
   "outputs": [
    {
     "name": "stdout",
     "output_type": "stream",
     "text": [
      "to which a total of upwards of one hundred thousand prisoners had been committed in the year only twentythree prisons were divided according to law \n"
     ]
    },
    {
     "data": {
      "text/html": [
       "\n",
       "                <audio  controls=\"controls\" autoplay=\"autoplay\">\n",
       "                    <source src=\"data:audio/wav;base64,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\" type=\"audio/wav\" />\n",
       "                    Your browser does not support the audio element.\n",
       "                </audio>\n",
       "              "
      ],
      "text/plain": [
       "<IPython.lib.display.Audio object>"
      ]
     },
     "execution_count": 25,
     "metadata": {},
     "output_type": "execute_result"
    }
   ],
   "source": [
    "import IPython.display as ipd\n",
    "import numpy as np\n",
    "import random\n",
    "\n",
    "rand_int = random.randint(0, len(train_ds))\n",
    "\n",
    "print(train_ds[rand_int][\"normalized_text\"])\n",
    "ipd.Audio(data=np.asarray(train_ds[rand_int][\"audio\"][\"array\"]), autoplay=True, rate=16000)"
   ]
  },
  {
   "cell_type": "code",
   "execution_count": 26,
   "metadata": {
    "colab": {
     "base_uri": "https://localhost:8080/"
    },
    "id": "1Po2g7YPuRTx",
    "outputId": "3b0417f4-9e15-44d0-f95f-2de657016c41"
   },
   "outputs": [
    {
     "name": "stdout",
     "output_type": "stream",
     "text": [
      "Target text: no fixed rates or rules governed the hiring out of rooms or parts of a room and all sorts of imposition was practiced \n",
      "Input array shape: (132747,)\n",
      "Sampling rate: 16000\n"
     ]
    }
   ],
   "source": [
    "rand_int = random.randint(0, len(train_ds))\n",
    "\n",
    "print(\"Target text:\", train_ds[rand_int][\"normalized_text\"])\n",
    "print(\"Input array shape:\", np.asarray(train_ds[rand_int][\"audio\"][\"array\"]).shape)\n",
    "print(\"Sampling rate:\", train_ds[rand_int][\"audio\"][\"sampling_rate\"])"
   ]
  },
  {
   "cell_type": "markdown",
   "metadata": {
    "id": "k3Pbn5WvOYZF"
   },
   "source": [
    "First, we load and resample the audio data, simply by calling `batch[\"audio\"]`.\n",
    "Second, we extract the `input_values` from the loaded audio file. In our case, the `Wav2Vec2Processor` only normalizes the data. "
   ]
  },
  {
   "cell_type": "code",
   "execution_count": 27,
   "metadata": {
    "id": "eJY7I0XAwe9p"
   },
   "outputs": [],
   "source": [
    "def prepare_dataset(batch):\n",
    "    audio = batch[\"audio\"]\n",
    "\n",
    "    # batched output is \"un-batched\" to ensure mapping is correct\n",
    "    batch[\"input_values\"] = processor(audio[\"array\"], sampling_rate=audio[\"sampling_rate\"]).input_values[0]\n",
    "    batch[\"input_length\"] = len(batch[\"input_values\"])\n",
    "    \n",
    "    with processor.as_target_processor():\n",
    "        batch[\"labels\"] = processor(batch[\"normalized_text\"]).input_ids\n",
    "    return batch"
   ]
  },
  {
   "cell_type": "markdown",
   "metadata": {
    "id": "hVMZhH4-nP8-"
   },
   "source": [
    "Let's apply the data preparation function to all examples."
   ]
  },
  {
   "cell_type": "code",
   "execution_count": 28,
   "metadata": {
    "id": "-np9xYK-wl8q"
   },
   "outputs": [
    {
     "data": {
      "application/vnd.jupyter.widget-view+json": {
       "model_id": "efd9c71b38ce49b5ab2931ed12167f0e",
       "version_major": 2,
       "version_minor": 0
      },
      "text/plain": [
       "  0%|          | 0/11790 [00:00<?, ?ex/s]"
      ]
     },
     "metadata": {},
     "output_type": "display_data"
    },
    {
     "data": {
      "application/vnd.jupyter.widget-view+json": {
       "model_id": "80fc385ce11f4437ba9da0e2eec094de",
       "version_major": 2,
       "version_minor": 0
      },
      "text/plain": [
       "  0%|          | 0/1310 [00:00<?, ?ex/s]"
      ]
     },
     "metadata": {},
     "output_type": "display_data"
    }
   ],
   "source": [
    "train_ds = train_ds.map(prepare_dataset, remove_columns=train_ds.column_names)\n",
    "val_ds = val_ds.map(prepare_dataset, remove_columns=val_ds.column_names)"
   ]
  },
  {
   "cell_type": "markdown",
   "metadata": {
    "id": "p_MuJSH8nTuQ"
   },
   "source": [
    "`datasets` make use of [`torchaudio`](https://pytorch.org/audio/stable/index.html) and [`librosa`](https://librosa.org/doc/latest/index.html) for audio loading and resampling"
   ]
  },
  {
   "cell_type": "markdown",
   "metadata": {
    "id": "M4J0bU1WsvAg"
   },
   "source": [
    "Filter all sequences that are longer than 5 seconds out of the training dataset because of memory constraints"
   ]
  },
  {
   "cell_type": "code",
   "execution_count": 28,
   "metadata": {
    "colab": {
     "base_uri": "https://localhost:8080/",
     "height": 49,
     "referenced_widgets": [
      "d896231bf5824211a55d494d48626fc6",
      "14dae264619940beab57908b986aa6bb",
      "2392ea8eae7c4dbebc0e218cd7c5ce23",
      "effd4c06dcdb44ae9027dbe846438c83",
      "3d0635b79b6342b78a9689e092f60872",
      "2d77f792dd6048b39d0f14ebf4f80614",
      "d16ea3ef10684bf1b1092345ca92897a",
      "d7a01acdb98f435489fed6bf1a5b3e4f",
      "9ceca09d9fdb4a0495d33bf3eef7e65e",
      "29105b8924d949b99cc0bf317d63b25c",
      "d1693414e7964bfcbe95f6d95d5d4204"
     ]
    },
    "id": "nqGobEPUvG3v",
    "outputId": "3be8c879-ed75-468b-b86a-50b2d64607a9"
   },
   "outputs": [
    {
     "data": {
      "application/vnd.jupyter.widget-view+json": {
       "model_id": "0491f45a6daa4052857dfe791c8f3f6c",
       "version_major": 2,
       "version_minor": 0
      },
      "text/plain": [
       "  0%|          | 0/12 [00:00<?, ?ba/s]"
      ]
     },
     "metadata": {},
     "output_type": "display_data"
    }
   ],
   "source": [
    "max_input_length_in_sec = 5\n",
    "train_ds = train_ds.filter(lambda x: x < max_input_length_in_sec * processor.feature_extractor.sampling_rate, input_columns=[\"input_length\"])"
   ]
  },
  {
   "cell_type": "code",
   "execution_count": 29,
   "metadata": {},
   "outputs": [
    {
     "data": {
      "text/plain": [
       "3000"
      ]
     },
     "execution_count": 29,
     "metadata": {},
     "output_type": "execute_result"
    }
   ],
   "source": [
    "len(train_ds)"
   ]
  },
  {
   "cell_type": "code",
   "execution_count": 32,
   "metadata": {},
   "outputs": [
    {
     "data": {
      "text/plain": [
       "Dataset({\n",
       "    features: ['input_values', 'input_length', 'labels'],\n",
       "    num_rows: 3000\n",
       "})"
      ]
     },
     "execution_count": 32,
     "metadata": {},
     "output_type": "execute_result"
    }
   ],
   "source": [
    "train_ds"
   ]
  },
  {
   "cell_type": "markdown",
   "metadata": {
    "id": "gYlQkKVoRUos"
   },
   "source": [
    "## Training & Evaluation\n",
    "\n",
    "Training pipeline:\n",
    "\n",
    "- Define a data collator. In contrast to most NLP models, Wav2Vec2 has a much larger input length than output length. *E.g.*, a sample of input length 50000 has an output length of no more than 100. Given the large input sizes, it is much more efficient to pad the training batches dynamically meaning that all training samples should only be padded to the longest sample in their batch and not the overall longest sample. Therefore, fine-tuning Wav2Vec2 requires a special padding data collator, which we will define below\n",
    "\n",
    "- Evaluation metric. During training, the model should be evaluated on the word error rate. We should define a `compute_metrics` function accordingly\n",
    "\n",
    "- Load a pretrained checkpoint. We need to load a pretrained checkpoint and configure it correctly for training.\n",
    "\n",
    "- Define the training configuration.\n",
    "\n",
    "After having fine-tuned the model, we will correctly evaluate it on the test data and verify that it has indeed learned to correctly transcribe speech."
   ]
  },
  {
   "cell_type": "markdown",
   "metadata": {
    "id": "Slk403unUS91"
   },
   "source": [
    "### Set-up Trainer\n",
    "\n",
    "Let's start by defining the data collator"
   ]
  },
  {
   "cell_type": "code",
   "execution_count": 29,
   "metadata": {
    "id": "tborvC9hx88e"
   },
   "outputs": [],
   "source": [
    "import torch\n",
    "\n",
    "from dataclasses import dataclass, field\n",
    "from typing import Any, Dict, List, Optional, Union\n",
    "\n",
    "@dataclass\n",
    "class DataCollatorCTCWithPadding:\n",
    "    \"\"\"\n",
    "    Data collator that will dynamically pad the inputs received.\n",
    "    Args:\n",
    "        processor (:class:`~transformers.Wav2Vec2Processor`)\n",
    "            The processor used for proccessing the data.\n",
    "        padding (:obj:`bool`, :obj:`str` or :class:`~transformers.tokenization_utils_base.PaddingStrategy`, `optional`, defaults to :obj:`True`):\n",
    "            Select a strategy to pad the returned sequences (according to the model's padding side and padding index)\n",
    "            among:\n",
    "            * :obj:`True` or :obj:`'longest'`: Pad to the longest sequence in the batch (or no padding if only a single\n",
    "              sequence if provided).\n",
    "            * :obj:`'max_length'`: Pad to a maximum length specified with the argument :obj:`max_length` or to the\n",
    "              maximum acceptable input length for the model if that argument is not provided.\n",
    "            * :obj:`False` or :obj:`'do_not_pad'` (default): No padding (i.e., can output a batch with sequences of\n",
    "              different lengths).\n",
    "        max_length (:obj:`int`, `optional`):\n",
    "            Maximum length of the ``input_values`` of the returned list and optionally padding length (see above).\n",
    "        max_length_labels (:obj:`int`, `optional`):\n",
    "            Maximum length of the ``labels`` returned list and optionally padding length (see above).\n",
    "        pad_to_multiple_of (:obj:`int`, `optional`):\n",
    "            If set will pad the sequence to a multiple of the provided value.\n",
    "            This is especially useful to enable the use of Tensor Cores on NVIDIA hardware with compute capability >=\n",
    "            7.5 (Volta).\n",
    "    \"\"\"\n",
    "\n",
    "    processor: Wav2Vec2Processor\n",
    "    padding: Union[bool, str] = True\n",
    "    max_length: Optional[int] = None\n",
    "    max_length_labels: Optional[int] = None\n",
    "    pad_to_multiple_of: Optional[int] = None\n",
    "    pad_to_multiple_of_labels: Optional[int] = None\n",
    "\n",
    "    def __call__(self, features: List[Dict[str, Union[List[int], torch.Tensor]]]) -> Dict[str, torch.Tensor]:\n",
    "        # split inputs and labels since they have to be of different lenghts and need\n",
    "        # different padding methods\n",
    "        input_features = [{\"input_values\": feature[\"input_values\"]} for feature in features]\n",
    "        label_features = [{\"input_ids\": feature[\"labels\"]} for feature in features]\n",
    "\n",
    "        batch = self.processor.pad(\n",
    "            input_features,\n",
    "            padding=self.padding,\n",
    "            max_length=self.max_length,\n",
    "            pad_to_multiple_of=self.pad_to_multiple_of,\n",
    "            return_tensors=\"pt\",\n",
    "        )\n",
    "        with self.processor.as_target_processor():\n",
    "            labels_batch = self.processor.pad(\n",
    "                label_features,\n",
    "                padding=self.padding,\n",
    "                max_length=self.max_length_labels,\n",
    "                pad_to_multiple_of=self.pad_to_multiple_of_labels,\n",
    "                return_tensors=\"pt\",\n",
    "            )\n",
    "\n",
    "        # replace padding with -100 to ignore loss correctly\n",
    "        labels = labels_batch[\"input_ids\"].masked_fill(labels_batch.attention_mask.ne(1), -100)\n",
    "\n",
    "        batch[\"labels\"] = labels\n",
    "\n",
    "        return batch"
   ]
  },
  {
   "cell_type": "code",
   "execution_count": 30,
   "metadata": {
    "id": "lbQf5GuZyQ4_"
   },
   "outputs": [],
   "source": [
    "data_collator = DataCollatorCTCWithPadding(processor=processor, padding=True)"
   ]
  },
  {
   "cell_type": "markdown",
   "metadata": {
    "id": "xO-Zdj-5cxXp"
   },
   "source": [
    "Next, the evaluation metric is defined. As mentioned earlier, the \n",
    "predominant metric in ASR is the word error rate (WER), hence we will use it in this notebook as well."
   ]
  },
  {
   "cell_type": "code",
   "execution_count": 31,
   "metadata": {
    "colab": {
     "base_uri": "https://localhost:8080/",
     "height": 49,
     "referenced_widgets": [
      "fd43a043ce7c4b878ade15f6bbf55977",
      "b362a9179f894ff5b879bbae73fe41b2",
      "e0888123f0d2455d9f565939a8abda4e",
      "3544f17e723f4ade9356e0eacd57c4f5",
      "df32789a34fe494c9a8791a8d8c70c69",
      "2e27a56468684597ba7084d662a92309",
      "57cd1596aead47ad85987147a0f1bb75",
      "4ab4afbba4a940cba487688b298092cf",
      "a5858da3495c4995adf804fc96ef938f",
      "a6e7f6bb9bf5486389689d79e499869b",
      "b5f579a82ca745e1b8baeff5df14e6b3"
     ]
    },
    "id": "9Xsux2gmyXso",
    "outputId": "d05825d4-1e5e-47c4-e494-a28e33a20534"
   },
   "outputs": [],
   "source": [
    "wer_metric = load_metric(\"wer\")"
   ]
  },
  {
   "cell_type": "code",
   "execution_count": 32,
   "metadata": {
    "id": "1XZ-kjweyTy_"
   },
   "outputs": [],
   "source": [
    "def compute_metrics(pred):\n",
    "    pred_logits = pred.predictions\n",
    "    pred_ids = np.argmax(pred_logits, axis=-1)\n",
    "\n",
    "    pred.label_ids[pred.label_ids == -100] = processor.tokenizer.pad_token_id\n",
    "\n",
    "    pred_str = processor.batch_decode(pred_ids)\n",
    "    # we do not want to group tokens when computing the metrics\n",
    "    label_str = processor.batch_decode(pred.label_ids, group_tokens=False)\n",
    "\n",
    "    wer = wer_metric.compute(predictions=pred_str, references=label_str)\n",
    "\n",
    "    return {\"wer\": wer}"
   ]
  },
  {
   "cell_type": "markdown",
   "metadata": {
    "id": "Xmgrx4bRwLIH"
   },
   "source": [
    "Load the pretrained `Wav2Vec2` checkpoint"
   ]
  },
  {
   "cell_type": "code",
   "execution_count": 33,
   "metadata": {
    "colab": {
     "base_uri": "https://localhost:8080/",
     "height": 227,
     "referenced_widgets": [
      "6b1c56f42b6242d8a7fdc62c9da29f54",
      "8b6b4d8555ff4719b9e300fed72a7cba",
      "ac40289a8a0b40bc93da88fc9adcb7f9",
      "943e736502ee4084a9e94623d6650a6b",
      "74f527b8620e4233904b8397d18096a3",
      "f55bd5328793422fb0e2101442855dec",
      "50c55e7188bc4d6a88ae83995ffa2366",
      "68321a0f68c7483d9561c8e4bf5fd630",
      "8e40a7c27db24510a46ef0331459ee1c",
      "fe53a6cd10ca4aee803c98f027ca23d3",
      "8e8fbf8933944694a78faff62a9f46f8",
      "310c679ea5c94e9d974ecf8a6f78ddfa",
      "64b55627276d4d509d6345fc92f203d2",
      "8c9a575f1f4b44809c5ffb12436b7966",
      "b477afdf889b479ba892b3e0110ee94f",
      "a0488c5f2aea43388491367308426d38",
      "8561afcd5dde4e70b02b984fc2e7dc21",
      "e9db0953aab746658b52ce84cae39f97",
      "480afa0ed5f14bbebb888a81b25a5428",
      "6ebdb03f75bb44248a6ad230f1916d8f",
      "02fd98c15acc4ca8b973d4682a8bf684",
      "f7b66384620143b4b38997bc64f81191"
     ]
    },
    "id": "e7cqAWIayn6w",
    "outputId": "85cb8bf8-b591-47aa-e76d-02be026149c6"
   },
   "outputs": [
    {
     "name": "stderr",
     "output_type": "stream",
     "text": [
      "D:\\miniconda3\\envs\\asr_conda\\lib\\site-packages\\transformers\\configuration_utils.py:340: UserWarning: Passing `gradient_checkpointing` to a config initialization is deprecated and will be removed in v5 Transformers. Using `model.gradient_checkpointing_enable()` instead, or if you are using the `Trainer` API, pass `gradient_checkpointing=True` in your `TrainingArguments`.\n",
      "  warnings.warn(\n",
      "Some weights of the model checkpoint at facebook/wav2vec2-base were not used when initializing Wav2Vec2ForCTC: ['project_q.weight', 'quantizer.weight_proj.weight', 'quantizer.codevectors', 'project_hid.bias', 'project_hid.weight', 'quantizer.weight_proj.bias', 'project_q.bias']\n",
      "- This IS expected if you are initializing Wav2Vec2ForCTC from the checkpoint of a model trained on another task or with another architecture (e.g. initializing a BertForSequenceClassification model from a BertForPreTraining model).\n",
      "- This IS NOT expected if you are initializing Wav2Vec2ForCTC from the checkpoint of a model that you expect to be exactly identical (initializing a BertForSequenceClassification model from a BertForSequenceClassification model).\n",
      "Some weights of Wav2Vec2ForCTC were not initialized from the model checkpoint at facebook/wav2vec2-base and are newly initialized: ['lm_head.weight', 'lm_head.bias']\n",
      "You should probably TRAIN this model on a down-stream task to be able to use it for predictions and inference.\n"
     ]
    }
   ],
   "source": [
    "from transformers import Wav2Vec2ForCTC\n",
    "\n",
    "model = Wav2Vec2ForCTC.from_pretrained(\n",
    "    \"facebook/wav2vec2-base\", \n",
    "    ctc_loss_reduction=\"mean\", \n",
    "    pad_token_id=processor.tokenizer.pad_token_id,\n",
    ")"
   ]
  },
  {
   "cell_type": "code",
   "execution_count": 34,
   "metadata": {
    "colab": {
     "base_uri": "https://localhost:8080/"
    },
    "id": "KbeKSV7uzGPP",
    "outputId": "4dcce61c-fc4b-44bb-a774-70ff20971031"
   },
   "outputs": [],
   "source": [
    "from transformers import TrainingArguments\n",
    "\n",
    "training_args = TrainingArguments(\n",
    "  group_by_length=True,\n",
    "  output_dir = './temp/',\n",
    "  per_device_train_batch_size=2,\n",
    "  evaluation_strategy=\"steps\",\n",
    "  num_train_epochs=30,\n",
    "  fp16=True,\n",
    "  gradient_checkpointing=True,\n",
    "  save_steps=500,\n",
    "  eval_steps=500,\n",
    "  logging_steps=500,\n",
    "  learning_rate=1e-4,\n",
    "  weight_decay=0.005,\n",
    "  warmup_steps=1000,\n",
    "  save_total_limit=1,\n",
    "  push_to_hub=False,\n",
    ")"
   ]
  },
  {
   "cell_type": "markdown",
   "metadata": {
    "id": "OsW-WZcL1ZtN"
   },
   "source": [
    "Now, all instances can be passed to Trainer and we are ready to start training!"
   ]
  },
  {
   "cell_type": "code",
   "execution_count": 36,
   "metadata": {
    "colab": {
     "base_uri": "https://localhost:8080/"
    },
    "id": "rY7vBmFCPFgC",
    "outputId": "191b231d-70c1-4315-bdd6-ea2a5d106537"
   },
   "outputs": [
    {
     "name": "stderr",
     "output_type": "stream",
     "text": [
      "Using amp fp16 backend\n"
     ]
    }
   ],
   "source": [
    "from transformers import Trainer\n",
    "\n",
    "trainer = Trainer(\n",
    "    model=model,\n",
    "    data_collator=data_collator,\n",
    "    args=training_args,\n",
    "    compute_metrics=compute_metrics,\n",
    "    train_dataset=train_ds,\n",
    "    eval_dataset=val_ds,\n",
    "    tokenizer=processor.feature_extractor,\n",
    ")"
   ]
  },
  {
   "cell_type": "markdown",
   "metadata": {
    "id": "rpvZHM1xReIW"
   },
   "source": [
    "### Training"
   ]
  },
  {
   "cell_type": "code",
   "execution_count": 37,
   "metadata": {
    "colab": {
     "base_uri": "https://localhost:8080/",
     "height": 1000
    },
    "id": "_UEjJqGsQw24",
    "outputId": "e76688f4-e32d-4de2-e3cb-fa1b942a93e6"
   },
   "outputs": [
    {
     "name": "stderr",
     "output_type": "stream",
     "text": [
      "The following columns in the training set  don't have a corresponding argument in `Wav2Vec2ForCTC.forward` and have been ignored: input_length.\n",
      "***** Running training *****\n",
      "  Num examples = 11790\n",
      "  Num Epochs = 1\n",
      "  Instantaneous batch size per device = 2\n",
      "  Total train batch size (w. parallel, distributed & accumulation) = 2\n",
      "  Gradient Accumulation steps = 1\n",
      "  Total optimization steps = 5895\n",
      "Automatic Weights & Biases logging enabled, to disable set os.environ[\"WANDB_DISABLED\"] = \"true\"\n",
      "\u001b[34m\u001b[1mwandb\u001b[0m: Currently logged in as: \u001b[33mharman92\u001b[0m (use `wandb login --relogin` to force relogin)\n"
     ]
    },
    {
     "data": {
      "text/html": [
       "\n",
       "                    Syncing run <strong><a href=\"https://wandb.ai/harman92/huggingface/runs/2c14vuu0\" target=\"_blank\">./temp/</a></strong> to <a href=\"https://wandb.ai/harman92/huggingface\" target=\"_blank\">Weights & Biases</a> (<a href=\"https://docs.wandb.com/integrations/jupyter.html\" target=\"_blank\">docs</a>).<br/>\n",
       "\n",
       "                "
      ],
      "text/plain": [
       "<IPython.core.display.HTML object>"
      ]
     },
     "metadata": {},
     "output_type": "display_data"
    },
    {
     "name": "stderr",
     "output_type": "stream",
     "text": [
      "D:\\miniconda3\\envs\\asr_conda\\lib\\site-packages\\transformers\\feature_extraction_utils.py:158: UserWarning: Creating a tensor from a list of numpy.ndarrays is extremely slow. Please consider converting the list to a single numpy.ndarray with numpy.array() before converting to a tensor. (Triggered internally at  ..\\torch\\csrc\\utils\\tensor_new.cpp:201.)\n",
      "  tensor = as_tensor(value)\n",
      "D:\\miniconda3\\envs\\asr_conda\\lib\\site-packages\\transformers\\models\\wav2vec2\\modeling_wav2vec2.py:984: UserWarning: __floordiv__ is deprecated, and its behavior will change in a future version of pytorch. It currently rounds toward 0 (like the 'trunc' function NOT 'floor'). This results in incorrect rounding for negative values. To keep the current behavior, use torch.div(a, b, rounding_mode='trunc'), or for actual floor division, use torch.div(a, b, rounding_mode='floor').\n",
      "  return (input_length - kernel_size) // stride + 1\n"
     ]
    },
    {
     "data": {
      "text/html": [
       "\n",
       "    <div>\n",
       "      \n",
       "      <progress value='1203' max='5895' style='width:300px; height:20px; vertical-align: middle;'></progress>\n",
       "      [1203/5895 08:27 < 33:02, 2.37 it/s, Epoch 0.20/1]\n",
       "    </div>\n",
       "    <table border=\"1\" class=\"dataframe\">\n",
       "  <thead>\n",
       "    <tr style=\"text-align: left;\">\n",
       "      <th>Step</th>\n",
       "      <th>Training Loss</th>\n",
       "      <th>Validation Loss</th>\n",
       "      <th>Wer</th>\n",
       "    </tr>\n",
       "  </thead>\n",
       "  <tbody>\n",
       "    <tr>\n",
       "      <td>500</td>\n",
       "      <td>6.690800</td>\n",
       "      <td>nan</td>\n",
       "      <td>0.986916</td>\n",
       "    </tr>\n",
       "    <tr>\n",
       "      <td>1000</td>\n",
       "      <td>0.000000</td>\n",
       "      <td>nan</td>\n",
       "      <td>0.986916</td>\n",
       "    </tr>\n",
       "  </tbody>\n",
       "</table><p>"
      ],
      "text/plain": [
       "<IPython.core.display.HTML object>"
      ]
     },
     "metadata": {},
     "output_type": "display_data"
    },
    {
     "name": "stderr",
     "output_type": "stream",
     "text": [
      "The following columns in the evaluation set  don't have a corresponding argument in `Wav2Vec2ForCTC.forward` and have been ignored: input_length.\n",
      "***** Running Evaluation *****\n",
      "  Num examples = 1310\n",
      "  Batch size = 8\n",
      "Saving model checkpoint to ./temp/checkpoint-500\n",
      "Configuration saved in ./temp/checkpoint-500\\config.json\n",
      "Model weights saved in ./temp/checkpoint-500\\pytorch_model.bin\n",
      "Configuration saved in ./temp/checkpoint-500\\preprocessor_config.json\n",
      "Deleting older checkpoint [temp\\checkpoint-120000] due to args.save_total_limit\n",
      "D:\\miniconda3\\envs\\asr_conda\\lib\\site-packages\\transformers\\models\\wav2vec2\\modeling_wav2vec2.py:984: UserWarning: __floordiv__ is deprecated, and its behavior will change in a future version of pytorch. It currently rounds toward 0 (like the 'trunc' function NOT 'floor'). This results in incorrect rounding for negative values. To keep the current behavior, use torch.div(a, b, rounding_mode='trunc'), or for actual floor division, use torch.div(a, b, rounding_mode='floor').\n",
      "  return (input_length - kernel_size) // stride + 1\n",
      "The following columns in the evaluation set  don't have a corresponding argument in `Wav2Vec2ForCTC.forward` and have been ignored: input_length.\n",
      "***** Running Evaluation *****\n",
      "  Num examples = 1310\n",
      "  Batch size = 8\n",
      "Saving model checkpoint to ./temp/checkpoint-1000\n",
      "Configuration saved in ./temp/checkpoint-1000\\config.json\n",
      "Model weights saved in ./temp/checkpoint-1000\\pytorch_model.bin\n",
      "Configuration saved in ./temp/checkpoint-1000\\preprocessor_config.json\n",
      "Deleting older checkpoint [temp\\checkpoint-500] due to args.save_total_limit\n",
      "D:\\miniconda3\\envs\\asr_conda\\lib\\site-packages\\transformers\\models\\wav2vec2\\modeling_wav2vec2.py:984: UserWarning: __floordiv__ is deprecated, and its behavior will change in a future version of pytorch. It currently rounds toward 0 (like the 'trunc' function NOT 'floor'). This results in incorrect rounding for negative values. To keep the current behavior, use torch.div(a, b, rounding_mode='trunc'), or for actual floor division, use torch.div(a, b, rounding_mode='floor').\n",
      "  return (input_length - kernel_size) // stride + 1\n"
     ]
    },
    {
     "ename": "KeyboardInterrupt",
     "evalue": "",
     "output_type": "error",
     "traceback": [
      "\u001b[1;31m---------------------------------------------------------------------------\u001b[0m",
      "\u001b[1;31mKeyboardInterrupt\u001b[0m                         Traceback (most recent call last)",
      "\u001b[1;32m~\\AppData\\Local\\Temp/ipykernel_10716/4032920361.py\u001b[0m in \u001b[0;36m<module>\u001b[1;34m\u001b[0m\n\u001b[1;32m----> 1\u001b[1;33m \u001b[0mtrainer\u001b[0m\u001b[1;33m.\u001b[0m\u001b[0mtrain\u001b[0m\u001b[1;33m(\u001b[0m\u001b[1;33m)\u001b[0m\u001b[1;33m\u001b[0m\u001b[1;33m\u001b[0m\u001b[0m\n\u001b[0m",
      "\u001b[1;32mD:\\miniconda3\\envs\\asr_conda\\lib\\site-packages\\transformers\\trainer.py\u001b[0m in \u001b[0;36mtrain\u001b[1;34m(self, resume_from_checkpoint, trial, ignore_keys_for_eval, **kwargs)\u001b[0m\n\u001b[0;32m   1288\u001b[0m             \u001b[0mself\u001b[0m\u001b[1;33m.\u001b[0m\u001b[0mcontrol\u001b[0m \u001b[1;33m=\u001b[0m \u001b[0mself\u001b[0m\u001b[1;33m.\u001b[0m\u001b[0mcallback_handler\u001b[0m\u001b[1;33m.\u001b[0m\u001b[0mon_epoch_begin\u001b[0m\u001b[1;33m(\u001b[0m\u001b[0margs\u001b[0m\u001b[1;33m,\u001b[0m \u001b[0mself\u001b[0m\u001b[1;33m.\u001b[0m\u001b[0mstate\u001b[0m\u001b[1;33m,\u001b[0m \u001b[0mself\u001b[0m\u001b[1;33m.\u001b[0m\u001b[0mcontrol\u001b[0m\u001b[1;33m)\u001b[0m\u001b[1;33m\u001b[0m\u001b[1;33m\u001b[0m\u001b[0m\n\u001b[0;32m   1289\u001b[0m \u001b[1;33m\u001b[0m\u001b[0m\n\u001b[1;32m-> 1290\u001b[1;33m             \u001b[1;32mfor\u001b[0m \u001b[0mstep\u001b[0m\u001b[1;33m,\u001b[0m \u001b[0minputs\u001b[0m \u001b[1;32min\u001b[0m \u001b[0menumerate\u001b[0m\u001b[1;33m(\u001b[0m\u001b[0mepoch_iterator\u001b[0m\u001b[1;33m)\u001b[0m\u001b[1;33m:\u001b[0m\u001b[1;33m\u001b[0m\u001b[1;33m\u001b[0m\u001b[0m\n\u001b[0m\u001b[0;32m   1291\u001b[0m \u001b[1;33m\u001b[0m\u001b[0m\n\u001b[0;32m   1292\u001b[0m                 \u001b[1;31m# Skip past any already trained steps if resuming training\u001b[0m\u001b[1;33m\u001b[0m\u001b[1;33m\u001b[0m\u001b[0m\n",
      "\u001b[1;32mD:\\miniconda3\\envs\\asr_conda\\lib\\site-packages\\torch\\utils\\data\\dataloader.py\u001b[0m in \u001b[0;36m__next__\u001b[1;34m(self)\u001b[0m\n\u001b[0;32m    519\u001b[0m             \u001b[1;32mif\u001b[0m \u001b[0mself\u001b[0m\u001b[1;33m.\u001b[0m\u001b[0m_sampler_iter\u001b[0m \u001b[1;32mis\u001b[0m \u001b[1;32mNone\u001b[0m\u001b[1;33m:\u001b[0m\u001b[1;33m\u001b[0m\u001b[1;33m\u001b[0m\u001b[0m\n\u001b[0;32m    520\u001b[0m                 \u001b[0mself\u001b[0m\u001b[1;33m.\u001b[0m\u001b[0m_reset\u001b[0m\u001b[1;33m(\u001b[0m\u001b[1;33m)\u001b[0m\u001b[1;33m\u001b[0m\u001b[1;33m\u001b[0m\u001b[0m\n\u001b[1;32m--> 521\u001b[1;33m             \u001b[0mdata\u001b[0m \u001b[1;33m=\u001b[0m \u001b[0mself\u001b[0m\u001b[1;33m.\u001b[0m\u001b[0m_next_data\u001b[0m\u001b[1;33m(\u001b[0m\u001b[1;33m)\u001b[0m\u001b[1;33m\u001b[0m\u001b[1;33m\u001b[0m\u001b[0m\n\u001b[0m\u001b[0;32m    522\u001b[0m             \u001b[0mself\u001b[0m\u001b[1;33m.\u001b[0m\u001b[0m_num_yielded\u001b[0m \u001b[1;33m+=\u001b[0m \u001b[1;36m1\u001b[0m\u001b[1;33m\u001b[0m\u001b[1;33m\u001b[0m\u001b[0m\n\u001b[0;32m    523\u001b[0m             \u001b[1;32mif\u001b[0m \u001b[0mself\u001b[0m\u001b[1;33m.\u001b[0m\u001b[0m_dataset_kind\u001b[0m \u001b[1;33m==\u001b[0m \u001b[0m_DatasetKind\u001b[0m\u001b[1;33m.\u001b[0m\u001b[0mIterable\u001b[0m \u001b[1;32mand\u001b[0m\u001b[0;31m \u001b[0m\u001b[0;31m\\\u001b[0m\u001b[1;33m\u001b[0m\u001b[1;33m\u001b[0m\u001b[0m\n",
      "\u001b[1;32mD:\\miniconda3\\envs\\asr_conda\\lib\\site-packages\\torch\\utils\\data\\dataloader.py\u001b[0m in \u001b[0;36m_next_data\u001b[1;34m(self)\u001b[0m\n\u001b[0;32m    559\u001b[0m     \u001b[1;32mdef\u001b[0m \u001b[0m_next_data\u001b[0m\u001b[1;33m(\u001b[0m\u001b[0mself\u001b[0m\u001b[1;33m)\u001b[0m\u001b[1;33m:\u001b[0m\u001b[1;33m\u001b[0m\u001b[1;33m\u001b[0m\u001b[0m\n\u001b[0;32m    560\u001b[0m         \u001b[0mindex\u001b[0m \u001b[1;33m=\u001b[0m \u001b[0mself\u001b[0m\u001b[1;33m.\u001b[0m\u001b[0m_next_index\u001b[0m\u001b[1;33m(\u001b[0m\u001b[1;33m)\u001b[0m  \u001b[1;31m# may raise StopIteration\u001b[0m\u001b[1;33m\u001b[0m\u001b[1;33m\u001b[0m\u001b[0m\n\u001b[1;32m--> 561\u001b[1;33m         \u001b[0mdata\u001b[0m \u001b[1;33m=\u001b[0m \u001b[0mself\u001b[0m\u001b[1;33m.\u001b[0m\u001b[0m_dataset_fetcher\u001b[0m\u001b[1;33m.\u001b[0m\u001b[0mfetch\u001b[0m\u001b[1;33m(\u001b[0m\u001b[0mindex\u001b[0m\u001b[1;33m)\u001b[0m  \u001b[1;31m# may raise StopIteration\u001b[0m\u001b[1;33m\u001b[0m\u001b[1;33m\u001b[0m\u001b[0m\n\u001b[0m\u001b[0;32m    562\u001b[0m         \u001b[1;32mif\u001b[0m \u001b[0mself\u001b[0m\u001b[1;33m.\u001b[0m\u001b[0m_pin_memory\u001b[0m\u001b[1;33m:\u001b[0m\u001b[1;33m\u001b[0m\u001b[1;33m\u001b[0m\u001b[0m\n\u001b[0;32m    563\u001b[0m             \u001b[0mdata\u001b[0m \u001b[1;33m=\u001b[0m \u001b[0m_utils\u001b[0m\u001b[1;33m.\u001b[0m\u001b[0mpin_memory\u001b[0m\u001b[1;33m.\u001b[0m\u001b[0mpin_memory\u001b[0m\u001b[1;33m(\u001b[0m\u001b[0mdata\u001b[0m\u001b[1;33m)\u001b[0m\u001b[1;33m\u001b[0m\u001b[1;33m\u001b[0m\u001b[0m\n",
      "\u001b[1;32mD:\\miniconda3\\envs\\asr_conda\\lib\\site-packages\\torch\\utils\\data\\_utils\\fetch.py\u001b[0m in \u001b[0;36mfetch\u001b[1;34m(self, possibly_batched_index)\u001b[0m\n\u001b[0;32m     47\u001b[0m     \u001b[1;32mdef\u001b[0m \u001b[0mfetch\u001b[0m\u001b[1;33m(\u001b[0m\u001b[0mself\u001b[0m\u001b[1;33m,\u001b[0m \u001b[0mpossibly_batched_index\u001b[0m\u001b[1;33m)\u001b[0m\u001b[1;33m:\u001b[0m\u001b[1;33m\u001b[0m\u001b[1;33m\u001b[0m\u001b[0m\n\u001b[0;32m     48\u001b[0m         \u001b[1;32mif\u001b[0m \u001b[0mself\u001b[0m\u001b[1;33m.\u001b[0m\u001b[0mauto_collation\u001b[0m\u001b[1;33m:\u001b[0m\u001b[1;33m\u001b[0m\u001b[1;33m\u001b[0m\u001b[0m\n\u001b[1;32m---> 49\u001b[1;33m             \u001b[0mdata\u001b[0m \u001b[1;33m=\u001b[0m \u001b[1;33m[\u001b[0m\u001b[0mself\u001b[0m\u001b[1;33m.\u001b[0m\u001b[0mdataset\u001b[0m\u001b[1;33m[\u001b[0m\u001b[0midx\u001b[0m\u001b[1;33m]\u001b[0m \u001b[1;32mfor\u001b[0m \u001b[0midx\u001b[0m \u001b[1;32min\u001b[0m \u001b[0mpossibly_batched_index\u001b[0m\u001b[1;33m]\u001b[0m\u001b[1;33m\u001b[0m\u001b[1;33m\u001b[0m\u001b[0m\n\u001b[0m\u001b[0;32m     50\u001b[0m         \u001b[1;32melse\u001b[0m\u001b[1;33m:\u001b[0m\u001b[1;33m\u001b[0m\u001b[1;33m\u001b[0m\u001b[0m\n\u001b[0;32m     51\u001b[0m             \u001b[0mdata\u001b[0m \u001b[1;33m=\u001b[0m \u001b[0mself\u001b[0m\u001b[1;33m.\u001b[0m\u001b[0mdataset\u001b[0m\u001b[1;33m[\u001b[0m\u001b[0mpossibly_batched_index\u001b[0m\u001b[1;33m]\u001b[0m\u001b[1;33m\u001b[0m\u001b[1;33m\u001b[0m\u001b[0m\n",
      "\u001b[1;32mD:\\miniconda3\\envs\\asr_conda\\lib\\site-packages\\torch\\utils\\data\\_utils\\fetch.py\u001b[0m in \u001b[0;36m<listcomp>\u001b[1;34m(.0)\u001b[0m\n\u001b[0;32m     47\u001b[0m     \u001b[1;32mdef\u001b[0m \u001b[0mfetch\u001b[0m\u001b[1;33m(\u001b[0m\u001b[0mself\u001b[0m\u001b[1;33m,\u001b[0m \u001b[0mpossibly_batched_index\u001b[0m\u001b[1;33m)\u001b[0m\u001b[1;33m:\u001b[0m\u001b[1;33m\u001b[0m\u001b[1;33m\u001b[0m\u001b[0m\n\u001b[0;32m     48\u001b[0m         \u001b[1;32mif\u001b[0m \u001b[0mself\u001b[0m\u001b[1;33m.\u001b[0m\u001b[0mauto_collation\u001b[0m\u001b[1;33m:\u001b[0m\u001b[1;33m\u001b[0m\u001b[1;33m\u001b[0m\u001b[0m\n\u001b[1;32m---> 49\u001b[1;33m             \u001b[0mdata\u001b[0m \u001b[1;33m=\u001b[0m \u001b[1;33m[\u001b[0m\u001b[0mself\u001b[0m\u001b[1;33m.\u001b[0m\u001b[0mdataset\u001b[0m\u001b[1;33m[\u001b[0m\u001b[0midx\u001b[0m\u001b[1;33m]\u001b[0m \u001b[1;32mfor\u001b[0m \u001b[0midx\u001b[0m \u001b[1;32min\u001b[0m \u001b[0mpossibly_batched_index\u001b[0m\u001b[1;33m]\u001b[0m\u001b[1;33m\u001b[0m\u001b[1;33m\u001b[0m\u001b[0m\n\u001b[0m\u001b[0;32m     50\u001b[0m         \u001b[1;32melse\u001b[0m\u001b[1;33m:\u001b[0m\u001b[1;33m\u001b[0m\u001b[1;33m\u001b[0m\u001b[0m\n\u001b[0;32m     51\u001b[0m             \u001b[0mdata\u001b[0m \u001b[1;33m=\u001b[0m \u001b[0mself\u001b[0m\u001b[1;33m.\u001b[0m\u001b[0mdataset\u001b[0m\u001b[1;33m[\u001b[0m\u001b[0mpossibly_batched_index\u001b[0m\u001b[1;33m]\u001b[0m\u001b[1;33m\u001b[0m\u001b[1;33m\u001b[0m\u001b[0m\n",
      "\u001b[1;32mD:\\miniconda3\\envs\\asr_conda\\lib\\site-packages\\datasets\\arrow_dataset.py\u001b[0m in \u001b[0;36m__getitem__\u001b[1;34m(self, key)\u001b[0m\n\u001b[0;32m   1855\u001b[0m     \u001b[1;32mdef\u001b[0m \u001b[0m__getitem__\u001b[0m\u001b[1;33m(\u001b[0m\u001b[0mself\u001b[0m\u001b[1;33m,\u001b[0m \u001b[0mkey\u001b[0m\u001b[1;33m:\u001b[0m \u001b[0mUnion\u001b[0m\u001b[1;33m[\u001b[0m\u001b[0mint\u001b[0m\u001b[1;33m,\u001b[0m \u001b[0mslice\u001b[0m\u001b[1;33m,\u001b[0m \u001b[0mstr\u001b[0m\u001b[1;33m]\u001b[0m\u001b[1;33m)\u001b[0m \u001b[1;33m->\u001b[0m \u001b[0mUnion\u001b[0m\u001b[1;33m[\u001b[0m\u001b[0mDict\u001b[0m\u001b[1;33m,\u001b[0m \u001b[0mList\u001b[0m\u001b[1;33m]\u001b[0m\u001b[1;33m:\u001b[0m\u001b[1;33m\u001b[0m\u001b[1;33m\u001b[0m\u001b[0m\n\u001b[0;32m   1856\u001b[0m         \u001b[1;34m\"\"\"Can be used to index columns (by string names) or rows (by integer index or iterable of indices or bools).\"\"\"\u001b[0m\u001b[1;33m\u001b[0m\u001b[1;33m\u001b[0m\u001b[0m\n\u001b[1;32m-> 1857\u001b[1;33m         return self._getitem(\n\u001b[0m\u001b[0;32m   1858\u001b[0m             \u001b[0mkey\u001b[0m\u001b[1;33m,\u001b[0m\u001b[1;33m\u001b[0m\u001b[1;33m\u001b[0m\u001b[0m\n\u001b[0;32m   1859\u001b[0m         )\n",
      "\u001b[1;32mD:\\miniconda3\\envs\\asr_conda\\lib\\site-packages\\datasets\\arrow_dataset.py\u001b[0m in \u001b[0;36m_getitem\u001b[1;34m(self, key, decoded, **kwargs)\u001b[0m\n\u001b[0;32m   1847\u001b[0m         \u001b[0mformat_kwargs\u001b[0m \u001b[1;33m=\u001b[0m \u001b[0mformat_kwargs\u001b[0m \u001b[1;32mif\u001b[0m \u001b[0mformat_kwargs\u001b[0m \u001b[1;32mis\u001b[0m \u001b[1;32mnot\u001b[0m \u001b[1;32mNone\u001b[0m \u001b[1;32melse\u001b[0m \u001b[1;33m{\u001b[0m\u001b[1;33m}\u001b[0m\u001b[1;33m\u001b[0m\u001b[1;33m\u001b[0m\u001b[0m\n\u001b[0;32m   1848\u001b[0m         \u001b[0mformatter\u001b[0m \u001b[1;33m=\u001b[0m \u001b[0mget_formatter\u001b[0m\u001b[1;33m(\u001b[0m\u001b[0mformat_type\u001b[0m\u001b[1;33m,\u001b[0m \u001b[0mfeatures\u001b[0m\u001b[1;33m=\u001b[0m\u001b[0mself\u001b[0m\u001b[1;33m.\u001b[0m\u001b[0mfeatures\u001b[0m\u001b[1;33m,\u001b[0m \u001b[0mdecoded\u001b[0m\u001b[1;33m=\u001b[0m\u001b[0mdecoded\u001b[0m\u001b[1;33m,\u001b[0m \u001b[1;33m**\u001b[0m\u001b[0mformat_kwargs\u001b[0m\u001b[1;33m)\u001b[0m\u001b[1;33m\u001b[0m\u001b[1;33m\u001b[0m\u001b[0m\n\u001b[1;32m-> 1849\u001b[1;33m         \u001b[0mpa_subtable\u001b[0m \u001b[1;33m=\u001b[0m \u001b[0mquery_table\u001b[0m\u001b[1;33m(\u001b[0m\u001b[0mself\u001b[0m\u001b[1;33m.\u001b[0m\u001b[0m_data\u001b[0m\u001b[1;33m,\u001b[0m \u001b[0mkey\u001b[0m\u001b[1;33m,\u001b[0m \u001b[0mindices\u001b[0m\u001b[1;33m=\u001b[0m\u001b[0mself\u001b[0m\u001b[1;33m.\u001b[0m\u001b[0m_indices\u001b[0m \u001b[1;32mif\u001b[0m \u001b[0mself\u001b[0m\u001b[1;33m.\u001b[0m\u001b[0m_indices\u001b[0m \u001b[1;32mis\u001b[0m \u001b[1;32mnot\u001b[0m \u001b[1;32mNone\u001b[0m \u001b[1;32melse\u001b[0m \u001b[1;32mNone\u001b[0m\u001b[1;33m)\u001b[0m\u001b[1;33m\u001b[0m\u001b[1;33m\u001b[0m\u001b[0m\n\u001b[0m\u001b[0;32m   1850\u001b[0m         formatted_output = format_table(\n\u001b[0;32m   1851\u001b[0m             \u001b[0mpa_subtable\u001b[0m\u001b[1;33m,\u001b[0m \u001b[0mkey\u001b[0m\u001b[1;33m,\u001b[0m \u001b[0mformatter\u001b[0m\u001b[1;33m=\u001b[0m\u001b[0mformatter\u001b[0m\u001b[1;33m,\u001b[0m \u001b[0mformat_columns\u001b[0m\u001b[1;33m=\u001b[0m\u001b[0mformat_columns\u001b[0m\u001b[1;33m,\u001b[0m \u001b[0moutput_all_columns\u001b[0m\u001b[1;33m=\u001b[0m\u001b[0moutput_all_columns\u001b[0m\u001b[1;33m\u001b[0m\u001b[1;33m\u001b[0m\u001b[0m\n",
      "\u001b[1;32mD:\\miniconda3\\envs\\asr_conda\\lib\\site-packages\\datasets\\formatting\\formatting.py\u001b[0m in \u001b[0;36mquery_table\u001b[1;34m(table, key, indices)\u001b[0m\n\u001b[0;32m    463\u001b[0m     \u001b[1;31m# Query the main table\u001b[0m\u001b[1;33m\u001b[0m\u001b[1;33m\u001b[0m\u001b[0m\n\u001b[0;32m    464\u001b[0m     \u001b[1;32mif\u001b[0m \u001b[0mindices\u001b[0m \u001b[1;32mis\u001b[0m \u001b[1;32mNone\u001b[0m\u001b[1;33m:\u001b[0m\u001b[1;33m\u001b[0m\u001b[1;33m\u001b[0m\u001b[0m\n\u001b[1;32m--> 465\u001b[1;33m         \u001b[0mpa_subtable\u001b[0m \u001b[1;33m=\u001b[0m \u001b[0m_query_table\u001b[0m\u001b[1;33m(\u001b[0m\u001b[0mtable\u001b[0m\u001b[1;33m,\u001b[0m \u001b[0mkey\u001b[0m\u001b[1;33m)\u001b[0m\u001b[1;33m\u001b[0m\u001b[1;33m\u001b[0m\u001b[0m\n\u001b[0m\u001b[0;32m    466\u001b[0m     \u001b[1;32melse\u001b[0m\u001b[1;33m:\u001b[0m\u001b[1;33m\u001b[0m\u001b[1;33m\u001b[0m\u001b[0m\n\u001b[0;32m    467\u001b[0m         \u001b[0mpa_subtable\u001b[0m \u001b[1;33m=\u001b[0m \u001b[0m_query_table_with_indices_mapping\u001b[0m\u001b[1;33m(\u001b[0m\u001b[0mtable\u001b[0m\u001b[1;33m,\u001b[0m \u001b[0mkey\u001b[0m\u001b[1;33m,\u001b[0m \u001b[0mindices\u001b[0m\u001b[1;33m=\u001b[0m\u001b[0mindices\u001b[0m\u001b[1;33m)\u001b[0m\u001b[1;33m\u001b[0m\u001b[1;33m\u001b[0m\u001b[0m\n",
      "\u001b[1;32mD:\\miniconda3\\envs\\asr_conda\\lib\\site-packages\\datasets\\formatting\\formatting.py\u001b[0m in \u001b[0;36m_query_table\u001b[1;34m(table, key)\u001b[0m\n\u001b[0;32m     77\u001b[0m     \"\"\"\n\u001b[0;32m     78\u001b[0m     \u001b[1;32mif\u001b[0m \u001b[0misinstance\u001b[0m\u001b[1;33m(\u001b[0m\u001b[0mkey\u001b[0m\u001b[1;33m,\u001b[0m \u001b[0mint\u001b[0m\u001b[1;33m)\u001b[0m\u001b[1;33m:\u001b[0m\u001b[1;33m\u001b[0m\u001b[1;33m\u001b[0m\u001b[0m\n\u001b[1;32m---> 79\u001b[1;33m         \u001b[1;32mreturn\u001b[0m \u001b[0mtable\u001b[0m\u001b[1;33m.\u001b[0m\u001b[0mfast_slice\u001b[0m\u001b[1;33m(\u001b[0m\u001b[0mkey\u001b[0m \u001b[1;33m%\u001b[0m \u001b[0mtable\u001b[0m\u001b[1;33m.\u001b[0m\u001b[0mnum_rows\u001b[0m\u001b[1;33m,\u001b[0m \u001b[1;36m1\u001b[0m\u001b[1;33m)\u001b[0m\u001b[1;33m\u001b[0m\u001b[1;33m\u001b[0m\u001b[0m\n\u001b[0m\u001b[0;32m     80\u001b[0m     \u001b[1;32mif\u001b[0m \u001b[0misinstance\u001b[0m\u001b[1;33m(\u001b[0m\u001b[0mkey\u001b[0m\u001b[1;33m,\u001b[0m \u001b[0mslice\u001b[0m\u001b[1;33m)\u001b[0m\u001b[1;33m:\u001b[0m\u001b[1;33m\u001b[0m\u001b[1;33m\u001b[0m\u001b[0m\n\u001b[0;32m     81\u001b[0m         \u001b[0mkey\u001b[0m \u001b[1;33m=\u001b[0m \u001b[0mrange\u001b[0m\u001b[1;33m(\u001b[0m\u001b[1;33m*\u001b[0m\u001b[0mkey\u001b[0m\u001b[1;33m.\u001b[0m\u001b[0mindices\u001b[0m\u001b[1;33m(\u001b[0m\u001b[0mtable\u001b[0m\u001b[1;33m.\u001b[0m\u001b[0mnum_rows\u001b[0m\u001b[1;33m)\u001b[0m\u001b[1;33m)\u001b[0m\u001b[1;33m\u001b[0m\u001b[1;33m\u001b[0m\u001b[0m\n",
      "\u001b[1;32mD:\\miniconda3\\envs\\asr_conda\\lib\\site-packages\\datasets\\table.py\u001b[0m in \u001b[0;36mfast_slice\u001b[1;34m(self, offset, length)\u001b[0m\n\u001b[0;32m    136\u001b[0m             \u001b[0mbatches\u001b[0m\u001b[1;33m[\u001b[0m\u001b[1;33m-\u001b[0m\u001b[1;36m1\u001b[0m\u001b[1;33m]\u001b[0m \u001b[1;33m=\u001b[0m \u001b[0mbatches\u001b[0m\u001b[1;33m[\u001b[0m\u001b[1;33m-\u001b[0m\u001b[1;36m1\u001b[0m\u001b[1;33m]\u001b[0m\u001b[1;33m.\u001b[0m\u001b[0mslice\u001b[0m\u001b[1;33m(\u001b[0m\u001b[1;36m0\u001b[0m\u001b[1;33m,\u001b[0m \u001b[0moffset\u001b[0m \u001b[1;33m+\u001b[0m \u001b[0mlength\u001b[0m \u001b[1;33m-\u001b[0m \u001b[0mself\u001b[0m\u001b[1;33m.\u001b[0m\u001b[0m_offsets\u001b[0m\u001b[1;33m[\u001b[0m\u001b[0mj\u001b[0m\u001b[1;33m]\u001b[0m\u001b[1;33m)\u001b[0m\u001b[1;33m\u001b[0m\u001b[1;33m\u001b[0m\u001b[0m\n\u001b[0;32m    137\u001b[0m             \u001b[0mbatches\u001b[0m\u001b[1;33m[\u001b[0m\u001b[1;36m0\u001b[0m\u001b[1;33m]\u001b[0m \u001b[1;33m=\u001b[0m \u001b[0mbatches\u001b[0m\u001b[1;33m[\u001b[0m\u001b[1;36m0\u001b[0m\u001b[1;33m]\u001b[0m\u001b[1;33m.\u001b[0m\u001b[0mslice\u001b[0m\u001b[1;33m(\u001b[0m\u001b[0moffset\u001b[0m \u001b[1;33m-\u001b[0m \u001b[0mself\u001b[0m\u001b[1;33m.\u001b[0m\u001b[0m_offsets\u001b[0m\u001b[1;33m[\u001b[0m\u001b[0mi\u001b[0m\u001b[1;33m]\u001b[0m\u001b[1;33m)\u001b[0m\u001b[1;33m\u001b[0m\u001b[1;33m\u001b[0m\u001b[0m\n\u001b[1;32m--> 138\u001b[1;33m         \u001b[1;32mreturn\u001b[0m \u001b[0mpa\u001b[0m\u001b[1;33m.\u001b[0m\u001b[0mTable\u001b[0m\u001b[1;33m.\u001b[0m\u001b[0mfrom_batches\u001b[0m\u001b[1;33m(\u001b[0m\u001b[0mbatches\u001b[0m\u001b[1;33m,\u001b[0m \u001b[0mschema\u001b[0m\u001b[1;33m=\u001b[0m\u001b[0mself\u001b[0m\u001b[1;33m.\u001b[0m\u001b[0m_schema\u001b[0m\u001b[1;33m)\u001b[0m\u001b[1;33m\u001b[0m\u001b[1;33m\u001b[0m\u001b[0m\n\u001b[0m\u001b[0;32m    139\u001b[0m \u001b[1;33m\u001b[0m\u001b[0m\n\u001b[0;32m    140\u001b[0m \u001b[1;33m\u001b[0m\u001b[0m\n",
      "\u001b[1;31mKeyboardInterrupt\u001b[0m: "
     ]
    }
   ],
   "source": [
    "trainer.train()"
   ]
  },
  {
   "cell_type": "code",
   "execution_count": null,
   "metadata": {
    "colab": {
     "base_uri": "https://localhost:8080/",
     "height": 351,
     "referenced_widgets": [
      "853be7d9a3d24adfbdc9a07d181425cc",
      "76c3fdccb19945e194c441769a1f53b0",
      "17a09ff9015f4eb2b91ee77b1f7f76e0",
      "9528d69e9b0549f59f84e94f34e5a583",
      "8665ac85023c43c3a1599c381ab07ffa",
      "3b2bcaf5a8f34426bb98ec435603b295",
      "a5b0355d9a2e4125b7244ae5582212c8",
      "ea368ae3cbb54a73a06d6fdf30457c02",
      "4b6973c261204b2bb27596bfe26aea7d",
      "d21e46e22de04ebe9e02b44e71de04f2",
      "d9813a20998b4f739de3fa1592fa6f6c",
      "e9700e09f87a4884b1bdec05bd953c87",
      "6ab335fdf69045a7a183225814ac50b4",
      "a7e7d95121934bd4b3cf322636b5ec52",
      "e62e6b3087364568b2919536eed930b4",
      "a60bf0d288ce49f39ce301698528515a",
      "44acbd5e884948b5929f15336986a08e",
      "0a7e1500d4764332aae441c0afbe12bf",
      "5b1c1ad9f82d491d98e71923057a6181",
      "78f37dd782e643d0985b47de288eb6a6",
      "d578ce02e48c49d7838c002d1d2217fb",
      "47ae20ba4e5946debdd789af83114d3e"
     ]
    },
    "id": "JYGQYBhHNsvj",
    "outputId": "69be0c57-b143-4676-ed55-9c64d30ff973"
   },
   "outputs": [],
   "source": [
    "# Save the model\n",
    "\n",
    "model.save_pretrained('../Models/model_2')"
   ]
  },
  {
   "cell_type": "markdown",
   "metadata": {
    "id": "nD4XP5IHncsY"
   },
   "source": [
    "### Evaluate\n",
    "\n",
    "In the final part, we run our model on some of the validation data to get a feeling for how well it works.\n",
    "\n",
    "Let's load the `model`."
   ]
  },
  {
   "cell_type": "code",
   "execution_count": 43,
   "metadata": {
    "colab": {
     "base_uri": "https://localhost:8080/",
     "height": 1000,
     "referenced_widgets": [
      "d05016d3099e41b5bb0108376633ee1b",
      "ad4c383574b24eb9a1523dddd1ff59a7",
      "af85987363eb41dba278a9ca1a8fc0dd",
      "ce4b73b6bddc4cfb8c94f6447cbd19b4",
      "0c50021a603247b88f18f54c505381e8",
      "f0456d5e7be64144a8243fb9ea974d1b",
      "c64da24052554c05a6ed4fa8b544c106",
      "af4f488264484b5fb9813e592bc28ed3",
      "ec1c3ebf957f4f86bbf4d0b0f042ea96",
      "0d9e9401037a4c15825051fd206cf03e",
      "699a3b31ef6540169eea486fa987c5c1",
      "0c522bee9e2f4aa9a3c58ec1d5953931",
      "ffce8896c8b148c6ba66a6a2f1e20069",
      "858b51c4d34342cd8112c716ea13b479",
      "6f7df5e67488466ea320eb703571f18e",
      "3b9ba2b6b4a24d82b63f3685de6378e5",
      "1b6343b6e6714e58a39e5ca1adfa47ef",
      "fb8d383652fc4ad8a56e011f74f5a7a2",
      "fc442d74a9034ec6aba19dab42e2b97a",
      "4cb8ed4b37a246f1ab2c28c3c97d1b0e",
      "af132b79295747b0a185e9a38539338b",
      "a8070a9f2d004a77be3853f10d415ece"
     ]
    },
    "id": "sSpFW3pDn23P",
    "outputId": "ce99f948-cd0a-49b9-f1f7-abd95b909e80"
   },
   "outputs": [
    {
     "name": "stderr",
     "output_type": "stream",
     "text": [
      "loading configuration file ../Models/model_2\\config.json\n",
      "Model config Wav2Vec2Config {\n",
      "  \"_name_or_path\": \"facebook/wav2vec2-base\",\n",
      "  \"activation_dropout\": 0.0,\n",
      "  \"apply_spec_augment\": true,\n",
      "  \"architectures\": [\n",
      "    \"Wav2Vec2ForCTC\"\n",
      "  ],\n",
      "  \"attention_dropout\": 0.1,\n",
      "  \"bos_token_id\": 1,\n",
      "  \"classifier_proj_size\": 256,\n",
      "  \"codevector_dim\": 256,\n",
      "  \"contrastive_logits_temperature\": 0.1,\n",
      "  \"conv_bias\": false,\n",
      "  \"conv_dim\": [\n",
      "    512,\n",
      "    512,\n",
      "    512,\n",
      "    512,\n",
      "    512,\n",
      "    512,\n",
      "    512\n",
      "  ],\n",
      "  \"conv_kernel\": [\n",
      "    10,\n",
      "    3,\n",
      "    3,\n",
      "    3,\n",
      "    3,\n",
      "    2,\n",
      "    2\n",
      "  ],\n",
      "  \"conv_stride\": [\n",
      "    5,\n",
      "    2,\n",
      "    2,\n",
      "    2,\n",
      "    2,\n",
      "    2,\n",
      "    2\n",
      "  ],\n",
      "  \"ctc_loss_reduction\": \"mean\",\n",
      "  \"ctc_zero_infinity\": false,\n",
      "  \"diversity_loss_weight\": 0.1,\n",
      "  \"do_stable_layer_norm\": false,\n",
      "  \"eos_token_id\": 2,\n",
      "  \"feat_extract_activation\": \"gelu\",\n",
      "  \"feat_extract_norm\": \"group\",\n",
      "  \"feat_proj_dropout\": 0.1,\n",
      "  \"feat_quantizer_dropout\": 0.0,\n",
      "  \"final_dropout\": 0.0,\n",
      "  \"freeze_feat_extract_train\": true,\n",
      "  \"hidden_act\": \"gelu\",\n",
      "  \"hidden_dropout\": 0.1,\n",
      "  \"hidden_size\": 768,\n",
      "  \"initializer_range\": 0.02,\n",
      "  \"intermediate_size\": 3072,\n",
      "  \"layer_norm_eps\": 1e-05,\n",
      "  \"layerdrop\": 0.05,\n",
      "  \"mask_channel_length\": 10,\n",
      "  \"mask_channel_min_space\": 1,\n",
      "  \"mask_channel_other\": 0.0,\n",
      "  \"mask_channel_prob\": 0.0,\n",
      "  \"mask_channel_selection\": \"static\",\n",
      "  \"mask_feature_length\": 10,\n",
      "  \"mask_feature_prob\": 0.0,\n",
      "  \"mask_time_length\": 10,\n",
      "  \"mask_time_min_space\": 1,\n",
      "  \"mask_time_other\": 0.0,\n",
      "  \"mask_time_prob\": 0.05,\n",
      "  \"mask_time_selection\": \"static\",\n",
      "  \"model_type\": \"wav2vec2\",\n",
      "  \"no_mask_channel_overlap\": false,\n",
      "  \"no_mask_time_overlap\": false,\n",
      "  \"num_attention_heads\": 12,\n",
      "  \"num_codevector_groups\": 2,\n",
      "  \"num_codevectors_per_group\": 320,\n",
      "  \"num_conv_pos_embedding_groups\": 16,\n",
      "  \"num_conv_pos_embeddings\": 128,\n",
      "  \"num_feat_extract_layers\": 7,\n",
      "  \"num_hidden_layers\": 12,\n",
      "  \"num_negatives\": 100,\n",
      "  \"pad_token_id\": 29,\n",
      "  \"proj_codevector_dim\": 256,\n",
      "  \"torch_dtype\": \"float32\",\n",
      "  \"transformers_version\": \"4.12.3\",\n",
      "  \"use_weighted_layer_sum\": false,\n",
      "  \"vocab_size\": 32\n",
      "}\n",
      "\n",
      "loading weights file ../Models/model_2\\pytorch_model.bin\n",
      "All model checkpoint weights were used when initializing Wav2Vec2ForCTC.\n",
      "\n",
      "All the weights of Wav2Vec2ForCTC were initialized from the model checkpoint at ../Models/model_2.\n",
      "If your task is similar to the task the model of the checkpoint was trained on, you can already use Wav2Vec2ForCTC for predictions without further training.\n"
     ]
    }
   ],
   "source": [
    "model = Wav2Vec2ForCTC.from_pretrained(\"../Models/model_2\")"
   ]
  },
  {
   "cell_type": "code",
   "execution_count": 44,
   "metadata": {},
   "outputs": [],
   "source": [
    "device = torch.device('cuda' if torch.cuda.is_available() else 'cpu')"
   ]
  },
  {
   "cell_type": "code",
   "execution_count": 45,
   "metadata": {},
   "outputs": [
    {
     "data": {
      "text/plain": [
       "Wav2Vec2ForCTC(\n",
       "  (wav2vec2): Wav2Vec2Model(\n",
       "    (feature_extractor): Wav2Vec2FeatureExtractor(\n",
       "      (conv_layers): ModuleList(\n",
       "        (0): Wav2Vec2GroupNormConvLayer(\n",
       "          (conv): Conv1d(1, 512, kernel_size=(10,), stride=(5,), bias=False)\n",
       "          (layer_norm): GroupNorm(512, 512, eps=1e-05, affine=True)\n",
       "        )\n",
       "        (1): Wav2Vec2NoLayerNormConvLayer(\n",
       "          (conv): Conv1d(512, 512, kernel_size=(3,), stride=(2,), bias=False)\n",
       "        )\n",
       "        (2): Wav2Vec2NoLayerNormConvLayer(\n",
       "          (conv): Conv1d(512, 512, kernel_size=(3,), stride=(2,), bias=False)\n",
       "        )\n",
       "        (3): Wav2Vec2NoLayerNormConvLayer(\n",
       "          (conv): Conv1d(512, 512, kernel_size=(3,), stride=(2,), bias=False)\n",
       "        )\n",
       "        (4): Wav2Vec2NoLayerNormConvLayer(\n",
       "          (conv): Conv1d(512, 512, kernel_size=(3,), stride=(2,), bias=False)\n",
       "        )\n",
       "        (5): Wav2Vec2NoLayerNormConvLayer(\n",
       "          (conv): Conv1d(512, 512, kernel_size=(2,), stride=(2,), bias=False)\n",
       "        )\n",
       "        (6): Wav2Vec2NoLayerNormConvLayer(\n",
       "          (conv): Conv1d(512, 512, kernel_size=(2,), stride=(2,), bias=False)\n",
       "        )\n",
       "      )\n",
       "    )\n",
       "    (feature_projection): Wav2Vec2FeatureProjection(\n",
       "      (layer_norm): LayerNorm((512,), eps=1e-05, elementwise_affine=True)\n",
       "      (projection): Linear(in_features=512, out_features=768, bias=True)\n",
       "      (dropout): Dropout(p=0.1, inplace=False)\n",
       "    )\n",
       "    (encoder): Wav2Vec2Encoder(\n",
       "      (pos_conv_embed): Wav2Vec2PositionalConvEmbedding(\n",
       "        (conv): Conv1d(768, 768, kernel_size=(128,), stride=(1,), padding=(64,), groups=16)\n",
       "        (padding): Wav2Vec2SamePadLayer()\n",
       "      )\n",
       "      (layer_norm): LayerNorm((768,), eps=1e-05, elementwise_affine=True)\n",
       "      (dropout): Dropout(p=0.1, inplace=False)\n",
       "      (layers): ModuleList(\n",
       "        (0): Wav2Vec2EncoderLayer(\n",
       "          (attention): Wav2Vec2Attention(\n",
       "            (k_proj): Linear(in_features=768, out_features=768, bias=True)\n",
       "            (v_proj): Linear(in_features=768, out_features=768, bias=True)\n",
       "            (q_proj): Linear(in_features=768, out_features=768, bias=True)\n",
       "            (out_proj): Linear(in_features=768, out_features=768, bias=True)\n",
       "          )\n",
       "          (dropout): Dropout(p=0.1, inplace=False)\n",
       "          (layer_norm): LayerNorm((768,), eps=1e-05, elementwise_affine=True)\n",
       "          (feed_forward): Wav2Vec2FeedForward(\n",
       "            (intermediate_dropout): Dropout(p=0.0, inplace=False)\n",
       "            (intermediate_dense): Linear(in_features=768, out_features=3072, bias=True)\n",
       "            (output_dense): Linear(in_features=3072, out_features=768, bias=True)\n",
       "            (output_dropout): Dropout(p=0.1, inplace=False)\n",
       "          )\n",
       "          (final_layer_norm): LayerNorm((768,), eps=1e-05, elementwise_affine=True)\n",
       "        )\n",
       "        (1): Wav2Vec2EncoderLayer(\n",
       "          (attention): Wav2Vec2Attention(\n",
       "            (k_proj): Linear(in_features=768, out_features=768, bias=True)\n",
       "            (v_proj): Linear(in_features=768, out_features=768, bias=True)\n",
       "            (q_proj): Linear(in_features=768, out_features=768, bias=True)\n",
       "            (out_proj): Linear(in_features=768, out_features=768, bias=True)\n",
       "          )\n",
       "          (dropout): Dropout(p=0.1, inplace=False)\n",
       "          (layer_norm): LayerNorm((768,), eps=1e-05, elementwise_affine=True)\n",
       "          (feed_forward): Wav2Vec2FeedForward(\n",
       "            (intermediate_dropout): Dropout(p=0.0, inplace=False)\n",
       "            (intermediate_dense): Linear(in_features=768, out_features=3072, bias=True)\n",
       "            (output_dense): Linear(in_features=3072, out_features=768, bias=True)\n",
       "            (output_dropout): Dropout(p=0.1, inplace=False)\n",
       "          )\n",
       "          (final_layer_norm): LayerNorm((768,), eps=1e-05, elementwise_affine=True)\n",
       "        )\n",
       "        (2): Wav2Vec2EncoderLayer(\n",
       "          (attention): Wav2Vec2Attention(\n",
       "            (k_proj): Linear(in_features=768, out_features=768, bias=True)\n",
       "            (v_proj): Linear(in_features=768, out_features=768, bias=True)\n",
       "            (q_proj): Linear(in_features=768, out_features=768, bias=True)\n",
       "            (out_proj): Linear(in_features=768, out_features=768, bias=True)\n",
       "          )\n",
       "          (dropout): Dropout(p=0.1, inplace=False)\n",
       "          (layer_norm): LayerNorm((768,), eps=1e-05, elementwise_affine=True)\n",
       "          (feed_forward): Wav2Vec2FeedForward(\n",
       "            (intermediate_dropout): Dropout(p=0.0, inplace=False)\n",
       "            (intermediate_dense): Linear(in_features=768, out_features=3072, bias=True)\n",
       "            (output_dense): Linear(in_features=3072, out_features=768, bias=True)\n",
       "            (output_dropout): Dropout(p=0.1, inplace=False)\n",
       "          )\n",
       "          (final_layer_norm): LayerNorm((768,), eps=1e-05, elementwise_affine=True)\n",
       "        )\n",
       "        (3): Wav2Vec2EncoderLayer(\n",
       "          (attention): Wav2Vec2Attention(\n",
       "            (k_proj): Linear(in_features=768, out_features=768, bias=True)\n",
       "            (v_proj): Linear(in_features=768, out_features=768, bias=True)\n",
       "            (q_proj): Linear(in_features=768, out_features=768, bias=True)\n",
       "            (out_proj): Linear(in_features=768, out_features=768, bias=True)\n",
       "          )\n",
       "          (dropout): Dropout(p=0.1, inplace=False)\n",
       "          (layer_norm): LayerNorm((768,), eps=1e-05, elementwise_affine=True)\n",
       "          (feed_forward): Wav2Vec2FeedForward(\n",
       "            (intermediate_dropout): Dropout(p=0.0, inplace=False)\n",
       "            (intermediate_dense): Linear(in_features=768, out_features=3072, bias=True)\n",
       "            (output_dense): Linear(in_features=3072, out_features=768, bias=True)\n",
       "            (output_dropout): Dropout(p=0.1, inplace=False)\n",
       "          )\n",
       "          (final_layer_norm): LayerNorm((768,), eps=1e-05, elementwise_affine=True)\n",
       "        )\n",
       "        (4): Wav2Vec2EncoderLayer(\n",
       "          (attention): Wav2Vec2Attention(\n",
       "            (k_proj): Linear(in_features=768, out_features=768, bias=True)\n",
       "            (v_proj): Linear(in_features=768, out_features=768, bias=True)\n",
       "            (q_proj): Linear(in_features=768, out_features=768, bias=True)\n",
       "            (out_proj): Linear(in_features=768, out_features=768, bias=True)\n",
       "          )\n",
       "          (dropout): Dropout(p=0.1, inplace=False)\n",
       "          (layer_norm): LayerNorm((768,), eps=1e-05, elementwise_affine=True)\n",
       "          (feed_forward): Wav2Vec2FeedForward(\n",
       "            (intermediate_dropout): Dropout(p=0.0, inplace=False)\n",
       "            (intermediate_dense): Linear(in_features=768, out_features=3072, bias=True)\n",
       "            (output_dense): Linear(in_features=3072, out_features=768, bias=True)\n",
       "            (output_dropout): Dropout(p=0.1, inplace=False)\n",
       "          )\n",
       "          (final_layer_norm): LayerNorm((768,), eps=1e-05, elementwise_affine=True)\n",
       "        )\n",
       "        (5): Wav2Vec2EncoderLayer(\n",
       "          (attention): Wav2Vec2Attention(\n",
       "            (k_proj): Linear(in_features=768, out_features=768, bias=True)\n",
       "            (v_proj): Linear(in_features=768, out_features=768, bias=True)\n",
       "            (q_proj): Linear(in_features=768, out_features=768, bias=True)\n",
       "            (out_proj): Linear(in_features=768, out_features=768, bias=True)\n",
       "          )\n",
       "          (dropout): Dropout(p=0.1, inplace=False)\n",
       "          (layer_norm): LayerNorm((768,), eps=1e-05, elementwise_affine=True)\n",
       "          (feed_forward): Wav2Vec2FeedForward(\n",
       "            (intermediate_dropout): Dropout(p=0.0, inplace=False)\n",
       "            (intermediate_dense): Linear(in_features=768, out_features=3072, bias=True)\n",
       "            (output_dense): Linear(in_features=3072, out_features=768, bias=True)\n",
       "            (output_dropout): Dropout(p=0.1, inplace=False)\n",
       "          )\n",
       "          (final_layer_norm): LayerNorm((768,), eps=1e-05, elementwise_affine=True)\n",
       "        )\n",
       "        (6): Wav2Vec2EncoderLayer(\n",
       "          (attention): Wav2Vec2Attention(\n",
       "            (k_proj): Linear(in_features=768, out_features=768, bias=True)\n",
       "            (v_proj): Linear(in_features=768, out_features=768, bias=True)\n",
       "            (q_proj): Linear(in_features=768, out_features=768, bias=True)\n",
       "            (out_proj): Linear(in_features=768, out_features=768, bias=True)\n",
       "          )\n",
       "          (dropout): Dropout(p=0.1, inplace=False)\n",
       "          (layer_norm): LayerNorm((768,), eps=1e-05, elementwise_affine=True)\n",
       "          (feed_forward): Wav2Vec2FeedForward(\n",
       "            (intermediate_dropout): Dropout(p=0.0, inplace=False)\n",
       "            (intermediate_dense): Linear(in_features=768, out_features=3072, bias=True)\n",
       "            (output_dense): Linear(in_features=3072, out_features=768, bias=True)\n",
       "            (output_dropout): Dropout(p=0.1, inplace=False)\n",
       "          )\n",
       "          (final_layer_norm): LayerNorm((768,), eps=1e-05, elementwise_affine=True)\n",
       "        )\n",
       "        (7): Wav2Vec2EncoderLayer(\n",
       "          (attention): Wav2Vec2Attention(\n",
       "            (k_proj): Linear(in_features=768, out_features=768, bias=True)\n",
       "            (v_proj): Linear(in_features=768, out_features=768, bias=True)\n",
       "            (q_proj): Linear(in_features=768, out_features=768, bias=True)\n",
       "            (out_proj): Linear(in_features=768, out_features=768, bias=True)\n",
       "          )\n",
       "          (dropout): Dropout(p=0.1, inplace=False)\n",
       "          (layer_norm): LayerNorm((768,), eps=1e-05, elementwise_affine=True)\n",
       "          (feed_forward): Wav2Vec2FeedForward(\n",
       "            (intermediate_dropout): Dropout(p=0.0, inplace=False)\n",
       "            (intermediate_dense): Linear(in_features=768, out_features=3072, bias=True)\n",
       "            (output_dense): Linear(in_features=3072, out_features=768, bias=True)\n",
       "            (output_dropout): Dropout(p=0.1, inplace=False)\n",
       "          )\n",
       "          (final_layer_norm): LayerNorm((768,), eps=1e-05, elementwise_affine=True)\n",
       "        )\n",
       "        (8): Wav2Vec2EncoderLayer(\n",
       "          (attention): Wav2Vec2Attention(\n",
       "            (k_proj): Linear(in_features=768, out_features=768, bias=True)\n",
       "            (v_proj): Linear(in_features=768, out_features=768, bias=True)\n",
       "            (q_proj): Linear(in_features=768, out_features=768, bias=True)\n",
       "            (out_proj): Linear(in_features=768, out_features=768, bias=True)\n",
       "          )\n",
       "          (dropout): Dropout(p=0.1, inplace=False)\n",
       "          (layer_norm): LayerNorm((768,), eps=1e-05, elementwise_affine=True)\n",
       "          (feed_forward): Wav2Vec2FeedForward(\n",
       "            (intermediate_dropout): Dropout(p=0.0, inplace=False)\n",
       "            (intermediate_dense): Linear(in_features=768, out_features=3072, bias=True)\n",
       "            (output_dense): Linear(in_features=3072, out_features=768, bias=True)\n",
       "            (output_dropout): Dropout(p=0.1, inplace=False)\n",
       "          )\n",
       "          (final_layer_norm): LayerNorm((768,), eps=1e-05, elementwise_affine=True)\n",
       "        )\n",
       "        (9): Wav2Vec2EncoderLayer(\n",
       "          (attention): Wav2Vec2Attention(\n",
       "            (k_proj): Linear(in_features=768, out_features=768, bias=True)\n",
       "            (v_proj): Linear(in_features=768, out_features=768, bias=True)\n",
       "            (q_proj): Linear(in_features=768, out_features=768, bias=True)\n",
       "            (out_proj): Linear(in_features=768, out_features=768, bias=True)\n",
       "          )\n",
       "          (dropout): Dropout(p=0.1, inplace=False)\n",
       "          (layer_norm): LayerNorm((768,), eps=1e-05, elementwise_affine=True)\n",
       "          (feed_forward): Wav2Vec2FeedForward(\n",
       "            (intermediate_dropout): Dropout(p=0.0, inplace=False)\n",
       "            (intermediate_dense): Linear(in_features=768, out_features=3072, bias=True)\n",
       "            (output_dense): Linear(in_features=3072, out_features=768, bias=True)\n",
       "            (output_dropout): Dropout(p=0.1, inplace=False)\n",
       "          )\n",
       "          (final_layer_norm): LayerNorm((768,), eps=1e-05, elementwise_affine=True)\n",
       "        )\n",
       "        (10): Wav2Vec2EncoderLayer(\n",
       "          (attention): Wav2Vec2Attention(\n",
       "            (k_proj): Linear(in_features=768, out_features=768, bias=True)\n",
       "            (v_proj): Linear(in_features=768, out_features=768, bias=True)\n",
       "            (q_proj): Linear(in_features=768, out_features=768, bias=True)\n",
       "            (out_proj): Linear(in_features=768, out_features=768, bias=True)\n",
       "          )\n",
       "          (dropout): Dropout(p=0.1, inplace=False)\n",
       "          (layer_norm): LayerNorm((768,), eps=1e-05, elementwise_affine=True)\n",
       "          (feed_forward): Wav2Vec2FeedForward(\n",
       "            (intermediate_dropout): Dropout(p=0.0, inplace=False)\n",
       "            (intermediate_dense): Linear(in_features=768, out_features=3072, bias=True)\n",
       "            (output_dense): Linear(in_features=3072, out_features=768, bias=True)\n",
       "            (output_dropout): Dropout(p=0.1, inplace=False)\n",
       "          )\n",
       "          (final_layer_norm): LayerNorm((768,), eps=1e-05, elementwise_affine=True)\n",
       "        )\n",
       "        (11): Wav2Vec2EncoderLayer(\n",
       "          (attention): Wav2Vec2Attention(\n",
       "            (k_proj): Linear(in_features=768, out_features=768, bias=True)\n",
       "            (v_proj): Linear(in_features=768, out_features=768, bias=True)\n",
       "            (q_proj): Linear(in_features=768, out_features=768, bias=True)\n",
       "            (out_proj): Linear(in_features=768, out_features=768, bias=True)\n",
       "          )\n",
       "          (dropout): Dropout(p=0.1, inplace=False)\n",
       "          (layer_norm): LayerNorm((768,), eps=1e-05, elementwise_affine=True)\n",
       "          (feed_forward): Wav2Vec2FeedForward(\n",
       "            (intermediate_dropout): Dropout(p=0.0, inplace=False)\n",
       "            (intermediate_dense): Linear(in_features=768, out_features=3072, bias=True)\n",
       "            (output_dense): Linear(in_features=3072, out_features=768, bias=True)\n",
       "            (output_dropout): Dropout(p=0.1, inplace=False)\n",
       "          )\n",
       "          (final_layer_norm): LayerNorm((768,), eps=1e-05, elementwise_affine=True)\n",
       "        )\n",
       "      )\n",
       "    )\n",
       "  )\n",
       "  (dropout): Dropout(p=0.0, inplace=False)\n",
       "  (lm_head): Linear(in_features=768, out_features=32, bias=True)\n",
       ")"
      ]
     },
     "execution_count": 45,
     "metadata": {},
     "output_type": "execute_result"
    }
   ],
   "source": [
    "# Move the model to gpu if available\n",
    "\n",
    "model.to(device)"
   ]
  },
  {
   "cell_type": "code",
   "execution_count": 46,
   "metadata": {
    "id": "40naJl53n7jT"
   },
   "outputs": [],
   "source": [
    "def map_to_result(batch):\n",
    "    \"\"\"\n",
    "        Compute evaluation on the test set\n",
    "    \"\"\"\n",
    "    with torch.no_grad():\n",
    "        input_values = torch.tensor(batch[\"input_values\"], device=\"cuda\").unsqueeze(0)\n",
    "        logits = model(input_values).logits\n",
    "            \n",
    "    pred_ids = torch.argmax(logits, dim=-1)\n",
    "    batch[\"pred_str\"] = processor.batch_decode(pred_ids)[0]\n",
    "    batch[\"normalized_text\"] = processor.decode(batch[\"labels\"], group_tokens=False)\n",
    "\n",
    "    return batch"
   ]
  },
  {
   "cell_type": "code",
   "execution_count": 47,
   "metadata": {},
   "outputs": [
    {
     "data": {
      "application/vnd.jupyter.widget-view+json": {
       "model_id": "203e30a557644a40bb1e128b644d1328",
       "version_major": 2,
       "version_minor": 0
      },
      "text/plain": [
       "  0%|          | 0/1310 [00:00<?, ?ex/s]"
      ]
     },
     "metadata": {},
     "output_type": "display_data"
    },
    {
     "name": "stdout",
     "output_type": "stream",
     "text": [
      "many factors were undoubtedly involved in oswald's motivation for the assassination and the commission does not believe\n",
      "\n"
     ]
    }
   ],
   "source": [
    "results = val_ds.map(map_to_result, remove_columns=val_ds.column_names)\n",
    "\n",
    "print(results['normalized_text'][0])\n",
    "print(results['pred_str'][0])"
   ]
  },
  {
   "cell_type": "markdown",
   "metadata": {
    "id": "-mqpdB8R6rty"
   },
   "source": [
    "Let's compute the overall WER now."
   ]
  },
  {
   "cell_type": "code",
   "execution_count": 48,
   "metadata": {
    "colab": {
     "base_uri": "https://localhost:8080/"
    },
    "id": "PmqAb4Isx8OK",
    "outputId": "64278bb1-eabb-4449-d6db-b40619f7593f"
   },
   "outputs": [
    {
     "name": "stdout",
     "output_type": "stream",
     "text": [
      "Test WER: 1.000\n"
     ]
    }
   ],
   "source": [
    "print(\"Test WER: {:.3f}\".format(wer_metric.compute(predictions=results[\"pred_str\"], references=results[\"normalized_text\"])))"
   ]
  },
  {
   "cell_type": "markdown",
   "metadata": {},
   "source": [
    "Let's download some speech samples for performing inference. You can replace the following sample with your speech sample also."
   ]
  },
  {
   "cell_type": "code",
   "execution_count": 38,
   "metadata": {},
   "outputs": [
    {
     "name": "stderr",
     "output_type": "stream",
     "text": [
      "--2021-11-15 15:39:29--  https://github.com/vasudevgupta7/gsoc-wav2vec2/raw/main/data/SA2.wav\n",
      "Resolving github.com (github.com)... 13.236.229.21\n",
      "Connecting to github.com (github.com)|13.236.229.21|:443... connected.\n",
      "HTTP request sent, awaiting response... 302 Found\n",
      "Location: https://raw.githubusercontent.com/vasudevgupta7/gsoc-wav2vec2/main/data/SA2.wav [following]\n",
      "--2021-11-15 15:39:30--  https://raw.githubusercontent.com/vasudevgupta7/gsoc-wav2vec2/main/data/SA2.wav\n",
      "Resolving raw.githubusercontent.com (raw.githubusercontent.com)... 185.199.110.133, 185.199.109.133, 185.199.108.133, ...\n",
      "Connecting to raw.githubusercontent.com (raw.githubusercontent.com)|185.199.110.133|:443... connected.\n",
      "HTTP request sent, awaiting response... 200 OK\n",
      "Length: 94252 (92K) [audio/wav]\n",
      "Saving to: 'SA2.wav.1'\n",
      "\n",
      "     0K .......... .......... .......... .......... .......... 54% 1.27M 0s\n",
      "    50K .......... .......... .......... .......... ..        100% 13.3M=0.04s\n",
      "\n",
      "2021-11-15 15:39:30 (2.17 MB/s) - 'SA2.wav.1' saved [94252/94252]\n",
      "\n"
     ]
    }
   ],
   "source": [
    "# Download a sample wav\n",
    "\n",
    "!wget https://github.com/vasudevgupta7/gsoc-wav2vec2/raw/main/data/SA2.wav"
   ]
  },
  {
   "cell_type": "code",
   "execution_count": 49,
   "metadata": {},
   "outputs": [],
   "source": [
    "def read_audio(file_path):\n",
    "    \"\"\"\n",
    "        Reads audio from file path and returns np array with sample rate of 16KHz\n",
    "    \"\"\"\n",
    "    y,_=librosa.load(file_path,sr=16000)\n",
    "    return y\n",
    "\n",
    "def predict_text(file_path):\n",
    "    \"\"\"\n",
    "        Given an audio file path, returns ASR model's predicted text\n",
    "    \"\"\"\n",
    "    with torch.no_grad():\n",
    "        logits = model(torch.tensor(np.expand_dims(read_audio(file_path), axis=0), device=\"cuda\")).logits\n",
    "    pred_ids = torch.argmax(logits, dim=-1)\n",
    "    print(pred_ids)\n",
    "    text = processor.batch_decode(pred_ids)[0]\n",
    "    return text "
   ]
  },
  {
   "cell_type": "code",
   "execution_count": 50,
   "metadata": {},
   "outputs": [
    {
     "data": {
      "text/html": [
       "\n",
       "                <audio  controls=\"controls\" autoplay=\"autoplay\">\n",
       "                    <source src=\"data:audio/wav;base64,UklGRiRwAQBXQVZFZm10IBAAAAABAAEAgD4AAAB9AAACABAAZGF0YQBwAQBAAAAABwAVABwAFQAcABUAFQAOABwADgD5//n/8v/5/xUA6//5/+T/8v/y//n/BwAAAPn/DgAVAAAABwAcABUAIwAVAAcABwD5//n/FQAcABUAIwAOAAcAFQAHAA4AAAAHAOv/8v/r/+T/AAAAAAcAAAAHAA4AAAAcABUAHAAjAA4ADgAAAPL/+f8AAPn/FQAAAAcAAAAVABUAHAAcAAcABwAHAPL/6//r/+v/AAD5/wAA+f8AAPL/BwAcABUAIwAOAA4AHAAHAA4ABwAHAAcABwAHAAAA+f8AAAAA6//5/wcA+f8AAPL/AAAAABUADgAOABwAHAAAACMAFQAOABUABwAAAAcABwAAAPL/AAAAAAcA+f8HAAAA+f8AAAcABwAAAAAABwAHAA4AAADy/wAAAAD5/w4AFQDr//L/+f8AAAAAAAAHAAcA+f8HAA4AAAD5/wAABwDr/wcAFQAOABwAAAAOAA4AAAD5//L/AAAAAAcA+f/5//n/+f8HABwAFQAHAAcABwD5/xUABwAAAAcA+f/y/wAA8v8AAAcADgAcABwAAAAHAAAAFQAOAAcA+f8OABUABwD5/wAAFQAOABUABwAOAAcABwAAAA4A+f8VAA4ABwAHAA4AAAAOABwADgD5/wcAFQAVAA4ABwAHAAAAFQAOABUAAAAAAA4ADgAOAA4ADgArABwAIwAOABUADgAVAA4AHAAHAPn/DgAVAAcA6/8OAAcAAAD5/wAAFQAcAAcADgAOAAAABwAVAAcAFQAHAAAA8v8HABUABwAVAA4ABwAcABUAKwAAAPn/AAAVAAcABwAAAAcAAAAHABwAFQAVAAAABwAHABwAAAAAAAcAAAAHAAcAAAAOAAAA+f8VAA4AFQAOABwABwAcAPn/BwAHAAcA+f8VAAAA+f8AAAAABwAAAAcAAADy/wAAAAAOAAcAAAAHAA4A8v8VABUADgAHAPn/FQD5/+v/FQAOAAAABwAHAA4ABwDy/w4AFQAHAAcADgAVAA4ADgAAAA4ABwAOABwAFQAOAAcAHAAcAAcAFQAVABwABwAHAAAADgAHAAcADgAHABUAFQAOAAAAFQAOABUADgAVAAcAAAAVAAcAHAAAAAcAFQAOAAcADgAAAAcAHAAHAAcABwAVAAAAFQAcAAcAAADr/+v/BwD5//n/BwAHABwADgD5/w4ABwDy/wcABwAcAA4ADgAHAA4AHAAHABwAAAAHAAcADgAOABUADgAHAAcAFQAOAPn/BwAVAA4AHAAOAAAAFQAHAPn/FQAAAA4AFQAVABUAAAAHAAcADgAAAA4ADgAVABwADgAcAA4AFQAAAAcAHAAVABwAHAAVABwAFQAOAAAADgAOABUAFQAOABUAFQAcAAcAHAAVACMAFQAOABwAIwAVAAcAHAAcABUA+f8HABUAFQAVABwADgAHAAAAHAAcAA4AFQAOABUADgAVAA4AHAAcAA4AAAAcABUADgAOABUADgAjABwABwAOACMAHAAOAAAAFQAOAAAAAADy/wcAHAAOABwAFQAcAAAAFQAcAA4A+f8AAAcADgAVAA4ADgAAAAcAFQAOAA4A+f8AAAAADgAAAA4AHAAOAA4A8v8AAPL/DgAHAAcADgAVAA4ABwD5/xUADgAVAAAABwAOAPn/8v8HAAAADgAAAA4AHADr/wcAFQAAAAcADgAAAA4ADgAAABUA+f8cAAcA+f/r/wcAAAAAAAAA8v8AAAcABwAcABUABwAOAAcABwD5/wcAAAAHAAAABwD5/wcABwD5/wAAAAAHAAAA+f8HAPL/8v/r//n/AAAAAPL/8v/r//L/AAD5/wAAAAD5/wcA+f8OAPn/8v/5/wAAAAAAAAAADgAAAOT/6//r/wcAAAAHAAAADgAAAA4AAAAHAAAAAAAAAAAAHAAAAAcAHAAAAPn/+f8HAAcADgAHAAAA+f/5//n/BwAHAAcAAAD5/wAAAAAHAPn/AAAVAA4ABwAcAAcABwAHAA4AFQAOAAAABwAVAAAABwAHAA4AAAD5/wAA6/8AAPn/AADy/+v/AAAAAPL/HAAOACMAHAAcACMABwAAABUADgD5/wAA+f8HAPL/AAD5/wcAHAAcAA4ADgAOABUAHAAcABUADgAHAAAAAAAVAA4AFQAVAAcAAADy/xUADgAVACMAFQAVAA4ABwAHAAcADgAjABUADgAOAAAAHAAcABwAFQAjABwAHAArACMAHAAjABwAFQA5AEcAFQAcAAcABwAHAAcABwD5/w4ADgAHAPn/+f/r/wAA8v/r//n/AAAAAAcABwAjAA4AFQAOABwAAAAVABUABwAOAAcAFQAVAA4AHAAcACMAHAAjABwAFQAAAA4A8v/y/wAA6//r/+v/6/8AAAcAAAAHABwADgAVAAcABwAAAOv/6//V/+T/zv/V/+T/3f/k/+T/5P/d/9X/5P/y/wcA6//r/+T/6//k/+T/5P/O/87/zv/d/+T/x//V/+T/5P/r/+T/6//O/93/zv/k/87/zv/O/9X/3f/k/+v/5P/k//L/BwAHAA4AFQD5/wAA6/8HAPL/AAD5/wAA6//5//n/6//k//L/6//r/+v/3f/y/wAA8v/5/+T/6//k/93/zv/k/+T/5P/k/+v/5P/d/wAAFQAjADkAMgA5AF0ARwBPABwAOQBPAAAABwAVAAAA+f8HAAcABwAAAAcAIwAVABUABwAOACMAIwAcAAcAAAD5/wAABwAHAAcA3f/r/+T/BwAHAEAAXQBWAFYAVgBWAFYAVgBWAFYAVgBWAFYAQAAjAF0AVgBdAE8AOQBdAFYAVgBWAFYAVgBWAFYAVgBWAFYAVgBWAFYAVgBWAFYAVgBWAFYAVgBAAE8AXQBHAE8AVgBWAFYAVgBWAE8ARwBdAE8AQABPADIARwBAAEAAHAAyACsAHAAjAAcAAAAHAAcA+f/5/w4ABwAOABUADgAOAPn/DgAHAAcAHAAHAAAADgAVAAAADgAOAAcAHAAHAAAAFQAVAOv/DgAcAAAAAAAVAAAA6/8OAAAAAAAAAAAAAAAcAAAAFQAjAAcA8v8VAAAAAAD5/wcA+f8AAAcAAAAVAAcA6//y/wAA5P8HABUA8v8AAOT/8v8AAPL/+f/y/wAABwAOAAAA8v/r/wAA+f/5/wAAAADr//n/AAAcAAcA+f8HAPL/BwAHACMAAAAAAAcABwAOABUA8v/y//L/+f8AAAAA6/8AAPn/BwAOAAAA+f/r/wcAAAAHAAAAAADr//n/HAAcAPn/DgAHAPn/AAAcAAcA6//r/+v/8v/y/xUADgDr/w4AFQAHABUADgAVABUAIwAAAA4A+f/5/wAAFQD5/w4AFQAAAOT/IwAAAOv/BwAOAAcABwAVAA4AAAAOAA4AFQD5/w4AHAAHAAcAFQAVAOv/AAAHAAcABwD5//L/AAD5/w4AHAAOAPL/BwAOAAcADgAcABUADgAHABwA+f8jAAAAAAAcABwABwAOAPn/FQAOAAcAAAAcAA4ABwAHABwAFQAHABUAHAAOABUAAAAjAA4AAAAHACMADgAAABUADgAVAAAADgAAAOv/+f8cAA4AAAAHAAAAFQAcAAcAAAAVABwABwArAA4AAADr/wAA+f8AAAAAAADy/wAABwAHABUAFQD5//L/HAAHAAcA8v/5/wcABwAHAA4AKwAHAAcAIwAcAA4AAAD5/+v/BwAOABUA6/8AAA4AFQAcAAcADgDk/wcAIwAVAAAAHAAAAPn/HAAOAOv/BwDy/w4ADgAVAPn/AAAcAAAAHAAjAAcAHAAOAA4AFQAHAA4AFQAHABUADgAVABUABwAOABUAHAAOAAAAAAAAAPn/AADk/wcAAAAcAPn/BwAVAEcAIwAVAPL/+f8VABwADgAAABwAFQAcABwAIwAAABUAHAAVAA4AAAAOABUABwAAAPn/AAAAAAAADgAcAOv/BwAHAPL/HAAcAAcAFQAcABwAIwAjACMADgAOAPn/BwAAAPn/AAD5//n/FQAOABUAFQAyADkAMgAOAAAADgAHAPL/6/8HAPn/FQAcABUA+f8cABUAHAAjACMAAAD5/wcABwAHAA4ABwD5/wAABwAHACMAFQAHABwAHAAVAAcAFQAHAAAABwAcAAcADgAVAA4AHAAVABwAFQAjAA4AFQAcABUA+f8HAA4ABwAHABUADgAVABUADgAcABwAFQAjABUAIwAOAAcAFQAjABwABwAcABUAHAAVACMAHAAcACMAIwAcAAcAHAAHABUAFQAHABwAAAAOAA4AKwAcABwADgAjABwAHAAHAA4ADgAVACMAFQAVAPn/BwAVABwAHAAcACMABwAVACMADgAHAA4A+f8HAE8AKwAAAA4AFQAyABwADgDr/+v/+f8VAAcAHAAAADIAQAAcABwABwAcAAAAHAAjABUAAAAOABwAHAAjAAcABwAAABUAHAAcABwABwAHABUADgAcABUABwD5/xUAFQD5//n/FQAcABUADgArABUADgAcABUAAAD5/+T/AAAHABwAFQAVAOv/FQArADIAKwAAAPn/6/8HABwAFQAOAOv/AAAOACMABwAcAAcAAAAOABwADgDy/wcAHAAcACMABwAHAPn/BwAjABwABwAHABUADgAVABwAFQAHABUABwAOAPn/AAAAAAcAFQD5/yMAFQAHABwAFQAOAAAAAAAOABwA+f8OAA4ADgAHAAAA+f8cACMAFQAAAAcA6/8HAA4A+f8OAA4AFQAOAAcADgAjAA4ADgAVABUAHAAVABwABwAOABUAFQAOABUAFQAOACsADgAAAA4ADgAHAA4AHAAOAAcADgAVAA4ADgAAAA4ABwAVAAcADgD5/wcAAAAOABUAHAAOABUAFQAVAA4AIwAHAAAABwAHABwABwAcACMADgAHAA4AFQD5/xwAFQAAAAAAHAAOAA4AIwAVABwAIwAVABUAHAAOAA4AFQAOABwAFQAcAA4A+f/5/xUAFQAAAAcADgAOABUADgAjAAAAFQAOABwAFQAVAA4AAAAAABUADgAHAA4AFQD5/wAAHAAOAA4A+f8AAPn/6//y/wAA+f8OAA4AFQAAAA4AFQAcABUABwAOABUADgAOAAAADgAVABwABwAOAAAADgAAAA4A+f8HAAcAAAAVAAcADgAVAAcABwAOAAAADgAAACMABwAHABUAFQAOAA4ABwAOABUABwAjAAcAAAAVAA4AAAD5/xUAFQAAAAcAFQD5/wcAFQAAABwADgAHAA4AFQAHABUAFQAVAOv/DgAAAAcAHAAHABUAFQA5APn/DgAHAAAA8v/5/wcA+f8AAPn/TwBPACMAHAAOAN3/AAAjAOT/3f/y//L/6/8rABwABwBHAFYAFQAOAPn/5P/y//n/5P8AAOT/6/8VABwAXQBAAAcATwAyAA4A5P/k/+v/5P/r//n/5P/y/w4AMgBPADIAIwAVABUAAAAHAAAA8v/k/+v/BwAHAOT/DgAVAAcAKwA5ACsAAAAOABwAKwDk//L/6//k/93/8v/5//L/IwBPADIAFQAjABwADgD5/w4A+f/k/87/5P/y/wAABwAcABUAIwArAF0AOQAcAPL/AAAAAAcA6//r/93/5P8HADkAIwD5/w4AHAAVACsAIwAVAAAAAAD5/wcA+f8AAPn/AAAVACsAMgAcAA4AHAAyABwADgD5/+v/5P/y/wAA5P/y/+v/+f8cACsADgAcACMADgAjACMABwD5/wAA6//5/xwAIwAAAA4AIwAjABUAKwBAAAcAIwD5/yMA+f8jAAAADgAAAAcARwCWAEAA8v9AABwAx/9PAPn/8v8cADkAuf9WAAcAOQBdAFYAIwD0AHoASgFiAsgNJBOO+u74YP7C9Yr7MP9s+Pv92v5z/Z4ARv+S/jMD+f9gAX8CPv9yADMDHhavEQv8PAG3BHT7lAe6AB34TPwr/QwCPgIA9VD44gQw/wMEOQAbDWX47AVoBL3+qfwgBN76nP85CDAKpQjk9xYDwgNoBEYFnv0M/xH+cPRvDAIBTPTZBuj2N/+L/v/51/0P+DH6Sv71Ay/0jfwr/VD76gc5/ZT8YAF//4f6YgoX+w79uwPTARMCv/zc/Bj+TPza/usCav/p+Xz+MgBNAiT9Evwb/9z8kgGNAur8svpN/+UFMgBIA7b+fPumA2v90P3JABT6nv3tAHL64/yk+qH59ACx/+f7F/uc/7L3nfrr/2n8a/rm/e/7nv3M+Qr5swCs/Rz9+gVN/2kHAwT7AEUKjg2rBfAM4A58CYkLuQ1KCfULBwvYA2ULIAS6/fIC0ABC+7oA8fzD+HL60fh69aH5DPcT9N/4dfZY82L0BPRP9SzwOPIr7RXti/ZY8zvzOfWQ8LTw2/lVBaAJlws1DAYNKxMHE/4RoBkDHHEV6RycGuMP0wnRC0YNkQ4CCUQELgQp/9/4EvmD+174sfTb+e74YfEI8LzzLPjD+MH6yPqg++H28Pk5AJn+Mv2G//cBxvwG+tz0JfM98U3vofEj8o/tP+ds6IfyuwMEB10ItQaHDXAPCREpGnAf0RsQGeEhvhyXE9ELBA9KEeAO1xBaD8IA5/MC9sH6Y/qG9Jf1bvbw8ebtifAg8VfwAPXV/40CGvym+Hf8wgBIA5gG3AdlA237KvqO+s3x8ekr5c7kquSR447fF9vE40X8BQraCZIJtQ7RE+EZJSYoLwwqXiNfKT4q+h2GEhgR5BLJEJEO8AyE/iXrV+hI8MTzK+3x6Tvryuhb57PtnfKF8Uz0f//XCDsGuf9pAi8H2Av9DrUOOQis/Vv3aPmD81vnd9xD1rTYRNnj1M/SC+To/hwIEwqyDQMUBBdRIW02dD6IMKMqEDHJK4sccxNqFUMRVwuvCTACBvLT5ujjw+jl6jDnZ+YC5nPlzObc7BP3zfx1/qEEjQrCCyQLbQ5BE28UGBEED9AIU/xA9TjyVeq73T3RPM6P0gnLK8W7xenef/+qCnURzBRhF34fwy70QwBLBT3SORs9YjJMH70RHBADDCoFQwEb95PhdtZz3bjk3d8e27LfB+U85t7qfPOg+1QCEQwUFdIWWBGxEq4ZWh+RHiEXdA4RBHH32PCz7dXkltJ9xtnAzcEKvrC5griuy6L0kQ5lG/wbsB94Kho6vFHkXU9TX0m0Rj89wShpEm4JsQKK+xv3HOoC0xbFGMaA0sDXrNWd2gvhQei08D/6ugi7E9Eb9yRmKWAk4x9nIR4mZyFNFY0Kyf3H70zk+90M19PGarfytOGzNrlwtLazQ7tj38oOQCgoMoc18j0QSbRWp2nJa/FaSU5NRbAvXRDd98Pwyuhs3RrU5sVetaawj7oFz6Lcbt4o5AT0cgDtEKoiWi9GNfM15TgqOIwvACNnHHwZmw/t/UDtoNsRzuDIn8iuw4e3mKhppJetobZ5tya7j8pKATM2FUsxUCpQCVmIY1Vw/3+ec71UGT+vLDIQBuoB0C3LrcUUv/q3r67tpaSnmbvE25z3zATBBY4VqSeVNS8/oElyUBhMLUFuMfUbegjq/NL7JvYq4nfMmr4luGC2prgpvNC6VbdwsW+2bcCpyZPRXui8HnBSGWfLad9ms2MuX+ZjrnEZZ2RDSySgCf7mtcBvrrWwxLOjtFy3iriytxq8ZNKE9p8WVCpYMV85tUHVQnpLfFECSfI6Ii1fIXIFuOTc1IPTy9Njz5fFtL1stVu0jMHazm/RVMyAx1HL+NEU12fe5/tYOWJljWpCYbReUVl2T9VSYV/yTUwnkgmM8Z7NI6qxpLOyWLuAv/7GhM4C0zPYZO1+D+0rsUI9T61OW0V3N5822D6BM4kjVhBU/4fn1s/3xrXIm8lcz//Ra9J2zrzI5M8/15/Ygths1aLcmd5M3EPeZP0EN9Vavl+KYc9geVBLPzY/IUrRNqAZFwa77S/JkquMqcK1h78qytvZquTF6VHucQLwHEoxHkHATcVPxEHPLSoo8Sf+GbgKi/6p8VTfscymyP3LS8451aXdReTp4UDaDNwR3kvZZtN70OnZhtyR2+fgsARFOnFVDlt0XvBcY038Pks/IUKIKAEOg/sa5NnDOq3+ro+6/cNO0m7mQPUl+zn9Gw2LJO42CEaNSvpFLzcOKDYf2BNcBWL8HPVh6TjaKMz5zP7OiNXj3L3mXOp76IDi5N9x1wvRGM4w1M7cotzn2KTypynuTtZVzlXwX2VWFUM+Ohk/LC66EDb54ulNz5O2wK9TufLEuc935Jb6TAdMB+QNGR88NFI8bUHMRLY8OymjGv8PiQOZ9pnu/+nX3VXSSM2k0i/ZUt6x5CTtKOxe6EDi7NqR0KvH0cgr1Vzae9hw9GotMVCPU8NWJWEHWzJDijk4PWotig6g8zvjNMvQskWsornrx6jWKuqqArMQ9BDPFTMmvTkFPVY7mD6zOJokAhH2BgD9jeyf4PrigOKq3LHUM9hn3h7jzuSL7vDxxO7U4WrXVMzEwwfFD9BZ1gXfbwTTNPFSrVaZXPVeoVSzQJQ6gTO/IukEVu2r1zvDj7KFsS6+ds5t4HX2Hg7BGNwa/R5jLWQ4jjUSN6s1qy29GVsKegCh+RvnguD33ong9tsa3BnhVuWb5JTkluoY7prprtun007Kgsj1yI7PddPr73YkRE9zW7pYW110VnNDFjOgMVkk+A9f85Tk7c1Pveew1LmiyUbfMvWODZMfKSJkIEUivC7/L5Eu1C+MLwMknRBYAfPyMuX42WTaxeHW6uzq4umz6izoSuYA5aboW+cW4ADVKMwFx+nGcccjytTh7RNMQklZUWQoajFgM0YJMX8qaSKWEKf7h+qj19DCkLURtqDD+9Xg6yUGKiCaLMkrJincKocttikFKmIquSW8FtsEKPSs5bXbD9ii3Fjj7Oqo7iryJfDg69DlTOSD4wfdE9QVygHIvsaCyKTHA+H1E8ZCGVfVXbFlSWFDTOExgSjzHYoOgfVs6HbZCcsQuw667cXH1+DrNgckI8Yvgi5MKgMsSCvvId4g9CNUIiYRjQKL9lHrtdsw1Efaoemw8RP0xPZn9ubtHuN23jnd99Ypz0DKtM38zYjKS8kF56QVqT+FT/9fdGknZ3pLejMTIicUQ/4O7XDk9N1+0XDElsKxzGva9usiBXwhOTDmMxcxnC1VJXseShnAGrga3BLuBiT9PfGk4ifZqNaZ24jlSPDC9Qj4BvLi6fzggtgl0JHILsY2ybvN2csX28IDYjLZSaRQ9lnBYI9YCD52LNYd3Q1J8/HkVt0j2qfLgcXEy6XdMerl+jIQrSYbLQ8u8y0xLSQjQRvbF+cWZBBJBi3++feh7s3hTNyS3sbkO+v18Lv1j/X573jnFuAr1T3JM8AXwyDJ8M4r1aX1nx5kQN5IblR+WqxbsEfCM9Ej9xTJAOXq/+EN2nXTici7zbPa1OmG9EYFwBrNJwcrqipKKdYlaB/tGwgWMBImCXUBk/ni8YDqluJf48HiSeuX7VP02PBS8UDqAOWM2czO0sMvwaDDM8jmzaboXRCPOIpJ0FNsVj5aeE2AOOkk4xf9Bkz0GOaJ4BLZ7tCZyzXW9uNh8WL/cxPWJREsJCuTJygnBiBkGJIRrg64Cg0Fa/1W9eTvtOj946Dj3+jq7D3xk/Ec8tPu6+fS2/7OvcOcv9TB6cbfzRvnFA2/Mg9G/0+wVxBZjk1gNAEm+hU3Csb0VerB4h/ey9OVz/zY3ORb7yX7gw64IsspMCqiJx4myh7NF4MRVQ2zCJoEiABQ+wD1lOx15gvkeOfN6Zft8O6J8Pfun+hB3WPPIcQYvka/KMT3zvHsJBO3NyZJAFN7VnRW8UewL3AfjxCDBiH0Yuwh5EvhXdUC0yfZzOZB8Kz9TA9pIvsoRSpJJrYkqBzGFy8PMwuRBowEKwCg+830xuwx6oLodevL64TuSu6Q8HPt2uZH2mXN4sEbv6++PsRJ0Lry7Bh9PHJIJlRLV3JYcEJvLMEYpA3d/yzw2Ogm5iHkxtkl2K/eoelX8FP8ORDvIYEoOSjqJxcmVR2dFZcLvwcJAaoCEvzm/XP1b/Fa7BztVu037KLsUeuy7yHsnuVQ2AzMZsCBvSS9ksPR2D7/tSbIQFVQh1gmXB5R8TdnIRUQLgSp9ELrLulf66rk+9293v7mDep08DX+3xNuIWgnMCrTLFwlQRuKDmsIHwEVAG37rvsE/PD5hvTu8OHul+3L6wbqU+zC7brqNuGo1uzKicVmwHi/1sdg5lQKMy53QlZTX1mPWwFG5y4vF8sJ4vnw7hbofOuY6xTnFeXH5xfr7+v28wgDDRXuHrsjkSYTKggmcR32DvcE7/6P/cP4OvhN9xL5DvUy9WzwA/GK67DpRueC6Anj+NlZzinHPsQ2wSLHQeCJA48o9jndTddTv1qPSCMwsRpYCd79HuuC6Kbon/DN6WHpzelE8R3wNPNR/oMOShlTHxoi1yi5JYMhShH4B1v/pf3H9wD1hvRo+WH5J/k19tD1LvF37CDp2uaH4m/Zds6Hx+LGg8N0yMvbhP6sINo0BUV+T9RXnkuBM9EeRg0mASXwh+fA54vufOu36brqJ/GW8nD0L/y2CeIUTxuvHIkjnCXdJXAa8AzVAlv/hfmg8/7u9vMT97r6u/gP+BX1SPBh6Xfkbt5W1UrLH8NbxNXE7tAB6LgKByu/OvhHcU3eUKI/EyrpFL8HRPn37t3nB+297k/tHuvQ7a3wWvSv9sACcQ0JGXQetiEkIxch6xpAEAgDWf5c+gb6gfUw96D2JfvO95j7hvfy9yLvs+2O50ngpNLdx5y/6b4fwzzWmPPaGccy6EFWS9hOz0jLMSAfsQqNAob0/u4E7IPzCvHT7gLrDu2q7y3zpvgqBZ0QOhsIHnAiOyFQHrIV2gmLAd79EvzW+oz5svo2+Rf79fi7+OfzIu+z6vHpxOOA2vfODcdVwr/Ep9Nw7G0OsSrhOV5GJkmPSLEyFSA8DKoCQfjn8ADtEPNr9ZbyEe647BLxNPP594b/OgshF3EdvSETIuwd8xXTCTkAvPs0+zv7svqb/OH+a/32+xv3Z/ba7mbrWeYr5dzcbtOrxybDjcTH187v9hEoKnY8KUW0RmJChCw4Ha4GTf/s8iXzrO0R9n70r/ZU78Tufe5p9GH59wGNCloXcxvLIfUeJBvQEOoHJv4a/LD5Ifxm+8kA2v6L/mH58Pbn833xVu1M7IXpjOFP1dnIWsHOxAvZuPT9Frkt4D7CQ+BGVjvwJG4RgQAq+vryovQQ85H7aPle+H3u4+yq7FHz3/iSAW8MWBk2H2IiIh3IFS0J5AJ+/OD7EPtN/6cBpgOLAfv9JPgH9UvxFe0g6ejmUePs2gjQkMVnxhHWLPCgEa8sWzpfQak/NTzFJNET+f+3+cTzZvPS8/z47PoK+T/yaeyg63nywfpUAkELbRZ2HNEeZRuoFBMKZAD2+2v6Z/5//7sD2AMAA4gAEPuI9WHxUPA87lHruedt4K/W88p4xJzPWulRCRApHjbKPnw56jogJB0TRwDb+Zf1QPXd95j7VgCg+1b1mOtE6Q7te/jO/4wHVBKCG5EehBxZFHgKkv6h+Sz4+/33AUYFawinBpcDJP2L9sPwme5D7nfsXOp+5AzcL9E/x5rO0OVWCIomJzTPOIYyKTV6I30UXQAx+ib2o/c9+cP7JgFr/TD3fOsB6GbrQfhDAfEHgxG4GtEejRqUD9EDBPwK+Xv4sfzOAlMHMwubB8oDVv0G+ljzSPBu7pzvQfBm6zji1dSny4TO6OOMBKUjSy8EMiQrKS28HusS4QF8+473S/k+/Jn+eAIOAMH6rO0p54DqHfjrApYIuA/YE5UVcRJqDaYDEvz1+J36qP6mA1YIcwvJCD0Egf2p+an0pPJJ84PzefJ97q3oqtyK0/bT4+RRAUIesyi6KH8ivyLeGOUQkAOX/WH5+vqb/FT/mQHEAWQABfff7fnsDvXm/csBjAe4CvYOixHGD78Hx/9d/cb89P0V/TIA/wTlCJ4I2wSEAfb7lvqp+Zz3GvQ48lfwiutI5T3h4eZ39LoInhMXFm4RgxG6EFAOpwlPA6P/hP43Aj4CZQNDAcoDNwK6/Uj4o/f4+Tv77/7vAdED7gYJCaIHVwNWABP/SgHJAAz/W/9BA1cGRwgyCLIFCQGZ/i/8z/rO9xj28fRj8hjuoekh7DjyMP/tCDUMmwd7BvgH5QULB7YBwgAt/gMEqASKBg8D1QKtA9MBmf4h/Af9/fv7/UMBNAFxAuYDwQWmA6cBlf+lAAUCawBPAAIBewMNBS8HSQYAA2cBwP9HALP9Wvxl+K34j/Xl8iXww/Ci9G7+/wTKA/7+r/4rALMA2AM5AAX/wv2wBB4GHAijAuYD9QMwAtX/Pv/3/gD9o/8+AhEBkgGjAukEhgJrAO39GAHhAXgCWwKGAjACAwRhB3QGygOSAcQBoAEjAPT9K/1a/Dv7Wfk/9370lvJj8iL3GP65/27+8fxWAI/9yQCnAaUAAv4VACIFzwWyBYYCuQXyApkBKwDeAHX+zfyPALYBQwEFArQDaASgAUb/fP7lAPL/ZAATAl4DUgSfBjIIFwbAAm4B+wA+Ag4ATwDO/4gATf8+/3X+X/sg+Vb1YvQZ8S7xDPeg/osBR/11/kP+DP8tATQB4f4B+/n//AOlCCoFjATbBOYDWwLlAJYAOf26/TwBKQI3AikCaAQKBAUCGP4J/vf+7/4yAGABEwJ4Ap0FDgh7BisDQwH+ARoCTQIpAsQBJgEFAscC/gFq//j84Pu1+0f6e/h/94H1SPVM9Bv31PmL/sn98fyK+6777f2sAIYCgQBYAdUCnwZwB1cGUgS5AhoCywF/AosBlgBKAcACbAOVAhMCvQH7AE3/7f2z/Tz+jv9YAVsCfwKVAuYDPQQzAx8B8v8AAHoA3gDlAJ4AKwCIAO0AHwGIAIb/3f/d/10Alf+sAE8AnP9G/0/9K/07+8H6pvjk9wD11fR19ln5H/5b/+j+wv3T/sD/lgC5AjQBJgGVAnsGFQgOCNkGuQU/BSQD5AIpAu0A5P8RAQwCEQHeALoAcgD+/tX8qfxr/W7+Rv88ARMCNwIkAxEEbAM0Abn/Pv9x/z7/MP+5/5z/uf/k/7n/i/4H/b/8xvzV/L/8l/2g/nH/5P8AACsAVgAJAccCxwJxAgwCWQTTBPwDPgLH/27+vPux/CP6w/gy9Rv3dvkw/84C9AAF/xX9av85/QwCAgF1AWsAzASYBsoGlQWJAzMDsf+j/2QAywHJADwBHQMaAr0BEQGeAHz+O/sN+q77yf1K/ogAfwI+Ak0CzgKVAl0Adf5D/hP/5P/k/2ABvQFDAdX/eP9g/iv9Dv3J/WD+mf65/xgB6AEmARUAeP/a/ov+tv5//7n/IwA0ASkC/gEmAVYAsf/T/oT+hP4+/7H/ZADXAAkBwgCWAHoAQADH/87/ZABgAcQBmQHlALoAyQCsAEcAhv/T/mr/LQHlBaMKlQ37CLEC4f73/nz+rvt+/B773vrM9iH0Ru9E6Wnk2Oh99tgDuhAcEMQR6BGLEakHlf+o/rn/pAWsCAAL9gaqAoP7PPYK7jjq3+0s+HUBnwanCeUI/QaaBFYA+/0A/WABHAhvDHML/wcuBIT+M/gO9fn0J/kM/4wEgwZOBVsC9ACv/i37A/lQ+6UARgVpB9sETf8N+rb2EfY19mX4iP0rA7UGbQa7AwIBdf5n/hwAnAKHBfgH1wi5BRUAyPqq9zD3dPge+1H++wBNAiICMgCl/fj8VP8AA7wGSgnECWsIGwUYAXP9AfsQ+9X8E//O/zD/c/2g+xT6vvn6+hj+EwJyBSEHVwYKBL0BjwCCA0kGVgiGCiwGsgUY/qD7K/3k/+EBRfzO9zHy3OxG52HhXd1/3HXjxQQ6I3kw1SKDDkoR3hCyDWcBXAWzEMEQRwhd9Y3ktt5v4YPr2fPS+9QHag1aD9IGG//x/FgBIg0kE9IRCA5mBjn9mvF37NDt4POU/DcCSwSnAVH+Ef7X/WL/cwPyCiMQjxDVCk8A0/bI8pjzH/af+Dv7a/26/cP7vvlE+bj83wMrCy8PGQ+hDOoHMAL0/af77/vJ/c7/vf6y+lH2C/SN9M738fxpAsoGdQm9CWEHYASVAuQCJwQ4BRQFzgI3/x77nPez9VH2S/kA/eT/GAEfAYgAlgCSAR0DDQWuBj0HAQb5Anj/afze+gH7Evwy/d793v2X/RX9uv1N/7cEUw8vF1kUoAnkAp4DDwMR/hL5e/hx91Lx+Olt44Xh8eGz4une0OVgDBE0kDvhIR4OzhJSFC8PKwO1BpUKmAbH90vhYNYS2fnklPRpAt4IPAk3CpoMmwfTBMEIWBHGFzgVdgwJ/q3wz+pY69jwYPa4/MIA1f8k/dv5B/2VBVwN7xFbEjwRJAucAmP6IfTz8tD1+PkJ+wj44POp8efz4vkYAQ4IAQ7lEP8PiQs7Bk0CUQH3AdMBwP/Z+3H3y/Ow8TjyFfWd+skAeQUEB0IGXAVjBbwGgQhgCboISQZ/Au39xflN99r2ifjW+n78QP26/S3+jv/TBLkNpRDSDnoI3wsWCywGTPxj+usCygOI/Z7t2Ogg6RPsoOvl6pHrvOjU4RXaLvlpMgxFqS9dEA0VwBJjDZj73voEBw4Id/yl5RzaidjX4mbzqQfuDj0P7A1+D8sJlQXKBjAK0hHyEqoKQvuZ7tHok+kU8gr5av9ZBOYDIv/S+7MA1AcQDqARQxGyDZgGSv4R9vjxt/Gp9Mr4FPow9xDzEPMi93X+3QVoDEAQ3hA7DgIJJwRzA4wE3wMCAYj9XPo390/1SPXD+A79EQEuBOMHdA4VEF4LLgSZAXsD3ALT/pf43vU780HwNOtZ5s7kVeJy2jDU7+uvLL5HeDUfEYoOqBS0E2cJQwHSDowMvf6l5UjVa9Ia3ILwtwSvDJwKEAasCAsHgQgAC2QQ2xdAGC8Pd/xx7/XoPuy88+L5fP66AD7/w/iy9y3+pQgQEYsUXhOADa4GRwA8/vH8S/lQ+Kn5LfvM9n3xb/GV94EAagWICN4IPw37ENELRQeQA9sEJwRn/nj3fPNJ83vwEvF472Xwn/Da7i7ukOi93jrYPO6rLU5Q10BWGBkM/Q7dDU8DwfoJCZwKzv/o5pfVOdLf3Y30YAkUFUUSWQyNCloHjAcEB8wMBxP+FN8L3/ht63Pleer48Yf6LQFqBWQIpAU0AdcAOwY2D2AUWxLECVQCbftR9g71svJC8+j2hfm0+ML1VPdK/i8HnAqJC5wKHAiwBHz+8PmI9ZrxIezA5+LhDdo31CzgoxK4OuI3lxukDR0TMxY2D2oFHg7tEPgHFPJx32rXOd0y7cn9jQq9CR4GJwQ9BG0GgwmZEewYoRxoFPICAPUK7lTvI/K593D8+wB1/mf28PGy90sEgA2sEEIOGgoKBDwBrAAY/mv6n/ia+WX42PCy57vlsOln7jjyHfCA6tnjw/CZIRhEcT3nHvsQCRGDDm7+v/T+/pME+f/q7MDfMdod5dLz2Qb1E9kW9xRnESEP0wm8BnAHAAslDh8JWvwg8TvrE+xq72v1ovxoBPoFawCU/F0AiQuqEiYRRQrVAt79Tfe08Jbq4eaB5XHn7eVS3s7UutJJ6FcejkVSRN8rghugGcUU5wYM/04IbwyCA4rrn9ge0J3aUetDAWsQcRXWFTASThBuCRwIuArEEf4UCw8JAR7z9utj6sLty/On+wgDjARx/7r6gf2LCVERQxFUCrsDzP6G9zXu4eZT5H7kJOVu3nLSBMzb2cAK+DdmQbowDCJ3H4AdThCoBKUIgA2vCRj2GeE90cLV3uKj98EIKhCaFCsT6xJzC/EH1wibD5gWyRPqB3b5V/Bw7AftdvG0+C0BjASeAGn8/v7KBoYKngu6CGYGKwC29rvtXuhp5PjhZeCk2uzSBtJv4QYN2TFiOm0uXiPlIBsdEBGbB8sJAwxmBtz0AuO91pnb0OW7+FoHhQ/aESkScRInDOUIIwhTDxQVYhISBzj6DfLC7WDu//E9+acBSAOEAdP+2gHgBm4JIwgIBnMDAv6B9UXs++U44vfeJN331qfTx9c37OQV3jA6Nics4iT0INwaog80CX8Kcghq/xbwWuHX2rDhcOxD/iYJwRCLERYTZxGCC94IEAnSDhARsg1PA5r5efIu7g/wovRP/eQClwNgAYEA9QOOBbUGLAa1BrsDGvwG8uLpK+Ul4Ezcxtnq1EbXod6v7kUSKyurNbcv0CixIgcbDhAfCfsIKgXx/LnvN+Sh3gvkOe2s/UoJBRKXE7cUTRJLDIgIOQhzC/8MAwxSBBX94/S57x3wRfQv/FgBwgNXAyAEIgV5BWoFgAW3BJYAMfq68rPqTOR/3xrcEtlF1KjWfd5z7RsNcijYM3Uxpi7yMoYqGw0S+cP4Yv9r/dTxGemt6JbqAuvv8/L/1g1OGEIetxwYFPEHFgNSBDYH5wYkA08AlPyo9qHxTe9p9O39VwMlBucGngiNCrUGfwLV/zD/BPx99ovuQegU4uPcF9sV1ezSSdhH4ir6YByWMMM2pi6ZKYkjnBqNCu4GbQYAA1L5O+sN4rzgjue68jACIg1LFBkXiBjcEhYLQgapBxoKdgxaB3wB+vrj9PjxMfKZ9qL8GgL1AyAEuQVOBTUEkANIAwwCJv4391TvGelc4ibeR9rq1HDU4tmt4G/xrxEhKuA2/TEAK2Ml+Rq1DoEILQkZBHz7Y+/h5gnjgeWE7h/+kAszE7kVxhdeEzENxgenBroIxwojCAUCa/2V91HzWvHe9Zv8bgHfAw8DPwVmBqgEHQPKA08Dcf90+KPvXOqU5P7eU9wz2ObVZdgV3X7k+f+TH9gzIDfGL1sq0CDVEowHNAmFBwIBJvaU7PTl4OOy5+P0RgVDEXkVFRibF+EReAqdBZMEdwdYCaQFtgEv/Ej1VfJR8yT4Of1/AlIEOwZpB5EGGQTyAhoCsf/B+q7zSu5L6afjT93x2YHVkNXG2Xvgm+yEDAYoUzcRNJos7CgZHyMQQgapBy4E5v3w8cXpZOWX5T7s5fpgCToT9RbJGIwXgxEtCcoD7gNaB04I6wIi/8/6Wfar8l/zZfgi/7QDbwQIBv8HEgffA8QBBf+b/B34g/NK7qnpTuLy3HbW1NEw1A7dO+Pn84sUJS7qOsQx4yr3JJocEA5aB88FaQKD+83xA+nG5B/mau/T/mUL0ROCFkMZbRZOEOMHSAPKAwcIPQdGAi3+ffn79VP0K/WX+OH+6wIUBc0HcgikBSAErACG/6f7Nfaa8Yjt0ei34WLcFNdi1LTVMdq+4bj02xeFLzU8ejMBLp8myxmeC74EqATJAMb8PfG+6b/kkuam8Hj/AAsDFOMXhho5GKwQnwYAAzMDygZJBmcB2v4n+U/1EPN69S75/v5PA7IFQAhACCEHsgXLAR/+1PmI9ZDwdeuo5qnhZN0w1/bTfdaR2xziHvMzFhIvzDzpNEAwyymAHXYMuQLEARj+JfsK8RDrQ+a86Czw9P08CQATDhjYG9oZTxPlCKoCYAHwBDUEwgCo/lX6cfdw9JT0ufee/egBXAVxCjcKnggqBSMAK/27+PH0t/Fn7gHoTuK62kzUGdHo04/aHOKG9N4YXzEBPj81+zDHKoQcBg1ZBGwD9P2w+ZXvWukd5Wfmu/AT/9UKGBTeGIIbWxp/EjkIjQI8AekEOAUmAWL/I/pK9sTzYvRQ+F39sQIsBscKsQo5CDEFOQDG/Bb4v/Tp8druM+i64ijchNb/0c7U3Nyr4o/t0Qs+Kmc8dTl/MqYucyMaEi4E5P8+/GX4LfPj7DbpwOdu7l/7Cwe6EHsWghv1G8oWfQwKBJX/bgGcAnIAMP/G/Lf5wPfm9W725frA/2wD8QdxChoKpQjyApv8ZfhT9Fjz7vB86zLlTd9a2SPSINGl1ZLeNebO/4YiyzkIPng1mzKBKJYYpwaxAqj+cvp88zXusOna5lzqu/UAA3ENpBUWG20elBpkEMoG5QBrABoC3gAM/3r9EPug9qz1d/QS+Vn+lwPuBlsKaQoYCRAGvf4N+t71KPQg8UXsyeUI4M/aDNSp0ZvUFd0r5brytxTRLs0/3ji5NRcxaSJtDiL/Bf+f+Nz0uOzZ61rpUeuA8ov+7wmgEboY/hyAHT8V/AtzAw4AcgBb/wL+Ff2i/HL6N/cm9rL3g/vA//IC2QYFCq8JPAkDBN79n/hi9CPyYO576M3hOd2j153SQNJq13jfmunZBsgl0jmEPNQ3pjY+KqkXSwSzAAb6i/Z/73Ds2+mF6Urul/i0A2AMjhVzGwsfxxrSEYEI4QG5/zD/Cf5r/fj8Jfv1+MD3H/a7+Or8cwMvB1gJrAisCJME2v6f+H70lvLa7iXrbOVt4PvaiNWT0R3V/9lt4Er2HRv1NsZCTT0XOV0zyh40CbP9z/qS9t7yB+1m6z3pEOug8z7/awjvEfIaAiG/H58WrQtIAwz/Lf7c/Lj8lPxw/Dv7rfic90b3a/rT/icEBQoRDJALpQinAeX6WvTn8H/vOe2f6LPi/duB1UvRVdKy1zjfN+y7C6MqOj5tQbI9ojdAKHMTTQKi/KL0I/Kv7qXt8emT6UbvVfoUBWMNMhgZHxoi5hvhEYoGVP9w/GL8c/34/PT9U/wj+n/3LfbM9lj7BQLBCFIMOguBCN8D6P6m+CT1OPKG7x7r5uWE3jrYmtGHz7TVrtsA5Qj4oBmJM+BB4D4MPaMy1yBoDAkBEvlh8WTtbevc7MXpHO0h9KUAVgivEb0Z0CBrIBAZ0g7FBOH+LfvI+gH79vtp/Fr8oPt0+I73S/lN/ysDtQaiB1EJiAjrAs38tvYj8lHuxOv35jjiL9x/1ybTJNUU113dv+yJCyEqeD2/QrA/kDtOKKYTpwES+Zrxzu/E7mfuFe3Z633xG/rkAq0LDxaCHnUh5B1EFGAJcgDv+7D5b/lm+6X9mf53/Fz6wPcD+dn7wP/FBHcH+whWCMwEmf6J+Lryqu/N7NHoQuMf3sbZtdNu07bWLduE5joDlyMDPAxC+j0SP2EvvRl2BLL67/M/73fs+ezC7YfqAfDu+EYCBQrkEjUclCI2H1cWxQxUApf9KvoZ+en5F/td/az94PtE+Qj46fmV/30EZAgTCqkHqwUrAJP5WvRS8V3tRewi51vfONpC07DRWdaA2rriKPxDGVYzQECHPRQ9KzPUH7INpQC29mHxwu3x7Cvtk+k37Jv09/4jCBgRkhldIHIg0hmBEIAF/v7n+5b6XPrW+sb8Vv1i/Pz46Pb593f8VwM0CZcLiAg1BBUAR/oK9j/yDO9+7DPo9eD72ojSds6z0mrXBuJh+YMZtTEQQec+5UCANXUhqQ8aAvX4nO/x7Prqxuxs6BrsE/S4/EkGlA8pGnkgwSBlG2UTDgjtAJv8Uvk9+Yz5hfxH/Y38+Pk2+Yn4QvvLAVcG7QiiBwMEcQKb/LL3p/Nb76DrmeaC4KfblNS+0YbUn9gZ4cL1RBRxLcA9ZT66QDM2uSU1FGoF8PlN73fsuuqR64fnKOw/8sP7JwR7DsEYqR+IIEYdeRXACtwCev2A+hn5zPmK+4X8UPsq+gj4b/kc/YQB3QUrCMoGgAVdAAn7hPZr8rPts+oA5avf/9mZ0zDUA9bU2Uzk4f7jGp0wPjpSPGg/ITIaIp0QKgXR+H3xfuzZ6wPptua47ODz1fwNBfgPyxmwHzYfZRteEzAKNwIw/3L6Nvmp+c/6qfyd+kv5UPg2+QT8aQLJCHUJIwicAt3///k19oDy1u9k7SfpAOUb30HYDNQr1bfZSeAk9UAQLCYEN5044j/ANXElhBROCLb+bfM/75ftGO7b6fbrh/LY+M7/EAn+FIAdZh4iHfEXGQ9JBob/5/uT+an5oPvL+3z74vmh+VD7Rfz3/hYDewPiBCsD+wDm/bv4YvRQ8HXrUuaP4pTcUNiV11rZ0N1f45r55RBtJtAwSzQEOlgxyiZTF0sMMP9I9bvwPO4E7Ovnhuwe82v6dQF1CXoTAhlLHGUbIRemDnAHwAKo/rH88/rp+VL55/i++db6oPus/e0AwgNeA2gEawBb/5b68PZy8mztgOqc5zLlh9/g28/a0tsK3mzoHwFVFQkpWTR1Oec2HSMKFO0LygPP+qP32vY9+b7xH+5Q8L7x/vZR/noLahXoGbsbPByYFsUMGwUM/6X9v/yl/Sj8Hvu7+GH5lvqx/K/+nALfA4AFMQVyAJT8bvay8vfuteuV50rmI+L+3m7eZeCA4tflWvGOBfcU9iG1JtYtGy04JZ4bAhE2Bwn++PnQ9X70bPCQ8GL0j/Xn+/cBCgzbF/Mdnx4JGaYOhQdrAHn6lvqr+mn8r/4i/3oAG/+6+mn8Z/66AD4C9AD7AFH+CPg+9MzumOvF6d3no+cT5CfhmeNs5TPosu91/j8NpRjMHLQj2ycHIzEdRBTDDs8Fav9H+m72efJN7x7zYPb2+x8B4wc2DyESTRXwFK8RmgyWCFUFaQL+/qX9T/1W/Q791/0F/8T+1f8cAF0A/v72+//5YPbL8xzye/D+7lHr6eki54vm9egZ6dzsOe3V90gD0wlIE9ETvhwWG3AagxkgFP8PSQY1BOv/Jfsm9nzzjvep+dP+MALtCIYKaA/NDyMQ7A0aCqAJZgZqBaABuf+v/pv8ev1a/Gn8K/16/WL/E/+z/Qv89fjJ9ZT0ofH48Vnuhuwe65DoxekT7MLtrfDf8JP5E/97BgMMGQ/qF64WwBqwF8ASAQ40BiwGawBZ/sP7h/qZ/sb8eAIPAz8F+AeWCBsNtAsrC7YJeggSBzoD6AFU/4T+wv2s/a/+yf0Y/nr9Of0a/N76Dfo6+DD3iPX79Qf11vI/8lvvbu6v7rTwC/RW9e/zXvha/CsAPQSaBGIKnQ3jDzMTDhAVEAYNMwtACEsEZwGx/+T/DgDLAdcARgJxApoEnwY2ByEHzwXsBSIFEQRsA+0APAGc/8kA1wCIAIb/5v1r/dL7g/u3+RT69fiO9wP5aPnr97j0c/Vi9wD13vKU9PL3qfle+C75jvqz/dP+3gA3AgMEIQfxB24JiwnXCBwIUAbSBpgGeQXYA6gEzAQBBlkEuQKJA3gC9wQnBAYF7gOqAmICpwFKAdMBEQFKAaUAGAFAAOH+Uf6X/d79yf0v/Hz7NPs0+yX7Y/re+lL5zvdc+hn52PhZ+ar35fqI/XD8Of2s/dX8Dv11/m7+fP6v/o8ARATpBJEG9wTIBVUFgAWyBQoE2wRoBK4GRAQuBC4EKwP1A4ID+QKjAu8BhgI+AjQBEQFgAdMBWAFWAN3/1f9i/8T+0P0y/Sb+YP6X/cv7+Pyi/F39Ff0H/f37+Pxw/Lj8qfw+/Ef98/rh/mD+hP7v/kAAAv48/hX9G/+K+10AB/0IA8f/0QNAACkC3ALoAbcEsQJEBDwBtAONAn8CngAiAu4DoAHAApIBQQPyArkCgQB1AYb/YgLJANAAIwA+/yL/B/0+/0f99P3TAWb7EwKN/KABoP5A/eUAU/xi//7+AP1r/br9+Px//zn9JP1G/yb+x/9N/6cBDv2QA0/9+QK6AHj/DwMAAB8B5AI0+0EDBf/y/wUCOQDaAbn/rQPv/gIB8AT+/qYDSgE+AhYDVv1bAnH/LgRN/x8B+f+2/mwDv/wnBF39wP/H/4EAR/1XAwv8AAMV/ar/swC6/Wf++f/J/VYAivvMBBf7yf0T/7oAnv3LAbn/BPy/Bxv3VwPT/uj+H/7aAWL/jv/3AQL+PAFq/zMDwv0nBKX91f85AO/7ngNW/br9HwHhAdf9KwB//xEBaATZ+78HWPsMAuv/oP5pAsf/8fyO/3UBo/+G/4b/swAjAPsA9ACeA1D77gMiAgoE3/gL/CsDmPvcAsACIPltBvj8oAEtAcQBi/4zA4/9zfw4BdX3aQqh+Y8A+/2SAbr9Dggd+KMKpvhpByP68gKlAEoBuPw/BTj6GwUo/FEB1fwAA4gAqP7yAsL93AJP/W8EPv91/qUAH/7oAQf9wP8RAQX/xAFk/SICGP7h/vL/sASZ/usCJfu2AQAA0/43/9oB0P0HAK0DQP03Ao38FgNT/DgFUPs9BA79MwMJ+wgDj/0OAMf//AN4/60D7/ueA3T77wGIAFT/KQKn+8IDd/xGAuH+4f4fASMAWAHa/p792gGY+yb+BQKe/eT/swCB/ZMEgf3hAREBf/+5/08Ar/6TBIP72gF6/YQBUf7r/xv/SgECARgBSgEm/tEDVv33AYH95QD6+h0DrvvcAroAG/9vBAT8WwJg/kYC3f9AAML9TwNP/a8BMP94Asz+3gDtAKUA0P3yAsL9iADm/W4B9/4aAhf7SAMV/TACagUN+rsDofmcAiL//gEz+MgFhfngBl74EAbx/NcAmQF6AO0AHAAw/08AlgDOAk3/hv98/s4CT/0KBOD7XQCg/k0CugB//5n+qgJWAMQBR/3aAWv9RgUy/VgBj/1a/EEDnP/M/mL/1f94/5YAKf+eAK/+EQGLAZUCyf23BAT8BgUV/aUAr/7E/gAAmf5WAN3/2v4RAcn9HQMC/pL+uQI1/j7/jQIM/48A5P/lALn/9ACx/4sBxP4TAt79tgHk/8n9Q/7O/0AAswCc/+/+LQFK/jcCuv1ZBNz8+QIOAP7+N/8jAIT+kgEp//wDl/2+BOP8/gGj//f+NAF1/rH/DP/y/zz+wgBx/wz/nP+sACL/bgF6ACsAYP6sAJ4A1f94Apf9dQHh/nj/+wCIAPQAtv6O/03/pQDC/cz+7QC5/5X/hAHN/DACIv/eAI7/gQDT/rYBegCv/pkBJv4TAuT/HwFG/3oAwP+WAAwCPP62AWD+ugCzAE3/mQHa/in/GgKo/qoCPP43/7n/W/83AlT/WAFN/9r+eAIT/0cAAADLAXr9zgLT/nj/LQEM/3ECZ/5D/hEBx/+G//L/H/4i/3UB+/0aApz/xAG5/z7/5QBWAKn87gMR/mQAwP/A/54A5QAT/xwAQwH5/+0ABf8iAnr9NwIO/REBXQC9/gz/wgCs/RwAcf+SAXoAo/+c/yn/XQDh/iYBhv8RAXX+iADQAI8A4f4fAar/LQHJ/QgDuv3tANX/cvryAu/+mQFg/o0CJP1zA4v+IgJK/hEBE//kAkz8eAK2/hgBhP5rADkAAgEF/yMACQFyAPn/Sv6sAFT/VP/TAc7/0AAt/pX/cf/0ABP/OgOl/boA1/03/0ED4f5dADf/Bf+EAZn++wAYAeUAcf8RASv9kgFHAOUA3f+9/jQBG/9g/ggDZ/69AckAcgC9/nMDWf4wAib+awAyAAcA4QEfAQX/0ABx/yn/o//+/jX+2gGP/ev/2v4yAFn+JgHj/NUCuf+5AtMBEQGWAGcBT/3TAY38EQTC/S0BiP3TAXP9AAP4/C0BN/8H/fUD5/vmA9f91f/d/yICxP6VAnP9/gHr/03/VP9kAOT/mf62Abr9tAPh/kYC4/zRAzv7UQE3/1n+0wE3/93/QAAjAGL/bgEVAML9zgJd/fkCQP1/Ahj+xwLV/8ACDgBk/bMAawDV/+EBHP3HAmT9QwGl/WUDxvx8AZL+pQCo/qMC0P2VAnH/ZABRAWD+gQAt/u8BXQAtAYj9jwC9/hv/nP+LASn/uf8pAkcA9P0YAawAzv9UAqz97f1HAB/+WAFZ/osB1wCvAeUAlf9//4H9kAN8+04FJP2SASYBawDeAEP+qv9R/gAA+f+WAAwCNvy5Alv/o//7AM7/ngCIAJL+owKWAAn+j/1cBcH6agX6+lIElPwfATz+3f8b/+gBMgBU/9gDoPujAtX/5v3r/xMCH/6G/8f/eP9PACL/f/+NAhP/9wFN/5X/6AHy/3X+fwIt/sD/ZABG/zwBzP5rAKP/Q/7QAE3/zgLN/JYARv+9AboAZ/7T/tr+SAMC/p4AugAfAdX/iwGP/YsBlf9YAX//hgIc/ZIB4f7H/+UA6vx2BFj7VAKo/t4AMgB3/EEDLf7E/u0A7QDA/9oBEf5iAm7+ev2nAWr/8v+ZAY/9+f+qAu39av+NAnH/W/8aAsn9hgJR/rkC1fyhBOD76AEa/JoENvy7A8T+MP8y/cAC/fvdBQH7aAQr/ZcDTPzZBmv6XAXc/OsCTwClAEb/+/0T/+0Aav85ADwBCf54/1kE4/wfAej+E/9yAKwA1QJdAFsCl/1iAn//Nf40Ac38FQBn/p4ARwCLAWr/gQDQABP/1f8CAVn+fQTm/ZwCzfxEBHT7CAPs+j0ERfz5AjkALQFb/8f/AAAw/8f/egDeAHP9iAA+/4YCbv6lAKUAafxkAD7/o/+c/9r+pgMmAXgCv/zkAnP9tgGF/CwGSfuNAgz/kANn/kb/Iv8R/rkC3v30AO/7PQQa/KMCHAAf/hv/4QGj/xgBrQP7/WAE9P1RASb+wgOz/QADjfyEAcD/iP3bBB77mgRM/EEDQP3bBDj6CgQN+pEGOPo0BkX8AgFz/cIAev0jAIgAsf9M/OYDSv5i/0oBxP6c/2UDAfuYBp79LQGvAWkCj/03Aj78AgF1/kD9TgVQ+4UHofl7BhL5NQSb/B8BQAD+AdD9/gEaAjD/LAY4+lUFd/xx/zoDF/uBAO0AYv8R/tr+DALL+5MEs/1DAQAAd/wAAzz+MforCA/4RQqT+dED1/3+/s4CBwCIAJ4Alf9nASL/uf9gBPj8N/+GAtP+Bf/JAI38iwGZ/gcAdQHQAAcADfq4BxL5PQRb//n/9wH2+3sDbv7tAND9KgVC+1UFF/tgAY0CKvp3B8j6ygME/Lj8hASH+sUEC/w3AscCA/nKBsn9sfxKAeb9ugAFAuf76wKBACv9YAR+/FIE6AHT/t0FLf4M/+sCffZ0BgT8GP5+BxX9Tf+PAHr95gO6/d4AKf8J/j4CPP5UAlH+KPxx/73+Rv/x/C0BHACPAPQAzwXO9+cGZ/7Q9b8HFf2V/wgD8PnfA5IB0P0rA9z81fyHBS75XgNsA6v6PwXG/P7+XQDT/usC3v3QAIkD0wEi/84C+QLM+TEFIv84+uIElPzv/k3/AABi/9gDlPxyAHoADv1ZBA79kv6GAln+ugAiAq/+QP1DAbb+VgDLAU76fAEOAFT/Av52BLr6AgFNAkz8Tf+KBoP7IwCkBXr9Nvz9Bhz9Wf4sBrP90wEmASsDd/wlBo38nv1zA8IAVv1xAvUDEvw+//wDzP5p/FkEsARV+sD/9Agh/HT4sgVWAG37ZAAiBSv9GAGVBdX8Yv9nAff+Mv14AlQCXQBu/m7+5QC6ACj8yQAiAo/99wH+AY385P80Ac7/3f8MAp4AB/1PA3r9MP+9AbH/5/uyBZYAtfvo/sIDVP+z/ZwClQIT/6UAqgJg/uX61f+vARH+kfu2/uUA3gC5/7oATf+O/wUClPww/zAC2v69/ogAIwBJ+6P/6/8cAEf9AgGNAgf96P6IAKz97wGe/QL+swCq/7b+j/1n/qEET/30/RAGmQEk/ev/5gPCA536HABeA/sA5v3V/KcBdQH3/ib+SgGG/8sB8v8Y/ob/PgJDAa/+9/5RAcsBtv4C/pYAPgLE/u/+AgFyAGsARv9k/RoCnAJn/hH+pQBYAcf/YP4+/x8B0AC2/gz/hAEMAsf/cf9WABgBgQArAIb/5QARAWr/G/+IAIsBTf9HAJ4A3f8CAZ4AFQBi/yMAcf8VAOT/9ACWAJX/IwArACL/2v4+/+v/HwEJAev/MgBWAJYAlf8F/+UAZAAAACMA5QAHAC3+uf9PABwAQAAOAE8Azv8jALMAawD7ABUAwP9AAIEA1wA5AJz/Rv9HAGsA6/8OAGsAAAAVABUAPAFYASMA1f9PAOv/1f96ACMAOQBU/3j/jv9WACMATwBdADIATwBWAJ4AiABi/87/x/9PABwAwgDJADkAwP9HAOv/RwAVAKP/ZADV/zIAgQCIAI8A5QBkAFYAVgAVAN3/AABkAEcAMgBHAPn/egCIAF0A3gDQAFYAXQA5AJX/f//d/0AAVgAcAHIA8v/r/2sAVgA5AJz/AACO/wAA+f9WAMD/AABdAN4AlgBkAGsAKwC5/08AawBdAKr/RwDk/yMA5P9dAGQAAAAHACMAOQDA/zIAVgB6AF0AOQA5AOT/RwBPAKwAegBWAFYA6/8yAHIA1f/H//n/8v+c/yMAFQBPACsAgQBHAOT/qv/H/7n/jv9N/7n/KwAAADkAngAyALH/+f+c/7H/eP+q/5X/f/8AAHIAyQBHABwADgDy/5z/hv+j/03/f/+x/ysAQABHAN3/BwAHADIATwAHAMD/wP/V/8f/AABPAPn/1f8AAEcADgAcAPn/zv/H/93/FQAAAEAAKwA5AA4Azv/H/3H/W/8p/1T/nP+q//n/TwBWAPn/awCIAHIAegDk/xv/4f7+/gX/av+q/2L/o//k/wAADgDk/+v/wP+O/5z/x/9//2L/VP9b/3H/o//d//n/FQAHABUAAAAAALH/HAAcAM7/1f/V/93/5P8rABUAwP9i/w4AZAAcAIEAVgAVAGsAVgBdAEAA3f+x/xwADgBAAF0ATwD5/3//5P9HAPL/DgDH/+T/1f8OAMf/1f8i/yn/Pv9N/xP/2v7v/jz+9P37/Yv+Wf6Z/tr+Bf8p/wX/Tf8F/xP//v5b/03/Rv9q/3H/lf9q//n/cgCWAAIBNAFuAZIBtgHoAfcBxAG9AdMBiwF8AWcBiwGLAYQBbgHEAcQB6AGZAXwBSgEYAcIAugArALH/W//v/pn+Wf5R/hH+Xf2//Hf8y/vS+9L7Ifxa/Hf8d/xM/Db8Rfy//IX8TPwS/KL8AP2B/eb9MP8cAGcBEwKqAkEDbAMZBDUE4gTpBMEFTgWdBVUFcgVjBVUFIgVvBDUEggNzA3gCGgIiAvcBfAE0AckARwDV/9P+Ef74/Mb8hfxF/NL7fPvB+g36hflo+ZP5mvl9+Vn5yvh0+GX4Zfh7+Ej4+PlF/IT+5P/QAHwBKQLkAu4DoQRGBUYFcgX6BecGjAf/B3AHGQf2BiEHcAe8BnQGzwUsBggGVwaHBVUFSwQzA6MCbgHlAGL/DP+e/df9v/wA/eD7X/vB+g36xfn8+Ff4MPeE9sL17fXJ9e317fUO9QD16vQb94D6a/3M/qr/PAFUAmUDmgRQBvMFHgY7BhIH6gfeCNcIgQh+ByMI9AgmCWQIaQfKBqcG0gauBrUGnQWABS4EPQR7A5ADlQLLAV0Ax/9i/1n+HP00+476b/kn+fn3hvd99vT1cPTE86DzBPQh9LzzbfM08/bzK/WJ+MP7Nf4AAK8BCAP1A+UFnwZrCFoHyQjBCCkKmQmGCnUJ1wi6CHII2gkrCC0JIQdACF8GfgfsBbkFUgTKA1IEiQPKAwwCnAKLAdoBQACc//T9afxY+775Yfnk9zf3rPXN9AT0X/Mj8p/wrfAn8c/yY/L/8XnyXfX4+Yj9VgCSAeYDsATDBjkI0wmqCq8J2glgCYkL3AoZDOUIJgkjCEoJHwmsCCsI2QaUB/oFlAcNBd0FDwN7A40C9QP8A4IDsQL0ANAA0/4b/7/8d/xV+tv5CPhN9/T18fRi9Hny8PH57x3w1u/Y8N/w3/D88NbyN/ey+r3+ZAAIA4QEnwaBCHgKCgzfCyAMAAtvDO0LvgwPC/YJugilCLoIngiPCHAHcAc7BggGGwXbBAoE5AJGAgwCjQKVArECmQF1Ad4AMgDo/mT9L/we+//5l/i59wr2v/QQ87fxLPD37jXume4F703vju/u8AT0V/g2/Hj/iwF7A04FBAfECZALVQ1xDdYN8AxVDX0M5gucChgJ5QhyCPQI6gccCG0GtQYbBT8FGQTfA+sCGgLaAVEB9wGnAbkCEwI+AlYAYv8m/t79Of0o/J36n/hN94/11fRm8zjy8u/X7aLsQO297qPvG+8T7zHywPfV/BwAiwG7A+UF+AfVCjENLw/2DnQODQ3kDVwNag0HCwkJRwhrCLMI6gfGB2YGNAYZBPwDJAOCA38CYAHQAKwAfAEmAXUB5QDhAdcAjwBi/9r+9P2i/Lz7R/qa+Tf33vVJ8zHyHfBK7kXsxOtA7eHuVO9R7gjwy/Pb+d793gAPAxcGIwg+Co4Nmw+dED0P2Q5QDgsPQg4xDZUKgQj4B6kH/wd3BwQHYwUnBGkC8gLyArECmQFWAFYAlgBnAeEB6AHQAGQAnP+5/47/hP6B/cv7h/pv+Zf46PYc9brypvDh7tXsIewo7IjtJu7t7dDt2/HA9xz9wP/TAb4EhQegCfAMKhBnEQkRog9aD3APPQ+5DbsLPAnQCEAI6gdFB+AGlQXKAyIC4QFUAj4C/gFrANX/3f9WAGQAHwECAZYAnP8T/+T/zv8+/9D9TPyy+sX5kPgM9wD1yPLD8DXuPuxf61PsJO2B7bHsYO4l8/z4B/3v/rYBvgSFBxMKNg9NEhYTLRFAEDIQThCUDx4OPAw3CmAJQAi/B/0GzwWQAzACPgKNAr0ByQArAGr/r/7E/hwACQGnAWAB9AAjAJX/N//v/pn+bv45/UL7Yfmj97v1y/Pw8TrwNe7Z68/qCevv6z7s4OuS7ob0I/oH/WD+kgEqBcEIzAw+EosUghM0EXIQShGLEacR/w9cDSIKwQg9B0UHGQfzBd8DvQFRAdcARwDk/0AA4f4m/nz+wP/tADwB0ACO/+/+eP9KAcsBTwDQ/W37pPr6+nL61fdT9C7xfe5F7KTqTuq86/brOOpJ6PbrfvTI+rH88fzr/+4Dkgk9D1kUSxThES0RYhLRE9ET3BIcEOIMEwpKCRAJjwh+BxQFzgKLAY8A8v+5/93/zv9R/qn8B/1Z/msAxAGnATkA/v43/4EAYAECAcf/l/1m+4D6ofks+Mn1EPPW7/nsluox6q7rRezP6ononepc8iD5vPuu+xH+HQOLCf0OGhIHE24RNxJBE00VzBTkEuoPeQ3RC2kKGgqeCIUHvgTyAugBrAAVAJX/qv/M/mT94PsA/cz+QADtAHj/Sv4C/ob/vQHcAjQBwv0L/Cj8uv0O/Tj6s/UU8pDwsu8m7lrsX+v66sXpn+iR63TzSPhl+J/43PxzA/8HBg0fEe8RjA/BEKgUnxYxFQwSgRDsDe0LVwvRCzcKIQdvBEEDwAIYAVYAzv8w/3P91fxH/XP9gf1g/qr/eP9//3j/KwCPANcA1wAcAP7+7f0O/Rr8yPoz+F31SfMn8S7ujezg6+PssezF6QXnTOyg9ir6Zfg/95f9RgWJC7AP9BDnDp8OYBTjFz0XlBKsEBUQyg5jDfULjQrcB3QG8ATmA4QBo//V/8f/YP79+/b7Dv1d/bP9kv73/m7+GP5N/6UApQCPADQBZAA1/hz9c/30/Un7VPeb9AHzkPDm7Ybsiuv260fqXuih6S7xZfjd97v1FPqNAuUI/AuRDn4PjA8TEl8WmxcnFKcRfBFDEZgOEQxsC1QKQAikBVkEnALlAPL/BwDT/hr87PpT/J79jfyp/Iv+2v7e/aD+TwA8AdcAQAAcAFv/mf51/h/+y/uQ+Gf28fTl8nHvHO0a7Avsy+su6cfnHO059d33Wfb39p79MQWxCpEOtQ6VDdQPVRWlGB4WaRIQEV8RHBCRDswMzgpdCMMGzwXuA6ABQABkABv/jfzz+rz7Of0v/P37zfwO/YH9f//eALn/6P6x/68BkgEjAP7++/3c/Bf7k/lx95T01PEw7yTt6Otw7DfsmunA573uN/fk9430MPf7AIwHKQqMDOAOkQ5WEGYW+xiAFWsQGBHkErMQag31C4ILVgjzBQYFdgSnAX//zv+S/rz71PnD+8L9d/yk+gT8GP4C/pL+8v+IAH//wP8fAQkBuf/T/hP/1/2k+vn3lfe79RzyPO6q7LjscOxR63To/+l98a/2r/YV9Zr5IgJyCAcL8AzkDXQOYhI2F1YY7ROWELYRaRI5EGoNEQx/CnoI5QW3BKYDdQFHAOj+a/2W+vj5TPxW/SX7Gfnz+nP9Bf+c/2r/Uf77/fn/cQIrAzQBYP5P/bP9Xf3Z+4n4WvSM8XjvNe6z7RXtWOsD6XvodPDd91n2d/Rs+IsBfgd8CcILnw6KDnwRexZwF30UWBGqEnMTiBA/DQoMiQt8CfYG0wQPAxgBawCj/1b9Y/qF+V/7U/zI+gP5AfuP/Rj+0P3C/ff+jwCgAW4BTwAp/1v/ugCx/xL8tPjA9332BPSy7xztpe357OzqgugU6tbyP/f59K7z1PkAA6UIVArKCz8NEA4PE7cXaBcPE6UQHRMzE3oQRg2hDEELjwgXBnYEpgOLAWsAoP5T/IX52/kE/Db84vnk90f6Yvy6/eH+0/7Q/WD+PAEPAwwCjv+O/10ATf/c/FX6Nvnt9ezyCPAu7iTtMu0l6/Lnh+pt83j3PvRt81X6dgQVCLMIegtODVoP5BILFxIXuBItEZATERSIECINYAw1DDQJAQahBCQDtgEcANP+Evz8+Mr4ivta/Bv6VPdl+AD9Kf+Z/qz95v1N/68BsQK9Aev/7/65/zIAs/2++XH3Q/ag86rvXe0r7Q7twepb59Xs7fVZ9s/y9vMk/RcGHAhKCTUM6QwLD3YUnRiKFjQRfBGTFEgTfg9jDRQNQQvxB7IF2wSNAtcABwC9/vP6zvcS+YP7F/uX+Bb4IPmr+lP8bv4jAMT+K/1N//4BDwOJA/cBav8k/Qf9i/64/BP3mvF/7ynvtu5W7cHqOuip6QT0TffE82vyffkqBUoJvwfhCTENLw8YFHAXWheNEoEQmhQqFYsRag2TDDUMpwl0BjgFTwOlAOv/bv7n+wj4zvfi+WP6kPi29in36fko/DX+MP8r/XP9x/8dA28EPgIjAM7/6//V/5L+O/si923zYfGj72fuDu2u65/ob+kt85X31fTU8Vn5pgMjCKwIcQoNDW0OfxJwFyMYQRMfEQoUBhXSEfMNXA12DKcJUAb3BHMD1wB//5L+Rfzr9/72w/iT+XT4E/db9x34h/rq/KP/vf4Y/gX/6AGQA0EDsQKEAc7/4f41/rH8Pflr9bDxKe+e7TntRez46aHp4vEM9wf12/FB+M4CgQhHCK8JJwzsDdIRcBdrGIkTQBBWE4AV3BK8DoANjAzLCf0GYwWCA7MAN//T/sb8pvgK9mr3aPmm+FT3oPYp9yD5rvsp/+T/rP3G/Ln/lwPdBagEfAE3/4T+RwDk/xr8AvZ98Trwo+8f7rjseepB6JnubvZG99byfvSc/8oGJgk8CREMGw1WEDgV9BiyFUoRPhIbFWgURxA/DQ0NQQtrCMEFEQSnAWL/PP5A/cX51/U19g/4kPhu9sn1ffbr96n58fw3/0b/df5q/2ICPQTKA5ADIgIJAcz+7f0h/O74v/Tu8Eruhuy47H7sMerJ7c304fZp9BP0i/4IBpYIywn1C3YMbQ60E6AZKBd1EZYQ7RNLFKcRew4bDToLDghQBqEE7wF//2D+s/2W+vT1VvU/9zP4Tfcf9mT1CvZQ+H78Rv8F/6X9Lf7QAPwDmgSMBKMCGAEb//f+j/3B+p714vHT7nrt3+3N7BzquOxW9e74XfVO8m37MQWSCXEK5gsHCy4M9hFfGQIZaRLGD38SyRO4ErAPzw35CnoI4AbdBQUCvf69/ov+Yvwt9uDzl/XV9/L3tvbV9ODz0PVV+j7/5P9d/Zv8H/65As8FCwf3BPsAfP69/tX/iP17+IrzeO/X7Q7ts+2u60PuQPWJ+Ob1dvF2+VIE/gnkCnoLIgraCcMO4xdNGvwTww5dEPYRjRKdEHAP/AtHCPoF3QVPAzkAi/6g/gf9JPjE8430vfb595X30PXv88vzqvd6/Q4A6P6I/fv9gQB7A4AFeQUWA8IA0/70/dL7t/nJ9TjyTe8r7ersfOv+7rP1//ls+DTzEvktAY8INwqkDRsNaQrRC6oSQBivFHwRpxEQEQQPIg0oD1wNIgp7BuUFlQL3/gL+/v5N/xT6JvYE9Mb0JvYd+Gj5SvYv9FP0lvoC/qr/W/83/wX/hv/uA20GuQU0Acf/6P7G/OL5oPab9BnxnO8T76/uouzi8V74afz8+H/33v3kAgcIlwuFD+kMiwl2DLESXBVfEV8RjxDgDuYLLgxjDSIKNgdjBVwF3gDe/fj8Cf4c/ZP5+fdR9ib2l/U6+G/5ifgb9+T3QvuN/Ij9zP4CAR8BZADlANoB7wFdAA4Adf6u+933JPUl81Xyt/FO8gPxCfNB+F39m/x2+Qf9sQKDBl0IPAwUDTQJiAihDFgRrg7wDDgNeQ2NCogIywn7CBkHGwU0BiAEawDe/TX+Iv/4/MP7G/rK+Ob1EfZ0+Pj5Uvk6+CP6CftM/I/9VgDeAM7/jwAaAscCMgClADQB8v+x/MP7mPut+N71j/Xo9uT3iPWL9jT7MgCj/2T9av8WA0gDwgNdCHgKtQbwBOMHQwlMB/gHmQkJCfYGUAaYBo4FoQTmA0QEwgNGAhUA4f7h/vT9QP3q/Mb8+vq3+XL6dPu1++f7HP0C/mv9ovyS/vsAQAAY/pYAqgI+/8n9XQBi/yv9Yv+2/pT88fw0+2P6wfp8+2b7kfu4/OH+rAByACMAegDlANoBOgO3BMwE0QNlA8oDYARvBIwE0wTiBL4EYARoBJAD5AKqAhYDVwOGAnUBXQDk/xP/6P7a/sz+GP6B/Zf9iP2P/QL+qP58/mL/Bf+z/Tz+av8w/zf/TwBi/y3+tv7k//f+3v0M/8T+Av4R/qj+Xf0H/bj8JP1M/Cj88fyb/Jf9KwATAlEBFQBkAJYAJgFUAhEE/AMAA7ECAAMPA9UCJAOJA9gD3wPmA2wDfwLEAZIBMAJbAu8B9AArAFv/oP6S/tP+/v6g/qD+tv5Z/qz9Lf4M/3z+nP/k/27+r/5q/4b/Uf75/ysAav+2/in/2v6L/vf+oP51/gL+i/7C/e39Ff1d/an8fvyb/CT91fw3//4BMAIRASsAlgBgAXwBFgM9BC4EaQJpAggDuQI+AqMCngPYA1cDMwOjApIBngAfAf4BGgJDARUAVP8M/73+tv6O/5z/Uf5K/mr/bv4O/VT/jwAR/oT+rADy/5f9r/5AAIv+6P6WAKP/Cf4p/5YAYP7c/LMADgCP/TX+MP+I/Vr8K/2o/g79pPpA/Wn85/vH/2wDoAEYAbMAQAAmAbEC0QNoBBEEMwPOAg8DwAKVAusCiQPYA2wDQQMFApYARwAtAe8BvQGsADD/7/4F/5n+oP73/tP+0P0m/j7/Nf64/DL95P+BAB/+N//CAPj8YP5WAOEBTf+6/ZkBRv8V/d3/ZAC4/Er+MALj/EL7ZP0c/aL8O/s8/q77jvp3/Ob9VgAPAyoFTwDo/scCwAKNAooGmwdoBOQCxQShBNUCOgM1BJoEdgStAwUCcgAjAN3/swBpAgUCvf7X/R/+j/1H/b3+E/9n/rH8uv3A//H8dPuP/X//5QC5/6r/+/08/hUAGgIMAr3+lgC2AcD/fvwy/X8CKf8e+8n9Tf+0+Pz4gf12+RP3mPsS/E76cf8NBTMDYv/H/3sD2AM4BeUIHwmABZMEJQZJBlkEBgUlBm0G9wTrAk0CYAFU/wX//gF4AtP+Dv2B/Zv8L/wm/ub9Nvzj/KL8kft6/e39L/zT/gAAGP6g/nECvf5i/D4CkAOE/kAAewP+/mv9qgKq//j5lf9YAVf4P/eU/Pn3DfJb9/z47fVd/acGRgIO/XIARgJ4AgQHzAziDD0HvAYCCT0HQgYfCdAIbQaUBzYHuQLd/0cAo/8OAD4C3gCK+9/4Cfug+1j7NvzN/I76LvnB+rH8hfwL/Eb/ugCV/48AZAAcAGABxQQDBCkCKwN1AUf9r/5bAmD+qfnz+vj5pfXN9HTzEvHk7/f2CQFgBNoBhfwv/BgBcAfYCxkP6g+nCUUHVAo1DFEJ+wiQC9ELEwoQBh0DfP6Z/qcBygOcAkf9bPgk9fn3efqu+zH6aPks+FH2OviH+gv8cPxrACkCugCo/nH/bgFUAuwFMgipBxsFVwNU/zz+hAFKAR/+0vvU+bj0WvGJ8IbvYO788G37bAOjAqv6qvcr/ekE3wsfEfkSrwyRBvgHHg6/D/AMMQ3PDSAMpwY9BKoCLQGnAWAEYwUb/1v3vPP39of6Gvxm+3T4zfR58oH1BvqF/P37TPyE/jD/Wf48/kMBlwPZBjAKoAm7A6D+hv+jAjoDegC//OT3JfPY8GrvP+/E7uXyyf15BQIBgfUt9pYA9glCDtwSaRLxB+YD6AnrEkMR8w2rDUYNdQlSBGAE8gJ7A5wC/APoAav62fNm83L68fz9+2L3s/Xz8vPywPeN/Bj+kfti/AL+jv+g/uv/uwMeBsMGMQUBBoAFWQSCA28EwgPa/hv6CPgB+C/0Be8H7Tzuju8K9mQA3AL4+TTzfPu4B50NMw6UDzwMUwdDCTkQtBO4DwYNDQ1qDZIJPwWXA4wEpAW7AwUCT/2O9y/0SPgH/VP8MPdY88TzPvSv9pr5Yvy8+8/6KPyZ/qP/cf8iAk4FygbWBZUFRgV7A6oCVwMPA+H+OPp/9+b1cvKh7sLt2u7P8hX9uwOq/9X0rPUmAfwLzQ/eECwOOwYiBV4LKxPHEqYO/As+CiYJJQadBZoEUAaMBCkC6P4U+uj2wPdd/YT+svpM9Lry2fPa9vP6hfw2/Db5ffka/BwAdQE+Ag8D5gOhBIwEXAUNBT0EewMdAwAAX/vu+K34lfdC8wrud+xk7Xzz+f9OBQL+3vJg9vICDQ2/D48QrwywBM8FRg1gFKAReQ0rC7EKAgkXBhcGpAVaBwMEiwF6/bf5wPeW+in/T/3r91zydPOz9T35oPvg+xv63fe3+Zf9UQGZAcsBBQLcAvUDIgXzBekEVwMWA5wCeP+A+mz47vgi9/DxB+1W7fLvpPpzAwwCwvWp8dL75QiMD1oPGw3FBKoCCQl/EvAUYQ+jCtQHSglACPQIcAfNBxQFvQEVAM38JfvI+hv/vf6W+ufz5fK79Xb5Yvwt+yD5yfVq9+D7LQEFAoEAE/9b/zwBjQKyBbgHZgYiAhv/PP7X/S3+9P02/A71j+3v65Px8PaO/1cDuv1O8nLyOQDpDHcPPAwOCGcBBQJ4CskTaBTTDLwGFAXUBwkJjQqDCfEHwAJi/7H/VP/3/uH+egBA/fL3IfTa9qv6hfyu+5f4oPbJ9aH5E//vAev/zfzn+6D+zgJcBRAGhgKc/+/+7QDaAfn/R/36+rv4XfVj8n3xovS594v+4QFi/FP0dfYwAqgMVQ3QCPUDAADYAw0NTxP7EJsHDAL1A/4JDQ3tCyEHTwPy/8IAIAQ1BGAB9P2i/MP78/qA+uf7y/uO+q34x/fn+DH6TPwJ/ib+BPw0++P8AgGeA08DJgEF/+j+yQCjAnECx/+8+8X5FPqr+mH55vVF9ED1kfvvAVYAaPk39wn+QganCakHoQTXAEYCDgiyDbINWAkQBj8FFwYHCDAKYAnBBVEBngA3AvkCuQLXABv/fvzB+gn7iP3X/e/7RPk6+Of4OPrq/Kz9Yvyk+o76m/z5/8kAVgCx//L/ngA8Af4BoAEYAXIAjv9K/h/+3v1W/bj8I/oF96r3vPtyAK8BH/5L+cz5rACnBj0HwgOx/+j+OgN6CKMKfgc8AeT/pgNdCB8J/QYkA6r/BwBEBHsGIATXAAL+ZP1N/yYBgQA8/sP7Vfp8+y3+i/4H/a77X/uF/PT9Tf8T/3z+Nf62/hUALQGPAE8AawDr/03/FQCPAMf/YP6g/jf/E//J/QD9jfxd/S3++/16/Yv+ZAACAcf/N/+zAMcCQQPAAv4BdQH+AUEDUgRsA68BpwFbAmkC3AJeA9oBiAAfAa8BoAGgAY8ATf9q/+T/6/9//9r+Jv4R/rb+/v73/rb+Uf5n/hv/Tf+G/6r/9/4w/9X/HADH/7H/N/9x/7oA6/8M/1T/6//r/2sAFQAw/2r/cgD5/2r/DgAjAE3/wP/y/wcAegBAAIb/qv+BADQBngBWAIEAXQD0AGcBLQGWAF0AngDtACYBJgFkABwAgQClALoAwgBWAAcAVgBWABUARwBWAOv/6//H/93/AAAHALn/hv9q/6P/5P+x/2L/lf+c/1T/hv/k/8D/jv+x/47/lf8OADIAuf/k/+v/wP8HAEcAZAAyAPL/8v8VAF0AXQBdAPL/+f8jAGQAVgBWAPn/BwA5AGsAZABrABwADgBHAF0AVgBdADkAKwBWAF0AawBPAEAAQAAyAGQARwArAA4ADgAOACMAHAAOAPL/6//k/+v/6//r/9X/3f/k/93/3f/k/+T/1f/k/+v/AADr/+T/8v8HABUABwAHAA4ADgAcAAcABwAHABwAHAAjABwAIwAjABwAIwArABwAHAAHACMAIwAjABwAFQAcACMAIwAyACMAHAAjABwAHAAVACMAHAAjAAcABwDy/wAABwDy/+v/6//r/+v/5P/r/+T/6//y/+T/5P/k/93/8v/r/+v/5P/y/+v/8v8AAPL/8v/5/wAA+f8HAAcABwAHAAAABwAAAAcAAAAHAAAAAAAAAAAAAAAHAAcAFQAOAAAAHAAcABwAIwAcACMADgAOABwAFQAjABUABwAAAA4A+f8AAAcABwD5//n/8v8AAPn/AAD5/+v/5P/y/+T/8v/y/+v/5P/r/+v/6//r//L/6//y/+v/5P/5//L/5P/y//L/AAD5/+T/5P/r/wAAAAAHAPn/AAAHAPn/+f/5/w4ABwD5/wAADgAcAAcA8v/5/w4AAAAOAPn/AAAAAA4AFQAAAAAA+f8OAPn/BwD5/wcA+f8AAAAABwD5/wAAAADy/+v/+f8HAAAA8v/r/+v/BwDy/+v/6//5//n/+f/r/wcA+f8AAPn/AAAHAAAA8v8HAPL/AAAHAAAAAAAHAAcA+f8VAAcA+f8HAAAAAADy/wAABwDy//n/FQAOAAcADgAVAAAABwD5/wAA8v/r/wcAAAD5/wAAAAAAAPn/AAD5/w4AAAD5//L/AAAAAAcA+f8AAPn/+f/y/w4AAAD5//n/AAD5/wcA+f/y/wcAAADy/+v/+f8AAOv/AAAHAPL/BwD5/wcAAAAHAPn/+f8AAAAAAADy//n/BwD5/wAAAAAHAPn/DgAHAAAA+f8AAPn/BwAOAA4ABwAHAPL/+f8HAPn/FQAHAAcAHAAAAAcABwAHAAAA+f8HAAAA8v8OAAcAAAAOAA4AAAD5/wcA+f8HABUA+f8AAAAADgAAAAcA+f8OABUAFQD5//n/AAAAAPn/AAAAAPn/FQAHAAAABwAOABwAIwAHABwADgAAAAcAIwAAABUABwAAAAAABwD5/wcAAAAOAA4AAAAAAPn/BwAAABwAFQAAAAcA+f8AAAAABwAHAAcA+f/5/wcADgAAAA4AFQAAAAAAAAAAAAcA8v8AAAAABwAVAA4ADgAAAAcABwAHABUA8v8AAA4A+f8OABwAAAD5/wcA+f/y/wAA+f8cAAcABwAHAA4A+f8HAAAABwAHAPn/BwAHAAcAAAD5/wAABwAHAAAAFQAHAAAABwAHAAcA+f8OABUA+f8AAAcADgAVABUADgAVAA4ADgAHABwAAAAVAA4AAAD5/w4AAAAAABwAAAAVABUAAAAAAAcAAAAOABwABwAVAAcAAAAVAA4AFQAcAA4A+f8HAA4A8v8cAAAAFQAOABUAFQD5/wAAHAAOAA4AFQAOAA4A+f8VAAcABwAcAAcABwAOAA4AAAAcAA4AFQAHAA4ABwAOAAAAFQD5/w4ADgD5//n/8v/y//n/AAAAAAcA8v8VAA4AAAAOAAAABwAAAAcABwAOAAcADgAAAPn/AAAHAA4ABwAAAAcABwAOAA4ABwAHAAcAAAAAAAcADgAVAPn/AAD5/wcAAAAVAAcAAAAHAAcAAAAHAAAA+f/5/w4ADgAHAA4AAAAHAAAADgDy/+v/AAAAAAcABwAAAAAA+f8VAAcAAAD5/wcA8v/r/wAAAADy/wcA+f8HAAcAIwAHAAcABwAVABUADgAVABUABwAAAPn/AADr/xUADgAAAA4A+f8HAAAAFQAHAAcAAAAAAPn/DgAOAA4ABwAVAAAA8v/5/wcAAAAHAAcABwAHAAAABwAOAAAABwDy//n/+f8VABUABwAAABUAHAAVAAcADgAHAA4ABwAHAAAABwAAAPn/BwAHAAcADgAAAAAAFQAAABwAAAAVAA4ABwAHAAcA+f8VABwAFQAVAPn/BwAOAAcA+f8OAAcAAAAcAAcA+f8HAAcADgAVAPn/8v8OABUADgAOAAcAIwAOACMAAAAcAAcAFQAOABUA+f8OAAAADgAcABwABwAcAA4ABwAOAAcABwAHABwAIwAcAA4AFQAVACMAFQAjABUAHAAOABUABwAcAAcAIwAVABUAAAAHABUA+f8OABUABwAHABUABwD5/xwADgAOABwAFQAVAAAABwAHABUABwAVABwAFQAHAAcAFQAHAPL/+f8AAPn/IwAVAAcABwAAAA4ADgAcAA4A+f8cAAAAHAAVAAAABwAjAA4AFQAjAAAABwAOABUAHAAcAA4AAAArACMAMgD5/87/+f9HACMAAADy/+T/IwBWADIABwDr/w4AHAArABwABwDy/wAAKwAjAA4AFQAHABUAHAAcABUAFQAHAA4AIwAcAA4A+f8AAAAADgAjAA4AAAD5/xwAHAAcAPn/+f8cACMAKwAcACsAFQBHADIA8v/r/0cAXQCIAE8AMgDy/wkB2gHBCDgNv/yQ8Fn5eAKXAyYBO/tI+Mf/zwUSD/IKhfG/7CsD5A09BMz5p/Mt/jYPhAzW+ozxpvgWA3UJEAbs+o736P7/BNMEKQK6/aAB2Qa0A3//7/sa/NMBCAPV/Bb4tfsp/z4CrAAR/q/+PAH3Af4B0ABAAPn/QwGPANX/cf96AMIAjwB8/mf+MP9x/2D++f8jAIgABf8VAHsDtwRH/e/7bwT3BOgBkANHAD78Nf40AYv+1/1//zD/TwAjAFP8hfz5/7MAwP+9AREBKf9DAVsCrAB6ACMARv8YAVT/Sv6O/1T/1/2G/zkAwP/V//QAGP4jABkE9wT7AFn+QP2F/Pf+jwCL/hv/0/6L/pYARgLQ/eP8EQEpAkgD+f+z/S0BtgErADACBwAC/sD/UQHV/48AH/77/RoC/AMw/zz+YP58ASQDYP7s+hUAGQQ1BMQB1f/q/KcBEgexAin/Rv/h/gIBrQME/Bv3DgAcALj8lf8a/CX7lwM9BMz+Nf6VAqwAmQFRARUAegCeA1n+c/1SBP4BHP1jBUEDpwGRBuUAbgFcBcL9avcVACj8ZP3EAWT9a/puAbcE6P6l/XIACQHtAEP+Sfti/2oFx/8R/lz6hARHCHUBQ/7+AT4C6AG7A5MER/ojABgBPvx6AAADC/yr+jIA8gJq/wX/ZAB3/CkCUgTr/8D/cPxNAjQB7PojAKz9G/9lAz8FR/3q/NX/hAEV/Wn8+Pno/pkBjPkH/bkClf9G/+f7qP6gAbH/YvxuAQADzgK5ArP9ywHzBcgF9vuv/ggG9QNd/f7+5v2GAgL+RgUKBJ36QvueAN4A1f9T/GX41voIBjACovzXAGD+Uf4qBTIA5/vm/XYEjwC1+03/7wGS/iMAGP6q/2wDTf+F/PkCkANa/FH+Kf9+/LIFdgSX+Bv/pAUWA08AGP6Y+2D+GQTbBJ4A1wCZ/kf97gYWA4D6YvxH+tAAnwYYASf5Q/69/mcBzfwa/AH7HQN5BacBR/3L+y3+0ACgAfEH3wNx/1H+TwNvBCYBmPt//zEFKPxo+YsBev0l+3z+zP5p/AUChgLq/Mn9lf8GBV4DZ/5c+jQBkgGx/47/YP77APQAXwZ6/Zf1fP4tCREEcPzT/h8BZAAMAkYC/vab9Ir7/QY2B//5OPp6APkKjv+L9ukEkQbLAWkCIARDAYsBKQKzAOj+nv13/FgB/wS8+2/5wAK5BXn6Q/Y1BCQDAP1oBAgDKwDV/+v/gf3mA3cHMgAN+qn5ev0eBrwGBPx9+XYEuQJoBPj8lvpBAx4GqATa/sL96vwCAcUEYv+v9mf+4QEaAkz80/ag+2sALQGGAnr9Pflr/QMEdgSG/zQBR/1D/vwDWAGn+3MDigYcAAn+SQakBUP+aQJYAUL72wQRASsAIfxA/T7/PQRK/gT8pgM7+2v97gPQAN79sgWNAmD+hP7eABkEZwFR/nIAywGQA0b/+PwP+M/60wQAA8P4cfc+/xsFKQKW+nH3Rv8wAu0AaAS9/kP+NAYHAJf4xwIHCKYDa/2E/gT8lgDPBRwA/fuJ+L3+qgrUB8n9qfnN/G0GAAsi/zH6MP+PAJkBqQd1/sf3Dv2LAVEBNAHN/P/5jv+ZATz+f/+D+3r9QQNWAOv/JAP3Aaz9zwWABWkCFAW5AtwCcwPrAk0CUQFi/3ECTf+B/Qf9vf4V/QADbAOU/J4AZABz/TAC1f9D/gv8PgK8Bnz+NPsdA7gHE/+s/REBG/94/0oBxP7r/3ECFQAJ/ln+cwPO/xL8tfsz+Jz/TAda/Bn59vtGAgcIJAMn+er0tv7pBDMDFgPG/Nr+8gJGAqMCeP+q/xwAhAG9/in/aQIb/zn91wAiApj7zPmjAicEywHtAMIA2v5NAvn/Tf83Auv/9vvv/lgB+wAq+rr9rAA0AToDNAGg+47/qgKVAtoBpgPEAU8AywHX/WwDbwSO/zcCafxN/+T/iP22/iv94Psy/bH8KPzr/4wE9wRY+2n82AOyBVQCKwBeA1EBj/3OAnkFXf1z/QUC/AP+/mT9/v7yAgkBAv7kAkAA0vuo/oYCaQJCBmf+Sfs2BwIBd/Th/usCev2//Dz+HwGq/0r+pQBWACkC2v65/54ALfsA/WMFBgU+/Bv/MwPRA6j+iABZBPL/Uvka/EUHQwEI+I7/YwWNAn//0/6G/xEEjgV//3j/H/66AP4BkwS5/3n6awCmA+YDo/8e+zf/lQImATIAtfu++Sj8mgQkAw79ffkHACMAAAOPAE/9DgCcAkMBf//r/24BpwE5AE8Adf4V/QAACANk/Vb92gGlANX/Iv88/mf+3f9x/zn9FQD+/uv/mf5W/d4ADQWJAx/+TvpH/SIFRASc/yT9AADlACQDPQR6AMP7pf25AnoA5P8k/Wf+cf+5/zD/j/1+/C0BXgOIAKr/ev0O/VcDvgQjAAX/xP62AfUDxwJZ/pn+2v5BAx8BqP6//FYAaQI3/3//AgG9AVv/1f/hAbn/SfveAGkCB/2u+zcCCAY6A/f+9/5IAzgFygMC/gn+NAHKA7ECYP7G/GT96AFgAVn+dPsi/9X/YP76+uP8ZP3+/tMB+wCP/cH6IfxpAnIF9P1w/LH/TQKSATACLgTvAUb/jv9KAeQCUgT5AikCmf6i/AX/W/+0AzsGWAHP+oX5VgBcBXIFEwKz/Tn9RgJLBI4FrwFIAwUCo/8R/rQDywGWAOv/Ff1i/OX6JP3h/o8AFf2h+U761/02/Nn7d/wy/Y/9fPsk/Tn9Of1DAUYCOf39+/T9WAGcAsIA+wBKAZ4AegDv/kYClQXVAub9jQIxBbYBDALBBSgHKQI6A+IEGQSeAA8DCQl0Buj+NvxUAowEpgONAq8Bzv/N/DIACgRiAgn+ev0p/48A5v1F/N76Wvyb/Hn68/ou+ZD4svo2/Br8fPv1+Fz60vvS+wn7EPsa/B77t/kB+0z8PP4c/Sr6Bvr5/+kE1gW7A1kEHAieCK8JHwl5DS4MsQrxB38KWAkiCrYJlgjWBa0DRgI6A2UDbgFzAx8B+/3W+rr6hP6sACT9jvrp+a77ev3t/TL9AfsG+sj6uvrs+mv6rvtF/N76sveZ9gH46fk/+rr61Plu9o/1a/V/9zb5V/g399v5Jv70AE8Azv+4CjMO0wlXC3EN/hH9DooO2BN/EgMMegunCT8NCweYBnIFDAJD/vv9AP0+/+D74vl3/If6vPtC+7b+f/+c/5L+Iv/t/Tf/sf9WAD7/8fy8+y/8TPy//Jj7k/na9tX3+fcC9hP0HPV39Frxye2P7Wrv6+9Y89n7r/4S/OH+YAQ1DMEQfxLzFa0TYBQbFeQV8RcpEuUQeQ1ODdwHnwZ/AokD+f8J/l/7J/nR+Kr3NPua+ZP5ePfp+fP6hP7C/eT/lgAAAMkAYAFPA3MDIgKPAOv/Uf4C/rX78/pQ+NnzMfId8NPuUPCh7gDtuupj55Doye2f+AX/JP0+/20GowpfEdsUJBt5IGcZlBd+F1QaPhpVFRYTyA0sBoIDQwEwAk8A9fiC+Dz2hvQB8wT00/bA98n1xPbY+Hf8QP2S/uQC0QM4BYwEgAXDBhkHnQXpBBgBEf6d+u74J/nj9OfwU+x26c/qweqF6YXpkuYE5JnjyvCG/2wDkgG6AGkKhBTTHFghECGcHW0e7yFrIKsdTRXyEgsPuwvuBuH+fPuy9/n3xvRO8mTtPuxW7anx8fTJ9VT3PPbw+XP9VwPzBXsGTAftCOsKmgx9DMILEwoIBisDnP/c/Ff4fPMl8ODr8OYx4lHjN+fo5jfkHeCm4A/oAfgAA78HXAWBCBUQcxvaIdkmHyljJQcjKR0ZH6AZCRmDETgNkwT7/ej2B/Wb9I/ywO+H6g3qD+jt7bvwN/cw9+v3ffme/X8CygYwCoQMkwyGCg8LgguODTMOrg4+CgUC7Prh9ob3vfYZ8ZDoaOH72pfdoOP35nfkAeDF3l7oWfn3BPsIiwk/DQYYEh9vJCYpjSroKSUmEyJXHqUYyxGiD4MJZQMD+S7xhO7+7ubtmOuC6Dfn8ucQ61XyffZZ+WP63v1xAhIHoAlgDIUPWBGSES8PdA48DH0Mzgo2B+8BX/sA9WPye/Bp7NrmdOCe3bjcfd494a7jmuHN4UbnV/gLB/0Omw88EZ4bySOALbUusC/yKuQlRSJXHiEaURGsCGcB2fuu83rtpug66DPotub05bvlM+hY64Xx2PgJ/mQA4QHWBdwK4w9nEbQTVRUGFawQ5A1ODbQLoAkzA7r9lffw8RHu4+wX63fkOd3G2SfZQtte4EDivOMC4/7mWflNCpQSqxWzGFYjSimmLgwypTOWMAYoFyEiHYoWMwuJA+D70/b07bbm+uKa4UDiMeI55d3nLun967rycvqVApEGkgm8Do8Q7RMzFpYYthkiFawQEA5SDL8HfwIc/Rn54PPw7oDqD+jG5PrfTNyW2tfaVdo+3Dji4+QM51nuAgGNEp0YuBoNHWYp7i6ONSo4UDZJLvYhRBzNF6MSewYH/YXxsewa5B3gq99X4GviNuG45H/n8eyF8an59wGICI0K8AyZEf4UQxn7GOsatxeJE4gQoQycCocFngDB+mT15O8V7XLqVOcL5OnhS+Eu3mncgNpG38Dn4ulL6frn9vMUDbsbAiFyIMgg6icfLKE0iDtcNdAoShkpElMPcAdG/6D23Ozx5LvdSN0d4MPgHuN65RDrFvBr8jr4XQAHCBIPWBH8E1wVmhT1FrcX1xhCFs0PDwtXBssBdf5V+vf2wfJd7UDqM+i25p7lseR+5NLjLOCo3uvfD+i27lHubu5N94UPcR16I18h0SN/KhQtbDMsNmIyMCLiFNgL1QqCA6H5n/Dh5kDimdvC3X7h3OTX5eTnu+1p9GH5+/3IBcoLrxEkEywWUxe5Fe0T6xJvFBMSzw39BscC4f5O+s73rPVm8xbwTOy66vPqHOpS6aHp+Om95ljjyOIB6LPttPCr8tjwcPwvD4scOCVBI8wkKCd5KMct8zC2LIUfXxFFB8ACO/sf9szu6+ez4pvctt7F4cfnGuxQ8DL16flA/SIC3gj2Dm8UBhUoF4AVwBLeEOAOVw4DDAQHUQHD+zf3CPiF+ZP5u/UW8E/t4+xG77fxxfHW71/rr+bl4r/kuupI8Db0TvLo7u/zwQhlG44lHiZiIiAkhCSwJ8ws7SsWI60TCwddALD5lPTh7rfp3+Wa4dbf1+Ky59XsjPHT9sn9JgEZBAcIfQy9EagULxdEFwYV+xDMDPUL8goHCPUD/v7D+CXzue9q72jxhfGq7/HsHuvU6eXqbO307ezqs+VM5MroSO0l8Gvy2ftREWoduyM1JLsj0Ch5KOQtJjGkLf8flQ0pAhz9e/iP8jzui+bg4GTarttC48XpUPBf8yD53v1nATsGkwy9EWoVdBZEFwQXWxLKDoYKUQkVCJADKwDp+UD1O/PS84/1s/VM9O/z2fMT9Hr1hvRF9Pryb/Go7kfq8ue66qjuEvFH8uTvO/PkAsMW+SJEJ/Ii5SAyIJkhIyjyKt0lXBWyBaT6APWH8mzw++096VPkguBY4//pRPFZ9s/6HACCAzsGCQlGDckQphNNFZUVlBKODYgIeQUGBXsDMAK2/tv5d/T57w/wKvLQ9fD2iPXB8sfvbO0u7t/wbPBd7VDo/ua36bXrce8N8qf72Q7tG5okvCa2JFcm5iMEJ2csxyrSIcYP7QAi993vAO1a7FXqGOac3yTdpOIq6vPy2/nH/2AEPwWpB+IM0hFqFa4WFxYqFSMQowrgBpADNwJg/gn7ffl0+Az3IfTB8tbycPS29mj5q/rK+Lzz5O+Y8IzxdPCG7LfpXOrL6wruzO7k7yr6wgsdG5UlhSe5JXAi0R43IqInWCl8IQUScQJ69SvtAuu86+Drb+li5BTicOT66rrya/qvAV8GpQj+CZMMNg+nEbgSbxS3FPsQ+QoRBOv/rP1w/BL8fvwE/FD4mPMS8VXyVvWJ+Gb7PvwN+hP0oe7C7WfuiO2167rq0uuG7JHroOuF8YQBVhMJIVgp+ygzJughiCBcJY8oEieaHIQMMv2G77zoh+ea6bPqCOh35N7i7eW16xX1H/7lBegJJAuvDBAOsA98EeYTOBWLFIwPJglUAjn9gPoG+tb6zPki95T0B/Wx9Ej1IveF+fb7X/sN+pz3d/Qq8j/vXe0C62jpa+pk7T/vnO8b74D6Gw3MHN0lhSdVKCklmx8CIZMkyCWcHecOGgIK9hztMOcw58roFuiI5VblWumo7q7zY/oiAl0IDwtVDakPoBH0EE4QGBFpEnIQ/AssBi0BB/3M+ZP5a/o/+rb25fIg8XbxtfPT9rD5XPr595jzEvHu8HjvKOx26a3o+Ol166XtsPFP/bkNKxvPJeEp3ijdJQIhOiNVJSklph4tEQ8DdPP/6XrlYOY66GXoqOaz5f7mvOvs8rX7ygN1CX0Mpg5kEOERfBGZEZkRNBGmDo0KYwUrAG37W/d99m72r/Zk9UX0yfV0+D/6BPze/br9ovyw+Vv3xPYH9c3xYuyY6MLlLOib7Drwqu+c71z6ngt9HHkoxSwdK6EkhBz6HRAhtiT9HjcSiQPP8mXo1+Jk5X7pq+qh6Ynoj+rQ7W3zyPoIA4EI9Qv9DtcQWxIVELAPvA4SD9YNcwtOCFcDT/0P+GD2W/fD+HT4VPfx9AHzcvKx9Ff4+vqd+mL39vM28dfta+q86Mroh+q47PDuYfEn+QcI+BeeI60r2CshKqUjuiDLIbogih5lEwcIgvib7FPkMeLL40Pmuede6Nbqye078xL51wBaB7sLzQ+nEWwT1RKLEWsQ7g6ODe8JQgboASb+9fjE9ln2FvjA9/D2UfaI9e31zPZV+iv9Lf5t+6r3BPTF8d3vc+0L7MjqgOp1637sZO1H8t3/URH/H9IpmiyNKkMkXh7sHZMfHCBbGigP5QBj8vfmL+EG4qXlC+kq6v3rYO6F8fT1hfyCA2AJqw3eELESABMfEYwPFw73DLgKhQfmA2QAkfs39830L/S79bv4F/vD+xf7J/l49xb4ffmY+0n7PfnC9crw+uo15qXlLOh+7Czw//E/8lL5mwdhF9Mk6SwoL5sqvSEbHcUczx2CG08TFQih+bzra+Id4BfjzObf6PPqbO0s8O/zUvlDAeoHPw0fEckTrxTkEjkQig4iDbQLwQiHBXEC0/4N+sT2Efbm9Yj1HPXt9a/2Rvcd+Kn55fqd+iz45vXn8z/y/u7o67fpLukG6ljrB+2F8dX8lQ1jHQ4oIi3CK20mCx8GHZEeMiANHRYT1gXJ9evnzt8i31jjjueA6jfsEe4d8G3zofkmAYgIXw6eE+wVQhamEyoQ4gwPCykKpQh0BmUDoP5o+eP0NPNm8wD1DPeQ+Db50fiJ+AP5KvqO+vD5jvfJ9XzzkPBI7XnqGelv6U7qYuw/75P5mQmuGTgllytzK5Mn+B8xHdYdBB+cHeIU7wn4+cbsweLk36Tii+YU6i/s0+4S8Rr0w/gi/6sFjQpAELsTshVoFK8Rig7CCykK1AcBBs4CIv/F+Uj1MfKa8WPyc/U0+7b+FQDQ/V/75/gI+Ej4zPne+kv5g/OR64jlR+Iv5Bnp6O4j8kj1Sv4DDPYZpCWvLA8uOynhIV4eeR3sHWkapxH/BEj1bOgP4LLfoOPy57rqGuzt7WXwK/Xv+9EDBQrPDXIQbhHkEhMSLRESD6QNDwv/B04FzgJ4/1j73ffJ9Xf0vPM+9Dn1Svag9gz3Fvi0+Kb4f/eE9qX1JfMM71HrUul+6Z3qKOz07aL0HQPCE9IhLiz/L6gsAyRgHHMbGBx9HFYY4w8pAmHx9uNP3ebdXOJ/58vr5O/F8Qv0svc8/qgEoAksDk0ShBSTFKMSThAqDcsJ9gbiBIID2gHv/h773fcH9ZjzvPOl9Wr3w/jM+Xn6z/q6+vj5ifi29kD17PI68LHsxel76Frp3uqq7JjwovyvDN8bBCfzLfMtVSi3HxEcXhvmG70ZuBL/BwP5+up74Obdn+CB5UDqve5V8mL0oPYJ+xgBmAaQCyMQQRO3FFYT5RAQDiQL3ghJBsUEwAIVAJH7V/gR9nP1B/XX9dP2aveq9wH4S/l5+gn7zPny94/13vLM7hPsgOpr6pbqwepf60PuLvmvCYIbiCgqMHcvUSkoH7EalBpZHJcbDRV4Cof6LesW4H/cMN8h5Dbps+0n8afzNfbW+rMAkQYzC5YQWRTSFocVnBJ0Du8JtQbFBCAEzgJPAKf7i/ZH8iXw2/E/97j8VP+2/hr8CvmV9wH45fqb/O/73fcU8iXrLubV5GrnZuuo7jPwa/LS+00K9hmKJpgu5y5KKVUgZxyeG+0bvRkhEqcGMPdh6VfgZ96+4RHmt+m47HHvY/Jn9r/8uwN8Cf8MlhBPE0YVoRTrEoUPbAu/B3YEjQJ1AcD/EvyC+Lv12fMB88Tza/Uw93v4sPnl+u/7tfup+QX3RfRo8dftNOt26Q3qF+vg6wvsTe/e+icMyB24KmIy2TFMKlofrhlRGX8aHxmjEvEH6/dB6PncpNoD3i/kxek/7zvz1/U6+CT9SAPtCE4NrxEbFYoWDRUpEkkOxAmVBaoCNAHy/4j92/kC9rLyCvEe81D4QP0+/zz+tftZ+ZD4jPkE/Af9ivsM99Hwa+rJ5QvkJube6q/uhu+u8+/+pg7THNQn9S5oL9conSANHb4c/BtEF3sO5AIa9NPmZ9523iPiQ+bU6Z7tNvHg87n3YP6kBRYLvA4MEkQU9xS4EtcQpA2cCigHDQUWAzwBgf09+S32NvR887Xzs/WG99j4S/nw+db6mPsl+4z5YvcV9dvxEe4C69Tp1OnI6pHr6OvT7iX7Kg2MH/4slzPzMGgnGx15GK4ZAxxPG8ITJQbx9L/kbdtO2vLfxeZM7Bbwh/Kx9MD3ZP0gBDAKnw6UEt0V4BadFe8RxQw2B0EDkgEJAQIB0/6r+jn1aPFj73LyGfkF/2AB1f8o/Kb4jvdo+Qf9E/9A/cD3hu8P6IPjy+Nq57Hssu/H7+TvzPmLCRgcoCnoMV8xRSrjH5QaOhv+HA8byxG3BJv0CuaX3fLcR+JN56Tq6uzO767zLPjE/rkFkAuRDhgR3xPkFT8V7xHBDfQIIgWVApUCcQIrAB77AvYx8grxP/KX9fz41vqH+m/5dvmA+lj7F/vU+R34m/SV7x7r9ej16GHpuuqY66ztjvesCMcaMSipL+IviilAIF4boRxQHpocfRQcCMD3uefQ3e/bV+DJ5WPqnu108OzyZ/Y+/K0DBQp0DngScRUEF44VyxF5DUMJgAUIA38CpwEf/lD47PK576rv2/HQ9en5uPxb/xgBIgKvAXIACf76+vn3mfZ69VXyGO7u6Dnl9uOL5r7p3OxH8jIAiBBwH1Uo3S2ALbcniCBxHXQeFx4JGYoOZwEj8j7kv9wk3d7iAegE7BPvzfE29Fv3l/2dBQYNfBFgFEIWOBUTEs8NcQpHCBkHOwY4BYYCOf3E9qTyDfKK8yb2rfji+aH5wPcb90j4svpp/P37KvpG9yXzl+3f6L3mwOf86PrqKOwD8QL+1A+PIOYrszCJLi8nfh8GHRkfRB9NGsoO1f8b76Lhitu43LPilec068ntbPAE9N/4FQCwB1AOsRIlFtsXKBemE58OBQpfBlIEQQM6A7YBB/1K9i7x1u/U8cL1KvrV/Fr82/lB+KH5d/za/hv/Rfym+CH0o+8T7NvpLOjA52zot+mM6RvvIwC+FHglwy4oMh4u0yTiHDwc4x9rIMsZhAwA/f3rBd/N2aLcoOOQ6O/rde7F8QD1ffmeAKUIRQ9eE8MWVhhaFzoTwQ0CCc8FhAQkA2IC4f4g+bLy9+4i7370y/usAPsAev2X+Bj2M/iB/fIC5gNx/+T3e/Dl6qrnx+d+6XXrEOt+6cDnyOrf+JUNECHALaMyKjDXKOwgex4VICogjRpTDwIBFPKU5HPdDNzH3wvkJehw7IXxs/Wa+TX+2wRlC0oRLBauGSYZ8BTgDiIKvwcSB20GzARRAfr6KPRI8LvwC/T+9t/4Yfkn+Sz4u/gJ+xH+Kf96/fj5MPcA9bfxiO2p6UbnbuZ95iXouupC8wYFRxhMJ2YuRC8wKr8iCB7qHwcjpyFyGKUIsvfA5zXeadzY4Nrm6en66jfsG+/L8w36NwLOCrMQJxSCFp8WxRTtEJoMvQlOCH4HwQWjAvH8i/aA8iry6vS0+Lr6lvrf+OH2Kffi+cL9GAE8AQL+ifiN9Nvx6++e7TTroekL6a3odunp6TDvN/+tEzEl5C10LpsqDiNqHfoduCInJAocqAyn+zfsL+HJ3bTg0+bU6Q3qFOrG7L7xRvf3/psHGQ+eE4cVbRYGFZIRhw0kC5UKsQqzCLAEZ/6v9t/w8O6w8QL2GfkK+VD4Bvqx/G7+BwCPAOv/5v1f+8/6gPqL9mrvo+f942nkJegv7JLu4+xX8Pv9MhCnIRMqAyzXKCQjgSAaIqQllyN1GUoJY/qh7l7oSOWl5Yvm5uVk5Y7nDu2R85f4Wf7uA40Kxg+JE0YVRBSzEBsNuwtqDXQO/As0Bm7+1ffG9AD1Ovhy+gr5SPXb8YzxhvS7+PH8Bf8f/jj6rPU29BP0CfPd79nrR+qP6u/rlOzG7I30AQaWGDEl+yh5KJMkzx0YHMggUCYWI5gWFwaV91jr6uRi5KboLev46Y7nguhi7NTxo/cAAIgI2Q5YEe8RxBFdEBAOTg17DjIQeQ2/B+0ANPte+Gr33/h0+zv7lfeR8wbyU/QB+KD7Uf7o/lr8wPei9A71WfZk9YXx6uzN6Zjo9ege62TtOPIJAZcTkiFmJjojDiDWHWEf4iQhKu4mkhkhByT4wO9+7KLsfuyD693naeTG5M3pNvGc94/9cwOeCH0MLA4ZDz0Pmw/GD/QQixHUDxMKggMf/iX78/rz+jj6Yveu8xLxivOw+e39Uf58+9j4e/hS+fr61fwv/Gr3M/Ca6X/nZejv62fuE++z7Rbwjv9FErAfsSKlIOwgsyBzI4ImgShbIr4UJQYO/eT3UfM87qnpVOd65RXlwOdM7GjxRfQg+QAAPQetC+IMlQ2YDioQ9BBFEu8RsA8wCowEYgL7AAz/Wvy++R34H/bZ8zTzfvQC9gX3jvdE+en5SPje9Q71kva29t7yc+1j6qHpz+p67ZLu3/C6/V0QOx6jIs0f3R2kHf8f+iVdK5snpxnQCLH8WfYJ81LxTe/E62rnQuNY46rnhO5w9N76YAE0BqwIZwnAChsNRxBxEmUTeBIoD+8J2wRUAtcAuf+I/RT6gvij9zz2u/VA9Yj1hvcn+W371fxY+/n3pfVP9cT2hPbg81nut+l06LPqme7r7xbwI/p2DD4aRyAgH+wdVR1eHq0jMCrBKMUc2Asi/2/5dfab9Jrxv+wl6CHkC+R76GDu7PIT9+P8eAL6BVMH5QhXCzYPkhFxErESVhBoDOUISQZcBdwCRwBr/Vj7M/i185PxnfIH9a/2ePf+9kP2BPQ48pHzH/YF9wnz8ex+6efoF+vE7pPxfPOs/bwOtBstIXkd3xvsHesiNCkrK88ljxh1Ca/+nfrR+DX25/BH6t/lpOJR43jnge1t8933K/11AYQEbQaBCO0LEBHtE54TPBHWDbQL5QhHCFoH+QL3/uL5MPeg9o/1U/T986fzFfXk97j8OQA1/mv6oPZn9jb57Pre+tr28u9y6rDpNe7P8nnyKe9L8ZwCAxQMGk4Y9xRHGNockiFXJlAmcR3UD+wFnALvAWn8dfZ08A7tweos6PjpXe2Y8N7yxPY+/CsAUQFGAjsGFgsSD3AP0g5fDjENEQwAC8cKCQlZBDkACf64/FX6TfdP9cn1B/X285HzNvTc9Kfzj/JJ83f0g/M37/Pqs+oc7U3v6fGt8D/yav+vESweyh5uGZkZAR4DJL0pRSpsI1UV3AcTAiMAXf2O92zwAus356LkJOUd6DLtUvEA9dv5pf0jAFsC5QXYCzQRoxL7EK4Oqw0IDtYNSQ7mCywGswC4/HD88fyh+Wf2L/S68knzWPPS88b0TPSD85jzzfRZ9j70rfBu7jLt/u528b7x9fAD8df9hhI1HCccMxayFZAbnSCbJ64pPiIxFTkIxwIPA93/pPoE9C7uX+tb5+Hm1OmP7bfxsfSQ+Nn7lPx1/hYDQwloDxUQcQ0RDFcLXw56EFYQcQ2fBj4ClgCSAWsA2fsb9z70g/Pv81P0kfPl8oLwJfBo8YrzxPOC8I3s2+l162PvHPJa8abwZPVMB6kXdhzhGbcU4Rn7IGgnxyq1JgYdehDQCC8HuQXE/rL3SPCG7AbqhOaH52/pAO0d8DTz4fb1+M/6zP7FBNwKSQ7TDDUMlQ24DwwSKRIjEKMKXAX5AqMCTQL+/ln5CvZi9LzzcfdS+W72HvOO75/w2fMr9UP2FfUS8fHsd+xG7+fzs/VR83/vFfXeCPoVEhfkEqUQ+BeTH54jtiQQIckY/w+TDMoLNge5/8r4NvT68s7vO+uk6svrPO4u8f3zAvZn9oL4xvzcArgHGAkyCN4IeApcDR8RkhFHENwK/QbSBowHUwe5Asb8Cvnh9rv1a/Uh9KDzUvHa7hjuwu0M727u7+sG6mjpiutg7pnu3+318H8CcRWxGkwXsxCKFrMgRyj6Lc4qKiBLFDsOQg4IDgEG0P2e9VDwAO0P6KPnpui66pTsc+0T79jwLfMg+XIAyAW4BywG2QZiCrwOuxNcFZ4TORA+CtcIegvFDCIKiQME/M73yfVk9R/2cPSF8fHsoOun69XsIu9q79ftoOup6QLrKe+p8RTyTvIx+lAOpRgjGOgRShFVHVUlISoTKjAijBfND1cOiBCQC4QBLvnW8l7wd+xL6cHqX+tw7Krs3OzA7/jxNfbc/OEBygOeA2UDogeHDcEQhhK4EjQRXw60C4QMzw12DPYGDgAa/Of4zvfA9y32lvLX7WPqMeoE7B/uve5F7ETp8OZe6ATsdPBX8FfwY/qvDG0WvhS4D4YSXh6RJvQr4SmNIrMYtBM8FH0U7A2tAxD7pfXs8mDuiuvb6Srqa+qd6nXrouzw7rXzDfqL/l0Af/+ZAS8HoQysEKcRWBECEe4OuQ1wD58O/AtyCD8FygPt/ef40/bA9/f2F/Ng7q7rFOrP6tru4e7V7BTnJOUS6XrtdvFL8crws/1QDgcTvRGHDY4VQyHnJlEpnCVhH1MXgBWiF6QVkAsaArX7SPhW9SnvQO0E7PrqVerp6V/rPuw/7+P0PflC+9L7Vv1UAjIIegv6DeMP1xBrEDMOmw+gETMTaA9kCGUDuf8T/+H+B/0W+LfxTOyR6+/rB+2b7GHpmeaW4rzjLOiD637soOva7hMCQg7KDnQOYw1NGpQiFSgwKiIlLx9wGjUcfRxCFg8LeQUOAEX8tvbW733urusJ637pkOg66GXo4+zW8lH2tvYF9/D5ngA0Bj4K5gt2DOcODhBNEn8SUREqELkNMwvhCaUIxQRHAOD7w/h19sTzw/D07SXrmul+6bToVOes5W7mPelt6wnr4Oti9GYGUw8qDe8J8w2UGgAjjCeCJgwi0RvvGbsbehuEFOQKXAUmATn9vfYq8izw4e6x7Pjpw+hB6Onpr+6D8+P07/N39G/50ACkBVYI5QgaCswMhQ8aEtoRCRF3D50QGBGeCyoF5QDQAL0Bl/2g9mjxlOyD6+PscOy+6RfjUODB4rbm/Ohu5knoFviwB8kIigarBTQRyB1wIkwnUiTgHlYbCB6ZIY4duxMGDRAJbwSG/9/4Z/Yt8yLvcOxS6Q/ocee+6W7uZfBG79Pu4vG7+AX/xAGeA2MFzQfYC2QQlxNxEtQPWg/XEDkQzw16C0gLbQbo/gH7tPiF+az1FvCG7LfpMOdn5nXms+UO5e/jiOXM5jrwNwLSBo4FEwKpBz0XAR7OIgAjzR+JGwcbLB4vH0MZMBJcDbgHewPq/Ef6kPi/9DrwX+sL6bToR+pP7SnvJu5s7ajuvPNr+ib+RwCLAXMDNgfmCxUQGhLEEUUPpg7jD3oQWBFTDwcIhgLa/qX9qP7i+RP0r+6P6qHpHOpo6TXmqeG04A3iMuUb73H/qASE/q77bAMuFGAcLx8jIAYdAhnEGQQfyCDRG0QURxAdC/MFCQEb/xH+/PgN8mLsXOqW6jfsQ+597tnrOOok7fryZfje+hr8Av4yAO4Degg4DTIQDhCuDo4NvA4yELMQEg+CC9QHJwQ8AWL/T/0j+vT1ofFR7qrsEOve6vzoJOVk4k7iQ+bU8SsDkAO6+gj4GgK+FEEbZxzcGigXWRT4F/UeRB9kGDQRGQ/5CrUGqgK2AU8AG/qn8+Hus+307dbvt/Hy79nrQOo17o30mvkU+ir68/pd/Y0CuAcDDH0MbAsWC9MM8w2YDjYPgA3RCzQJPQQ0AV0AwP/7/Z/4j/LT7kDtl+1K7jTrK+VB4D3hFe37AFwF2/mH8mH5bwxoFx8ZDhi0EyoQbBPJG2Ye1xgaEkcQqw3lCPAEGQR9BNX/3/gQ80HwUPCP8s30AfNd7c3pAO1t83v4A/nH9xb4I/qS/iAEFQgfCYgIMgiNCowMGw2VDeIMxwqbB6sFnQUiBX8Ccf8h/CD5EfbG9Ib0TvLa7u/rI+qJ6FTn2etj+isDbv5R9nH3dgTQEN0VjhV8EekMsg2AFV4blhjXEK8M+QqnCXAHhwV9BKwAWPvw9vH0hvTc9J716vR98WDuxO5J8174Uvk6+Ln3Pfk5/cQBhwWuBqsFpAU2B2cJTwvrCrgK4QlpB6EEpgMRBC4E9wFA/aH59/Z19oT2l/UU8mTtFOr86Ijtk/lKATD/qvc59X//xwrSEWkSZg4pCtMJHBDIFRcW1xBLDMsJVgg9B7wGXwZBA3X+xflU9xv33fdS+fn3PvRQ8HTwqfTf+CP6e/gw9933dPsjAHsDCgQIA9wCaAS8BiMIgQgHCFoH0gakBd8DkANIAxYDpQDV/Cr6CvnM+Wj5YPaW8sDvPO7r7/72K/1W/W37hfk5/SAEZwn6DTgNpwnXCIkLUw80EXAPfQx1CVoHCwefBl8G0QOBAEf9wfrp+fj5Vfqh+Vv3lPT988L1bPiM+RL5n/i7+Kv6l/1yAMsB/gEiArkCewN9BJgGRQefBoQE0QO+BEQEJwQWA3UBo/+l/Xr9nv0o/Dj6V/gK9iv1FfUc9dr24vmR+0f66fnX/eYDbQYlBiwGsAcQCXEKDQ2ADRYLAgkQCdoJugiYBhQFwgOnAXH/Z/6l/S/8z/q++bv4ePfo9vL35/jY+FD42Pjp+Tv7Rfys/f7+W/8jAHUBBQIIA2wDPQQ4BSoFbwRzA28EoQS0AykC9AAjAP7+3v3Q/aL8sPmy91v3nPe7+CX74Pud+qT6kv6cAkEDlQLRA20GGQe4B/sI+wjqB2kHDggVCG0GsARSBO4DeAJkAHH/r/6I/Y38tfvP+sz5mvmh+f/5jPlh+Wv68/qY+z78m/wm/gX/o/9AAPQA0wHyAkgDKwP5AjMDIAQnBJ4D1QIaAv4B6AF1AYgAkv6B/Uf9Gvwl+//5hfmM+RT6rvu4/P37fPsJ/n8C5gMzA3gCbAP6Bc0HrAieCHsGPwUlBkwHKAf/BM4CIgJ1ASYBMgDM/mv90vuu+7X7HvuO+gb6OPpO+lX61vqY+y/8m/zV/IH9df5U/8kA0wG9AZIBSgF/Au4DIAQDBI0CBQITAikCqgLoAeT/hP7Q/Uf9jfz2+5j7Ifzx/HD8KPwv/Ob97wHCAzcCAgE8ASAEygY2B1cGoQQAAwMEsgU0BksE7wEtAcIAwgBPADf/Lf7N/D787/uK+0n7mPvL+2b7Afs0+yH8j/3E/r3+Cf4m/ob/fAETApkBkgG9AQwC5AIkA4kDZQOJA5oEggPkAoYC1QKeA1sCCQFWAFv/qv+V//7+3v1a/Fr8JP1z/TL9Wvw2/EX8hfz4/A79WvyK+976wfoB+536R/oU+oD6Lf5EBEsEEQG5/zoDRQo1DB0LCQnDBiEHGgqoDI0KyAX5Ah0DkAP5AroA2v4c/Tv7Cfuk+g36Wfnn+ET53/hI+Nj4cvpM/KL8/fta/GT9G/80ASkCBQLoAYQBJAMZBPUDIATuA/cE3wNiAgADVwPAAhUAs/3q/Av8NPub/Gv9UPtv+db6uf/QAK/+df4OADcC5AL1A5METwNiAhEEyAVyBSQDEwKxAngC2gHeAOv/VP88/jX+Av4k/Uz8Rfzq/Bz9C/zZ+7j8wv1D/i3+vf4b/5z/pQCgASkC4QG2AY0CHQPcAggD1QLVAlsCDAIaAu8BbgEYAYgADgB//yn/Rv/h/oT+H/7m/fv99P0f/kr+Sv5R/mD+Bf9i/6P/uf/k/0cAjwDJADwBQwEtAS0BGAFuAZIBmQEYAcIA+wDCAMIAlgBAAAAAnP/A/87/x/9i/0b/jv/d/0AAAgGEAcQBAgEAAGL/6/+5/+/+pf0h/M/6//mQ+E33m/Qe86X1ZwHUBwcAufcT97kCPw28DvwLIgX5/3MDBg1UEhQNNQTQAE0CoQSkBcIDoAHc/L75VfoJ+xf7R/oq+nb5/vZP9X/3g/sm/o/9mPs7+xL81f/1AwEGmgSvAcsBfQSbB6UIsAfBBXsDnAL1AzEFfQRbAsf/bv7X/Y/9GP7t/Y38h/p9+dv58/oE/Lj8afyg+5j7Dv0w/+UAWAEfAQIBmQHAAhEEDQXFBNgDVwNsA8oD/AOJA6oCpwGPAPn/6/+j/yL/H/4r/X78RfyN/PH8AP3G/Gn8m/xk/Ur+/v6G/87/+f9kAHUBPgKjApwClQJ4AngC3AIAAwADVALEAWcBQwFKAUMBjwBb/6D+Z/6Z/m7+yf05/cb81fxP/Zf9uv3Q/VH+MP8HAGQAQACWAFgB7wFxAjAC0wFKAW4BEwIwAr0BEwJ7A3wBkv5k/Vn++f+B/Qb65Pd69ST1bPigAcEF+Pxk9Tf3NAGSCcsJKAdNAsn99AC9CdkOuAoAAxUAiwGmAxsFoQQIA+j+5fp0+yT95v2P/eP8tfvu+Bv3mvm6/eT/hP72+2b7Gvw3/zMD9wRsAzIAo/9iAmMFvAYBBvUDxAHXACIC9QMDBBoCwP9D/rP95v3o/lT/Q/4h/M/6Hvti/I/9bv4t/iv9Yvw5/Xj/bgH3AXwBwgCPAKcB+QJEBC4E3ALTAacBMAKxAsAC6AHXAH//0/4w/87/f/+g/pf96vy4/E/9GP6E/jX+l/2B/S3+N/9PAMIAswBkAFYAGAHvAWkCeAITAsQBhAG2Af4BEwKnAckABwCj/4b/uf+c/z7/kv4C/t79Nf6L/r3+oP5n/mf+tv5G//n/VgBrAF0AawDXAEMBvQHaAb0BdQE8ATQBZwFgASYByQBAAOT/uf+5/7n/cf8F/6D+i/6L/r3+/v73/tr+6P4F/1T/x/8cAF0AQABPAHIA1wAYAUMBNAERAe0A0ADeAO0A0ACeADkA6//O/8D/x/+x/3//N//v/u/+E/9q/3j/W/8w/1T/f/8AAEAAZAA5ADkAVgClAO0A3gDXAJYAngCPAKUAswCPAGsAHADk/+v/1f/H/7H/lf9b/1T/Tf94/47/hv+V/3//jv/O//n/OQBAACMAVgBPAHoArACzAJYAjwCPAHIAawBrAF0AVgAVAPL/3f/O/8f/x/+V/4b/cf94/3//sf+5/8D/zv/k/+v/MgBPAE8AXQBWAHIAgQCsANcAGAFDARgB3gClAJYAswCPAEcA3f9i/yn/MP9q/1T/Bf+g/ov+DP+q/0AAIwA+/4T+2v7d/7MAiACc/+H+zP6q/5YA3gBkANX/o/85AOUAUQFYASYBEQERAS0BdQGZAa8BiwFDARgB9ABPA6cGIgKx/Bn5wfrV/z7/oPuq9/PypPL8+EYCGwWL/iz4IPlrAL8HMAqLCfMFiwGGAlMH3AowClcGSAPTAaUA+f9WAC0B3f9T/Pj5Zfgd+FX6ovzQ/bX7UPgP+EL7zv8pAiIC9ABN/9X/5AJ0BtwHOwbmA9UCFgP8A8UEtwQWA5YAr/70/Rj+Nf4t/oH9Gvxy+sX58/rG/O39GP5d/b/8R/0p/4sB6wL5AiIC7wFpAp4DxQQNBWAEAAP3AZkBoAG9AUMBMgDa/qX98fzq/GT9rP1H/Zv8Pvxa/Cv9df54/+T/zv/A/zIAZwFbAvICCAOqAkYCNwKGAs4ClQIFAiYBawC5/2L/Yv8T/4v+3v1A/Qf9QP26/Sb+PP5Z/mD+vf5q/1YA9ABuAWABfAG2Af4BPgKGAlsCBQKvATQBCQHlALMAMgCG/9r+kv5g/mf+bv5K/ib+Ef4J/mf+/v5b/7n/8v8rAHIA1wA8AaAB2gHTAa8BmQF8AWABYAERAckATwDr/5X/W/8w/wz/2v6L/nX+hP58/r3+9/5G/3j/nP/H/zkAiADtADwBYAFDASYBLQFKAXUBdQECAaUAVgAjAA4A6/+5/03/7/7a/sz+7/7+/gz/G/8T/zD/eP/H/yMAXQBkAJ4AwgDeAPsAJgE8ARgB1wDCAKwAgQBkAE8ADgCx/3//av9U/0b/MP8i/xP/N/8+/3H/sf/V/+v/IwBWAGQAlgC6ANcA1wDJAMkAyQC6AJYAcgBWAE8A+f/k/87/qv9//2r/av9b/3H/cf9x/3//sf/d//L/AABAAF0AXQCPAJ4AlgCsALMArACWAIgAZABPAEcAIwDy/+T/1f/A/6P/nP+O/4b/nP+j/8f/1f/r/+v/FQArAEcAVgBdAGsAegByAI8AgQB6AF0AVgBdAEAABwAHAPL/3f/H/8f/wP/H/8D/wP/H/9X/5P/r/w4AHABPAFYAVgBWAFYAcgBkAE8AVgBPAF0AOQAcABwAAAD5/+T/5P/d/93/uf/O/87/zv/d/+v/AAAOABUADgAyADkATwBAAF0AQABPAE8AQABAACMARwAVAAcA6/8AAOv/+f/d/+v/5P/k//n/6/8AAPL/BwAVABwAIwBAAEAAOQBAAEAAIwAyACsAIwAjABUADgAOAPL/6//d/+v/5P/r/+T/6//k//L/8v/5/wcAHAAjADIAMgAjADIAHAAjABwAHAAjAAcADgAVAPn/BwD5/wAA6//5//n/AAD5//L/AAD5/w4ABwAcABUAHAAOABwAKwArABwAHAAjABUAFQAVABUAAAAHAPn/AAAAAOT/3f/r/+T/8v8HAAAA6//y//L/BwD5/xwAHAAyABUABwAHAA4AHAAVAAAA+f/r/+v/8v8AAAAAFQAAAOv/+f/y/+v/BwDy/+v/DgAAAAAA8v8AAA4ABwAcABUAHAAHABwAHAAVACMADgAVAOT/BwAHABUA8v/5//L/8v8VABUA+f8jAAAA+f8yAA4AHAArABUAAADk//L/AADy//n/3f/r//n/AAAVAPn/KwAyAEcAXQBHAEcAVgBWAF0AVgBWADkAVgBWAE8AXQBWAF0AiADCABEBKQJ1CQoUPQ/uBtD97PpNAsgFZQPv/t7yeeqP7Xbx+fSI9ZbyY/Ih9D70DfKy8mbzG/prCP0hHyz3FJME1wB0DrQbhx2bFzsGdvGm6FDwJvY+9NvxTvIe8+7wpvBr8sv7dAY2D/wTaA/6BVEBCwcjEG8Uxg9cBdn7l/U19rT4CftV+kH4+ffw9r32P/cB+7YB+AexCuoH5AJb/+0AVQUfCUcI+QK//Kb43/je+vH8Vv0H/dz8PvxT/NX8DP8iAnkFqQfKBsIDlgDr/7YBuwPCA24Bnv2O+v/5EPtk/a/+DP9b/5X/6/8jAFEBCAPbBNYFVQWeAzQBcf9x/10AlgBU/0/9fPuO+rr6U/zk//UDDwNsA8ID0wS8BpgGHgaHBV4D7QAjAIT+fvwS/Gn8GvzB+r75dvnI+kz85v2V/+v/3f/V/3wB7wEiAgUCWAFWAK/+2fv8+LP1AfNh8bnv0fAl80D1qfyWEMAaFBXkDUcIMQ0FEgYVMRWyDbb+8fSU9GL01vLz8jn1KfcM96j2hvcL/C0B9Aj4D94Q5guuBp8GvwcCCc0HjASV/2v6x/fo9uH22vYn+b/8bv4t/tX83v2zANsEHAiPCBAGjAeDBgz/z/qV9xL5Mv3q/En7rfh39Gn0LfvJAMcCSwTyAvICEQQkA7sDmgQDBOQCVAI+/7X74vnp+ZT8Nf5n/pT8RfwE/Lr9PAEkA74EIgWABeUFQgYeBqcG4we4B7wGvgTTAar/YP6L/iL/Uf7x/CH80vvc/Nf9qP73/pL+mf6o/vT9hfwQ+8z51fcc9fryb/Fv8fjxO/Na9Bz1XfWZ9of62QbMHDMmFiPgFoMORAzzDdcQWBFpCuf7YfE57fPqs+r77Y/1X/tz/bj8AP2v/h0DiQtzE/MVuhD+Cf8EcQJ1AVEBGgJdAIj9ifjx9Kn0YvQ4+uv/ygM9BKABnP8AAKMCPwWbB3sGVAIC/tb6u/he+Ab6Evzx/Bz9ivuu+8b8Lf6NAl8GRQfsBZwCIwDh/nj/yQB8AdP+z/qj9/72/vbd9/j5Qvsh/Mv7Rfwt/in/+wBbAmgEoQR4AqsF/AvkEq8R9QsEB40CMALaAaoCHwF+/Cf5Lvmw+ef4FPqs/acBLgSTBGAE1QIaAusCFwZCBmUD3f9k/er8Qvst+1j7JfvZ+2L8+Pwr/bj8T/0AALYBRwA8/vr63fdK9mL03vIU8sPwNe6s7SDxpPJw/O4WeiP0I3galA+pD5QPeBLdFXoTtAOv9iPyfuxr6r/s4/SU/GL/4f7E/v7+nP/6Ba4O5hPbDyIKpwZDARj+sfxZ/vf+xvxV+nv4N/eB9VL5rADzBRIHfQRpAqwAwgDoAZADJAN//5T8jPmS9pHz1vJA9bv4lvri+ZP58PYR9nj3h/oA/Q79CfsI+K34AftYCVIcrxw7GQEOEAm/B5sHVwuhDKAJRv8Q+wX3qfHP8lf4AgGMBOkEjQLTAawA5QAlBlgJWAlyBesCqv/P+pf4J/kk/e/+MP88/jv71Plr+kAAhwV0BjEFsQJHADz+gf1H/ST99vsg+aP3JPXn8PfuOvD68ob0hvSY80fy4PPR+ED9BgWgER4exCHdHcAV9BDDDmAMLA7bDGoFLfs29FfwOe0B8GT1HP0mAeEBPgJiApADnQVIC0IOTg0fCfAEugBi/PD54vkl+0n7wfqA+vj55/iW+kb/mgRQBjQG9QNiAuv/hP7+/q/+a/1V+qb4evUU8t3v+e+P8hr04/SX9VHzj/L39pH79ABbAkgL7BVEHLgaSRaqEs8NlwvRCwoMtQbh/mH5Jvbn8yPyffYl+8IArwHAAlkEZQOwBNwH5AowCuMHXAXvATz+LfsG+gb6+vqn+3r9s/3P+iX7l/1bAowE1gWkBVcDEQF8/gn+xvyk+i75tPiZ9sHymPD+7onwn/Dp8S/0IfQ89mz4tfuE/jIAZAhNEtIZWRyzGKgURQ9oDGULBws5CHECGP4g+bP18/LG9Pz43v18AQgDfQSJAy4EuQV3B+UIzQeFB8EFQwEr/XL6jvpO+tL7yf0T/4/9y/uN/OT/YgLYA1IE7gONAnj/Of1m+0f6sPlh+ZD4s/U48nHvMO/k77vwnfIT9HX2SPgZ+V/7afwkA7cMGxUwGuwYXxZpEtkO2wwdCw8LCweJA5n++Pkf9pv0mfaA+lT/UQF7A54D7gPuA4wE8wXKBrAH5wYUBVgBVv3l+s/6Evw5/Sb+YP4t/sn9i/4p/7oAEwK5Al4DKQIAAHP9JftL+QP5ZfiV9zX24PNH8onwsu9X8AbyC/R19gP5wfo+/AD9QAAVCAsPTBc1HHEdVRVgDBAGPwVyCGkHdwcbBev/AfiU9EP2tPg5/YQBVwY2BzUEfwIpAk0CWAEZBIwHlAdoBAkB+/23+ZD4pPrk/1EBHwFyALn/5v3q/LH/tgEwApkBywH5/xL8ifg396r3P/e59473qPZR89/w0fBv8RTyKPTA93L6IfwE/Fb9ywFdCIoO/BNmFo4V+RIEDzwMhgoQCXAHuQUgBBwAK/3e+lz6wfr9+/7+pwGCA/ICJANGApIBfAEPA8UEbwRXA3UBzv/0/bH8Xf0t/tP+MP9rAN4ABwAF/5L+Bf/E/ob/nP/T/oX8P/pL+Q/4jvfM9rb2Lfbq9EX04PNt87zzwvXy9wb6F/sS/P7+3wPJCM8N+xD+EdAQ/Q4/DV4LAAunCV0IJQbkAkAAIv8J/mv9Mv26/Rv/5QD+AT4CtgGBABwASgGNAscCYgKZAboAx//O/2L/Bf+2/qj+3f9kAJYAAABx/+H+i/5n/nX+PP5z/eP8Gvwe+1X64vnp+Qb6xflS+QP5dPg6+FD4kPiX+Db5Dfr6+lr8E/8aAqQFDgjLCT4Kpwk5CKkHEAlDCaUICwdqBQoEFgOGAgwCdQH5/2QAtgGGAiICbgGzAPL/MgACAdoB/gFnAe0APAEmAWQAVgBWAFYAVgC6AC0B7QArAH//av8M/3X+fP5g/rr9TPyD+wH7wfpO+v/5t/nR+Ln3Kfeq9zf3zPao9lT3+fd7+Kn5KPxq/38CEAb7CO8JswjUB3AHPAmDCTQJcgjSBkYFvgR2BB0D7wGPAFgB5AJPA08DaQJYAUcAiABRAa8BoAFRAW4B/gHvASYByQByAMf/QAClALMArABdAEcA+f8p/y3+Av56/RX94/wh/G37TvpZ+cP4gvgP+M73o/fw9mf2a/Uk9U/10PUb9zr4LfuL/hYDwwYtCSsL1QppCt4I2glsC4kL2gl+B+cGtwSJA0YCRgJKAev/PAGjAnMDhAHQAF0AnP9U/2sAIgKgASYBNAH3AVgB8v9rAPsAGAGWAHUB4QHJAIb//v4+/y3+rP3m/WD+Of2K+0L73vob+j35mvlL+UH4VPfV9yz4DPdr9aL0zfQ59R/2n/gX+3H/0QMQCd8LzAwbDWgMVAoQCYILxQxsC1YIQgYnBEMB+f8jANcABf9U/5kBnAJnAbn/wP/T/m7+Rv/TAZwCPAGPANAA1wA+/6P/9AA0AfQALQGVAsQBFQC2/vf+Uf4c/d796P7M/rH8rvt0+4D6dvmw+Z36DfoD+bT4J/le+Kj2AvZz9b/0ovTh9nb5ivulAFoHUA5FDywOuQ0UDVsKHAgDDKsNnAoQBlkEeAIY/i/8ZP3A//v97f2ZAeQCOQCB/b3+xP4f/vL/bANoBJIB5P+lAHoASv41/iYBywH0AJkBSANxAk3/Q/43//f+a/0m/pX/fP7v+3T7C/w7+7f5efqg+y37zPmk+hf7zPmG9yL3lfcR9mv1r/aX+K34bftZBKQNoxJWED0PTg3cCpQH3gg7Du0LPQeQA2IC+/0j+nL6Gvx6/SH81f+7A84Ckv5W/dP+3v2V/08DJQb8A3oAx/+q/3z+R/1i/1gB5QBuARYDFgMjAMn9bv5U//f+G/+eAMD/v/yy+pb6EPtH+uz6d/zj/Mv7Zvsa/AT8dPt5+iP6ofnu+Jf4ifi99n32o/c+/zQJgxHtE4wP9wxRCY8INAZnCbcMDApGBZIBwP9r+on4RPmU/An+i/7cAswEKQKB/Rz9nv1K/gUCwQU7Bk0C6P70/R/+Xf1r/U8AZwFYAVQCfwLCAIH9Mv1R/uT/3f+WAEcA5v3s+gb6h/rs+rX7AP1z/Vr8fPuK+3D89vvD++X6TvpS+S75CvlN9yb22vbr/8oLVRXdFf8PhAw5CNkGtwTeCAoMvQmhBGsA8fyq96D2u/jx/MT+MgDKA9MEPgL7/b/8v/z3/p4DqQdJBsQBs/02/FP8cPz0/fL/1wBRAT4CoAFN/xz98fzv/qUAfAE0AcD/T/0X+2v6OPo0+yj84/wV/Wn84Pve+iX7ivuF/Mv7O/tt+6f7//nE9o/1Vfo2B54Tuhj1Ez8N+wgQBjUESwR6CJIJbQbTAe39w/gk9Ur2Mfqg/iYB7gMXBswE5QAr/bX7Dv0TAucGdwdBA4v+O/tc+vP6jfwm/uv/hAHVAmkC6/8y/Vr87f1rAHECWwL7AHX+0vtH+sX57PpT/Hr9GP4f/g79vPso/Mb8Cf4f/gn+8fxw/DT7Evkm9gD1ZvuzCMUULxenESQLYQfpBNwC/APNB0MJwwaqAkf9qvfx9Mz2F/vH/5UCjAQGBQgDx/+U/B77Xf3AAvYGwwYIA+398PlE+Z36YvxK/g4AbgETAkMBKf8O/Uz8Z/58AWwDnAJuAc7/c/00+2j5Bvrl+gf9GP7E/hz9kfsJ+/37+PyP/TX+Q/5W/V/7b/lS+WL/iwl6ExsVNBEAC8oGAAMCAYsB7gOOBT0EiwHj/Of4zPYP+HT71f+CAyoFpAWXA7oAFf3v+yb+7wF9BMoDYAFH/Qb6e/hS+QH7Mv3H/5IBqgIpAmQACf4V/dP+oAG7A1cD6AE+/1r86fmf+Cf5svqB/Qz/8v/M/sL9zfzc/Kz9PP43/+j+vf6N/LX77f0nBH0MgRACEfwLIwiJA+gB5QDhAeYDuwN4Avf+hfyM+ZP5lvpz/Z4A5AJgBNEDKQJb/3P9v/yS/h8BvQGPABH+L/zB+t76Afsv/DX+RwCLAa8BZwFAAMD/zv8fAeEBywEJAcD/Jv5a/IP7WPsh/Ef9Ef7+/hP/DP91/hH+QP0A/Xf8Zvv6+iX7hP71A7QLgRC6EA0NIwg4BcACaQJGAvUDiQMFAkr+1vru+HT4P/oS/Kr/0wG0A7sDowK6AEr+T/3e/V0AhAFYAdP+PvxV+pP52/nl+hz9W/+ZATACGgImAWsArADEAdwCJAMWA8QBTwBn/gD9/fvn+9z83v0T/3//uf94/73+9P1W/Yj9v/y4/FD75fpc+mT9HQPrCgcQcA92DPgHzwV/Av4BUQHVArkCpwEp/3f8lvoD+Zr51vo8/kMBcwNoBPICrAAO/Vr87/tg/hv/f/98/sn94/zZ+zT7+vqb/Iv+NAG0A50FIgUrA6cBQAAOAMD/6//d/6P/Uf7V/EL7jPnR+Ov3/Pjw+Rf7jvoB+yT9DAIOCG0OuBJzE/sQYAxHCIwEMAJAAHH/i/4A/Tv7S/nr95z3UPho+Uz8OQCCA5UFyAVEBL0BXQCG/+v/1f9//xv/Q/5d/bz7svo2+fD5dPs1/jQBbANZBOYDewNiAjcCEwIaAkYCWwKvARUAfP64/Mv7WPtT/Bj+8v+gAXgCHQOjAnECvQHLAS0B+wDO/1n+GvzD+Ej1xfHd747vlvKX+OgBWAlfDgsPew7MDJ4LxAn0CMEIegjgBtEDOQA2/IL4evVp9Mn1Qfg+/Pn/HQP1A+YDxwIaAmICKwMZBCcEaARzA1sCQAAY/l/7zPku+Yf6KPw1/gX/cf9//zD/r/5u/jf/wP9yAAAA+f8w/zz+Xf2b/BL8oPvn+wv8AP1k/aX91/0VAH8C2wQBBlAG5wazCFQK/gkVCIAFDwNPAGT9fPvs+hD7p/uN/A79Cf4+/08AAgEaAngC5ALuA/AEqAQIAwIBzP45/RL8fPsJ+xf79vtP/Yv+/v5U/xv/eP85AEMBDAJUAlsC0wGnAbMAsf9K/gL+iP3C/Rj+N/9yAJkBaQIWA0gD3AJGAv4BvQHoAWcBNAG6AIEAav+2/mT94/xi/IX8m/yN/Hf8Pvx8+076UPje9Tvz7PJa9JD4Av7qB4YSrhkaGvMVlhCDCWwDL/xE+dH4q/re+sP7jfw+/J36JPhX+Db55/tWAKsFIgqmC9gLHwmKBhYDHADG/DT7vPsk/Tf/DgClAOv/E/8f/kP+6P7y/xgBfwJoBBQFuwP3Afn/ZP3I+hn5gvju+Cr65/t6/ff+x/+lAEMB/gE3AvkCAwQiBSoFoQRPA7YBW/9H/cv75fp5+rr6bftM/CT9ev05/QD94/xi/Hz7g/ug+xX91/1xAjcK1xBPE3wREg+GCucGKwDn+xT6svqH+sj6Ff03/9AAE/+Z/rP9sfwc/T7/ywFGApAD3AKjAssBRwA5/XL6/PgD+Wv6kftH/eH+QAACAYQBEwIpAvcBmQE+ApwCRgLhAQUCHwFx/1b9w/tV+mH5tPiC+BL5mvkj+o76ovy6ADgF4QkED0USiRMMEkkONAm3BGL/cvpG90r2oPaq96H55/ue/RH+i/6G/xwANAEiAsACbANoBH0EngM3Ao7/+Pxy+tj4Hfju+A364PtD/ogAYgIdA9gD7gOCA7EChgJ/AlsCNwIaAnwBiAAb/7r9cPzD+4P7L/yP/Yb/bgEkA3YEBgXpBCcE3AKLAQAA6P6s/fj8Nvxt+wb6M/iP9Tvzk/H18Hbx0vNL+UMBYAnJEOQVHxktGcoW9BApCmUDgf1Q+CT1GvTG9K/2u/iH+rX7HP18/sf/HwF/ArAEigasCDAKjQpnCdkG7gOzAMn91vpv+ef4//l8+9f9HACnASkCIgKvAU8ARv8f/nP9qfx+/D78KPw7+yP6dPhU90P2VvXc9LH0c/WS9vz4K/0RBJ4L3xOgGSAcKxuwFxAR9Ah6AFD44vF97vnsau/S89335v1i/8IDOAXTBI4F4gSVBUIGbwSBCBAJ4QmiB7AEDwPm/SP6mfZp9Db0XfUT9+D7AADuA04F7gZwBwEGCgQtAaD+3Pwl+zH6Dfpy+kL7O/tQ+wv8hfxP/QL+5P80AWUDPwWYBkwHqQd7BswEFgP0APf+Ff3Z+0L7O/vZ+2n8Dv2P/Sb+Lf41/m7+i/69/jf/wP/eAE0CVwMRBFwFdAZACAkJEAnGBzsG7gN8Adr+cPwt+xT62/lr+gT85v14/+UAbgHTAZIBEQEVAOH+nv13/C/87/sh/Mv7UPtc+iD5x/fe9Yrz9fDr73vwuvLc9LL6hQeyFUQfJyTWJZMkoh/FFOUFEPvp8VrpI+K64tjoNvHH9/7+VQUCCXoLCgz+CUIGcwPEAfQA5AKOBZsHigbPBU4FAwQ5AKT6WfZM9HD06vTO90D90wEqBWsIAAt4ClYI4gQmATn9qfmG94T2ePdZ+dL75v0cAOEBKwNzA8ACkgHXAJYAegCzAFgBvQFgAUMBrACV/3r9O/vf+M73N/fo9sz2qvcS+cH6oPvG/CT9GP7v/q8BRgUHC78PghNVFQgWGBRAECkKTwMo/Ij1AfAH7bvt/PBd9VX6o/9VBbYJYAxoDOQKBwgNBSkCzv91/k/93Py4/ML9r/6o/sL9Ff2i/Gn8/fvZ+3D89P3h/rn/ZAACAXIAKf+b/L75tvbE80vxMO9K7u3tge3O73j3VQWvEXMbCSHDJqwoeyaaHG4RKAen+4TuU+SH4gflC+mI7fH03v15BWgMog+BELINVApfBu4DCAN8AaP/Ef4VAEYCwAL7AEr+l/0o/Ef6D/jD+If69vtz/U8ApgNOBU4FkwQdA7MAzfwZ+Wf2HPVR8zHyY/LV9DD3e/jR+MX5q/ot+9T59fjV/NsEYw0YFP4ZWh94IgkhWxppErYJav8U8vLny+O45OHmF+t08zL9nwYsDvwTSRb+FN4QHQtXBr0Bl/3u+IT2DPeF+V/75/u//An+Kf9D/hz9Mv0J/hH+GP6G/2ABIgK2AfQA1f+B/SP6GPZf8zbx2u4a7G3rWuwK7invUvF/9+IEyxGLHEgjjSolLlAuDyaXG6UQ0QOU9ALmf9/Q3cDf/+F26T70av9gCU4QcRUzFosUXRDfC3IIwgOx/6v6P/pf+7j89vst+7H88fwV/Qn7p/tp/Nz8U/yP/ZYAIgLOAkYCKQLXAC3+pPra9lP0rfAC7orrvOtp7BztQO3r7/3zIfypB08TMR1cJWUrOi7kLVAmYByFD40CSfMM5xvfcNxP3XTg0eid8gL+swgfEXQWPRcoF4ITMhDoCekEqv9C++n5jPnW+iP67Ppf+838+Pz9+xr8U/wc/UD9tv5yAOgBnAJ4Ak0CXQD0/VX6qPbs8lTvaewx6pPpNukq6lrsM/D59Af90AioFK4eCCYfLP8vGS+FJ3YcyRD8A1b1HeiH32Lc9tt43/fmpvDL+yUGqQ9GFRUY8RerFV8RCgw2B3UBuPzM+en5KvrM+bD53vrj/Cv9qfxw/HP95v01/tr+VgBYAbYBywFgAUcAyf15+v72fPMs8HfsVeqf6J/o9eiY67buLfMg+QoEvw8AG5QiISoZL1ExnitUIuMXAwze/b3up+Mk3bXbjdya4cXp0vO5//4JNxLuFi0Zuhg4FTQRXgttBlT/NPtv+an5Gfnr93b5X/us/QD9iP0Y/j7/Pv/+/hwAyQAtAawAZACx//T9g/tB+Ob1XPI377zrHOph6Xbp1Oko7PLv9vNV+gMEGQ+nGfYhJikeLlUwuyu7IwkZ3Q2O/yDxzuQ83ujbGtyC4H/nXPLC/QIJCRGYFtoZ2hlhF3ESnQ1pB7oAoPt2+Rn5x/cp9wj4yPrG/AD9nv29/jkAAAAHAKwAfAGvAbMARwDv/oH9a/qj93D0LvEY7iXrqel+6bfp5epP7QrxMvVH+kYCWQzZFjseXCV/KvotpSsNJe0b4RHzBSL3JesN4szeDt1N36rkye38+IID4gxPE4EYMBqdGDEVehCCCwoEkv7B+rf5LPh19hP33/iY+wv88fz7/ar/VgAOAC0BYAEwAvQAOQCv/gf9R/rE9jb0gvD07c/qvOh+6Rnp3uqZ7sDv7fU/+jwBIgpvFBQdcCL0KI4tNSxEJ4UfOBVYCf37MO8L5LLfZN273SrigOoH9TkA4QnoEVoXqho+GrAXqhLkDRIHswAE/DH6u/ja9q/28vdc+qf7NvxH/Wf+6/8AANcAYAEaAtoB+wAOAAL+X/u596n0WvEf7jTrIOn16Cfp1up+7A/wfPNx90X8mgR7DqIXUx+VJTorAS7mKykltxynEf8Effb/6Wjhpd322x/eIeQC7uL5xQT6DRsVExqtG+gZZhY8ERYLlwP0/Zb60fhq9971/vbK+KD7Pvx6/XX+5P+zANAAQwFgAaABjwBb/6X9oPvY+IH1gPJx7+rsTuou6fzoHOrE6y7u+PHe9Zr5hv+PCNoR9hnBICgnYCxxLVgpnCLoGZ8OrADB8innw+Cq3C/cKd/h5iDxFf1MB48QKBdlG8IbixlGFdQPyQh1AZv8P/ps+H329PW59w36WPv2+2T9tv7H/w4A3gB8Ae8BNAFyAJX/Nf6K+xb44/QN8uHup+tS6croGenW6gvs2u4j8nX2qflHACsIpxFnGeUgaCeLLN0tkinfI+EZcA8OAJHz6OZE4YrbUdtg3rbmA/Gb/DYH1xDbFxgcRByNGrkVjxClCBMCMv1y+jP4SvYt9pX3sPmA+uX6Wvys/Wr/zv/0AIsBfwIwAu8BswCZ/oP7uff28w/wm+xh6RTn9+a55wbqtevk75HzFvg7+6MCowpoFB0bRSJAKKQtcS22KUUibhlODX//tPDo5hvfddsN2pnehOb/8TL9ZAinETQZ0xxVHWIanxaBEO0IywEc/Wv6Qfgf9t71f/fM+Rv68/p8+579df6q//sAIgKqAikCEwLtACL/QvtG93zznO837MroDOf+5nToVepa7AjwvPMI+If69ABOCLESvRmnIWgnMy4ZLy4stiTmG/EPWAEj8i7mYN7i2ZjYlNz55O7w4/xyCKMSTRqCHkkeiRvSFskQswj7ABr8YfkB+BH2bvay9w367Poe+7z74/wt/v7+egB1AU0CIgIaAnwBwP8a/M73xPOy7+/r6+cy5QDlhOZs6Nbq8O4X8wH4CftiAtUK/hSlGyckISoVMPEvCizaJAAbCA6Z/nvwReT53JjYQdgd3bvlDfJn/nEKuxMrG0Iesh3jGh4W1A/GB+0A+PzI+j35hvc6+MP4VfoN+vj5//mh+YD6afw5AK8BcwP8A+kEvgRgAfj8ufd081nu/+nQ5afjquQf5jbpp+sI8K7zkPhY+6cBUQliEoMZvSG6KGEvszCOLRknAR4fEXUBR/Jk5UjdD9gw13zbd+RI8Dn9fAmCE+MaLB7sHV4bHha/D6IHhAEc/Xz7xfmm+Lv4jPmr+sH68/qD++/75/v2+xH+lf/QAMIANAFDAXH/5/tG9xr08u+G7Dro3+Uk5cLlueed6qjuBvJW9ZP5owKMDLwWDx42J2YuoTTOMm0uviQpGk0K7Pot663gPdlD1oLYMN/46UD1VAJcDT0X3xuvHE8bFRgDFNsMjgVPAHX+Xf0h/AH7R/r/+an5FviV94T2bvYT9+z6XQBZBK4GBAccCKcGTwMv/KX15O+66lnm5eIj4orj2ub/6cTuWPMC9mz4Bvrd/80HgRAVGCkinivHMto0ijEkK7MgvRGV/zDvGeGY2KDT1dSn2wrmuvIcAJ0Nmxc4HYAdSBtAGHES9QuwBFYAZ/4R/i3+5v2S/nr9Ifw4+tj4o/fJ9bv1+fcE/Ln/oAEZBDEFpAXTAYj9W/ed8hztJ+ml5ejj7+Mr5UnoruvH72PyfvQz+EYCoQyuFi8fRSodM6c5LzegMa0mbhkSBx/2bOV52ibTctJG12Hh6uwq+hkHuBJNGoscJBv4F/UTTA9nCScE7wHTAdMBSgFAAHX+tftl+AL26vSD8y3zc/Xz+noACgTlBWEHYQdgBDf/5/ik8mzt3+hD5pvkDuUY5sroiuu27tHwP/K889H4OgP/DLMYByNaL7A3eD0tOacx3CIrE2r/YO5n3urUZdAJ02bb6OYT9AIBbwyOFacZIRrKFu0Tog+oDHIIOwbIBRcGhwX8A94A4/yc9wT0tPC78MPwkfOC+E3/BgVHCL0JughfBjwBwfrn89/tvukM56jmSubd57zo2evV7Lbubu5x7xbwkPiEBK0TzR/MLLM4EEHIQEI52izcGkUHI/LN4V3Vn9Al0LnX+uKY8M38/wf0EIIWaBdxFRMSUw8xDUQMjQr+CdMJrwkZB9UCHP199l7wPuyK6xztbPDh9qwAoAkSDxwQvA4dC04Fm/zN9ArudumZ5qrnIOk069nrhuwH7Q7tUevB6ofqxOts8JL+sA/QIMctmzpdQ85FTT2mLjwcTgjg8+XiXNcC09LTiNpi5Lvw5frfA68JNg+BEGQQew6fDhUQNxKxElgRuA+rDeUI7wHi+RfzlOzb6VzqW+9z9Vj72gEyCKgM7QsJCT0Esf8b+iT1//Gq71nuge2e7RrsdumZ5vnkhuQ35DzmC+l67cP4owoYHDor5zarQGpFE0KcNZwlWxL3/tXswN9G1zLVwtVI3f7m1PG3+WABdwdcDdsPbhGGEkQU7BWUF/oVFhM7Do8IfAFV+tbySO0G6kLrle/X9V/7WAE7BgALtAt1CYcFEQHG/O74Z/Ya9GvymPAd8AXv9utq5wTkmuG34bDhcOTH5x/uDfqrDe4eai2FNzRBLkQqQGwzAyQ8EXz+wu344QbaKdci15DdQ+ac7zz2l/1oBCQLYQ+NEhsVRxghGg8bDhitEzgNJQZn/rL3GfGN7BTqdevd77v17/v+Aa4GowqXC3gKlAfCA+j+Lfts+LP1nfK57/Ttm+xo6RHmWOMg4dHgaOE35Eno3OzQ9VgJqBxLLP839kFQRuZDOThuKT8VYAFR7oDiPdma1kjVutoe47Hs0vMt+6ABpQjdDWkSOxYTGlIc8x1EHC8Xmw9fBiv9LfZN72vqOuje6vXwx/cc/RMCSQaPCHUJHAiABZUCf/+e/Q79Hvvo9sHyeO8L7KPngOLO33be8N7632LkFOp17pv00gYWG0ErrzQLP2VGykZBO0grkhmVBfjx5eJo2SvVg9N21njfBupO8t/4awCBCIwPrRMoF84apB2mHtoccBdkEAsHMv279bnv3ury54zpqO7J9Q36Ef4wAloH7Qs/DagMaQoSB6YDtgE1/pz3rfDW6nvoxuRS4VLeqN6c3wLjbuYQ68LtyvCm+PULrh6/Kpw1FUAXSWdE/TnDJhsVhP5I7Wfe5Ndk0orTn9iU5L/sTPS3+eEBUQl+D5AThRffG/0eOSAeHsYX/Q7fA1z6nfIr7TroFOdy6tvxifgC/k0CgwawB94Iawi6CFAGPQSqAs4Ccf89+cjyVu0S6SjkmOAf3gfd49xQ4LjkdOg76wzvxvz2EesiTDISPztJ5kvTRPw25iOHDRj2nuV52tLT/ND70gLblOSq7Db0F/uGAtoJUREcGM8dWCGxInAiFx5NFcsJPP4r9Tzuzek358Po4+xR89H4gf1kACICWQToCcEN0g6rDR0LmQmkBW7+s/Xf7X3mVeJB4OvfLt6S3vrfFeWv5njnaOl67b75kQ5II9Az+D+STNRPwUgZN5wiVwuI9WLkNtmu01XSadRb3CTlp+v88H/3cf93B0cQRxjjHyIlPSemJhch9RasCLH8cvJf63/nQ+Ze6PTtAPXP+pYAuQInBLIFDgh1CQ8LeAqLCRUImgT7/QL2Q+5G51jjguAD4Vvf3d/636fjGOaE5j/nbeu//CQT5ybKNtdDxU9oTyBHoTQSHx4GY/Kk4pPZddO60snVu93L477pLPC29jf/uAfrEjIbpSNhJx8pwybjH4kT8wVy+pjwHuu55/rnoekF7+fzV/g0+2v97/75AqIHmA4HEzoT/hFtDt4I2v7c9BDrJOXy393fkOAL4SLft+Hs4j7kg+Oi5KboAfOCC2gfxTRPQ9hOqlJsS7Q7ViNmDuj26OZP3YfXqtSo1u/bA+Hq5DHq1u82+REEFw5UGmwjeCoAK/0pqiJmFssJ+PyK8yHsmukI6OzqLu4u8aj2R/pi/Jz/9QPGBzwMLw8HEGgP/AvgBmsAXvgP8EvplORy4hTiaOF04FDgkt7W36vfmOA15rnvOgvZHh423EKHUH1UNUzHPTgleBJc+uDr69/b2ePUStYj2jXe5N+X5bjsCvZUAhEM1RrHIoEr7SutK/kiUxd2DOv/W/dD7v3rWulY62nsqu/w8cb0hvce+wIBfAkSD+0TQha7E9IRbglUAvL3LvEd6FPk/+FL4crgzt9N3+Hecd8m3nTgWOON7Gf+KRqSLNdAYkpjWNZQmEY9L0UaPQTr767jvtnf1YDSOtjv29PeYeGT6Sry7f3cBzUU1B//J2otWSxmKf4c0hEBBhL8vvG86zjq/+lI7SbuLvHE81H2V/jV/IgATgWADfAUDxamFosRzAzrAmP6Be8L6Xni4OAD4efgJt6I3Tjfo99j3wXfy+Pz6lUFEhewLxQ9f01hV5tSRkWtLmka8AT18GnkL9lu0xXV9dgR3r/cuuKf6DTzTPwUBTQR2BsBJsIr0ywjKMAdYxUiCgX/IfTq7Hzrz+qG7HPtHfBM9Hj3p/t1/uUAgAWcClMPaA9MDyAMSgk+Akn7Y/Ja7K/mVuX24yfhod7V3LvdztzO3G7eneLN8X8K/hzdNSI9wlOeU7NQvj+9KZQXXQAN8gvkJdgV1RXVrtsa3LjcFOJe6LXzAfvdBcYP1RrPJZArMS0lJhkfbRYgDCsAOfUi72nszexs7WfuwO//8az1I/qu+2r/0QOcCowPKhCpD5MMYAn3AbX7xfFf66HmJuYa5Lnf0N2x3ADd0N3z2sLdweJI+CoNdx9ZNDRB8lXVUh1OyTuuKdMU9ACF8RfjY9ec16bY+91129re0uNR6xzypvg+AokLrhbaIVonwSj5IqchaxgoD24BRPkh9J/w8u9b73Tw+PH988z2YPYm9gr59P2CA8EItwwyEEMRlA8AC7ECI/p28Xfsf+ce4xbgGN6I3S7eJt4/32zdM+B06N3/ngsMIiUuRkVAUAhOC0pEN0grbBOXA7ry5eIm2ybbHd013pTcOOKh5uPs3e9R9tf9tQZ8EYIboCEdI+siFiPcGuERuQWc/yD5PvSy8onwY/LI8jz2w/jh9lf4vvm2/vn/xAHbBJsHHwmICNsEawCm+Enznu2M6SriY9/m3Sbei95d3Rje8eEh7EAARQqmHtkpaD/iRwZIpUO1NlYrThi2CST4HOp+4UHgeN+l3VLeTuIP6KLsG+8A9ez6OgM1DCAUWBnpHIUfwSDcGskTiQsGBZz/xfne9Qv0dPOs9VH2bvYV9ZL28/o2/Er+Yv+mAy8HXQhaB0sELQHL+0b39fCz6n3mz+JE4ffeSN0p31vcuuIU4q341f/JE+Eh8zBeRuBBKkh2PHozOCWgEb4Ed/RB6CvldOBH4oHd3uLj5KTqO+uV70j1X/vuA08LWxLlGOsa6h8bHZYYfBGJC/MFiAC6+uf4G/eV93j3oPYy9UD1afSq9+j28/qE/rECKAebB5QHCAY0ATL9SvbW7wvs3+XE447fqN6C4One/+Fa4XrtRPmWCLcUbyT9Md5AGT/yQk01IzDRHlERDwOH8uDrxuRi5HbhbeCg4wXnEOtk7UjwBfdf+3kFtgnSETgVcBouHBYbexYQEbQLKAftAA79vvm7+GX4Ovjh9qD2iPVN97v4WfmA+nr9OQDCAwgDDwOZAUr+3vp69Trw/eus5a7jA+HH37nfdt7s4r3mE/fO/zcSwB3JK+Y7Ij3IQHI48S9VJXEVpQgj+k3v8+ql5ZDlMeJ+5IHl8+o76z/vpPID+TIAGQeaDAATdBZpGqAZKBenEc8Njwj3BH//JP0X+6D7+vrI+uf40fhl+IL4Xvgz+KH5fvyE/hUABwD+/jX+Bvpx90fyau+H6qjmReT44UTh5+Cm4DXmLvH5/+sKpRsBJkc4SDv6PbM4IzDIJZYYBwuZ/nLyZ+5j6pjoyeXX5X/nDerL64bsrfBI9fj8ngMMCn4P2xSdGMsZXxZBE7INqgqABacBdf6//LH8Ifz6+lf4VPfe9Sb2nPck+If60P1HAAoEaQI+AnH/j/3H93D0Iu+g6yzoYuQe4w3iTuKn43Xj6emC+EYC7RCXG+woMTjqN/Q7wjO+LIMhCBZKCdX8HPJx78vrjOkY5sfn1ueN7ALrzO7f8Az3rP3wBKcJ/Q4dE4wX4BZoFEUPFA0mCSwGMAJN/47/a/2L/p365/gT97v1Lvno9pD4svoH/SICugD7AJz/5v2A+sT21PHa7iXrkOiE5tXkQuMo5ODjgeXf7Vz6wQVjFd8bszCSNNg74DblMGsoBh2vESoF6flJ87LvLu4N6lLpo+fz6kLrZuvX7abwV/hn/sEFKQq4D3MTkRaVFRARMw5UCpYIpAW9AbYBVgD0AEb/bfsS+Ur2mfaX9QH4Tffv+xH+5QBUAlv/tv4h/Lv4a/Vh8ejuPuyM6TfnoeZk5XDkZ+bc5AnzcvqPCPoVPx1OMB0zojeoNEEreCUfGf8PcgWr+mD25fKh8b/sWOv651jrsOnP6mTtUPD8+H//SQaQC3sO8hLmE6MSXw78C3wJUQlaBzUEhwVxAsoD0ADS+2P60PXE9t71DvU398P4Nvyl/an8ivuh+Tf3K/VV8sDvNe5y6vrqledq5yTlB+Us6OfzGP6jCiEX2iF1MUUyATaFL4goRyBQFnkNbwSD+2H5SvYX8wrubesD6fHpVOdc6pvsY/Li+ckA/wd6CxIP9hGSETYPfQwwCssJQAibBz0HNAa5Ba0DjwB+/C75avdu9ub1rPVs+CP69vvn+y371PmJ+Lb2qfS884/ylvJ08Cvt5epa6QLmN+e146ztwPcRBOERYBxEJ70xfi/eMHcnpSDQGKwQVApvBMn9pf1X+Af1Ru9y6nvodOhG5yHsju8p9+H+3wM8CWIKLgwNDbQL2gnJCGsIwAqxCoYKPAl+Bz8FZwEH/a34qPal9Yn4yPpQ++b9sfzh/mn8rfj1+Kn00/Y29Mb0B/XB8l7wl+2F6TPokOVI5aPnGuyn+04FExKEHHojUC72KZQq0SP1HqcZZRNfDoMJDwMfAaf7yfUm7kfqwOdh6VfoZO1a8Tr4Av43ArcEwQWKBo8I4wcQCfsIGQzbDBcOCgwMCrAHuwNKARz9h/ox+n35F/vw+Rr8UPuD+8/6UPgB+Bj2tva29h/2Q/ae9Uz0bPBT7Bzqw+gl6JznneqM8WD+KAdNEloXwSAUJZgmhCR3H4cdBRqYFvYRHQuYBjwBHP3C9RPvHutc6ijs1eyV78/yFvgE/Oj+1wAfAYkD3QV6CJ4IRQqjChAOxQwPC6UIwQWHBcsB7QBz/an8ovwa/AT8wfq0+HL6dPji+U33ePdB+P729/bG9LXzsPHw7hPsyOog6U7qWOtz7VzyH/40BvgPGBS+HIYi+SKXI20etR6DGcYXERQxDX4H4QEY/s730fA57SjsrO0Y7kHwTvJu9gP5B/18/lv/iwHuAzII+AfoCT4KKg0iDc4KKQrZBuoHtwRgBHUBx//M/kD9/fuC+BP3dfa29mf2QPUV9Yj16vQT9B7z+PFB8Gfuouzc7ALrfOuK6x3wSvaqAsEIqBSFF8cigyFGJQsf5x4kG1EZXBUpElcLvAZyAHT7fPOZ7jvrd+wA7X/vw/Bz9W72XPpJ+5f9VP9UAgEGPAl/ClIMUgzsDSQLIgo5CPYGNAbbBIYCGAGz/YX8DfrD+In4J/ku+bf5bPjK+Jn2/vYh9Bz1xPNT9PryifDX7YHt4OuP7eXqve4n8W7+SQb6DSoVeRjIINEe0iGaHMwcXxlfGXQW7g66CBMCWf7+9ozxge1d7TDvpvAl8/Py3PSL9rL6/fs1/mQAagWDCZUKKwvACngKlQrECRAJWgcEB9YFagWEARj+L/yW+if52PgG+if55fr8+GH5cfe79Uz0VvVd9WL0ovT88IvuKOz268Tr/eui7LLvd/xqBRIPkBP9Fvccdx8qINMcOB1wGisb1xjXEJkJrACU/Jz3AfMC7qztbPAK8bzzjPFr8ij03feU/AX//gHbBEUKHQsPC0MJwQivCdwKOgvLCeUIygZCBggDDP/L+wn7bftm+1X6D/gT9zz25vXj9NLzdPNi9AL2u/Wn88fvAO2D6/brWuxC673usPGc/xAJRxBLFEcYKR2IIOwgYx3nHmccFhtHGNYNuQXq/OL5uPS68jnt++2t8EHwBvLW733x7/NV+tP+GgIbBZEGKwtPC8AKJgmZCToLmgzbDFgJRQe0A8ACsf9+/OL5xfn6+nL6NvlI+JD4bPgD+Sz4CPhI+N33u/gz+KD2E/Rj8szu5u037MntSO3O76bwfvzdBaQNkhF2FMQZSR68Hhce1h3jGosZvBb9DrUGGP6W+jP4B/Ve8OTvx++C8EvxCvHU8b/0+Pmc//kCQQOwBC8HmQnLCZkJeAorC0YN3wu9CVwF8gKEAaoCXQB6/Rz9kft0+8P4qPZd9Ub3Tffu+B34qfQh9Db0XfV39I/y/u4F79DtHO2b7CTtVO+7+NcIWg++FIITNBmVHXAf8x1MHwQfcBp/GioQ5wZf+w/4Afj09TjyQ+508CvtIu/X7SXwy/OF+e8B5gPFBDcCkQZWCLgKVwtLDG0OjAyaDNwHuQXaAWwD6wKSAbP9Mfph+X/3EfaB9bb2TvqI/dL7FPqE9jD3l/h5+qH5NPvK+ND1RPEo7NzsMu0n8RzyxPN/9zUEVAqTDDIQFhMyG7kdTB8/HX8aPxVLFIMRlAf+AQ794/wK+Vb1FvA377nvEvFM9NnzSPXO9139VgCzAIQB3wMyCCkKegunCaAJZwlbCrYJuAc/BYwEjASxAgAAC/xQ+/r6Afto+WX4Kfev9uH2H/YR9tLz6vTX9fD2C/RE8aXtWuy/7BPv6O6f8I/yngCdDRARdRH2EeUYZh72IRwgOSD2GXAXxRRlC84CWPtw/Nb6qvfA7z7smOux7CfxzfF+9Hr1z/rT/hwAlgAwAtQHJwzkDU8LYgqSCZwKaAwpCkcIOAUkA2ICW/9C++L52ful/e/7zvfV9KX1N/dv+cX5ofkM9y324fas9dX05fLe8rDxffEB8LnvUe7E7hX1qAT2DuoPdw/qDzsW1RpmHigfih7eGPoVWBGBCKABpf0VAPT9S/n18CTtcOxN71/zJPW99qz1sPkh/Pv9MP8aAncHAAuQC48I4wf4B5wKhAzRC0oJjATuA/cBLQG5/yb+df4A/Wj5CvYm9u319fhZ+ev3ffZ08+/zcPTw9jn1RfT57+btUe6y7xnx2PDI8kn7IAxAECgPjAxiEscawSBAIJ8e7xlZFMkT5w77CIEAhP6o/gv8WvSI7ars/u4L9D70MvU084b0GfkJ/lYAwgBlA5EGEwrtCFYIQAjHCsUMvgyVCiwGNQSeAwMEiwHT/rX7ivsN+g/4IvcW+GP6h/rR+JL2JPVI9Yb3S/mT+bL3vPOh8Snv6+9L8a7z3vKy8vrytv4RDBkP+g2MDJcT7xkSHw0diRssFmUTTRLWDUcIFQCG/2D+Gvz59I7veO/48UD1YvRA9d7yFfXM+Ur+MgD5/68BYAT4B1oH4wctCaoKEQzyCtMJ9gYUBX0ExQT5Auv/Ff2I/c38vvm59/f28PYz+FT3Q/a/9Pjxg/O79bP1mPNe8JftG+/18DTzxPOh8S322wSKDpQPZQs/DTsW5B1AIIoe0hnfE8cSvREvD4wHrACG/6z91Plc8o7vSPAa9Fr0/fNH8iDxT/Vj+nj/1f/v/lYARATGB2sINAm9CZALtAsAC2cJ9gZXBoMG7AUMAln+SfsX+zv72/m++UT5cfcf9sL1CvZG95X3avd49zX2lPQt877xt/E784b0NvQN8p/wJvbnBrMQpg5dCLYJ6xJzG2YeNRwqGHgS6BF6EGoNLwdiAnECngBY+/Py5O8x8rn3zvfj9CPytPAy9cj6Rv94/3z+9/5NAmMFAQaMB9AInguQC9MJmwf6Be4GTgiUB54D5P+j/8f/ev0b+mz4Afhs+CL3wvV39CPyz/Lg82n0fPP88BvvEe5/7+Lx4PMc8ozxM/hACO0QYw2zCFIMBhiwH34fUhyIGEQUQROGEnAPEAkiAogAav+d+mbzV/Cr8u31uPQG8onwtPDV9Jr5s/3J/UX8Vv2xAm0G1AdOCIgI3ArHCjMLwArhCWsIQAj9Bu4DlgBP/Qn+JP0E/D35l/i99jL1U/TG9DX2ovQ+9NnzqfRf8z/ybPD88K7zWvQA9TTzrvPP+kMJJhFQDogIlQoxFWAcwx4KHPUWGBGiD+oPww6nCfkCegDm/cH6OfWr8mL0P/dD9nzzxfG38YH12/kt/m7+afyU/DkA/wSFB3cH8QctCdoJ6AkQCeUI9AgyCIoGLgTHAq8BE/+p/Oz6t/nf+Fv3Q/b59BDzefLs8jvzZvMx8gHw4e4R7g/wO/OK84PzF/Nj+mQI/Q56C/sIJQ4vFwYdIh2LHMYXFhNpEpQSiBDACoQEHwFi/237/vZt8yj00PX28zHyjPH48S/0qvfW+kX8UPvn+6r/iQOKBowHjAeICMQJhgr5CpwK9gmBCOcG4gScAjQB3f+v/r/8yPpZ+Qj4oPZW9cb08fSx9Mvzy/OD8yXzvvF78Evx1vLg85HzNPM29HT7UwfkDbQL0gY3CgATnhvkHbsbOBWsEOUQxBGzEAMMBAcMAin/cPyp+Wf2iPUi9xH2IfQN8lXyIfQI+EL7jfxm+5b68fwRAf8ENgdMB/YGvwfQCGcJaQo3Ci0JaQdXBpEG5gN//yT9a/2z/fb76/fV9EnzcvJY83zzwfK+8WrvYO5R7m7u5O958iXz1vIB85366gfzDTML9Ah5DZ0VLhwbHSAclhihFCQTShFOEI4NawgFAhP/zfzp+cL1E/SP9bH0QvPU8fDxO/PQ9Uj4efqD++/7j/25/+YDKAcrCNwHlgjLCU0KeAr+CdoJFQg0BvwDTQJyAL3+Av7m/UX88vd39C3zuPSP9b/0rvOk8i7xJfDA72zwcvJR84Pz5fJY8wr22v7aCRkPoQzGB9wKiROtG/odVhvsFVgRww6mDvgPjg3BCG4B+Pwe+xT63fcm9rv1j/UO9eXysvLn82f2b/lY+6L8sfzG/GD+EwKVBcEIyQgOCL8H3AdRCfYJmQkmCV0I3QXHAsD/Lf48/mv9L/zF+X32fPMG8g3yfPNM9Pbz+PH+7mztOe0M73nyuPT59H70Wfn1AwMMzw3RC1kM3hCFF3Mb4hwFGnkVZxEsDhAOSQ6XC/8EW//n++z60fhg9g715/On83zzp/NF9DL15vVi9w36xvxU/47/VgBiAjEFDgh8Cf4JxAlDCYgIlgjBCHII5waXA1EBo//E/jz+K/3W+gj4c/U+9L/0fvR+9ODzSfOW8mHxXvAs8IzxmPM59UD1pfXY+OgBNwobDVIMGQxFDw8TJRZAGEoZQhaUElcOwgtBC9MJdAaSAXX+ovyr+k335vUO9Zv0m/Tx9GD2KfdU9zf3UPjl+pL+iABDAT4CSAPMBBAG4wdnCaAJTghFB8MGnwYBBjUEJANUAgIBCf4Q+y75V/hb92727fVW9Y305fKT8Xbx//Hi8VrxffE78/n0iPWZ9kn7pgOGCnkN+g32Dl0Q7xERFC8X1xhTFzMTHg7VCvsIUwcRBC0BG/8H/TH6Rvft9cb02fOR88308PaC+Mr4Xvi0+D/63Pxi/5kBggPpBHkFLAZaB3oIrAjGBy8HtQZfBqQFEQQwArMAav/C/T78nfpZ+c73Q/aX9Y/1j/Uy9ZT0RfSN9Kn0qfSN9BX1Q/Z/9yz4sPmg/mMFnAq+DIcNtQ6wDw4QEBEAE/UTzhLGDzUMiwl+B9MEmQEF/6X9uPze+m/5bPhG96X14/Sz9dX3vvne+i37mPti/I/9qP5rAH8CSwSABW0GNgepBy8HEAYbBYwEbwQ9BDoDEwIYAY7/a/0e+6H5/PhX+OT3zvfA93H3xPY89kP2hPZu9ln25vU19uj2qvdI+LD51/3RA7oIXgvbDLkNLA47DgsPuhB8EdcQrg7KC7YJ8QdqBVQCzv/X/bj8WPvl+sH6t/lI+K/2bvZx9yf5efpm+wT8+Pz7/b3+VgC9AbkCggNgBHkFnwbDBhcGDQXYAysDlQIFAq8B+wDr/6j+R/39++X6ofnK+Hv4bPjn+Bn5GfnK+CT4W/fh9pL2r/aZ9sz2lfeX+Pr6OQDIBeEJ0QtLDKgMmgyvDLINyg7SDgEORAwiCtAIEgeMBHUBtv4r/QT8Qvtm+3z7uvqh+Yn4bPg9+Sr6F/uR+y/8iP3T/tX/EQEMAlsCxwKQA7cEwQXsBT8FIAQdA2kCywE8AbMAAAD+/vv9B/2U/LX7yPr4+Xb5Yfm++Tj6efqH+lX6sPk2+Sf5IPls+NX36/ef+JP5zfxRAewFCQkHC98LGQzmCxkMdgxSDIILfwoJCSsIWgc0Bt8DWAH+/g790vtf+6f7mPtm+/P6wfrs+i37kfun+9n7YvyP/cT+QACZASICWwJbAscCOgPRA+YDpgMrA8cCVAL3Aa8B5QD5/8z+wv0V/Zv8KPyu+1/7+vr6+vP67PrP+p36a/oU+oX5Yfkn+Tr46/f592X4dvl3/C0BuQX0COQKCgw8DGwLJAvyCsAKPgpKCRUIfgcLBxcGIAQMAsD/rP2D+5363vpm+8P70vvD+wT8KPwa/Pb7Gvxi/AD91/1U/0MBcQIkA0EDZQNeAysDzgJ/Ak0CGgL3Aa8BkgEfAWQA7/6I/Zv8L/z9+xr8PvxM/Ez8L/yn+1/7HvsJ+7L6DfoG+g36jPku+RL5J/kn+cj69/6CAwsHGgr1C8UMLgxIC5wKKQo0Cf8HgwaHBU4F/wQnBNUCUQFU/wD9Zvst+1D7kfvD+/b7lPwc/aX93v3t/aX9c/2X/Vn+zv88AVQCFgNsA54DXgPrAnECGgKEAdAAcgBHAGQAHACG//7+Cf4O/UX8y/vS+z78zfy//AD9Mv1r/b/8X/uk+ir6xflS+d/40fjR+Cf5aPn9++T/AwQ2B8QJSAsKDGwL3ApbCssJrAg9B7IF9wShBAoEMwM+AhEBBf8A/dL7oPuY+6777/tw/E/9wv0t/mf+fP5K/tf9uv1g/rH/wgDEAX8CCAMrA8cCfwIpAtMBJgFyAOT/zv/d/87/8v+j//7+H/5z/U/9a/2z/aX9xvw2/Db8afwH/bH8U/yK+076b/m7+B34zvfk93v4uvqo/sACUAaZCYkLJwxlCykKiwneCP8H/QayBb4EUgTfA2UDwAKvAev/s/3v+zv7F/se+6f7U/z4/I/9+/2E/jf/W/8i//f+Kf/d/8kAfAFiAgADHQPcAo0CGgLvAfQAIwCj/3H/MP9b/3H/Tf/a/kr+5v2B/TL9a/1P/b/8Wvxa/CH8B/3G/Cj82ftJ+xT6EvnY+F74UPhB+Jr58fxRATgFnghIC3YMIAwdCz4KYAlyCD0H8wWMBO4DbAMIA8cCIgLeAL3+v/yu+yX7EPuD+1P8B/2l/Tz+/v65/xwA6/+O/3H/sf8AANAA0wGVAvICzgKcAmkCKQKnAdcABwAp/73+mf7o/jD/Rv8M/6D+9P1d/fH88fzc/IX8Ifz9+yH8TPxM/P371vrp+Z/4qvcp9033Afhj+jX+hgJmBhMKhAzBDTENIAzHCmcJvweKBjEFoQQRBN8DMwOxArYB6/96/XT7OPq++dT5pPrn+0/9Z/5x//n/VgAHAFv/2v7a/lT/VgCSAesC0QM1BBkEwgPVAvcBugCc/+H+Wf4R/i3+fP4F/6r/nP8F/xj+R/1i/Nn7BPwo/EX8U/xT/Ez8U/yn+z/6rfhq9+j2ffY392z4g/uj/0QEHAhXC4cNOw5GDfwLjQotCf8H0garBRsFWQTYA8AC/gGBAGD+BPxH+m/5ffkU+jv7qfzt/b3+W/+G/8f/nP9U/wz/eP9PAGcBjQLKA6gEvgQgBDoDKQJYAUAAeP/h/rb+hP69/tP+tv5u/ib+l/3c/EX8NvxM/OP8+Pz4/Lj8U/xt+1X6RPl0+FT3Q/Yt9ov2YveT+Zf9NwJ7BmkKXA3uDrUOqw2hDGULEwqWCO4GjgU9BEgDPgJ8AWQAvf6//M/6+PmM+fD5svrS+9z8pf1D/gX/sf8jADkAXQBkAMIAWAEaAggD/ANLBPUDMwNbAsQB0AAAAGL/tv4f/qz90P0m/m7+Sv4C/nP98fxp/Db8WvxF/AT8tftQ+7L6Dfph+XT4ufeS9gL2GPao9oL4hfyLAecGcwthDwIRGBGiD1cOmgwdCzQJsAfBBWgEqgL+AaUA1f+l/cv7RPkz+HH3Ovh9+ZH7K/2L/k3/HABkAMkAyQC6AMIAEQGZAY0C3wMUBYAF8ATCAykCugBq/7b+i/5n/m7+Z/5Z/mf+Wf4t/pf9sfxt++z6yPpC+677C/zZ+0L7G/qm+AX33vUA9dX0DvXt9Ub3dPvJABIHhAxKEbQTGBQhEioQ8w2oDNUKSgkhB44FJAN1ARv/c/1C++f4qPas9R/2P/eF+cv7Lf6G/1YAawDXAFgBtgHoATcC6wK0A0sEOAXWBdYFmgTOAvsATf9K/rP90P0f/jX+3v2I/Uf9Mv3V/Db8oPsX+/r6O/vD+3D8zfxi/N76bPj79SH0mPPS8430l/WS9mz41fzHAr0J4w/+FHcXBBd2FAwS4w/6DQoMmQlQBggDx/8y/c/6vvkk+Fn2sfRF9F31f/eH+pf9HABgAcsBywEpAsACiQMRBFkEoQR2BGAEkwTTBKgEcwO9AaP/3v3j/L/8Ff2l/cn9j/05/Wv9ZP05/YX82fvs+pb63vpf+7z72fvB+rT4H/a181Xy+PHl8ij0u/Ub9zv7xAETCqcRsBcWG3MbVhiEFAkR9g7MDJUKrgaVAtD9qfkR9v3zLfNr8iryP/J+9LL35/vV/wgDqAQGBX0EAwTbBFcGaQfcB4UHewa3BA8DIgJDAQcAdf7N/Jj7EPuD+0X8T/2I/Wv9m/wy/d79VP/r//n/G/+e/ef7yPqA+oD6Dfr59zn1KvIl8Azvzu+T8cvz9PX6+qoCYAykFdocsyD/Hy4cBBd/EhkPqAynCSoFav+3+Rr0AfCP7dDtLu7k7wbyAvaO+qr/AwTZBnIIZAi4B1MH+Ac0CZkJWAnUBzgFIgJ4/4H9Gvze+sz5YfmM+SX7c/35/2ABoAFdAMz+nv0C/sz+zv/A/3z+y/sn+ff2CvZ69bH0XPJj71btd+xd7T/vsvLA9/QAkAtTFwYgbSZEJ7QjPBwsFogQzAz7COIEDP/O99Hw5eqc5xvnk+mG7FrxtvYk/X8CfgeqCkQMjAzKC5cLTwsgDFcLywndBQwCc/0x+l74dPj1+Hb5Dfox+uz6oPsk/ZL+ugBxAnYEcgWdBUQE6AFi/w799vur+gb6UPjT9u/zRPHC7eDreer66sTrCu7u8M30R/3LCeoXoyLeKAUq5yawHxAZSxT4D4ILGQRF/M/yvOtS5rHkquR76ODrS/FG98z+AQZXC4MOTA9MD8oOUA5JDiwONQybB70BWvxl+PT1QPXm9QX3CPiX+MX5Ifxn/qwAkgEPA98DFAWfBq8JpwkZB0MB7/tU90j1QPVG9+T3E/dm85nuY+q86Mro3urm7Tjys/Ww+Q8D9BCwHx8pqCyGKg0lzBwPFi0RNQxfBmn8pPL86DfkduHI4k/lEOt78M731f/xB0UPMBIrE4MRkhEQEdcQ4A5eC0YFVv3M9o/yefK68pT0a/Vx9y75Zvuo/lQC5QVaB9AIGAk+CroIpwacAhv/3vp0+JX3qvcd+GD23PSd8ofyS/FB8GTtdesL6UfqAO158oL4ywEYEf8flCr1LkYtmye8HtYVWBFXC7IFEvy38ZLmSeDj3CLfF+NC61jzg/suBLQLPhJxFRcWBhUYFF4TLRGkDdQH7QBX+Lfxu+3t7arvh/Jk9dH4L/wM/70BUgQSB8EIoAkiCv4J6ge+BGUDQQPlAIj9dvk89jb0KvIU8rj0OfWI9SryeO9i7Nbq2+ky7YXxN/fB+k8AbQ5ZHIgo5C3wLFAm5x7TFMEQgwkAA3b5i+7j5DjfIt/84Kzl6ux19lH+ZAhdEEkWaxhTF88V9RNsE9IOkgk+Ahf7svLm7aDrVu357/PyhPYJ+/7+owJcBWQIowrRC30M3wtxCuAGKgVNAq/+R/oT94H1evUV9V31ZPXz8s/yWvHU8V7wzu/m7V3tYO7f8OP0rfhAAGEPDiC2KSAv/CvKJjgdNRRCDoUH4f4K9obsMuUl4GPf2+Gh5mrvqflLBBAO4hTUF50Y2RZqFTMT9BBsC8UEJP0H9XHv6OvZ68ntqfFA9f/5YP75As8FyQijCoQMjg2hDGIK1gURAVP8gPr4+dr+wP+E/pr5j/U/8kfyefKL9j353fdn9t3v6Ov65/Pqge1I9X356P4GBSQTTB+kKJQqmCYFIisbJBNVDeIECfvK8AHoLeMQ47jkKecr7bH0Tf8yCOgRPxX4FzYX5BUrE1ERkwxyBSb+UfYD8dDtm+wf7ifxc/Vh+ZL+ZQNaB2cJowoPC6YLBwtkCPoFkgGS/jj6dPh0+BX95P8+/4P7Rvfn8xTyZvMd+CX7nPf68ujraudx5wvs9fB99sP4uPzHCsAdmyr8LkUqkyQvH44VsxA3Cv7+UfN76KrkJ+H44SbjBedU7zv7RwjHEmcZEBmPGO4WuRUrEz0P/weS/tr2ju+q7FXqSetA7U7yS/kb/zEFwQgzCyAMag1FD1MPzAzjB5wCwv2a+Ur2OfX59Ar26Pam+Kb4PfkP+FT3D/hU9w71XvC66mDm7eU66G7uDvUJ+18GRRoFKnMzhjJvLNMkxBkQEWwLPgLa9irqKuLg2ybb6tzo41btjvqUBzMTFhtVHW8caRrBGC4UqQ9yCPf+YPZZ7t/oQ+Yd6GbrhfFv+Y7/zwX0CO0LYw2VDf0OAQ6EDF0IuQKe/cr4XfVw9HH3Ff1b/zD/xvyh+e74YvfO93n6OPp0+Lj08O526Rvn6+dI7fryJPhH/QIB0g6vHA4oeC0MKjomRh2eExEMlwNL+aXt/uau4yriruNq5w7thPZUAlwNbRbrGs4a1xjKFnESyA3UBwcA3/gx8ubts+qW6qrsUPBN98L9EQQtCREMCA50DrkNpguzCMgFTgXAAhP/AfuX9QT0rvPJ9Zr5lPyU/An7J/k397n3RvcO9SXz6O6K63bpEOvN7GPynPfN/DwMyh5MKgwyQyy3Jy0hGBQNDSoFfPvk7xjmt+Hh3n/fQuOH6qD2zgIZD4gYMR1ZHGkaTBcdE6QN4wccAJD4zfGY65DoUOgJ617wD/ic/6QFEwr8C2oNOw6yDScMuApfBikC5v0q+n/3m/Si9H35ZACcAssBuv2p+bn35vXH95P5/Pg89hnxHO1a6SXoteto8S75hP65/zoDNxLuHi0p7SuOJRgkpRjPDVAG5/uK82Hp5uW75RjmYemn6+zyDv2FB7ESixmXGzsZvBYWE4ANvwfy/z35m/SG75ftYuwH7RbwFfVp/KYDyQh5DfYOKA8lDowMeArqB9gD4f5F/N33Q/aG9Or0qPYg+ez6oPv2+5j7R/r/+fz4Q/ap8afr6+fa5lrpge1m83/3G/raCXcfkCuVNTkwWSyjIuQVvgyXA5z3I+oa5LLfH94I4JHjJevC9d8DfBFzG3kgbR6aHLMY7ROhDA0FIfyx9DDvR+rA5zroq+pI8MP4pQDGB5cLrg70EPQQog+kDZkJjAS9/hv6hveL9hz1Wfaf+GT90wHOAn8CZ/5m+2H5TfeV9+j2afSF8Y3s3+it6G3rA/E39yP6ev1U/50NaB+9KakvSik/JSsbaxAoB7b+lPSk6tflT+V84xHmvOiy71z6YQeeE+YbQh56G9sXYBTzDXcHx//f+KDztPCs7fbrPuxR7jTzw/tIA9MJTg3BDXcPhQ8QDt8L8QckA1v/bfs4+g/45vXv89z04fZL+Rr8l/1R/rj8CfvM+Tf3WPOo7m/p7ugg6dzsLPCn86r3Rv83ElAmoDGmNmgvtimvHGgPtAOd+pXvG+cx4nbhwN8j4vDmzu9r/bsLlBe3H24hih54GiIVTg36Beb94fbN8Z7toekW6Gjp0O3G9N791gURDHAP9BDBENQP4gyeCGoFwgBP/WH5jvfj9JT0JPX1+CMA9wT3BFIEG/9m+3v4j/V99tr23PSF8ajuKuoS6aDrfe6I9fX4Jv58AZATVCIKLCgvNie4IgAbog8SB4j9e/C95oDipuBc4tDl8+ov9CMAGQxCFnEd+h1sG4UXVhMGDVwFHP1d9SfxquxA6lXqU+yp8ST46/9CBkgLwQ2fDv8PmA63DIwH3AL3/q77ofnO95n2SPUd+KD+AwSVBToDZP1O+j/3YPYI+A/4pfX48ebt6ek26enpPuyG9Kr33PzQABsNvyLlKNAzmixrKF0gaA9hB8/6u/Bj5xTiGeH14NLjNukl8BX97QgxFW0e6CEcIDAa/hSHDeIEc/3x9Bnx3+2H6jHqF+uV70z0ZP2OBVkMKhCzEO0Q+A88DPQIgAXhAaj+EPvp+XH3a/U+9PD2Vfp8/kAAZAAi/wv8NvlU9332cPRH8gzvTOxo6bToxOsd8GT1OvjaAXIYFitxNe42cS2/J1EZSwwcAAj4bev24yXgZ96h3lLheOfg8wUCEBHpHKgkGCTZHjkYkhF4CjcC2/ng8xPvO+sP6Nrm8enw7gX3iwHTCakP7xHLEVERtQ6tC8YHCgRWAGv6D/g59SH0v/RZ9kv5N/8GBYEIBAfuA/j8UPjX9dLz5vUf9gT08PFK7uzqvult6yDxfvRi/NX8GQdxHZIp7zESLwsnsyBvFF0I+f859XLq1OGT4bzgWuGV56juKvqUB2UTGx2PIL8fgxknFNkOTAej/7L3LvEy7Z3qn+iF6ZnuB/XG/CgHOA1rELMQjA+UD8UMawieAxEBdf6g+2b7nPe59yb2Afi//Dz+0ABWAGr/Vv0X+5f46Pbx9DvzjPHO78zuZuvU6X7p4Os48g714QGkHTAy+zsfPBgsTiixEgQH0/4K9rPtpOJ74N/df9z33jzm8fS0AycUciDnJmMl8x2VFakPgQi9Acz5SfNq72/pW+dz5anpnO+y9xYDrwwaEqoS0hG6EM8NIgpQBgMElgD9+3/3s/Vi9EX0UfYN+nX+FgOfBoUHwQXXAG37Ive/9JHz/fNJ8zjy6+8V7dLr6Os68DjyEfbP+hUAXBU6Kxg0dzfLKV4jnxa4CqP/Q/Yc7SjkIOE44hLhLeO86PbzMALtEH0cDiPOIlwdBhUqEMEIGAEj+hfzx+9F7E7qUulC6+fwzvcaAiIKxg88ETkQgRD/DIsJgAXvAQcAT/0g+dX3pfUm9mH5ugD+AcoDegBP/Y/9efqp+fz4Rvch9DHyJfDm7SHsR+rW6qHu5fKX9XH3YARhH8Qx1TqyNeMqByO4Ep8GfP5k9YXpgOIs4Kjel93D4J/otvb6BaEUIyB4JVghoxoGFckQWwoIA476RfQF79TpNeZK5ifpIu8B+MoD5gupD10QsxBAEPYOEQylCFMHcgDj/HT4i/aj9/f2hfkt+yT9Dv3M/u/+3f+2/lP87Pru+GT1LfOF8SLvJu4T7KDrlOxs7ZjwyPIh/HIYDDKqOmU7+SoSJ3EVpwnaAY762PBW5a7jxd4X24/aDeIs8GQA1xCVHTwkiiGtG5gWZRMIDhkH5QBS+cvz2eva5uDju+Xz6j70av9ACIwMTg0oD8EQ4w9mDt8LywkeBpz/nfp99q7zdvGG9MX57QC0A5kBPAH2+4r7NPsa/Pj8mvkC9lzypvBp7LXrnepW7a3wIfRg9s73rwGtG6QwYTdGNUkmIyBYEakHeAIQ+w/weOc44oTePtyr31TnGvR7A9IR/BvZHk0aphZLFLsT4w9/CuQC6fkx8gnrKeft5aboN+83994ADQWiB2AJNQzZDi0R+xDnDgoMGQRK/kv55vU29AD13ffs+kcAlf+O/0r+5/sV/Tz+c/05/fj5sfQ48kruSO1A7YHts+2j72vyxPMR9rkCliCDMTk4FTCtIwEepRA6C4wEE/9c8lXq+OHy3MbZiN2X5RP0fQRfETsZkhkvF/4UeRXkFfkSKA9qBQv8QvPV7HjnUuYu6U3vsvcA/Z4AFgPWBSIKOw7SERYTdRExDXQG6/8t+y32Q/bE9kT5nfpF/KD74Pu4/CH87/4m/in/Of1y+g71UfNs8DDvf++G7zfvo++c7xbwovS2/n4fgDCmNlMvKiDMHH4PdA6PCLkFA/me7XDkVt0N2q7bd+SW8v4BuQ2qErESGBHlEJMUrhm/F2wTlggHAPD2zu8t67zoN+yO75L2ofnD+1P8OQBJBhkMCRGqEvsQvgyMB5AD1f8H/av6gPo4+pb6NPuT+VD4XvgU+qn8yf1A/Wb7pvhz9bzz2fPs8qvydPDT7kHw1u+f8B7zLQEwIkIuKzMbJWMdlBdAEMsRtQ7PDWb7eO/Z4+nekdsf3t3nU/QyAPYGKQo0CcQJYAyYFkQcghtcFbgKyQBe+Mn1svLF8bfxj/IE9ELzX/PT9sb8EQT5Cs0P1A92DIgIbQY7BrIFFAUAA0b/pPpX+G/5IPmT+cP4sPmd+un5P/q3+UT5Ivf+9u31+fSr8vnv2u4w7wby8PGs9dz8MhjQKFksWSRhF6AZ3BI2F3oTvRETApby5+gX41jjmuHK6M7v/Phg/r0BnAL1A24JoxJiGlsa1hVSDGAEnP/0/Q799fj09cTzBPQG8jHyovRc+sz+jATUB5kJjAfzBe4GawjBCCEHPQQfAdz83vpQ+0r+wv1a/Nb6k/le+G72mfZb9zb55Pfo9vryRu/m7R/uS/Fa9KD2JPiI/cASMCJtJn4f3hgYGXkVKBcNFU8T2wT39vnsuuo96WXo4unM7i3zSPj6+oH9awAbBdsM/BPDFnMTag1TB7AE/wTuA9cAGvzD+ED1tfOg81n25/j6+hX9ZABxAn8CaQK3BCEHIwiwB0IGYARlA9UCWAGV/8v7nfqF+Qb6Yfl2+ff2gfXv8yH0APXn84/yw/AI8HTw1PGn84v2wP9VFYohZyHDFusS2xTZFk8b1RpfGWEHNvk3793v9fDH72zwle9h8a3wHvPo9pH74QF3B1cOvA4/DeUI5wZdCKoK+QqwByQDEf4j+vn3A/kv/Gn8WPup+Vz6NPs+/DX+JgGqAvkC3AK5AtMBpQB1AU4FzwUZBIEAXf28+w36a/o2/D78AfjG9HbxmPC08FfwDfLl8tbyKvK18wf9/w9HGLcXfBE8EZwSMRX4F/Ub6Bn1C9cA6fmY+xv6wPc19sb05fJl8P/xWvQ6+Iz5kv4rAxQFjASjArsDNAYJCcQJpwkSB54D1wAOACICwALoAWr/ZP0a/CX7g/vV/BH+a/0O/er8T/1n/pX/wgAJAXIA1f/H/7H/f/9q/6D++PxJ+2j5Zfgp94j14PMt8xfz+vIt84H1hP5rCAoMVArUBxAJZQt6EPUT/xfcEt8LjAT5AvwDWQTrAk8AB/3u+FT3G/cn+eL58PlJ+4X8v/wo/BL8pf1dAKAB8gJ7A+sCvQFKAWICjARVBb4EewMaAtcADgCeAK8B0AA+/7r9v/w2/Pb7AP3J/Z793Pyi/PH86vwH/Q79hP4f/hH+8fy//Jj7X/tr+vr6yPrB+r75xfn2+xEBuwPiBGUDngNzA8gFUwcWCwALbgn6Bb4EPQQUBdME2wStAwUCRwBb/xv/9/5u/ov+qP6L/tf98fyN/A79ZP1n/hP/Pv+v/kr+YP6q/48APAGLAZkB3gCIAGQAHwFDAfsAIwCx//7+E/+2/ov+wv3J/aX9Uf4R/kr+0P3J/cL9YP69/lv/MP/3/qD+i/69/gz//v7+/qj+xP6V/9cAPAE0Ad4A5QBYAegBjQJPAzMDwAI+AhoCTQKNApwClQIwAuEBbgFKATQBHwHlALMAcgBPAPn/qv9b/zf/G/9G/z7/Rv8M/+H+6P4T/2r/wP/y/87/qv+x/9X/6//d/87/nP9//3//jv+G/1v/Pv9b/2r/hv94/1v/E/8p/z7/av9x/2r/Rv83/0b/f/+G/7n/av94/3H/hv9x/6P/nP/k/wcARwByAJYAyQDlAFgBdQGnAZkBpwGnAegBBQIMAgUC2gHaAdoB0wG9AW4BPAEJAe0AswCBAAAAwP9q/03/N/8F/+j+qP7E/sz+/v4M/wz/Iv8T/0b/VP94/3H/cf9x/3H/cf9x/2r/W/9b/2r/cf94/3H/W/9U/2L/jv9//2r/f/+G/7H/zv/d/7n/qv/A/87/1f/A/8f/wP/V/w4AVgBdAIgAiACWAOUALQFYAUMBQwE8AVEBdQGnAZkBbgFKAVEBiwFnAUoBCQGzAKwAjwCBACMA1f94/2L/Pv8+/zf/DP/h/u/+E/8+/03/W/8+/z7/cf+O/4b/eP9x/1v/f/+V/6P/hv+G/4b/o/+j/8D/wP/H/5z/qv/A/87/wP/d//L/5P/5/xwAIwDy/xwABwAAAOT/6//d/8D/nP+V/6r/uf/O/+v/FQA5AEcAXQCsANAA1wDeABgB5QACAQkBNAH0APsAyQDlAMkAyQCeAHIAVgBPACMAIwDd/8f/jv+G/4b/lf9x/2L/Yv94/5X/sf+x/6r/o/+x/9X/3f/H/6r/o/+j/7H/uf+V/47/nP+q/6r/sf+5/8f/wP/O/93/8v/5//n/6//5/+v/FQD5/+T/6//d/+T/x//A/6r/qv+V/4b/o/+x/7H/3f8AADkAVgBWAF0AjwCsANAA5QDlAMkAyQDQANcA3gDQALMAyQCsALMApQB6AFYAIwAyACsAAADr/93/1f+5/7n/x/+x/6r/uf/O/8f/x//A/6P/qv+O/5z/o/+V/3//hv/A/6P/qv+x/8f/o//V/8D/3f/A/93/1f/k/+T/8v/y//n/AAD5/xwADgD5//L/+f/k/93/wP/A/8f/qv/O/9X/3f/V//L/+f8rAGQATwBdAGsAegB6AKUAswClAI8AjwCWAKUArACzAIgAawByAHoAZABWAF0AQAAAAAcA5P/r/+T/1f/H/+v/3f/r/+T/5P/d//L/3f/r/8f/3f/A/93/lf/H/6r/wP+x/87/1f/V/9X/3f/y/87/3f/r//L/3f/y/wcA5P/k/+T/6//k/+v/8v/k/+T/6//r/87/1f/O/7n/1f/A/+T/zv8HAPL/IwBdAGQAXQBrAHIAlgCWAJYAjwCsAJ4AgQCIAGQAegBrAIgAlgB6AGsAcgBdAE8AQABHABwA8v/d/93/5P/d/8D/x//d/87/5P/d/+v/o/+q/+T/zv+c/47/sf94/5X/zv/O/5z/wP/O/93/3f/d/8D/8v/O/9X/wP/y/5z/3f/k/+T/5P/5//L/+f8cAPL/AAAHAPn/KwArAEcAHAByAFYAiAByAKUAegCeAIgAyQCsAKwArADJAJ4AswC6AJ4AjwCBAHIAcgBrAFYAMgAcACMADgDy/+v/6//r/9X/x/8AAMf/qv+x/87/f/+5/7H/8v+c/87/x//A/7n/o//A/5z/uf+5/93/sf/r/93/+f/O/93/uf/k/93/1f8AAA4A5P8AADkA+f8jAEAAIwAOABUAKwBAAF0AMgAVADkAZABPAGsAawBWAF0AawBWAHoAawByAFYAiABkAGsATwCPAE8AXQArAEcAIwA5AAAAMgAOABUAIwArAPn/AADr/+T/3f/d/93/zv/H/7n/x//d/87/zv/H/87/DgD5/+T/5P/O/8f/3f/k/5z/x//r/+T/BwAOADIA5P/y/wcAOQAVABwADgAHAN3/DgAjACsA6/8AAOT/FQArAE8AFQAcAPn/FQBkAEAAFQAHACMA6/9PAF0AQADr/zIAXQBHAFYAZAA5AAAAIwAjAEAA8v/y/wAAHADr/10ARwBkAA4AXQAjACMA3f9dAPL/pQClAHQGAgmMBMoG8gKb/Hr9J/mj99H4wPen+3H/OQDHAicE2gF4AnUBuf9q/579l/3o/gcAugATAq8BoAFgAdAAQABb/3z+Uf62/vsApwGGAk8D2gFYARUAJv74/NL7WPvj/Fn+W/+2AegBYgIzA8oGngi6CM4KjAfpBO4DSv7G/IX5Kfet+MP4WPve/aD++f+zANcA7QD5/03/8v94/9AAIgJGAk8D8gJ/An8CZAA+/4v+cPy4/Lj8lPyE/rb+VP/JADIAAAAOAIv+df7e/RX9eP8m/jn9MP8RAQUCSgEHAMf/wP8AANX/0/77/Rj+qP6q/+v/VP9i/6P/1f9WALn/cf94/0b/+f+sAMkANAFKAaABEwIMAssBiwH7APQAEQHXANcAjwCeANAA9AARAdAAcgBPADkAOQBrABwA3f/k/+v/VgBkAE8AHADV/7H/x/+j/4b/W/9U/3j/cf9i/2r/G/8b/xv/7/6o/sT+tv69/mD+Lf41/jz+YP4C/rr9nv37/R/+Nf5K/i3+Z/69/jD/W/9q/wz/jv8jAMkAJgFDAa8BMAKqAhYDMwNzAysD+QKNAhMCEwKEAeUAOQDV/7n/+f8AADIAKwB6AGQAVgCx/6r/3f96ALMAiADr/2r/G//y/4EARwAb/zf/x/88AZIBHACE/jz+Iv8OADf/Uf6g/nr9Xf1g/sT+6vze+sP75v1D/g79vPtJ+2b7Dv1K/ub9gf3t/Yb/dQG5AuYDmgQbBfoFIQewB8oGLAa+BH0EtAMkA2ICoAECAboAHwEJAdAAQACc/3H/av9U/zD/tv6E/ov+Rv8p/3H/Tf9G/2r/5P9N/6r/Yv+j/08AVgBHADkA6//QAKUA6/9//+j+Bf94/1v/f/8i/yn/Pv+V/2L/Kf8p/yL/9/58/sT+7/73/m7+Z/7m/Rj+pf1k/ST9sfxw/KL8HP2e/Vn+lf80AesCaARyBUkGbQZ0BlAGOAWEBCQDRgL+AZkBYAFKAboANAEfAQIB1wBkAMf/jv+2/lH+PP48/pn+6P4F/2L/wP8cAEcA3f+c/2r/lf/y/+T/8v8yAGQAugDlAKUAiADy/wcAAAAT/1n+GP62/mL/9/6L/u/+Tf8OAH//i/4t/jX+7f0C/jL9U/yH+rH8a/0h/NL7efr9+979Uf7a/qP/hAE1BBAG4AafBuAGKAefBqQFWQQdA4YCVAIiAob/hv9bAvICpwGBADf/5P/tACL/Lf5W/bP9qP7o/q/+qP5x/08ATwAOAH//eP/k/xUAKwAHAGQAEQGZAXwB+wCIAF0AQAB4/0b/Bf+o/u/+oP6S/nz+bv7T/u/+tv5u/nz+df4t/sn9c/1z/eP8U/xF/AT8g/se+5j7p/tJ+8b8Iv96AJUCoQSfBjIIawiWCPsItQZJBrAEZQPcAlEBAgE0Ad4AGAEYAawA1wBPAJX/Yv8m/gL+Lf7t/Xz+Z/6Z/mr/x//V//n/nP+j/9X/hv+q//L/5P+WAO0AAgFnAdAAngBkAIb/E//T/kr+tv5g/lH+7/6g/vf+N//3/mL/qP4t/sT+Ef7X/eb9T/1d/Rv/AAPq/Fn2C/zm/VD7mfYB+DL9W//m/SsAxQQOCE4I/QZnCTcKWgdXBj0EeQUgBO8BIgJUAs4C7wHtADQB9ACV/0r+iP0V/Qf9qfwV/R/+Z/4b/6r/QABkADIAlf+x/8f/o/8OAEAA3gBYAWAB0wGEAUoBrABWAM7/DP+9/lH+r/7a/u/+MP/M/uj+qP5n/sL9T/34/H78Yvz2++D7oPsl+9b6Y/oG+if5l/jd9yT4k/lM/Oj+YgJVBQkJ5gv/DB4OpA20CwcLRwhmBksEYgKvAUoB3gAOABwARv8T/yb+Mv2b/IP7p/tM/Mb85v11/pX/iAB1AUoBWAHtANcA0AByAMkAwgDtAK8BGgIaAgUCYAG6ADIADP88/tf9Of2I/dD9Lf4F/yn/N/9i/7b+Z/7J/Vb9Ff3V/I38Wvwa/KD7Lft5+rD5e/ij9wz3SvZq92j5Mv3QADUEMgggDFAOTA//DwEO/Au4CpsHJQYdA/4BkgFAAHIARv9g/ub9+Px+/Kf71vrW+q77uPz7/Tf/5P80AYsBEwLhAUoB9AD7AAIBWAGgAQUCEwJiAhoCRgImARUA6/+v/qj+s/1H/fT9rP1Z/tr+mf6Z/mf++/3Q/Z79qfwk/cb8m/zx/Av8vPst+xT6vvlQ+Bv3Svbm9fD28Pmz/cIA+gUJCTMOORBOEFER9g7TDPIK6gfbBLEC+wDd/7n/3v37/Sv9Ifxw/EL7Jfud+hf7KPyz/cT+DgB1Af4BxwLVAngCIgJgAYQBtgFYAacB9wETAikCrwFYAawATf/a/vT9R/0O/fj8gf08/qD+/v7H/3//N//M/i3+Sv6P/WT9ev34/PH8Nvxm+7r6RPle+CL3+/Ur9bj0c/WX+Jf9iACDBvYJRg3HEtcQBxPXEIwMrwxHCOUF6wIrAAX/rP1r/dn7g/uW+nn6JfvB+kn7dPvq/L3+DgCZASkCfwIzA14D8gJpApkBNAEaAm4B4QHaAUoB2gE0AckAegB8/nz+4/wyALH8Wvxz/R/+Kf8AANr+o/9N/1T/x/8T/8z+Ef6X/Q79sfxQ+//5A/lG9zf3EfaI9Z71jfRK9mj53f/AAlYIAwxFD30UDBIkE4EQ0QucCu4GoQTtAGf+iP3N/Mb8wfqy+tT58PkB+xD7NvxT/LP91wDvASQDZQOCA/wD0QMIAzACGAFWAMkAkgFgAR8B5QBWAAIBwP/v/pn+K/3e/Wf+kv7a/ib+vf4rADIAZABPAH//hv8i/+H+fP4r/UD9jfzG/ID6CPhu9hz1jfQv9KL0hvS/9Pv1RfxjBboI7xF2FJYYmhw2FyUWdw8ZB3ECKf+3+cz27/Mh9Jn2x/cP+Mz5dPvx/LoADwOTBGMFCwflCDQJxge3BFQC0AD0/UD9ivtj+hf7Pvwb/93/IwCPADQBoAGLAVEB+wB6AGQAEQFDARUAIv+Z/pL+i/77/ff+Rv8jAIgAHAAT/7P9EvyD+xT66/cT95L2Avaz9TX2ZPXw9jX2+fdr+nH/nApJDh8ZNBmxGmgfuBJzE7wGeP+d+uDzfPPR8LTw5fJP9en5Lfvm/boAsQKFB2sISAvVClsKcQrcB8EFgQCx/FX6V/hX+EH4Cvmd+kD9OQBUAnEClQKVAg8DVwPAAiICYgKSAWAB1wBR/mv9vPtM/Dn93v0T/8D/fAFWAOT/Mv0t+z35Zfg/9yb2nvWG9Lv1vfb39uj2u/ja9vr65v00CVQSLBYgH3gaECEvF1MP3gjG/Df3wfI28c7vtPDn8Mn1OPqN/Hz+cwPzBWcJPw1cDWMNBwvqB9YFdQGU/Jf4IvdZ9q/2Afh2+Qv8Sv40AZ4D3wPuAz0ExQR5BYwECAOvAYgAMP+Z/nr9F/sB+2b71fz3/pYAdQEaAm4B6/9u/lj7qfls+Lv4yvjV9+74hve99rL3m/SS9u31j/U9+Ur+9Qu0E60b7B0iHdEe7RMhD6YD2fvc9OXyj/Kw8fzwhfEC9u74uPwm/kEDbQbcCoMOchBXDmkKaQfKA87/EPsb94j1bvb39lL5tftF/Cb+UQEAA60DbwSmA2MFsgUUBZ4DUQG9/lb98fzS+xf7vPtA/WL/egDlAGsAgQBHAMf/tv7x/C37Aftj+gP5wPdR9nr1nvVu9rb2YveC+Cz4svqB/c0HOhMPFl4e/hmcHUQXMw5mBqX9ffY/8jjyA/HK8EvxZPXR+B/+MP/yAkcI1Qo7DuMPHg7+CTQGCAMb/7X7cfeP9RP38vfK+FD7C/xd/awA8gKwBKsFTgVGBfoFIgUpAmQAuv0v/F39uPyb/OP8Ff2e/Xj/BwBx//QAgQBAACYBoP7V/LX7Ovh7+OH2wvUt9u31Bfdq95D4UPi3+a34svqQA68RLBbKHhgcChxwGg0Nxges/Zz39fCG9AnzyPLp8cHykvYL/I/9tgEjCIILmA5/ErAPAAuOBcIAWf6r+nH3j/UF9yD5S/lM/LH84/zr/ykCcgVmBsoGnQXBBX0EPAFkAKX90vsV/Y38Xf1d/YX8pf1g/u/+3f9dANMBfAHoAWr/R/36+nv4svd19vv15vVD9rv1MPeO93j35/jw9or7JAOjEmcZ2x/gHiQbmRkiDV8GovzT9oDyrvNw9FzyaPGF8ZT0R/om/tUClghmDp0QxxLqD/YJ9QNHAHr9vPs9+ff23fdl+KH5UvkQ+3T7tv7AAh4G8Qd3BwgGRgUDBGICRv8m/oX8Mv08/pf9T/3n+yj8Of1g/pz/Tf8YAW4BUQE0AdX8p/u3+TP4D/jo9tD1H/bj9Kz19PUt9rL31fcL/HkF1hUrGxUgjh0tGUwX3AoZBG7+CPjJ9V313vXN8bbule+r8g36E/8nBEgL8Q+BEFERXA0vBzACngCO/4v+0vsk+Ib3E/cC9k33dvlt+8f/sAT4B3oILwdEBJoEZQNbAkMBVgAw/x/+l/2Y+4D6I/rI+k/9av8OADwBmQHvAdoBf/+s/VP8Wvxi/Dv7Evn39mv1APW49GL0JvaL9pP5BvrS+8cCZBC9GRsdZh5+F5gWLgw0Bo7/vPuL9vT1r/Zm8+7wDO9j8hP3r/46A24J5A1fDrwObwzcB0YCLQEtAU8ABf+K+4L4G/fX9WD2k/kl+yL/1QKRBlMHwQVSBCsD3AJxAqMCGgKSAff+B/3L+7f5Gfkj+qL82v7XAFQCcQI8Aev/9P0m/sL9wv1H/XT7e/j09YH14POG9N71G/dI+Ev5LvkJ+xgB1A/BGBsdBh0iFbcUUgx+B2kCBf8j+g36cffP8m7uVu3r7xj2df7rAhgJ9QuCCycMRQpFB6gEYwVjBRkE7QDP+o73c/Uk9SL3xflM/Lb+kgE6A40CaQIFAqYDlQWKBuUFKwNyAIH9xvz2+6T6NPtm+/v9tv6G/+j+Sv6S/in/1f9WAK/+1/1F/ID6l/j09Zf12fMt9i323fcs+FT3FvgS/FQKchjfG8UcrxSXE3AP1QppB40C6/9T/Dj6C/TQ7Wvq3+1t81P8xAGoBH4HsAfeCBwITgiUB+UI2gnxBwMEHP259yT1nPf8+CX7mPuU/HP9Lf6q/9X/qgIKBC8HHAg0BrECKwDe/R/+i/5U/1n+Of1Y+zT7kft8+5f9E/88AXgCtgEjAE/94Ptw/GL8y/v1+Bv3Wfbc9Dn13PTj9Mf33/hrACwOBBfJGKsVZBAhDywOnQ2tC7oI+QIH/S75I/Ks7XrtS/HO90D99/5b/7MANAH1AzkIlQqCC3oLpwkIBoQBR/36+q77TPwk/Rr8jvrY+Hb5vPvh/i0BJAM1BBEETwNgAXwBoAEMAkYCGgLy/4/9uvpH+gH7+PzA/+UAegDo/sL9H/7v/rn/lf94/2f+9vvu+OH2UfZG9+f4xflh+Y73hvfu+NMBQg7FFAQXURGyDYkLjQr1C8cKZwmJA3j//PjL81DwUvHt9Zb6Vv0V/bj8jfyZ/ikC0gaSCTcKJgmnBjUECQHk/2r/pQBPABP/d/wG+kv5MfoV/Tf/0ADQAKUAVgBWAA4AEQH3AaoClQIRATf/Mv3c/Hr9E/9rAOv/AAC2/jX+Nf7h/hwAZABx/wn+TPy6+ln52PiT+YD6EPs4+sP4avcM9wH7/gGMDG4R0hHwDHUJHAjrCggOnw4AC28E5v0g+YT2hPYz+If6Sfuk+hL57viA+t79/gGABdkGOwZSBMACRgIAA0QEoQSJAzwBtv6N/Ez8Ff1K/lT/DP81/k/93PwY/nH/ngD7AHoAo/+G/yL/Bf9q/7H/0AA0AU8AW//+/uH+gQBWAI8AeP8C/jb82fvZ+8P7BPwX+wH7FPrK+K34b/kt+zL9CANkCAMMlwsmCVYI5QiXC9MMXA3QCOYDVP+4/LH8Pvy4/Kf7lvqX+In4dvm8+0P++f/oAdoBvQGSATcCVwNoBFkEVwN4AiYBTwAjAM7/HAAHAI7/vf70/Sv9R/1Z/rb+DP+9/tD9pf2s/Yv+eP9HAOT/jv9G/6P/yQDEAdMBYAGeALH/6P7o/hH+fP6e/XD8Hvvw+U76efpy+iP6svrW+tP+5ALKBqwI/wfgBu4GiAh4CgMMGgpMB4kDbgEAAPn/VP+v/gD9Lfsb+j/6ivt3/N79Cf5Z/oT+0/7y/zQBGgIiAngCvQHoAW4BywEpAgwCtgEfAXoAx/+O//f+hv8F/xH+gf0A/TL9Xf1k/Vb9Av70/dP+zP5q//L/iAAtAcQBkgFKAcIAHAC5/yn/Tf+L/t79YvyD+y37dPtQ+xr8Vv1b/24BEwI6AxkEvgSABSwG7gYoB5EGeQWMBAADnALoAbYBgQCO/1n++/2B/cn9nv3C/Z79Xf16/Rj+df4b/0b/wP/O//L/OQCeAPsAYAGgAYsBWAERAbMA3gCzAIgA6/9i/73+xP5Z/lH+Jv6I/YH9uv01/qj+0/6Z/k3/sf9HAJYAwgARAfsA+wDXAGQARwAAACMAlf8F/1H+df77/UP+Ef7T/mL/lf/d/9X/swC9AX8C1QIWA2kCnAKjAiQDSAPyAhoCiwERAS0B3gDQAGsA5P9U/yL/E/9b/yn//v7T/rb+xP7T/gX/Pv9G/2L/Yv9q/+T/8v8jAAcA3f/r//L/IwAjABUAhv+O/1v/f/94/3//Rv8p/yn/Yv+j/5z/qv+O/87/8v/y/zIA8v/d/93/3f/r//L/8v/5/+T/IwBkAE8AjwCBAJYAugDlAAIBHwERASYBAgH7AC0BGAFKAR8B7QDQAMkAyQDeANAAswBdACMAHAAjAA4ABwCx/4b/eP9q/47/nP+c/47/eP+G/6r/qv+x/7H/lf+G/47/nP+x/5X/jv+G/3H/jv+O/47/jv+O/5X/qv+O/7n/sf/H/7n/sf+x/87/1f/y/8f/zv/d//L/DgAjABwAMgBWAGQAawCPAMkAugDlANcA5QDlABEBAgEtARgBCQH0AAkBCQH0AOUA5QDCAKUAegCIAGsAKwAAAPL/1f+x/7H/lf94/3H/Yv9q/2L/cf9q/2r/eP9x/3j/hv9x/2r/cf+V/3H/hv+O/5X/eP+q/5z/uf+5/87/wP/V/8f/3f/r/+T/8v8OABwAQABWAFYAcgBrAIgAiACWAJYAngCsAJYAngCWAJ4ArACeAI8AjwCWAIgAjwCBAHIAVgBWAFYAIwAjABUA6//k/+v/3f/d/9X/uf+x/7n/sf+c/6r/lf94/3//eP+G/5X/jv9x/4b/nP+q/7H/sf+5/8f/uf/k/93/6//d//L/+f8jAA4ATwAyAF0AOQBPAFYAXQByAHIAZAByAHIAgQBrAJ4AcgB6AGQAgQBrAIEAZABWAF0AXQBdAE8AXQA5AEcAHAAVAAAAAAD5//n/3f/r/9X/3f/V/8f/o/+q/7H/o/+V/5z/sf+x/7H/sf+q/7H/sf/A/8f/x//H/9X/5P/k/+T/5P/r/wAA+f8OABwAKwAVACsAIwBPADIATwA5AE8AVgBWAFYAVgBWAFYAVgBWAFYAVgBWAFYAVgBWAFYATwBdADkAKwBWACsAOQAyACMAFQAHAAcABwAHAAcA+f/k/+T/6//k/93/1f/d/8f/5P/d/+T/5P/k/+T/3f/k/93/1f/k/+T/6//k//n/AADr//L/+f8AAAcAAAAHAPn/AAD5/xwAHAAVAAAABwAjAAcAHAAcAA4A+f8cABUADgAVABwAHAAOAAAAKwAOABwAHAAcAA4AHABHAEAAOQAOACsAOQBHABUAMgBHACsAHABHACMAHAAjABwABwAVAA4AIwAAAAcA6//5/+T/8v/r/+v/6//k/+T/5P/k/+v/3f/k/93/5P/k/+T/5P/d/+T/5P/k/+T/5P/r/+T/6//k/wAA6//y/+v/+f/5/+v/6/8AAPL/8v8AAAAABwAOACMABwAjABUARwBAADkAXQBAAFYAVgBWAFYAVgBWAFYAVgBWAE8AXQBAAFYAVgBdAEAAOQBHACMADgAVACsABwAOAAcA+f/r/+T/5P/r/+T/5P/k/+T/3f/O/93/1f/d/9X/6//d/+T/5P/r/93/1f/r/+v/5P/r//L/+f/r/wcA5P8HAAcABwAVAAAADgAHABUA+f8cAAcAOQAyADkAMgA5ACMAQAArAE8AMgAyAF0AVgAyACsAZAArAE8AXQA5ACsAKwAVACMAIwArAAcABwAHAPn/BwDy//L/6//5/wAA6//y/+v/5P/k/+T/5P/r/+T/8v/r/+T/6//r/+T/5P/r/+T/8v/y/+v/6//y/wAAAAAAAAcABwAAABwABwAVAAcAHAAVABUAFQAOABUAHAAVABUADgAjABUAIwAjACMAIwArABUAFQAVAA4AFQAVABUADgAOAAAADgAOAPn/BwAHAA4AAAAHAAAA8v8HAAcA3f8AAAAA8v8OAPL/DgD5//n/AAD5//L/BwAAAAAA8v8HAPL/6//y/wAAAAAHAOv/BwDy/wcA+f/5/w4AHAAOAAAAHAAAAPn/BwAOAA4AHAAOABUADgAOAAAA+f8HABUAAAAVAPn/BwDr/wAAAAAAAAcA8v/y/wcAAAAHAA4AFQAAAA4AAAAHAAAAFQAjABUA+f8OABUADgDy/xUA+f8HACMAHAAAAAcAAAAHAAcAFQAOABUABwAVABUAAAAHAAAABwAVAA4AFQAHABwABwAVAA4AHAAAAAcABwAHAAcADgAcACMAAAAAAAAAAAD5/xUADgAAAAcAHAD5/wcA+f8VACMADgD5/xUADgAHAPL/AAAAAAcABwAVABUABwAOAAAADgAHAAAA+f8OAA4AIwAAAAAAAADy/+v/8v8HABwABwAcAAcAHAAHABUAAAAAAAcAAAAAAA4ADgAAAAcAAAAVABUA6/8AAA4ADgAAAAcAAAAAAAAAFQAAAPn/AAAOAAcAAAAAAAAABwAAAAAAAAAHAAcAHAAcAA4ADgAHAAcAAAAAAPn/6//y//L/AAD5/wcAAAAOABUADgAHAAAABwAAAAAA+f8AAPn/BwAHABwAHAAcACMABwAOAE8ATwDr/4EA+f8pAg8DvQE6A0AATwD+/kD9Sv6i/N79DP8M/3UB0ADvAcQByQBKAbn/av8i/yb+Tf9K/vf+8v8+AggDeQVqBTUE5gOsACn/T/3e+oP7pPqN/Mn9vf4fAVEBVAKqAtMBVALJAHIAeP+E/pL+Q/7T/mr/DgBeA0YFjAcCCbgHEAZNAlH+1vqg9sn1a/V/9+z6Xf3CACICWwKjAh8BZADa/gn+fP6Z/uv/9ADhAY0CfwIiAnUBRwB4/2D+df77/Wf+zP5G/wcAXQBrAHIAx//y/7H/x//A/1T/nP/H/+T/cgBHAIEAgQB6AI8AXQA5AGQATwBrAHIAZAAcACMAAAD5/9X/sf/k/+v/BwAcAPn/5P/O/5z/6//d/93/sf/V/+T/3f/H/+v/6/8cAAcAVgDd/5z/jv+x/7H/1f8HAKr/jv+x/+v/iAByACMAVgCBALH/E/9U/1YAQACc/wcAMgBWACMAawCWAF0AFQAAAOv/+f+5/7H/QAD5/2L/qv+PAPsAHACc/8D/+f9WAAcAsf9PAGQAVgDA/1T/3f9WAE8Alf+5/1YAngAjAMf/x/8VAJ4AcgAHAJX/TwByABwAo/+c/0cAAABPANX/5P8OABwAZAAHANX/FQAVAE8AQABHAM7/IwByAAcAuf8VABUAAADH/6P/x/+5/yMAegBrAGQAlf/A/1YAugBAAKr/BwBWAE8AHAD5/w4AKwBrAE8A8v+j/+T/FQArAJX/1f8AAGQADgBHAE8AawAyAN3/x/8AAE8A5P/k/+T/8v8cAPL/ZAAcAPL/BwArAEcADgD5/8f/6/8AAOT/6//k/wcAXQAyAN3/5P/5/zkAuf/d/5z/6//5/xwAAADk//n/OQDr/wcA1f8OAEAADgAOAPL/BwDO/w4A+f+x/6r/uf8jAKP/uf/d/+T/+f/r/+T/AADk/w4A+f/V/xwAHABkADIAHAAjAIEAawBHACMADgDr/+T/FQA5AOT/nP/H/xwAx//d/9X/AAAHAPn/+f/k//L/HADO/xwAZABHACsABwBWAHIATwBdAFYAXQBWAHoAIwArAEAATwB6ABwAawBWAF0ARwA5ADkADgBWAA4A+f8jAF0AawBAAPn/FQBkAF0AOQDV/87/KwBAAF0A8v/r/+T/6/8VAJz/1f+x/wcADgDH/08A3f8AABUA+f+j/8D/6/8yAOT/3f/k/7H/OQAcAIb/zv9rADkAzv+q/9X/5P8cAAcA3f+V//n/KwAVAM7/x/8cAFYA6//H/9X/KwAjAPn/ZABHABwATwBdAGQATwBdAE8AXQA5AEAAZAAHALn/AAArAA4A1f8HAFYARwC5/zkAHACx/5X/5P/r/87/+f8AAOv/HADy/87/x/9rADkADgDH/+v/XQBkAAAAuf+j/zIAKwD5/wcA5P/k/1YAegArAIb/5P9AAF0ABwA3/5X/RwBHAA4Aqv+5/wcAOQAVAOv/5P8AAEcADgBx/7n/8v8VAOT/uf+q/w4A+f85ANX/uf9PADkAKwDr/7H/uf8yAAcAHAAHAE8AswDA/6r/DgBHABwAAADd/wcAiADH/3H/zv8rAEAAHAAHAEAAngArAFYAVgCIAKwA1f9WADkAQAByAAcAQABAAEcABwC5/xwAQAA5AGQAzv+q/10AKwDV/zIAqv9AAI8ATwDk/10ARwCeAFYA8v85ACsAx//5/3IA1f9x/4gABwAAAAAA+f8yAFYAiADr/8f/6/+q/+v/IwBi/47/FQBHALn/wP/r/6r/TwDXADQBlf/O/3oACQEjAA4A6//d/54AiABPAN3/sf8AAFYAIwBkANX/5P/y/0cAnP/A/wcA3f/O/zIAOQDV/wAAIwAVAEAAKwDV/wcAZAAcAFYAVgDA/3H/uf9AAHIAngBHANX/KwB6AHoABwDk/w4AKwD5/w4Acf+5/+T/MgD5/yL/sf9yAIEAXQAjAKr/jv8cABwAcgD5/0cAMgCPAF0Azv8HAPn/DgB6AEcA+f9rACMARwC5/0AA5P/H/zkAiAAVADkAawDr/xUARwArAI8AZABAALn/1f+q/08Auf8rABwAXQClAA4AQABkAE8AiABrAEAAswCeAOT/ZABWAJ4ARwByAAAAqv/5/8f/ZADH/wcA1f9N/54A3f+x/8D/TwBWAIEAMgDy/6P/TwB6AGsAzv8AAGsAKwAOACMAsf/H/3IA8v/V/+T/DgCx/2sAgQBWAJYARwAAAFYA1f/V//n/+f96AFYATwBAAJ4AMgDy//L/8v9PAMIAegA5AEAAIwDO/zIAlgCeACMAXQBPAKwAlgByAE8AXQBWAI8ApQAHAIgAcgBAAOT/5P9//5z/swBkAEcADgA5AGQATwCzAEcAav/d/xUAjwA0AcIA5P9U/3oAZADV/+v/5P+zAN4AwgAVAFT/HACeAAAAsf/H/87/XQBAAFYA8v9b/2L/uf8rADkA1f+x/1v/8v9WAPn/Tf9b/xUAwgB6AJX/3f/r/+v/1f/r//n/f/+O//n/cgArADD/o/+G/5X/VP+j/8f/uf/k/+UAQAB//3H/ngC6AOv/hv+x/0cAiACzAKr/Yv9q/8D/egBrAMD/MP/r/4EAIwA+//f+hv+5/+v/FQDd/+v/DgD5/2sAFQD5/+T/VgDy/7n/sf8rADkAAAAcAKwAwgArAEAA5P/5/93/cgCsAHIA1f/V/zkAOQAVAA4AQAC6ANAA+wA5ADIA9AA0AawA3f94/8D/awCsAMf/uf8yAJ4AgQCO/xv/TwDeAF0Ax//d/ysAgQCc/2r/W/+j/8f/jv+5/wcAZABdAFYA8v/O/7H/HAAOAEAAawBkAOT/3f+j/ysADgCx/xP/o/+lAOUAegCj//n/awCzAHoA+f/k/zIAcgA5AJX/Kf8OAA4A1f8T/1T/6/8jAI7/qv9x/zIA3f9///7+G//d/xUAAADk/+v/TwCsAPn/Rv9U//L/ZACq/7b+zP5q/0cAx/+o/nX+VP9WABwADP91/k3/uf/V/9r+6P54/yMAlgByABUAwP/A/+v/1f/k/93/VgBrAHoAegByAAcA1f8HAGsAswCeAHIAFQCWADIA5QCzACYB3gDtALoAswDXAMIA3gB6AIgAlgCsAKUAyQBAAIEAhv/d/5X/3f/V/wAARwAcAA4ARv8AAE3/5P9U/z7/qP7+/qj+/v5D/lH+3v2e/Tn91fyF/Av8BPy8+xX9Dv2l/eP8R/1r/a/+Ef7v/mf+BwBGAtgDgwYEB7oIGAnhCW4J9Ai4BwgGagU1BDUE3AIFAgIB+f+o/oT+gf0Y/iv9Q/4t/j7/DP9N/0b/Kf+V/93/wgDCAC0BdQGGAkYCNwL7ADkAFQAi/5X/G/+S/vv9pf0r/fj8NPs4+u74Qfij96D23vWi9G3zKvIG8hTyX/NY84f6iABKCecOthHFFHMTphMAE3oTIxCfDq0LlQpyCHYEgQCx/Cz46PZK9uv3ifhs+If6O/tz/az9mf5N//n/0ADAAkQE6QQGBT0EaARsAwgDfwLAAkYCEwKZAWABiAA3/4T+yf1k/an8d/xp/JT8TPy//Pj8gf2I/Qn+/v5x/10AugBRAXwB4QFuAVgB2v5F/FL5KfdA9S/0mPOD8wT08/J39LzzRvdR/vAE3Q1OEPwT8BQWE8ITaxCFD3oLlgjxB4cFtAN1/pP5hPYO9fv1FvhO+qv6zfw1/isAZwEmAWABIgJBA4wEkwSMBA8DEwJrAKwA8v+O/wX/6/9AAPQA1f/5/6D++/08/qj+BwAAAKwAwP/V/9D9K/2x/Hf8K/16/QD9xvz/+Zz37fWD81zy2PCf8ArxmvGA8nD0d/zqBw4QxxoFGt0d7xlmFqQV7RCvDD0HXgP5/677JPWq72nsLev37hP0KvqZ/roARARMB/EHEAlkCAIJrwl1CR8JSQZDAdX8nfqT+d76+PmR+8v7qfxZ/v7+IwBi/4EASgE1BDUE5gMFAuT/4f4J/pL+mf4Y/h/+7/65/1v/ZP1F/E76jvqp+aH5SPjV9CXzCvGy8s3xxvQh9AX3G/rlBboQShmyHawYVhtsE9USsA+cCqsFeP/2+9T5BPSC8Lrqj+1B8Cn3Sv5UAqsF+gWZCR0L6wpiCpsHXQiKBj8FiwHt/a34Cvac98f3X/sJ+zn9DP+zANMBMAIwAqoCcwP/BHIFiQO6AC3+xvwv/JT8v/w5/e395v1//5X/yf0y/Yf6+vri+bv4/vZM9DjydvG68n70yfXm9c73mPvCCz4SYR8eHkoZ1RooD4sRWwoxBVT/Bvo9+aX1I/Im7qTqbPBP9QX/FAUCCYMJJAtGDUsMsQoSB2gEoQSqAvL/y/vT9mbz4PO99sX5d/wm/gkB/APBBasFpAVIA7QD7gO0A8oDN//e/Un71vq8+6T6cPwo/IT+N/+BAIb/3v1z/YX8QP1p/Nb6XviX9a7z2/Gn80Lz1/Ub97b2g/uHBY0Scxt5IMQZuBreEMoO0wn8A+H+/vay9/H0UvFG71zqEvEC9mr/YQecCkYNEQzSDmMNTQolBnECKQKWAFH+R/of9pbya/K99tT5Ef6IAPICLwdTBwQHJQY6AwgDIgJBAzcCcgBF/Bf72/mO+pb6+voy/Z79LQHvAU0ClgBR/gf9B/05/S37Tvpn9tX02fM/8mL0kfOo9nb5rfis/Q8DjRLLGTQhYBypF1kUiAiLCf4BnfrK+BTyUfa68qrv5O9E8cX5NAH7CPMNMw5jDX0MCgxTB08DAACv/in/5/vU+f729vPQ9c73T/0jADACOAUQBjIIqwVoBMACngAfAYEAAgH3/mL8lvqW+rz7cPxu/mf+Kf+IABEBmQFdAHX+1/2s/dz8/fs2+bb2SPWR88b0xPNd9WD2w/jw+SX7cgDjD10YoCEqIAQXVxZkCOUFNAFZ+XP1X/Pj9Ej1efLN8Ufy+vqEAe8JBA/jD5EObwwdC2MFiAC4/En7B/32++L58vfX9W72ffl1/jACPwW8BnoIBwg0Bs4CZACo/jz+9/7r/3j/HP18+xv6yPpM/Nf9cf9gAZkBlQJ8ATwBqP7c/Gv94Pvj/Bv6BffM9jL1tvb79Wv1T/WP9eL5b/lD/r8HxRS8HiIlERx+F50NDAIFAuX6bvb68m/xfvRf81/zQvPr96UAQAj4D40SGBFgDLYJwQWeAAf9YfnF+Un7FPqw+ST48Paf+Pj8NAF5BcoGWgfqB7wGoQSvAVT/Ff3C/e/+VP8M/3T7ZvuA+rj8i/48/t3/2v5YAXgCYgJrADf/Vv1n/r3+R/00+5X3a/VW9Zn2+/X09TD3HfiK+z78vPv+AeMP0BicIp0g6RRxEpADwgBp/Jv08/IZ8Vn2TfdA9Qz3pfX+/h4GFA2gEZ0QpA29CTYH0ACu+6b4lfer+qf7QvtV+gr58PnV/AkBUgQXBkUHhQdaBxkEQwH0/e/7Xf1z/Yb/8v8m/tf9YvxM/CH8Of2I/Z4AKQJGAvICjwAF/5n+jfzJ/bj8TPwJ+5D4zPZT9BP03PSE9r75Qvui/D78j/16CBQVwB0yI5QaERSaDAcAEf6I9ZjwmPAc8iT4sveG91D4kfviBDcKqQ/0EK4ONQxWCJADv/y59+313fdJ++/7UPtc+hD7Of1PAMcCfQSwBG0GnwY/BesCGP6X/SH8hP62/jf/xP4H/br9xvxW/QD9rP33/vL/pwFDAXwBSgHr//sAHACv/jn98Pm597v1m/R+9Mn1u/hE+fP6Gvx9+eD7a/2nCacZDx5tJvsYIRIcCGH5Mfrp8ZPxKPQ59S/8rfgg+ab4ivukBeEJixH2EVoPOgvuA7n/AfgC9u31Nvl8/ov+bv7v++X6YvyZ/rEChARfBgQHSQb3BFEBa/2Y+x77Av66AEoBgQBz/e/7y/t3/Gv9j/03/48AGgIDBPcBIgKO/wL+N/9F/IP7w/hk9Sv1uPQK9j/3D/jM+T/6K/0S/An+6wJOEOYb9iE3IhYTJQ4TAgP5JPi08K3wpPKq94D6MfrB+nL64QEQCZ0NURF3D1IMwwa5ApT8x/c39/v1uvo5/XP9Jv5T/A79GP4YAXMDVQXWBaQFqAQ6A/QAwv0y/Y38bv5b/8D/i/7q/Cj82fsH/cL90/6IAK8BKQITAm4BcgC5/3j/2v6I/Sj8/Pjh9tLzGvQ29Kr34vmD+979nv1H/RX97/7TCXIYPx1gJLcXmA5fBu74oPbp8fnvLfNe+PH8Gvwt+1D7oP6RBkgLCw+FD/8M9AhsA0P+VPfe9aj2Vfob//f+YP4V/Wn8Jv65/yIC0QPwBAgGIgWaBJ4A3v0a/Jv8Z/4yAMD/lf98/uP8K/07++/7jfyg/nUBAAMkA6oCPgIrADD/EvwG+m/5lfdi9+31a/XX9Tf3MfoL/Pv9wv3G/D7/agU/FYQcEyKyHbUOqgq8+2D2hvTw7pHzDPfn+2v9cvrn+1P8dgQ+CukM8Q9xDesKQgbH/5P5zfQ19nv4uv2G/xj+Cf42/Lr92v5AANwCSwTKBoUHjgWcAr3+4Psh/Ob97/7d/+v/nv05/ef7gPoh/Bz9/v6jAusCiQMzA2ICDgCG/y/8F/uW+kH47vig9qD2/vZx9yr68PlF/Jj7jfz9+/T99gZxFXYcJCOlG/8PBQrz+jf3SfNQ8FHzKfch/EX85fr6+oH9oQT+CaYOmw9mDpwKdgQ+/5f4QPX39nT4Uf4b/wX/9P3G/Dn9r/4YAX8CeQUlBl8GuQVDARj+C/yn+3z+BwBrAAAAbv7L+zb8QvuK+4H9Tf8TAh0DFgOGAoYC0AAi/4/9z/oN+rL3vfbX9UD1AvZb9wP5Cfs2/Cb+hP5K/roABwscGB4eKyPPFZ0N9wTM9sz2A/FB8Lj0wPf3/rH88fzC/VT/4wfrCrINLw8HC2sIDAKp/Gr3K/Xy98/6Rv8VAC3+l/02/IH9MP+vAWUDpAWYBlUFbwRPAB/+8fz7/QX/jv/E/qz9v/yg+yj8hfz4/MT+KwBGAsACAAM3Au0AegD0/UD9dPtL+Zz35vWI9Sb2avf8+Cf5C/y8+3P9QP1H/b0BpA2DGTMeMCIWE2AM7gN19jD32PDn8DX2Uvmo/iH8GvxP/bn/xgckC04NtQ4dC6kHIgKU/Fv3hPa0+MH6MP+o/ib+Xf1T/C3+N/8FAicE7AVFBxcGlwOeAKX9L/wr/Yv+9/4w//T9BPz9+5H7qfxR/nj/3gBbAgADuQJNAt4AgQBK/qX9sfy++en5xPYb98z2G/cD+eL5L/zV/Pj8oP4Q++b9Uf7LCeoXZxkhIlYTFA3KBq/2w/gN8hTyhveQ+Bv/EvyR+9f9Uf4vB2cJaAzSDjoLXQjoAVP8ufdu9i75X/vA/2L/i/5D/kz8Ef41/roAewPiBJsH0wQuBCYBzP7e/QD9Wf48/nH/Wf4r/dz8VfpY++r8Sv43AvkCbAN9BKABPgKeAP7+oP4J+2P6yvg393X2rPW99tH4cvq6/V39Wf4J/gH7iP0h/H0E5hOzGHwhaRqrDXEK8PkT9wf1ZfCZ9mL3R/0R/uz6pf2i/E8DyQh6C34PeQ14CrAE2v6a+Ur26/dS+bj8Kf9g/uH+QP2B/e/+DgArA1IESQZXBjUEjQIT//H8L/zj/MT+xP5b/zz+JP1w/Bf7jfys/SsAAAOXA6gEQQMmAYEAGP6//Kf7uvoN+pr5x/cp99X3hfkj+qn8zfyp/EP+m/z2+139hP44DZQXChz9Hg4QxwqnAVT3RvcB897ye/hf+/L/nv2l/e39uf87BnoIQQs1DGAJLAY0Adz8n/if+Ab6Wvx//1YA9/7C/YX8v/xR/nIAwAIiBZgGHgYKBCICwv0H/Y38JP0b/27+9/4f/nr9afyb/OD7s/3y/zcC2wShBLQDqgKzADz+zfyW+mj5Mfrn+Nj4zveV94X5Jfvc/Bz9R/05/Qv8GvyR+wL+1wiHFTAa6h/kEk8LsgW595/4qfQJ8933qfkm/p794Ps8/vf+GwWgCSQLFw7VCp8GMALq/AP5f/f1+FD7bv4yAGr/Ef56/ST9qP7CAAUCEQRCBoAFtwTrAuj+K/0v/LH8df7T/nz+Of13/Nn7Pvyo/mL/PAETAjMDtAONAlgBKwCE/uj+3PxM/IP7EvmF+a/2P/cB+On5hfxA/d79PP6N/AT8Yvw2/FwFTRKbF3AfUxd9DFYIq/ro9vH0dPOL9oD6i/6o/l391/2s/WICKAfECTgNfQzGB5cDdf6w+Rb4pvh5+sn9FQAVAAX/5v1T/KX9o/98AcUEjgXZBvcE1QJdAGL88fzS+8n92v5n/r3+c/1p/C/8+PwC/rMAoAE9BN8D3wM3AhwATf81/iv9C/wB+0f66flh+bv4J/kU+sj6Ff3V/Mn9s/1t+7j8fvzX/YoGYhISF4Ad3RXkClMHh/pR9pf1L/So9jv7YP4f/qz97f01/iQDzQciClUNaAxMBzoDa/3K+Bv3D/iy+vv9gQBWAFT/9P1z/d79IwAMAowE2QZXBtMEEQEM/2b7tft+/ND9x//T/uj+gf1P/dz8JP1u/k8AIgIuBH0EpgMYAUb/R/0v/Lj8yPrv+zT75foX+5P5S/k4+gH7fvxn/u/+rP1H/Zb6GvwrAE4N8xXyGhEcSQ72CQcAyfUm9orzQPUG+kD96/+l/Xz+df6x/88F8QcWC/8MPAljBboAZvv59+T3jPkS/Kr/FQB4/5n+8fzJ/ej+CQEWA2MFygZOBdEDngCl/fb7KPzQ/Sn/av9Z/hz9PvxC++D7Nf5///ICNQRyBQYFwAKPAEP+Xf0o/FP8UPvP+mP6+PkN+m/5Y/pc+qn8+/1R/s7/B/1H/e/78fzOApgO7BUhGmQYCgyFBzn9hPYm9tz0avcQ+979cf8O/eb9i/7CAG0G5QitCyAMKwjuA03/uvoP+Kb4OPoy/VT/KwBU/+b9rP3Q/cD/RgKXA/oF1gU9BCkCTf9r/a77ZP0f/ob/KwDX/WT94Pug+1b9Ef7eABoCMwPRA8ACYgKeAHj/7f0V/Vr8X/sB+5b66fkB+9b6Ifyp/GL8Mv3c/I38cPxf+6L85v2JA8MOLBZYGeoXSwx3B27+nPcm9tz0r/aT+XP97/5z/XX+r/5nAYMGHwkkC9ELlAetAzD/svqC+In4jvor/Yb/OQDE/ub98fzt/SsApwHCA0YFsgVOBQwCOQAr/VD7AP1k/Yb/AADv/sL9ovyD+yH8tv7A/zcCVwOVAp4DGgI8AY8Ayf0Y/oX8YvwS/D/6Zvvp+c/6tfsJ+8n9+Pz7/e/+xvzq/Jj7L/zH/9AIoxK3F1gZHxFKCQwCk/nC9az1wvUK+an8kv7o/nP93v1G/ysDogdbCu0L9gnsBUoBFf0n+Q/4GfmY+zz+sf+G//v90P0V/Vv/kgFlAwYFUAYUBbQDGAH7/T78WPub/An+eP83/6z9T/0S/LH8Bf/A/+gBQQN/AvwDDALCAFYAoP7a/kr+3v0r/b/8y/vv+wT8hfxT/Ij9T/2s/RH+7f0y/dz8p/t8+5T8Wf4uBNMMzhJQFvISvgwiBVH+dvk19in3lfc4+sb8ev1g/nX+BwC5Ap0FCQkaCkMJtQaNAqj+kfuh+Zr5g/tA/cz+cf81/rr90P1Z/pYAywHuA8wEcgVSBMQB6/85/b/8nv1A/Tz+5v0R/oH93v0r/XX+9/5kAAUC5ALcAgUCSgEcAMf/tv6o/jD/vf6v/g79cPyR+9L7jfwy/aD+uv11/hz9ovxF/Of74Psc/Yv+VAJACOcOqhLVEiUOhQdRAb/8gvjO9174Wfm8+5791/2E/gX/1wDRAwQH7QgCCVMHJwSWAHP93vrF+c/69vu6/f7+Z/4f/tf9Nf66AO8BFgMZBHMDOgMwAjIAE//X/fH86vzJ/RH+Kf8Y/m7+Vv2I/ZL+Iv91AVQCowLkArECmQEJASn/Cf5W/UX8Ff0o/M38lPxa/F39zfx6/eb9Cf4J/t79JP1z/Qf9j/2lAH0EdgzBEBYTaA/+CaYDnv1y+k336/fu+AH7Of0m/sT+xP75/38CKgWwB7MIjAdcBZkBqP6R+/D5P/rW+pf9df43/+H+Lf7h/jf/GAEMAnsDuwNsA1QC0AAT/zL9xvyB/RH+tv62/qX9Sv6X/QX/lf/H/zwBJgHvAZIBYAH0AFEBegAAAKP/Pv/0/UP+zfy4/I/9+Py9/uH+9/7E/i3+T/1T/Hf8fvxd/Tz+0P1i/yYBpAUuDEUPnRADDL8HtgGe/Tj6yvjK+N/4SfuU/BH+kv6V/0oB0QOYBjkIawhtBnMDVgBk/SX7XPrB+vb71/2L/gX/fP5n/gX/RwAFAmICSAPcArkCiwGBAMz+iP3e/ZL+Kf+G//v9yf0y/QD9Av6o/mQAAgEiAvcBjQJDARgBpQAcAGsAhP4+/zz+Cf6X/cb8wv3X/Xz+mf6s/cn9lPxa/NX8jfxH/Sb+Ef5HAK8BQAj3DNQPzQ/vCR4G+f8E/NT52PhE+Z36Rfz0/Sb+vf54/x8B7gMXBuMHjAdyBR0DBwCs/bX73vpf+4X8pf2o/pL+Ef5D/sz+XQApAs4CVwMWA/cBbgEOAGL/+/2Z/hj+Q/62/g79yf1r/df9DP9N/3IApwF8ASsDpwHyAiYBRwDeAB/+hv/v/ov+tv4t/vv9hP4b/yb+i/4Y/iv9+PyU/BD7NvwE/Hf8oP4Y/tX/tgGMB6gMzQ9oD8AKhwURAf37vvl2+cP4R/rv+4H9Av7M/rn/WAHMBHQGQAgHCLkF6wLr/1b9Sfud+kn79vv0/Yv+zP7M/tP+W/+WADACPgLyApUC/gERAYEA/v70/fv9wv2S/vf+6P4m/pL+Jv7t/WL/VP9HANMBrwGNAikCiwFnAbMAFQDr/6j+r/4f/kP+mf7C/cT+Sv5G//7+oP70/T78y/vz+lj7L/yp/Pv90/5dAJAD2gmkDTkQ3Q1WCNsEoP6n+8z55/hL+fP6hfzX/ff+MP+zAKoCGwXnBsYHigZLBBoC9/5H/S37Cft8+9z8YP6S/r3+Sv4w/+T/mQEiApUCMwM+AgwCugAw/2f+ZP0m/tr+/v4p/wn+Av7m/ZL+MP9PAIEALQGnAQUCpwGEAZ4AKwB6ADkApQBN/zD/rP1u/t79hP7a/h/+qP6s/dD9Rfx0+zT7UPu//KX94f7T/mr/KQLjB1kMDhCrDacJ8wUAAJ791vp9+an5efov/Bz9l/3e/ej+dQFSBOcGegipBxAGDwMrAJf92fv6+sP7uPwf/hj+ev2P/Z79Yv8YASICggNsA0EDVAJgAeT/fP48/rr9qP6Z/i3+0P0V/ST99P2c/0AA0wGSATwBlQJnAcsBpwGj/6UAgQBq/0AALf7t/Wv9Q/5n/lv/3f8i/3H/Lf4o/KD7FPo/+jb8cPxG/2r/QAAYAdMEvQkxDWYO3AoOCDMDRv+N/GP6b/nb+Un71fys/S3+oP6WAAgDFAX9BsoGFwYDBNoBqv9H/f37HvtF/F39GP5R/ub9Uf4T/93/7QDaASICqgL3AT4CCQEyAPf+7/43/wz/VP+6/U/9zfyi/AL+hP7r/9AA6AGGAikClQIpAm4B+wBdADf/6/+2/qD+Nf77/Y/9hP48/gn+zP6s/Y/9R/3v++D7hfyx/Jn+Bf94/y0BYwVDCTENeQ2gCQsHYgK9/mv98/rI+gH7C/yU/IH9nv3t/WsAcQIUBSgHTAcIBi4EoAF//1b9KPzD+7H8ZP0t/nP9HP1z/Vn+TwDaAT4CnAIIA2kCcQIRAe/+Yv8f/hv/Bf+X/Vb9Dv05/WD+G/94/zIAswDLATcC1QLoAe8BSgHlACsAjwAp/93/4f7E/nz+fP7o/ob/XQD7AEMBawD5/5f9j/39+z78y/tT/A79j/1b/5L+BwBWAHsDsAfvCbgKFQjpBFQCG//7/QD9d/zj/GT97f2l/Yj93v2V/zAC5gO5BdYFkwQkAzwB1f/h/i3+H/6g/mD+GP6x/FP8m/wR/iMA6AEPA8cCowLvAVgBcgBq/5X/N/9i/2D+9P3x/Pj8QP1u/s7/VgCZAe0AmQF6ALMAiACV/3H/l/3V/G37a/oq+sX5h/rz+uf7d/xr/cT+aQKFB5ALmw/GDwEOwArTBO0ArP1m+6T6EPse+8H6z/qk+tL7hP6ZAdME/wfXCCMI8wVXA1YAhP6B/Sv90P0V/Xf8fPty+p36oPvX/Y8AowIZBEsEewOVAsIARwCc/3j/5P8M/3z+Mv28+237JfuU/N79lf8RAa8BMAJUAu8BowKqAiQDzgITAgIBIwDv/ov+i/4t/gX/lf9dAOUA7QBDAZIB2gEiAgwCMAKLAS0BpQDA/yL/vf6g/in/Yv9N/wcAHABHACMAzv8HAAcABwBdAI7/sf9b/2r/BwBx/8D/1f/V/5YAZABPAOv/5P9yANAARwCV/+/+Bf8T/3H/sf9q//L/Rv9i/5L+Cf5z/Wv9QP3G/Fr8bftQ+8H6QvtJ+y/8IfzN/LP9fwJxCigPMxOpD6EM8QcMApYA5v1M/H78O/t8+9T55PeC+Bv6DP/OAnsGNAlOCAQHtwTVAmAB5P/O/47/4f7c/ID6LvlI+LD5EvwM/4sBYgJBAwgDZQNUAj4CYgLvAf4BTwA+//H8O/vI+i377/sr/df9/v4jAGQA9wFGAk8DVwOJA1cDTQKnARwAlf8F/1H+tv6L/vf+kv73/j7/3f+6AKABPgJpAjcCrwEfAWQAOQDd/0AAMgBdAFYAlf9q/4T+tv7a/sT+5P/O/9cAjwBkAPn/f/+c/1T/8v/y/zIA+f/k/3j/Kf83/2L/sf8OAGsAswBHAHIA+f9PADkABwByAEcAGAGPAKUAMgDy/zkA9ADJAO8BRwBdAGr//v6V/8z+f//T/uH+6P6g/oT+R/2g+5H7R/ot+wH7tfsh/Av8vPtF/K/+UgSgCU4NKg3rCl0I2wTVAh8Buf/M/ub9JP2g+/j5Evn/+er81f8PA9sEuQXwBAoEHQNbAtMB6AGvAVEBW/9z/XT7jvoQ+7z7GP7T/lYAwgBKAZkBNAGnAQUCIgIwAnUBVgAi/zn9Dv3Z+6n8U/xH/br9kv4w/zIAugA0AYQBTQKNAgADowK9AVgBwP8OAFT/Tf9b/8z+E/8+/zD/sf8OAJ4AYAHTASICDALLAVgBWAERAckAugAVADkAsf94/z7/vf4F/zf/5P/V/93/cf+q/7H/ZAAjAGsA5P+V//n/Yv/O/0b/sf9q/47/wP+5/8f/nP/H/+v/awDr//L/sf8VABUAKwCG/03/oP5U/2r/hv+E/hj+K/3c/LH89vti/O/7cPzq/Dn99P0AAIwEKAcaCnwJwQjGB1UFhAS5AroA5P98/kD9YvzM+Uf6wfrN/P7+ugA3AnECDwPrAscCVAITAvcBmQG6ACL/j/1a/Fj75/t3/Jf9Jv62/rn/TwDtAEoB2gEpAn8CsQJpAnwBXQA3/+j+Wf4Y/gn+9P01/mf+9/54/+v/wgCZATACMAIiAhMC0wGSAUoBugAjAHj/Bf/o/r3+i/7E/tr+av9//xwAKwCWALMAPAFRAUoB1wCsAI8AZABAAMf/jv8T/+H+4f62/qD+6P5N/z7/lf9x/xwAVgCPAMkAugDeAKUApQCeACMAFQCG/7n/jv94/6r/cf+x/6P/6//r/w4AQAA5AJYAegCzAJ4AngByAJYATwB6ADIAQAAOAOv/zv+j/6P/5P/r/xUAAADO/93/BwDy/1YAKwAOABwAo/8AAKr/BwDr/+v/3f/O/8D/nP+q/8D/zv8jAAAAMgDd/+v/3f8OACsAVgBPAF0ADgAjAAAABwBPAA4AcgAHACMA8v/d/7n/6/9WAHoAcgAjAFYA8v8AAN3/3f9AAFYAcgBdAJz/uf+G/yMAawBPAEAAzv/k/6P/lf+q/7n/5P9WAE8AKwDd/93/AAAOAFYAHAAVACMAHAAVAN3/x//A/wcAOQBdADIAHADy//n/IwAOAF0ATwBdAE8ABwBHADIAAAArAOT/HADr/+T/5P+x/w4A+f9yABwATwDr/zkAOQArAAAAAADd/1YATwAjAM7/lf/H/ysAZABPABwA6//r/+T/+f/y/wcAIwAcAEcA1f/y/6r/MgBPALMAegBkAOT/3f/V/8f/x/94/1v/Iv8p/4v+Z/7e/Rj+1/3e/az9Mv3C/aX9Jv5n/n//xAGXA9sEmgREBHsDQQNlAzMDuQIpAkMBKwDh/rP9T/2X/YT+E/+q/3H/av9i/+T/MgByAN4AHwE8AdcAAABb/+H+DP9N/7H/o/+G/3H/hv+G/wAAMgDXAAIBbgE8AQIBngBPAEcAHAAHAN3/o/9N/xP/0/7h/gX/cf+5//n/BwAHACMAQACWALoA9ADeANAApQCPAF0AVgDy//L/5P/O/8f/o/+q/5z/x/8HACMAVgByAFYAZABPAF0AVgBdAE8AKwAHALn/jv94/5X/eP+O/4b/o/+x/7n/zv/r/xUAVgBdAHIAawBWAFYAVgBWAFYAXQA5AAcA6//k/8f/qv/d/+T/8v/y/wAAAAAcABwAVgBWAGsAZABWAKUAgQBrAPL/awAVACsAHAAHABUA5P+q//n/+f/H/93/AAAOAPL/6/8VAA4A+f8HAPL/OQAAAOv/8v8cAA4A+f8HAPn/HAAAAA4AHAAOAAcAFQArACsAKwAHACsADgAyAE8AHAA5ABwAKwAVACMAFQAcAA4AFQArAA4AFQAOAAAADgAjACMAFQAcAAAAAAAAAAcA+f8AAAAAFQAOAPn/6//5//L/5P8AAA4ABwD5/wcAFQAOABwABwAjABUAHAAHAA4AFQAHABwAFQAVAAAAHAD5/w4AFQAVAAcAFQAAAA4AAAAAABUAIwAjACMAFQAOABUAHAAVAAcAFQD5//n/BwAHAPL/8v/5/wcABwAAAAcA8v8AAAcABwAVAA4ADgAVAA4AAAAVAA4AAAAcAA4ADgAAABUABwAVABwABwAjAAcADgAcABwADgAAABUABwAHABUADgAOAAcABwAAAPn/BwAcAAAABwD5/w4AFQD5/xwA+f8VAA4ABwD5/wAABwAOAA4A5P8HAAcADgD5/wAABwAHAAcAAAAcAAcAHAAOAPL/DgAHAA4AFQAVAA4AFQAAAPn/FQAOABwAFQAVAPn/DgAVAAcABwAHABwAIwAOAA4A+f8HAPn/DgAHABUAFQAVAA4ADgDy/wcAAAAVABUADgAcAA4A+f8OAAcAHAAHABwAAAAHACMADgAVAA4AHAAHABUAHAAVABUAFQAOABwAFQAVAA4ADgAcABUAHAAOABwABwAVABUAIwA5AA4AAAAVABwADgAOAA4ABwAcABUA+f8VAA4AFQAOAAcAFQAVABUADgAcABUABwAOAA4AFQAcABUAFQAHAA4ADgAAAA4AHAAVABUA+f8AAAcAAAAHAPn/AAAHAAAAHAAHAAcAHAAcAAAAFQAOABUAHAAVAAAABwAOAAcABwAHABwAFQAVAPn/FQAOAA4A+f8OABUAAAAHABUAAAAHAAcAAAAVAA4A+f8VAA4AFQAOAA4ADgAHABwAFQAAAAAABwAAAA4A8v8AAAcAAAAAAAcADgAjAAcABwAHAAcAIwAVACMADgAOAAAABwAHAAAADgAAAAAADgAOABwAHAAVABwAIwAVABwABwAcABUAFQAHABUAFQAAABwABwAcAPL/DgD5/wcAIwAAAAcAFQAAAAcAAAAVAAcA+f8HABUABwAAAA4AHAD5/wAABwAAAA4ABwAHAAAABwAAAAcA8v/y/+v/BwAVAAcABwAHAAAAAAAcAA4AFQD5/w4AAAAHAAAABwAHAAcADgAHAAAABwAOABwAFQAjAA4A+f8OABUA+f8HAAAADgAAAAcABwAOAAAAFQAAAA4A8v8HAPn/BwAHAAAABwAAAAcA+f8AAAcABwAAABUAFQAOABUAFQAHABwABwAAAAcADgAAAAcABwAAAAAAFQD5/wcA+f8AAPn/AAAAAAAAFQAOAAcADgAcAAAAFQAVAA4ADgAVAAcA+f8cAA4AAAAHAAAA+f8AAPn/AAAAAPn/BwAAAPn/AAAHAPn/BwAHAA4ABwD5/wAA+f8cAAcADgAAAAcADgAVAAAAAAAAAPL/6//y/wAA+f8AAPn/BwD5//L/BwAHAAcAAAD5/w4A6/8AAA4AAAAAAAAAAAD5/w4A+f8AAPn/DgAVAAcADgD5/wcAAAAOAAAABwAAAPn/+f8AABwABwAAAAcAAAAAAA4AAAD5/wcAAAAOAPn/AAD5/wAABwAcAAAABwAAAPn/8v/y/wcAAAD5/w4A+f8AAAAA+f8HAA4AHAAAAAcAFQAHAA4ABwAAAPn/DgAOABwABwAOAAcAHAAOAAcAHAAcAAcADgAcAAcAFQAAAPn/BwAOAAAABwAHAAcADgAAAAcABwAHAAAADgAHAAAADgD5/wAA6//5/wcABwAAAA4AFQAOABUA+f8AAAcA+f8HAOv/+f8AABwADgAHABwA8v8cAAAABwAAAA4AFQAHAAAADgAOAA4AAAAOAAAABwAHAAcABwAOAAcABwAAAAcAAAD5/yMADgAHAAAA+f8OAAcABwAcAAcABwAAAAcAAAAHAA4AAAAAAAAAAAAcAAAABwAHAA4AAAAcAA4ABwAAABwABwAOAA4AAAAHAAAAIwAHAAcADgAHABUADgAHAAcAAAAVAAcABwAAABUADgAAAAAAHAAcABUADgAOAA4ADgAAAA4ABwAVAA4A+f8HAAAABwAVABwA+f8HAPn/DgAcABwABwD5/wcABwAHAAcABwAHAAcABwAVAA4ABwAOAAAAFQAOAAcABwAAAAAAAAAHAPn/AAAOABUABwAHAPn/BwAHAAcAAAAAABUABwD5/wcA+f8HAPn/DgAVAAAAFQAOAAcAHAAVAAAADgAAAAcAFQAAABUAAAAAAA4AAAAHAAcABwAOAPn/AAAVABUABwAOAAAADgAHAAAABwAVAAcABwAOABwABwAVAA4ABwAOAA4AAAAHAA4AAAAVAAAADgAHAA4ADgAAAPn/AAAHAAcADgAVABwAFQAcAAcAHAAjACsADgAcAA4ADgAcAA4AHAAOABwADgAVAPL/FQAOAA4ABwAOAAcADgAAABUAFQAAAA4AAAAOAAcADgAAACMADgAHAAcAAAAAAAAADgAAAA4AFQD5/w4A+f/y/w4ADgAVAAAAAAAVAA4AFQAHAAcAFQAOABUAAAAHAAAADgAAAA4ADgAHABwAAAAAAAcAAAAOABUAHAAVAAcADgAHABwAAAAHAAAABwAAAAcADgAVAA4ADgAAAA4A+f8VAA4ABwAVAAAABwAVAA4ADgAAAA4ADgAAABwAFQAHAAcAFQAHAAcABwAHAAcADgAVACMAFQAOABwAFQAVACMAHAAcABwAHAAOABUADgAcACMAFQAHABUAIwAcABUAFQAcACMABwAOAAcABwAVAA4AIwAHABwAHAAAAAcAFQAcAAAAHAAcAAcADgAjAA4ABwAOAA4AFQAOABUAFQAVABwAIwAHABwA+f8AAAAADgAHABUADgAAAA4ADgAVAA4ABwAVAA4AFQAOAA4AIwAHAPn/BwAcABUAHAAVAAcAFQAOABwABwAVAAcADgAHABwAAAD5/wcADgAHAAAADgDy/wAABwAHABwABwAVABUABwAOAAAAHAAAAAcAHAAHAAAABwAHAAcABwAHAPn/FQAHAAAAFQAHAA4ABwAOAAcABwAHAAcABwAcAAcABwAOAA4AFQAOACMAFQAcAA4AFQAVAA4ADgAHABwABwAAAAcAAAD5/w4ABwAVAA4ADgAVAPn/FQAVAAcA8v8AABUADgAHAAAABwD5/xUABwAHAAAABwAHAPn/HAAHAAcA+f8AAA4AAAAAAPn/AAAOABUAAAAOAAAABwD5/wcAFQAAAAcABwAAAA4AIwAOAAcAAAAOAAcABwAHAA4ABwAOAAcADgAHAPn/BwAVAA4A+f8HAPn/BwAHABwADgAHABUABwAAAAAADgAjAAcABwAcAAAA+f/5/wcAFQAAABwAAAAAAA4AFQAOABwABwAHAAAADgAAAAcAFQAHAAcADgD5/wcADgAHABUAHAAHAA4AAAAOAA4ABwAHAA4AIwAVACMADgAAAAcADgAHAAcAAAAcABUADgAHAA4AFQAAABwADgAOAAAABwAHABUAFQAcAA4ABwAOABwAAAAAAA4ADgAHAAcAFQDy/w4ABwAVAA4AAAAAAAAA8v8HAAAABwAHAPn/BwAcABUABwAAAA4ADgAOAA4ADgD5/wcABwAHAA4ADgAVAA4ADgAcABwABwAVAAcAAAAOAAAABwAcABUAFQAAAAAADgAcAAAAAAD5//n/DgAcABwABwAHAA4A+f8AAPn/AADy/wcABwAVAA4AAAAAAPn/AAAHAPn/FQAOAAAA8v8AAAAAFQAHAAcABwAAAA4ADgAVAA4A+f8OAAcAFQAOABwABwAcABUAHAAVAA4AAAAAAAcA+f8HAAAAHAAAAA4AFQAHABwAAAAjAA4ABwAAAPn/HAAVAAAADgAAAPL/HAAVAAcAAAAOACMABwAVABwAAAAHAAcABwD5/xUA+f/y/wcAFQAVAAcAIwAjAA4ABwAHABUADgAAAA4AHAAcAAAA+f8VAA4AAAAOABwABwD5/w4ADgAVAAAADgAcABwA+f8OAA4AFQAVAA4AFQAHABwA+f8cAA4AIwAOACMA+f8VAA4AAAAHABwAFQAjACMAHAAOAEcApQBYAaABUQHtANAAswD0AO0AVgAw//7+N//A/7n/f/8p/yL/Yv/r/yMAx/8b/xv/o//V//L/3f+x/5X/1f9HAEAA8v/V/wAAIwAcAPn/AAAcAOv/8v/5/93/qv/y/ysAHADy/+T/TwBWAIgAgQBrABwAMgBdAGsAOQAOAA4ATwBAAF0AawBrACMAZABPAF0AHAAjAA4ABwD5/xUARwAcADIADgAjAOT/5P/k/+v/zv/H/8D/1f/k/9X/8v/k/+T/5P8HAAAA+f/r/wAAAAAHAAAADgAHAOv/BwAVAA4ABwD5/xwAHAAcAA4AHAAVABwAVgA5ACMABwArAF0ARwAjAE8AKwAjADIAQAAcAAcAAAAVAAcA8v8OABwAAAAVACsADgD5/wAAAAAVAAAA+f/r/+T/8v/y/w4A8v/r//L/HAAAAPn/AAAAAN3/+f8VAAcA+f8OAA4ADgAVAAcAFQAjABwAHAAjABUAFQAVACMA+f8OABUAMgAyACMAHAAVAA4AMgBPACsAFQDy/wAAAAAHAAcABwAHAA4ABwAVABUABwAVAOv/AADy/wcAHAAHAPn/6/8HAAcABwAHABwA6//5/wAAHAAOAAcAHAAAAAcABwAAAAAAAAAHAAAAHADy/w4AIwAjAAcAFQAHABUAFQAcACMAMgAOABUABwAjAA4AHAAcAAcABwAAAAAAAAAcAAcAAAD5/wAAHAAOAAcAAAAVAA4AAAAVAA4AAAAHACMADgAHAOv/DgAcABwAIwAVAPL/6/8HACsAHAAjAAAAFQAOABUAIwAHAPL/BwAcABwABwD5/w4AAAAAACMAFQAAABUADgAVAAAA+f8HACsAHAAcAAAA6//y/0AAXQBHABUA+f8OAAAABwAVAPn/DgDr/xwAAADy//L/8v/5/xwAFQAjAAcAAAAHACMABwAcAPn/HAAVABwA8v8VAAAAHAAOABUADgD5//n/BwAVAA4ADgAcABwAFQAAAAAABwAOABwAFQAHAPL/8v9HADIA+f/k/+T/BwAOACMADgD5/+v/FQArABwA+f/k//n/AAAOAA4AHAD5/wcAMgArAAAABwAAAA4ABwAjAA4ADgAAABUAAAD5/wcADgAVAA4A6/8HAAcAQAAyADIAMgAOACsADgAyABwAFQDy/w4ABwArABwAHAAHABUADgAVABwAFQAHAPn/+f8HAPn/AAAHAA4ADgAVABUAHADy/+T/8v/5/yMARwAVAPL/6//5//L/DgD5/+v/5P/k//L/KwAHABwAHAArAAcAHAAVABwADgAVAN3/AADr/3IA3f/H/4EAYv9AAHoA3f9AACsA1f85ABwADgAcAN3/1f8jAPn/BwAOAOT/BwAHAPn/HAAHAN3/BwAVAPn/5P/r/wcAHAAOABwAHADr//n/FQAjAAAA5P8HABUAAADy//L/BwAAAEAARwAVAPL/8v9WAEcABwD5/wAAAAAOAEcAVgAVAPL/AAAVABwAFQArACsADgDy/wcAHAD5/wcAMgAVAAAAAAAjABwAHAD5/wcAAAAAAPL/IwAHAOv/6/8AAAAAHAAOACMA5P/5/93/FQAOABwA8v/5//L/IwBAACMA8v/d//n/IwBHABwAAAAAAOv/8v8VAA4AKwAyAEAAFQAHAAAAFQAHABwADgAHAOT/AAAHABwA+f8HAA4AFQD5/ysABwD5/87/6/8yAEAAQAArAA4ABwAAACMAKwAAAN3/6/8cAA4AFQAAAPL/+f8HADIATwAVAAAA+f/y/+v/+f8cABwA+f8AAPn/+f8AABwAIwAcAPn/AAAOABUAIwAHABUAAAD5/yMAIwAVAPn/6//k/w4AZAAyACMAAADr/+v/+f8VAAcA6/8VABUAHABHAA4A3f/r//n/HAAVACsABwDy/+v/8v8HABUADgAHAAcAzv+q/7n/QAArAAAAFQAcAPL/x//y/w4AFQDy/+v/5P/O/93/DgAVAOv/5P8AABUADgAVABUA+f/r//n/AAAcAPL/AADr/wAA+f8OACsAHAAHAPn/AAAAAPn/FQAHAOT/5P/y/xwA8v8AAOT/5P/r/yMAKwAVAPn/5P/y/wcA+f8jAPL/5P/y/xUABwAOAAcAAAAAAPL/8v/r/wAAHADy/w4AFQAAAAAABwAOAOv/5P/y/xwADgD5/wAAHAD5/wAAAAAOAPn/BwAcABwABwDk/wAAKwAVAAcAHAAOAAAADgDr/wcA+f8OAAcABwAAAN3/BwAVAAAAAAAHAAcA6//5//L/6//r/93/5P8AAAAABwAHABUA8v/r//n/DgAcAPn/x//d/9X/x//r/wcA6//k//L/KwAcABUA6//V/+T/AAAcACMA6/+5/7n/6//y/0cAMgAAAOv/8v8AABwAIwAOAOv/5P/k/+T/AAAVAPn/BwD5/+T/6//k/+v/DgAjAA4AAAAOAAcAIwAjAA4A1f/H/93/BwAcAAAA3f/5/wAARwBWADkA+f/H/9X/8v8VABwA8v/d/8f/AAAjAGQAOQAAAOv/8v8AACMAIwAAAPL/8v8rAE8AHAAjAN3/+f8VABwAFQAjAAcA8v8VAFYAXQAyAAcA+f/r/xUAOQBHAEAAQADk/w4AHAAyACsATwAVABwAMgAcABwAMgA5AEcAFQAOAAAAHAAVAE8AIwAAAAAAAAAHAA4A8v8HAAcAFQA5AEcAIwAOABUAKwAcAA4A6//r/+v/BwBAADkAFQAVAAAADgAAACMAIwArABUADgAOAPL/6/8HAE8ARwAcAA4AKwAOAAAA+f8OAAAAHAAjACMADgDy/+T/BwAcACMAFQAHAPn/IwBPACMAKwAjACMAHAAcAAcADgD5/+v/AAAAAPn/8v8jADIARwBHABUA5P/d/+v/DgA5ADkABwAAAA4AIwBPAEAAHAAAAM7/3f/y/w4ATwAjAPL/+f/y/+T/IwA5APn/AADy/yMAFQAVAPL/AAAHABUAFQBPABwA+f/d/+v/3f8AAAcAIwAOAPn/8v8rABwAKwAOAAAA6/8AAAAAHADr/9X/uf/d/wAARwAAAPL/3f/r/wcARwBWAE8AFQD5/93/6//k/+T/5P/5//L/DgBHADIARwAcACMABwAOAAAAAAAOAA4A3f/k//L/FQBHAF0AMgAOANX/DgArAFYAVgA5AOT/3f/O/93/6/8HAAcADgAOABwAOQBdAAcA+f8AAAcA8v8AAOv/3f/H//L/RwBWAEcAQAD5/+v/3f/r/+T/6/8OACMAFQAOAOv/8v/r/w4AVgBWAEAA+f/r/+v/+f/5/yMAIwAcAOv/AAAHAPL/6/8HABwADgAcACsAFQAcAPn/DgAAABwAFQD5/+v/6//H/93/AAAcAEcAVgAVAPn/3f/r/wAA8v/k/wAAHAAHAA4AHAArACMABwAcABUAFQAAABUABwDk/+T/BwBdAE8AVgAjAAcAFQAcABwAHAAAAAAAFQAjAEcAXQAOAAAA3f/d/+T/8v8HABUAHAD5/xUADgAjADkARwA5AOv/6//d/93/6//r/wcAIwAHAAAADgDy//n/HAAjAA4A8v8OABwABwAAAPn/5P/r//L/IwAyAPL/zv/k/zIAXQBdAFYAHADr/93/1f/d/wcAAAD5/xUAKwBWACsADgDr/93/3f8HAE8AVgAOAOv/DgAcABwAIwBAABUA5P/y/yMAHAAAAPn/IwAcABUAHABPACMAFQAVAAAA+f/y/08AVgBWAA4ABwAOAEAARwAVAAcA6//d/zIAXQBdAF0AVgAyACMAXQBWAEAABwAAAPn/+f8VAF0ATwBdACMABwDy/+T/8v85AFYAVgArAF0AOQBAAGQAQAAVABwAHABPACsAMgAOAEcAOQAjAFYAMgAOAAAAFQAcAAcAFQA5AE8AIwAcACMAHAD5/wAAMgBPABUARwBWAE8AIwAVABwAIwAcAEcAXQBHABUAAADk/w4AOQBdAFYAXQBAACMADgAHABUAHAAHABwAHABHAEcARwAcACMABwAHAPn/AAAHAA4A6//r//L/ZAA5ACMADgDy//L/BwAHABUAHADy//n/DgAjAA4A+f8AAPL/+f8AABwAFQAOAOv/6//y/xwA+f8VABwABwDy/wcAQABdAAcA8v/d/+v/3f8jAEAAHAAHAAcABwAVABUABwAVAAcAAAD5//n/5P8OABwAFQAOABUAFQAHABUAHAAOAA4A8v8yAEAAHAAVABUA+f8OACsAVgBHAA4A+f/r//n/BwAcACsAHAAjADkAMgAyACMABwDr/w4ABwAjABwAHAAjACMABwA5ACsARwBWAFYAQAAOAA4AHAAVACsAMgA5ACsAHAAjACsAHAAHAAAAFQAVADkAOQArACMAFQArAFYATwAOAPn/+f8OACMAKwBHABUAIwAAABUAAAAOAPn/IwAcACMABwAOAEAARwBPAA4A6//y/wAAOQBdADIADgAHABwAVgBPABwAHAAHAAcAIwBHAEcAIwAyAF0AQAArABwAFQD5/wcAHAAjABwAIwBdAEAARwA5ADIAHAAcABwADgAjAA4ABwAVAA4A+f8HAAcAKwAOAA4ADgAAABUAKwBPACsADgAHAA4AAADy/+T/6//k/wAABwAcACMAIwAHAPn/+f/r/87/5P/k/+v/8v8cABUAIwAjACsAHAAAAOT/1f/O/93/8v8AABUAFQAcAAcA6//V/87/3f/r//n/DgAAAAAAAAAOAPL/6//k/87/1f/d//L/BwDy/wAAFQAVAA4AAADr/87/5P/5/wAA+f8HABwABwAAAOT/8v/y/+v/5P/r/+v/+f8rABUABwD5/+T/5P/5/w4AAAAVABwADgAHAAcA+f/r/+T/8v8OABUAFQAAABwAIwAcABUAIwAAAPn/AAD5/wAABwAOAAcAHAAjACMAHAArACMAMgArAE8AMgAHAAAA+f/y/w4ABwAVADkADgBHAF0AVgBWAFYAVgAyABUA+f/r//L/DgAHABUAMgBPABUAIwAVABUAOQBPACsAHAAcAAcA8v8OAAcAMgBHAE8AQABPABwABwAAABUABwAAABUAHAAVAAAA+f8HAAcA6//5/xUA+f8HAPn/HAAcABUAFQArAAcA5P/d/93/5P/y/xwAKwAcABUAHAAcAAcA+f/5/+v/+f/k/+v/5P/r/+v/6//y/xUADgAcABwAFQAAAAAABwArACsAFQD5//L/6/8AAAcAIwAcABUADgAjABwAIwAVAAAABwAHAPn/HAAVAA4A5P/r/+T/+f/5/yMAMgAOAAAA+f8OAAcA+f8HAPn/8v/k/wcAFQDy/93/8v8AAOv/FQArACsA+f8VAA4AFQDy/+T/DgAcAA4A8v/y//L/5P/r/wcAFQDr/+T/8v8OAOv/8v/r/wAAFQAAADkAOQD5//L/+f/k/+T/5P/y//n/BwAAAPn/+f/r/xwABwDy//L/6//r/xUABwAHABUAAAD5/+v/+f8AAOv/BwAVAAcABwAHAAAA5P/5/+v/+f8HAOv/AAD5/wcABwAOAPL/AADr//L/+f8OABUAFQAAAPn/8v/k/xwADgD5/+v/AAAHAOv/AAAHAPn/AAAAABUABwAAAAAA6//y/wAA5P/r//n/HAAHAPL/FQAcAEAATwAyABwA8v/y/+T/FQAHAAcAMgAjABUAKwArACMABwAOAA4AFQAjABwAHAArAE8AMgAyABwAIwAVAA4AIwAHAA4AIwBPAF0AVgBdAEAAIwAHABwAQAA5ADkAOQBWAF0AQAA5ADkAHAArACsAOQAcABwAAAAcABwADgAcADIAOQAyADkAIwAjADkAOQAjABwAHAAAAA4AAAArABwAMgArAFYARwAjABwAHAAAAAcA6//r//L/5P8AAAAAFQAOABUAMgArAA4AFQAVAPn/5P/y/+T/6//r/wAAFQDy//n/IwAyABwAFQDy/93/1f/k/+v/BwAHAPn/6//k/+T/8v/r/+T/+f/r/+T/6//d/+v/zv/r/87/5P/d//n/FQD5//L/6//d/87/3f/r/93/3f/O/8f/6//y/wAAAAAAAOv/5P/r/93/+f/r/+T/5P/r/+T/8v8AAAAA6//y/+T/6/8AAAcA5P/y/+T/5P/y/+v/5P/r//L/5P/k/wcAAADk/9X/5P/y/+v/8v/5/wAA6//r/+v/6//k/+T/6/8AAOv/8v/r//L/8v/5/wAAAADr/+v/8v/k/+v/1f/r//L/HAAcABUA8v8VAAcABwDr/+T/5P/y/wAAAADr/+v/8v/k/wAAFQAHAOT/8v8AAPn/BwAAAAAA+f8HABUADgAVAAAABwD5/wAABwAjADkAIwAyABwAFQD5/xUAHAAAAPL/5P/r/wAADgAjACMAHAD5/wcABwAAAAcAAAAHAPn/AAAOACsAHAAVAPL/AAAcABwAFQAcAA4AAAD5/wcAAADr/+T/5P/k/+v/DgArAFYAVgBWAF0ARwAjAA4A3f/O/87/3f/k//n/FQAjACMAFQAVACMABwAcAPn/HADr//L/6//5/wAABwAVAPL/8v8HAA4AKwBPACMAHAAcAE8AIwAHAPn/+f/r/+v/5P8HABUAIwAjACMAOQBdAFYAMgAcAAAA6//5/wAA6//r/wAAAAAAABUAIwArACMAKwAVAA4AFQAAAPn/6//y/+v/+f/r/w4AIwAHABUAIwAjACMABwDk/+T/5P/r/w4ABwAOAA4AKwAVAPn/6//y/+T/6/8AAA4AFQArABwAFQAOAAAA8v/r//L/5P/k//L/DgAOABUADgAVAPn/AAAAAAAAAAAHAAcAFQD5/w4AHAAcABUAAADr//n/BwD5/xUAHAAVAA4AHAAOAA==\" type=\"audio/wav\" />\n",
       "                    Your browser does not support the audio element.\n",
       "                </audio>\n",
       "              "
      ],
      "text/plain": [
       "<IPython.lib.display.Audio object>"
      ]
     },
     "execution_count": 50,
     "metadata": {},
     "output_type": "execute_result"
    }
   ],
   "source": [
    "# Play Audio \n",
    "\n",
    "ipd.Audio(data=read_audio(\"SA2.wav\"), autoplay=True, rate=16000)"
   ]
  },
  {
   "cell_type": "code",
   "execution_count": 51,
   "metadata": {},
   "outputs": [
    {
     "name": "stdout",
     "output_type": "stream",
     "text": [
      "tensor([[29, 29, 29, 29, 29, 29, 29, 29, 29, 29, 29, 29, 29, 29, 29, 29, 29, 29,\n",
      "         29, 29, 29, 29, 29, 29, 29, 29, 29, 29, 29, 29, 29, 29, 29, 29, 29, 29,\n",
      "         29, 29, 29, 29, 29, 29, 29, 29, 29, 29, 29, 29, 29, 29, 29, 29, 29, 29,\n",
      "         29, 29, 29, 29, 29, 29, 29, 29, 29, 29, 29, 29, 29, 29, 29, 29, 29, 29,\n",
      "         29, 29, 29, 29, 29, 29, 29, 29, 29, 29, 29, 29, 29, 29, 29, 29, 29, 29,\n",
      "         29, 29, 29, 29, 29, 29, 29, 29, 29, 29, 29, 29, 29, 29, 29, 29, 29, 29,\n",
      "         29, 29, 29, 29, 29, 29, 29, 29, 29, 29, 29, 29, 29, 29, 29, 29, 29, 29,\n",
      "         29, 29, 29, 29, 29, 29, 29, 29, 29, 29, 29, 29, 29, 29, 29, 29, 29, 29,\n",
      "         29, 29]], device='cuda:0')\n"
     ]
    },
    {
     "data": {
      "text/plain": [
       "''"
      ]
     },
     "execution_count": 51,
     "metadata": {},
     "output_type": "execute_result"
    }
   ],
   "source": [
    "# Print Predicted Speech\n",
    "\n",
    "predict_text(\"SA2.wav\")"
   ]
  },
  {
   "cell_type": "code",
   "execution_count": null,
   "metadata": {},
   "outputs": [],
   "source": []
  }
 ],
 "metadata": {
  "accelerator": "GPU",
  "colab": {
   "collapsed_sections": [],
   "machine_shape": "hm",
   "name": "Wav2Vec2 for LC ASR Task",
   "provenance": [],
   "toc_visible": true
  },
  "kernelspec": {
   "display_name": "PyCharm (asr)",
   "language": "python",
   "name": "pycharm-3a8434c8"
  },
  "language_info": {
   "codemirror_mode": {
    "name": "ipython",
    "version": 3
   },
   "file_extension": ".py",
   "mimetype": "text/x-python",
   "name": "python",
   "nbconvert_exporter": "python",
   "pygments_lexer": "ipython3",
   "version": "3.9.7"
  },
  "widgets": {
   "application/vnd.jupyter.widget-state+json": {
    "014f806c3b8948248e5be9bd5370178b": {
     "model_module": "@jupyter-widgets/base",
     "model_module_version": "1.2.0",
     "model_name": "LayoutModel",
     "state": {
      "_model_module": "@jupyter-widgets/base",
      "_model_module_version": "1.2.0",
      "_model_name": "LayoutModel",
      "_view_count": null,
      "_view_module": "@jupyter-widgets/base",
      "_view_module_version": "1.2.0",
      "_view_name": "LayoutView",
      "align_content": null,
      "align_items": null,
      "align_self": null,
      "border": null,
      "bottom": null,
      "display": null,
      "flex": null,
      "flex_flow": null,
      "grid_area": null,
      "grid_auto_columns": null,
      "grid_auto_flow": null,
      "grid_auto_rows": null,
      "grid_column": null,
      "grid_gap": null,
      "grid_row": null,
      "grid_template_areas": null,
      "grid_template_columns": null,
      "grid_template_rows": null,
      "height": null,
      "justify_content": null,
      "justify_items": null,
      "left": null,
      "margin": null,
      "max_height": null,
      "max_width": null,
      "min_height": null,
      "min_width": null,
      "object_fit": null,
      "object_position": null,
      "order": null,
      "overflow": null,
      "overflow_x": null,
      "overflow_y": null,
      "padding": null,
      "right": null,
      "top": null,
      "visibility": null,
      "width": null
     }
    },
    "0192714f1557428782b46793c05eb26d": {
     "model_module": "@jupyter-widgets/base",
     "model_module_version": "1.2.0",
     "model_name": "LayoutModel",
     "state": {
      "_model_module": "@jupyter-widgets/base",
      "_model_module_version": "1.2.0",
      "_model_name": "LayoutModel",
      "_view_count": null,
      "_view_module": "@jupyter-widgets/base",
      "_view_module_version": "1.2.0",
      "_view_name": "LayoutView",
      "align_content": null,
      "align_items": null,
      "align_self": null,
      "border": null,
      "bottom": null,
      "display": null,
      "flex": null,
      "flex_flow": null,
      "grid_area": null,
      "grid_auto_columns": null,
      "grid_auto_flow": null,
      "grid_auto_rows": null,
      "grid_column": null,
      "grid_gap": null,
      "grid_row": null,
      "grid_template_areas": null,
      "grid_template_columns": null,
      "grid_template_rows": null,
      "height": null,
      "justify_content": null,
      "justify_items": null,
      "left": null,
      "margin": null,
      "max_height": null,
      "max_width": null,
      "min_height": null,
      "min_width": null,
      "object_fit": null,
      "object_position": null,
      "order": null,
      "overflow": null,
      "overflow_x": null,
      "overflow_y": null,
      "padding": null,
      "right": null,
      "top": null,
      "visibility": null,
      "width": null
     }
    },
    "02fd98c15acc4ca8b973d4682a8bf684": {
     "model_module": "@jupyter-widgets/controls",
     "model_module_version": "1.5.0",
     "model_name": "DescriptionStyleModel",
     "state": {
      "_model_module": "@jupyter-widgets/controls",
      "_model_module_version": "1.5.0",
      "_model_name": "DescriptionStyleModel",
      "_view_count": null,
      "_view_module": "@jupyter-widgets/base",
      "_view_module_version": "1.2.0",
      "_view_name": "StyleView",
      "description_width": ""
     }
    },
    "06ea7ced00074f18be8d701840e57af5": {
     "model_module": "@jupyter-widgets/base",
     "model_module_version": "1.2.0",
     "model_name": "LayoutModel",
     "state": {
      "_model_module": "@jupyter-widgets/base",
      "_model_module_version": "1.2.0",
      "_model_name": "LayoutModel",
      "_view_count": null,
      "_view_module": "@jupyter-widgets/base",
      "_view_module_version": "1.2.0",
      "_view_name": "LayoutView",
      "align_content": null,
      "align_items": null,
      "align_self": null,
      "border": null,
      "bottom": null,
      "display": null,
      "flex": null,
      "flex_flow": null,
      "grid_area": null,
      "grid_auto_columns": null,
      "grid_auto_flow": null,
      "grid_auto_rows": null,
      "grid_column": null,
      "grid_gap": null,
      "grid_row": null,
      "grid_template_areas": null,
      "grid_template_columns": null,
      "grid_template_rows": null,
      "height": null,
      "justify_content": null,
      "justify_items": null,
      "left": null,
      "margin": null,
      "max_height": null,
      "max_width": null,
      "min_height": null,
      "min_width": null,
      "object_fit": null,
      "object_position": null,
      "order": null,
      "overflow": null,
      "overflow_x": null,
      "overflow_y": null,
      "padding": null,
      "right": null,
      "top": null,
      "visibility": null,
      "width": null
     }
    },
    "0a7e1500d4764332aae441c0afbe12bf": {
     "model_module": "@jupyter-widgets/base",
     "model_module_version": "1.2.0",
     "model_name": "LayoutModel",
     "state": {
      "_model_module": "@jupyter-widgets/base",
      "_model_module_version": "1.2.0",
      "_model_name": "LayoutModel",
      "_view_count": null,
      "_view_module": "@jupyter-widgets/base",
      "_view_module_version": "1.2.0",
      "_view_name": "LayoutView",
      "align_content": null,
      "align_items": null,
      "align_self": null,
      "border": null,
      "bottom": null,
      "display": null,
      "flex": null,
      "flex_flow": null,
      "grid_area": null,
      "grid_auto_columns": null,
      "grid_auto_flow": null,
      "grid_auto_rows": null,
      "grid_column": null,
      "grid_gap": null,
      "grid_row": null,
      "grid_template_areas": null,
      "grid_template_columns": null,
      "grid_template_rows": null,
      "height": null,
      "justify_content": null,
      "justify_items": null,
      "left": null,
      "margin": null,
      "max_height": null,
      "max_width": null,
      "min_height": null,
      "min_width": null,
      "object_fit": null,
      "object_position": null,
      "order": null,
      "overflow": null,
      "overflow_x": null,
      "overflow_y": null,
      "padding": null,
      "right": null,
      "top": null,
      "visibility": null,
      "width": null
     }
    },
    "0b2943dee47d4842a246a047607af7c1": {
     "model_module": "@jupyter-widgets/controls",
     "model_module_version": "1.5.0",
     "model_name": "DescriptionStyleModel",
     "state": {
      "_model_module": "@jupyter-widgets/controls",
      "_model_module_version": "1.5.0",
      "_model_name": "DescriptionStyleModel",
      "_view_count": null,
      "_view_module": "@jupyter-widgets/base",
      "_view_module_version": "1.2.0",
      "_view_name": "StyleView",
      "description_width": ""
     }
    },
    "0c50021a603247b88f18f54c505381e8": {
     "model_module": "@jupyter-widgets/controls",
     "model_module_version": "1.5.0",
     "model_name": "HTMLModel",
     "state": {
      "_dom_classes": [],
      "_model_module": "@jupyter-widgets/controls",
      "_model_module_version": "1.5.0",
      "_model_name": "HTMLModel",
      "_view_count": null,
      "_view_module": "@jupyter-widgets/controls",
      "_view_module_version": "1.5.0",
      "_view_name": "HTMLView",
      "description": "",
      "description_tooltip": null,
      "layout": "IPY_MODEL_699a3b31ef6540169eea486fa987c5c1",
      "placeholder": "​",
      "style": "IPY_MODEL_0d9e9401037a4c15825051fd206cf03e",
      "value": " 1.89k/1.89k [00:00&lt;00:00, 55.0kB/s]"
     }
    },
    "0c522bee9e2f4aa9a3c58ec1d5953931": {
     "model_module": "@jupyter-widgets/controls",
     "model_module_version": "1.5.0",
     "model_name": "HBoxModel",
     "state": {
      "_dom_classes": [],
      "_model_module": "@jupyter-widgets/controls",
      "_model_module_version": "1.5.0",
      "_model_name": "HBoxModel",
      "_view_count": null,
      "_view_module": "@jupyter-widgets/controls",
      "_view_module_version": "1.5.0",
      "_view_name": "HBoxView",
      "box_style": "",
      "children": [
       "IPY_MODEL_858b51c4d34342cd8112c716ea13b479",
       "IPY_MODEL_6f7df5e67488466ea320eb703571f18e",
       "IPY_MODEL_3b9ba2b6b4a24d82b63f3685de6378e5"
      ],
      "layout": "IPY_MODEL_ffce8896c8b148c6ba66a6a2f1e20069"
     }
    },
    "0d9e9401037a4c15825051fd206cf03e": {
     "model_module": "@jupyter-widgets/controls",
     "model_module_version": "1.5.0",
     "model_name": "DescriptionStyleModel",
     "state": {
      "_model_module": "@jupyter-widgets/controls",
      "_model_module_version": "1.5.0",
      "_model_name": "DescriptionStyleModel",
      "_view_count": null,
      "_view_module": "@jupyter-widgets/base",
      "_view_module_version": "1.2.0",
      "_view_name": "StyleView",
      "description_width": ""
     }
    },
    "1010a1da0bf847bdb947a8a531467e68": {
     "model_module": "@jupyter-widgets/controls",
     "model_module_version": "1.5.0",
     "model_name": "HTMLModel",
     "state": {
      "_dom_classes": [],
      "_model_module": "@jupyter-widgets/controls",
      "_model_module_version": "1.5.0",
      "_model_name": "HTMLModel",
      "_view_count": null,
      "_view_module": "@jupyter-widgets/controls",
      "_view_module_version": "1.5.0",
      "_view_name": "HTMLView",
      "description": "",
      "description_tooltip": null,
      "layout": "IPY_MODEL_43cc39e9f3bb4eefab8a69b0b5b8b876",
      "placeholder": "​",
      "style": "IPY_MODEL_2c296830a8f244fbb3a6e8297db5f7c9",
      "value": " 11790/11790 [00:01&lt;00:00, 11363.29ex/s]"
     }
    },
    "116d8f74ba924b25a7308b884e415bf8": {
     "model_module": "@jupyter-widgets/controls",
     "model_module_version": "1.5.0",
     "model_name": "DescriptionStyleModel",
     "state": {
      "_model_module": "@jupyter-widgets/controls",
      "_model_module_version": "1.5.0",
      "_model_name": "DescriptionStyleModel",
      "_view_count": null,
      "_view_module": "@jupyter-widgets/base",
      "_view_module_version": "1.2.0",
      "_view_name": "StyleView",
      "description_width": ""
     }
    },
    "130c075c66da402f8ec2f22337850c88": {
     "model_module": "@jupyter-widgets/controls",
     "model_module_version": "1.5.0",
     "model_name": "DescriptionStyleModel",
     "state": {
      "_model_module": "@jupyter-widgets/controls",
      "_model_module_version": "1.5.0",
      "_model_name": "DescriptionStyleModel",
      "_view_count": null,
      "_view_module": "@jupyter-widgets/base",
      "_view_module_version": "1.2.0",
      "_view_name": "StyleView",
      "description_width": ""
     }
    },
    "14d7351371f643e0bd864b1ae418f00e": {
     "model_module": "@jupyter-widgets/controls",
     "model_module_version": "1.5.0",
     "model_name": "HTMLModel",
     "state": {
      "_dom_classes": [],
      "_model_module": "@jupyter-widgets/controls",
      "_model_module_version": "1.5.0",
      "_model_name": "HTMLModel",
      "_view_count": null,
      "_view_module": "@jupyter-widgets/controls",
      "_view_module_version": "1.5.0",
      "_view_name": "HTMLView",
      "description": "",
      "description_tooltip": null,
      "layout": "IPY_MODEL_e344ea6026d44246923f7866fb272f85",
      "placeholder": "​",
      "style": "IPY_MODEL_603976ce12a54beabcee636dd2c7f360",
      "value": " 215/215 [00:00&lt;00:00, 6.24kB/s]"
     }
    },
    "14dae264619940beab57908b986aa6bb": {
     "model_module": "@jupyter-widgets/base",
     "model_module_version": "1.2.0",
     "model_name": "LayoutModel",
     "state": {
      "_model_module": "@jupyter-widgets/base",
      "_model_module_version": "1.2.0",
      "_model_name": "LayoutModel",
      "_view_count": null,
      "_view_module": "@jupyter-widgets/base",
      "_view_module_version": "1.2.0",
      "_view_name": "LayoutView",
      "align_content": null,
      "align_items": null,
      "align_self": null,
      "border": null,
      "bottom": null,
      "display": null,
      "flex": null,
      "flex_flow": null,
      "grid_area": null,
      "grid_auto_columns": null,
      "grid_auto_flow": null,
      "grid_auto_rows": null,
      "grid_column": null,
      "grid_gap": null,
      "grid_row": null,
      "grid_template_areas": null,
      "grid_template_columns": null,
      "grid_template_rows": null,
      "height": null,
      "justify_content": null,
      "justify_items": null,
      "left": null,
      "margin": null,
      "max_height": null,
      "max_width": null,
      "min_height": null,
      "min_width": null,
      "object_fit": null,
      "object_position": null,
      "order": null,
      "overflow": null,
      "overflow_x": null,
      "overflow_y": null,
      "padding": null,
      "right": null,
      "top": null,
      "visibility": null,
      "width": null
     }
    },
    "15e7f43ef23e45c38b9f2f11b3ea9745": {
     "model_module": "@jupyter-widgets/controls",
     "model_module_version": "1.5.0",
     "model_name": "HBoxModel",
     "state": {
      "_dom_classes": [],
      "_model_module": "@jupyter-widgets/controls",
      "_model_module_version": "1.5.0",
      "_model_name": "HBoxModel",
      "_view_count": null,
      "_view_module": "@jupyter-widgets/controls",
      "_view_module_version": "1.5.0",
      "_view_name": "HBoxView",
      "box_style": "",
      "children": [
       "IPY_MODEL_3f3ced6a17494a329207e2c7a48b3d78",
       "IPY_MODEL_277de4b0b44d45ed8e41c727bcaf0322",
       "IPY_MODEL_14d7351371f643e0bd864b1ae418f00e"
      ],
      "layout": "IPY_MODEL_70786689be0f4c5d89f24f37c9d37ba2"
     }
    },
    "16828f598c3845edb70d9a3b91cd0030": {
     "model_module": "@jupyter-widgets/controls",
     "model_module_version": "1.5.0",
     "model_name": "DescriptionStyleModel",
     "state": {
      "_model_module": "@jupyter-widgets/controls",
      "_model_module_version": "1.5.0",
      "_model_name": "DescriptionStyleModel",
      "_view_count": null,
      "_view_module": "@jupyter-widgets/base",
      "_view_module_version": "1.2.0",
      "_view_name": "StyleView",
      "description_width": ""
     }
    },
    "17a09ff9015f4eb2b91ee77b1f7f76e0": {
     "model_module": "@jupyter-widgets/controls",
     "model_module_version": "1.5.0",
     "model_name": "HTMLModel",
     "state": {
      "_dom_classes": [],
      "_model_module": "@jupyter-widgets/controls",
      "_model_module_version": "1.5.0",
      "_model_name": "HTMLModel",
      "_view_count": null,
      "_view_module": "@jupyter-widgets/controls",
      "_view_module_version": "1.5.0",
      "_view_name": "HTMLView",
      "description": "",
      "description_tooltip": null,
      "layout": "IPY_MODEL_a5b0355d9a2e4125b7244ae5582212c8",
      "placeholder": "​",
      "style": "IPY_MODEL_3b2bcaf5a8f34426bb98ec435603b295",
      "value": "Upload file pytorch_model.bin: 100%"
     }
    },
    "1b6343b6e6714e58a39e5ca1adfa47ef": {
     "model_module": "@jupyter-widgets/controls",
     "model_module_version": "1.5.0",
     "model_name": "DescriptionStyleModel",
     "state": {
      "_model_module": "@jupyter-widgets/controls",
      "_model_module_version": "1.5.0",
      "_model_name": "DescriptionStyleModel",
      "_view_count": null,
      "_view_module": "@jupyter-widgets/base",
      "_view_module_version": "1.2.0",
      "_view_name": "StyleView",
      "description_width": ""
     }
    },
    "22e5e82c38a44d4aa9ada5253584984a": {
     "model_module": "@jupyter-widgets/controls",
     "model_module_version": "1.5.0",
     "model_name": "DescriptionStyleModel",
     "state": {
      "_model_module": "@jupyter-widgets/controls",
      "_model_module_version": "1.5.0",
      "_model_name": "DescriptionStyleModel",
      "_view_count": null,
      "_view_module": "@jupyter-widgets/base",
      "_view_module_version": "1.2.0",
      "_view_name": "StyleView",
      "description_width": ""
     }
    },
    "2392ea8eae7c4dbebc0e218cd7c5ce23": {
     "model_module": "@jupyter-widgets/controls",
     "model_module_version": "1.5.0",
     "model_name": "HTMLModel",
     "state": {
      "_dom_classes": [],
      "_model_module": "@jupyter-widgets/controls",
      "_model_module_version": "1.5.0",
      "_model_name": "HTMLModel",
      "_view_count": null,
      "_view_module": "@jupyter-widgets/controls",
      "_view_module_version": "1.5.0",
      "_view_name": "HTMLView",
      "description": "",
      "description_tooltip": null,
      "layout": "IPY_MODEL_d16ea3ef10684bf1b1092345ca92897a",
      "placeholder": "​",
      "style": "IPY_MODEL_2d77f792dd6048b39d0f14ebf4f80614",
      "value": "100%"
     }
    },
    "277de4b0b44d45ed8e41c727bcaf0322": {
     "model_module": "@jupyter-widgets/controls",
     "model_module_version": "1.5.0",
     "model_name": "FloatProgressModel",
     "state": {
      "_dom_classes": [],
      "_model_module": "@jupyter-widgets/controls",
      "_model_module_version": "1.5.0",
      "_model_name": "FloatProgressModel",
      "_view_count": null,
      "_view_module": "@jupyter-widgets/controls",
      "_view_module_version": "1.5.0",
      "_view_name": "ProgressView",
      "bar_style": "success",
      "description": "",
      "description_tooltip": null,
      "layout": "IPY_MODEL_960e03228c4540ac97e2144de0599956",
      "max": 215,
      "min": 0,
      "orientation": "horizontal",
      "style": "IPY_MODEL_8bdf8edddbaa4e33a214cebad3f124c2",
      "value": 215
     }
    },
    "29105b8924d949b99cc0bf317d63b25c": {
     "model_module": "@jupyter-widgets/controls",
     "model_module_version": "1.5.0",
     "model_name": "DescriptionStyleModel",
     "state": {
      "_model_module": "@jupyter-widgets/controls",
      "_model_module_version": "1.5.0",
      "_model_name": "DescriptionStyleModel",
      "_view_count": null,
      "_view_module": "@jupyter-widgets/base",
      "_view_module_version": "1.2.0",
      "_view_name": "StyleView",
      "description_width": ""
     }
    },
    "2c296830a8f244fbb3a6e8297db5f7c9": {
     "model_module": "@jupyter-widgets/controls",
     "model_module_version": "1.5.0",
     "model_name": "DescriptionStyleModel",
     "state": {
      "_model_module": "@jupyter-widgets/controls",
      "_model_module_version": "1.5.0",
      "_model_name": "DescriptionStyleModel",
      "_view_count": null,
      "_view_module": "@jupyter-widgets/base",
      "_view_module_version": "1.2.0",
      "_view_name": "StyleView",
      "description_width": ""
     }
    },
    "2d77f792dd6048b39d0f14ebf4f80614": {
     "model_module": "@jupyter-widgets/controls",
     "model_module_version": "1.5.0",
     "model_name": "DescriptionStyleModel",
     "state": {
      "_model_module": "@jupyter-widgets/controls",
      "_model_module_version": "1.5.0",
      "_model_name": "DescriptionStyleModel",
      "_view_count": null,
      "_view_module": "@jupyter-widgets/base",
      "_view_module_version": "1.2.0",
      "_view_name": "StyleView",
      "description_width": ""
     }
    },
    "2e27a56468684597ba7084d662a92309": {
     "model_module": "@jupyter-widgets/controls",
     "model_module_version": "1.5.0",
     "model_name": "DescriptionStyleModel",
     "state": {
      "_model_module": "@jupyter-widgets/controls",
      "_model_module_version": "1.5.0",
      "_model_name": "DescriptionStyleModel",
      "_view_count": null,
      "_view_module": "@jupyter-widgets/base",
      "_view_module_version": "1.2.0",
      "_view_name": "StyleView",
      "description_width": ""
     }
    },
    "310c679ea5c94e9d974ecf8a6f78ddfa": {
     "model_module": "@jupyter-widgets/controls",
     "model_module_version": "1.5.0",
     "model_name": "HBoxModel",
     "state": {
      "_dom_classes": [],
      "_model_module": "@jupyter-widgets/controls",
      "_model_module_version": "1.5.0",
      "_model_name": "HBoxModel",
      "_view_count": null,
      "_view_module": "@jupyter-widgets/controls",
      "_view_module_version": "1.5.0",
      "_view_name": "HBoxView",
      "box_style": "",
      "children": [
       "IPY_MODEL_8c9a575f1f4b44809c5ffb12436b7966",
       "IPY_MODEL_b477afdf889b479ba892b3e0110ee94f",
       "IPY_MODEL_a0488c5f2aea43388491367308426d38"
      ],
      "layout": "IPY_MODEL_64b55627276d4d509d6345fc92f203d2"
     }
    },
    "3544f17e723f4ade9356e0eacd57c4f5": {
     "model_module": "@jupyter-widgets/controls",
     "model_module_version": "1.5.0",
     "model_name": "FloatProgressModel",
     "state": {
      "_dom_classes": [],
      "_model_module": "@jupyter-widgets/controls",
      "_model_module_version": "1.5.0",
      "_model_name": "FloatProgressModel",
      "_view_count": null,
      "_view_module": "@jupyter-widgets/controls",
      "_view_module_version": "1.5.0",
      "_view_name": "ProgressView",
      "bar_style": "success",
      "description": "",
      "description_tooltip": null,
      "layout": "IPY_MODEL_a5858da3495c4995adf804fc96ef938f",
      "max": 1947,
      "min": 0,
      "orientation": "horizontal",
      "style": "IPY_MODEL_4ab4afbba4a940cba487688b298092cf",
      "value": 1947
     }
    },
    "3847f0eb02c64151bba5722abf51d4be": {
     "model_module": "@jupyter-widgets/base",
     "model_module_version": "1.2.0",
     "model_name": "LayoutModel",
     "state": {
      "_model_module": "@jupyter-widgets/base",
      "_model_module_version": "1.2.0",
      "_model_name": "LayoutModel",
      "_view_count": null,
      "_view_module": "@jupyter-widgets/base",
      "_view_module_version": "1.2.0",
      "_view_name": "LayoutView",
      "align_content": null,
      "align_items": null,
      "align_self": null,
      "border": null,
      "bottom": null,
      "display": null,
      "flex": null,
      "flex_flow": null,
      "grid_area": null,
      "grid_auto_columns": null,
      "grid_auto_flow": null,
      "grid_auto_rows": null,
      "grid_column": null,
      "grid_gap": null,
      "grid_row": null,
      "grid_template_areas": null,
      "grid_template_columns": null,
      "grid_template_rows": null,
      "height": null,
      "justify_content": null,
      "justify_items": null,
      "left": null,
      "margin": null,
      "max_height": null,
      "max_width": null,
      "min_height": null,
      "min_width": null,
      "object_fit": null,
      "object_position": null,
      "order": null,
      "overflow": null,
      "overflow_x": null,
      "overflow_y": null,
      "padding": null,
      "right": null,
      "top": null,
      "visibility": null,
      "width": null
     }
    },
    "3904bfe781854100881b9e3806604792": {
     "model_module": "@jupyter-widgets/base",
     "model_module_version": "1.2.0",
     "model_name": "LayoutModel",
     "state": {
      "_model_module": "@jupyter-widgets/base",
      "_model_module_version": "1.2.0",
      "_model_name": "LayoutModel",
      "_view_count": null,
      "_view_module": "@jupyter-widgets/base",
      "_view_module_version": "1.2.0",
      "_view_name": "LayoutView",
      "align_content": null,
      "align_items": null,
      "align_self": null,
      "border": null,
      "bottom": null,
      "display": null,
      "flex": null,
      "flex_flow": null,
      "grid_area": null,
      "grid_auto_columns": null,
      "grid_auto_flow": null,
      "grid_auto_rows": null,
      "grid_column": null,
      "grid_gap": null,
      "grid_row": null,
      "grid_template_areas": null,
      "grid_template_columns": null,
      "grid_template_rows": null,
      "height": null,
      "justify_content": null,
      "justify_items": null,
      "left": null,
      "margin": null,
      "max_height": null,
      "max_width": null,
      "min_height": null,
      "min_width": null,
      "object_fit": null,
      "object_position": null,
      "order": null,
      "overflow": null,
      "overflow_x": null,
      "overflow_y": null,
      "padding": null,
      "right": null,
      "top": null,
      "visibility": null,
      "width": null
     }
    },
    "3a68b633b5664faf999bd2bbacf79125": {
     "model_module": "@jupyter-widgets/controls",
     "model_module_version": "1.5.0",
     "model_name": "FloatProgressModel",
     "state": {
      "_dom_classes": [],
      "_model_module": "@jupyter-widgets/controls",
      "_model_module_version": "1.5.0",
      "_model_name": "FloatProgressModel",
      "_view_count": null,
      "_view_module": "@jupyter-widgets/controls",
      "_view_module_version": "1.5.0",
      "_view_name": "ProgressView",
      "bar_style": "success",
      "description": "",
      "description_tooltip": null,
      "layout": "IPY_MODEL_b4ad8f1142834b04b72373b7b8cd9e97",
      "max": 268,
      "min": 0,
      "orientation": "horizontal",
      "style": "IPY_MODEL_fe9d785b39be443584872ea994cb9c45",
      "value": 268
     }
    },
    "3b2bcaf5a8f34426bb98ec435603b295": {
     "model_module": "@jupyter-widgets/controls",
     "model_module_version": "1.5.0",
     "model_name": "DescriptionStyleModel",
     "state": {
      "_model_module": "@jupyter-widgets/controls",
      "_model_module_version": "1.5.0",
      "_model_name": "DescriptionStyleModel",
      "_view_count": null,
      "_view_module": "@jupyter-widgets/base",
      "_view_module_version": "1.2.0",
      "_view_name": "StyleView",
      "description_width": ""
     }
    },
    "3b9ba2b6b4a24d82b63f3685de6378e5": {
     "model_module": "@jupyter-widgets/controls",
     "model_module_version": "1.5.0",
     "model_name": "HTMLModel",
     "state": {
      "_dom_classes": [],
      "_model_module": "@jupyter-widgets/controls",
      "_model_module_version": "1.5.0",
      "_model_name": "HTMLModel",
      "_view_count": null,
      "_view_module": "@jupyter-widgets/controls",
      "_view_module_version": "1.5.0",
      "_view_name": "HTMLView",
      "description": "",
      "description_tooltip": null,
      "layout": "IPY_MODEL_a8070a9f2d004a77be3853f10d415ece",
      "placeholder": "​",
      "style": "IPY_MODEL_af132b79295747b0a185e9a38539338b",
      "value": " 360M/360M [00:07&lt;00:00, 49.4MB/s]"
     }
    },
    "3d0635b79b6342b78a9689e092f60872": {
     "model_module": "@jupyter-widgets/controls",
     "model_module_version": "1.5.0",
     "model_name": "HTMLModel",
     "state": {
      "_dom_classes": [],
      "_model_module": "@jupyter-widgets/controls",
      "_model_module_version": "1.5.0",
      "_model_name": "HTMLModel",
      "_view_count": null,
      "_view_module": "@jupyter-widgets/controls",
      "_view_module_version": "1.5.0",
      "_view_name": "HTMLView",
      "description": "",
      "description_tooltip": null,
      "layout": "IPY_MODEL_d1693414e7964bfcbe95f6d95d5d4204",
      "placeholder": "​",
      "style": "IPY_MODEL_29105b8924d949b99cc0bf317d63b25c",
      "value": " 5/5 [00:00&lt;00:00, 99.72ba/s]"
     }
    },
    "3f3ced6a17494a329207e2c7a48b3d78": {
     "model_module": "@jupyter-widgets/controls",
     "model_module_version": "1.5.0",
     "model_name": "HTMLModel",
     "state": {
      "_dom_classes": [],
      "_model_module": "@jupyter-widgets/controls",
      "_model_module_version": "1.5.0",
      "_model_name": "HTMLModel",
      "_view_count": null,
      "_view_module": "@jupyter-widgets/controls",
      "_view_module_version": "1.5.0",
      "_view_name": "HTMLView",
      "description": "",
      "description_tooltip": null,
      "layout": "IPY_MODEL_dfa667744f6645e2a2d878fd923cbb7a",
      "placeholder": "​",
      "style": "IPY_MODEL_0b2943dee47d4842a246a047607af7c1",
      "value": "Downloading: 100%"
     }
    },
    "43cc39e9f3bb4eefab8a69b0b5b8b876": {
     "model_module": "@jupyter-widgets/base",
     "model_module_version": "1.2.0",
     "model_name": "LayoutModel",
     "state": {
      "_model_module": "@jupyter-widgets/base",
      "_model_module_version": "1.2.0",
      "_model_name": "LayoutModel",
      "_view_count": null,
      "_view_module": "@jupyter-widgets/base",
      "_view_module_version": "1.2.0",
      "_view_name": "LayoutView",
      "align_content": null,
      "align_items": null,
      "align_self": null,
      "border": null,
      "bottom": null,
      "display": null,
      "flex": null,
      "flex_flow": null,
      "grid_area": null,
      "grid_auto_columns": null,
      "grid_auto_flow": null,
      "grid_auto_rows": null,
      "grid_column": null,
      "grid_gap": null,
      "grid_row": null,
      "grid_template_areas": null,
      "grid_template_columns": null,
      "grid_template_rows": null,
      "height": null,
      "justify_content": null,
      "justify_items": null,
      "left": null,
      "margin": null,
      "max_height": null,
      "max_width": null,
      "min_height": null,
      "min_width": null,
      "object_fit": null,
      "object_position": null,
      "order": null,
      "overflow": null,
      "overflow_x": null,
      "overflow_y": null,
      "padding": null,
      "right": null,
      "top": null,
      "visibility": null,
      "width": null
     }
    },
    "43dee20fb25044909d9b8ae534108f4f": {
     "model_module": "@jupyter-widgets/controls",
     "model_module_version": "1.5.0",
     "model_name": "HBoxModel",
     "state": {
      "_dom_classes": [],
      "_model_module": "@jupyter-widgets/controls",
      "_model_module_version": "1.5.0",
      "_model_name": "HBoxModel",
      "_view_count": null,
      "_view_module": "@jupyter-widgets/controls",
      "_view_module_version": "1.5.0",
      "_view_name": "HBoxView",
      "box_style": "",
      "children": [
       "IPY_MODEL_5559661cb5414407aa3dd7d403baf1f4",
       "IPY_MODEL_b68e2ce04cbf4f6fa1adc245bc1bf6a3",
       "IPY_MODEL_1010a1da0bf847bdb947a8a531467e68"
      ],
      "layout": "IPY_MODEL_687c579dd22e4922ba99f31759c57d44"
     }
    },
    "44acbd5e884948b5929f15336986a08e": {
     "model_module": "@jupyter-widgets/controls",
     "model_module_version": "1.5.0",
     "model_name": "DescriptionStyleModel",
     "state": {
      "_model_module": "@jupyter-widgets/controls",
      "_model_module_version": "1.5.0",
      "_model_name": "DescriptionStyleModel",
      "_view_count": null,
      "_view_module": "@jupyter-widgets/base",
      "_view_module_version": "1.2.0",
      "_view_name": "StyleView",
      "description_width": ""
     }
    },
    "45636581103841de8fc965883fbfd0fc": {
     "model_module": "@jupyter-widgets/controls",
     "model_module_version": "1.5.0",
     "model_name": "ProgressStyleModel",
     "state": {
      "_model_module": "@jupyter-widgets/controls",
      "_model_module_version": "1.5.0",
      "_model_name": "ProgressStyleModel",
      "_view_count": null,
      "_view_module": "@jupyter-widgets/base",
      "_view_module_version": "1.2.0",
      "_view_name": "StyleView",
      "bar_color": null,
      "description_width": ""
     }
    },
    "47ae20ba4e5946debdd789af83114d3e": {
     "model_module": "@jupyter-widgets/base",
     "model_module_version": "1.2.0",
     "model_name": "LayoutModel",
     "state": {
      "_model_module": "@jupyter-widgets/base",
      "_model_module_version": "1.2.0",
      "_model_name": "LayoutModel",
      "_view_count": null,
      "_view_module": "@jupyter-widgets/base",
      "_view_module_version": "1.2.0",
      "_view_name": "LayoutView",
      "align_content": null,
      "align_items": null,
      "align_self": null,
      "border": null,
      "bottom": null,
      "display": null,
      "flex": null,
      "flex_flow": null,
      "grid_area": null,
      "grid_auto_columns": null,
      "grid_auto_flow": null,
      "grid_auto_rows": null,
      "grid_column": null,
      "grid_gap": null,
      "grid_row": null,
      "grid_template_areas": null,
      "grid_template_columns": null,
      "grid_template_rows": null,
      "height": null,
      "justify_content": null,
      "justify_items": null,
      "left": null,
      "margin": null,
      "max_height": null,
      "max_width": null,
      "min_height": null,
      "min_width": null,
      "object_fit": null,
      "object_position": null,
      "order": null,
      "overflow": null,
      "overflow_x": null,
      "overflow_y": null,
      "padding": null,
      "right": null,
      "top": null,
      "visibility": null,
      "width": null
     }
    },
    "480afa0ed5f14bbebb888a81b25a5428": {
     "model_module": "@jupyter-widgets/controls",
     "model_module_version": "1.5.0",
     "model_name": "ProgressStyleModel",
     "state": {
      "_model_module": "@jupyter-widgets/controls",
      "_model_module_version": "1.5.0",
      "_model_name": "ProgressStyleModel",
      "_view_count": null,
      "_view_module": "@jupyter-widgets/base",
      "_view_module_version": "1.2.0",
      "_view_name": "StyleView",
      "bar_color": null,
      "description_width": ""
     }
    },
    "4ab4afbba4a940cba487688b298092cf": {
     "model_module": "@jupyter-widgets/controls",
     "model_module_version": "1.5.0",
     "model_name": "ProgressStyleModel",
     "state": {
      "_model_module": "@jupyter-widgets/controls",
      "_model_module_version": "1.5.0",
      "_model_name": "ProgressStyleModel",
      "_view_count": null,
      "_view_module": "@jupyter-widgets/base",
      "_view_module_version": "1.2.0",
      "_view_name": "StyleView",
      "bar_color": null,
      "description_width": ""
     }
    },
    "4b6973c261204b2bb27596bfe26aea7d": {
     "model_module": "@jupyter-widgets/base",
     "model_module_version": "1.2.0",
     "model_name": "LayoutModel",
     "state": {
      "_model_module": "@jupyter-widgets/base",
      "_model_module_version": "1.2.0",
      "_model_name": "LayoutModel",
      "_view_count": null,
      "_view_module": "@jupyter-widgets/base",
      "_view_module_version": "1.2.0",
      "_view_name": "LayoutView",
      "align_content": null,
      "align_items": null,
      "align_self": null,
      "border": null,
      "bottom": null,
      "display": null,
      "flex": null,
      "flex_flow": null,
      "grid_area": null,
      "grid_auto_columns": null,
      "grid_auto_flow": null,
      "grid_auto_rows": null,
      "grid_column": null,
      "grid_gap": null,
      "grid_row": null,
      "grid_template_areas": null,
      "grid_template_columns": null,
      "grid_template_rows": null,
      "height": null,
      "justify_content": null,
      "justify_items": null,
      "left": null,
      "margin": null,
      "max_height": null,
      "max_width": null,
      "min_height": null,
      "min_width": null,
      "object_fit": null,
      "object_position": null,
      "order": null,
      "overflow": null,
      "overflow_x": null,
      "overflow_y": null,
      "padding": null,
      "right": null,
      "top": null,
      "visibility": null,
      "width": null
     }
    },
    "4cb8ed4b37a246f1ab2c28c3c97d1b0e": {
     "model_module": "@jupyter-widgets/base",
     "model_module_version": "1.2.0",
     "model_name": "LayoutModel",
     "state": {
      "_model_module": "@jupyter-widgets/base",
      "_model_module_version": "1.2.0",
      "_model_name": "LayoutModel",
      "_view_count": null,
      "_view_module": "@jupyter-widgets/base",
      "_view_module_version": "1.2.0",
      "_view_name": "LayoutView",
      "align_content": null,
      "align_items": null,
      "align_self": null,
      "border": null,
      "bottom": null,
      "display": null,
      "flex": null,
      "flex_flow": null,
      "grid_area": null,
      "grid_auto_columns": null,
      "grid_auto_flow": null,
      "grid_auto_rows": null,
      "grid_column": null,
      "grid_gap": null,
      "grid_row": null,
      "grid_template_areas": null,
      "grid_template_columns": null,
      "grid_template_rows": null,
      "height": null,
      "justify_content": null,
      "justify_items": null,
      "left": null,
      "margin": null,
      "max_height": null,
      "max_width": null,
      "min_height": null,
      "min_width": null,
      "object_fit": null,
      "object_position": null,
      "order": null,
      "overflow": null,
      "overflow_x": null,
      "overflow_y": null,
      "padding": null,
      "right": null,
      "top": null,
      "visibility": null,
      "width": null
     }
    },
    "50c55e7188bc4d6a88ae83995ffa2366": {
     "model_module": "@jupyter-widgets/base",
     "model_module_version": "1.2.0",
     "model_name": "LayoutModel",
     "state": {
      "_model_module": "@jupyter-widgets/base",
      "_model_module_version": "1.2.0",
      "_model_name": "LayoutModel",
      "_view_count": null,
      "_view_module": "@jupyter-widgets/base",
      "_view_module_version": "1.2.0",
      "_view_name": "LayoutView",
      "align_content": null,
      "align_items": null,
      "align_self": null,
      "border": null,
      "bottom": null,
      "display": null,
      "flex": null,
      "flex_flow": null,
      "grid_area": null,
      "grid_auto_columns": null,
      "grid_auto_flow": null,
      "grid_auto_rows": null,
      "grid_column": null,
      "grid_gap": null,
      "grid_row": null,
      "grid_template_areas": null,
      "grid_template_columns": null,
      "grid_template_rows": null,
      "height": null,
      "justify_content": null,
      "justify_items": null,
      "left": null,
      "margin": null,
      "max_height": null,
      "max_width": null,
      "min_height": null,
      "min_width": null,
      "object_fit": null,
      "object_position": null,
      "order": null,
      "overflow": null,
      "overflow_x": null,
      "overflow_y": null,
      "padding": null,
      "right": null,
      "top": null,
      "visibility": null,
      "width": null
     }
    },
    "51e0f5f1345946108aac585330a0e406": {
     "model_module": "@jupyter-widgets/base",
     "model_module_version": "1.2.0",
     "model_name": "LayoutModel",
     "state": {
      "_model_module": "@jupyter-widgets/base",
      "_model_module_version": "1.2.0",
      "_model_name": "LayoutModel",
      "_view_count": null,
      "_view_module": "@jupyter-widgets/base",
      "_view_module_version": "1.2.0",
      "_view_name": "LayoutView",
      "align_content": null,
      "align_items": null,
      "align_self": null,
      "border": null,
      "bottom": null,
      "display": null,
      "flex": null,
      "flex_flow": null,
      "grid_area": null,
      "grid_auto_columns": null,
      "grid_auto_flow": null,
      "grid_auto_rows": null,
      "grid_column": null,
      "grid_gap": null,
      "grid_row": null,
      "grid_template_areas": null,
      "grid_template_columns": null,
      "grid_template_rows": null,
      "height": null,
      "justify_content": null,
      "justify_items": null,
      "left": null,
      "margin": null,
      "max_height": null,
      "max_width": null,
      "min_height": null,
      "min_width": null,
      "object_fit": null,
      "object_position": null,
      "order": null,
      "overflow": null,
      "overflow_x": null,
      "overflow_y": null,
      "padding": null,
      "right": null,
      "top": null,
      "visibility": null,
      "width": null
     }
    },
    "531931f7e6d0453682677a4ba20cbb46": {
     "model_module": "@jupyter-widgets/controls",
     "model_module_version": "1.5.0",
     "model_name": "FloatProgressModel",
     "state": {
      "_dom_classes": [],
      "_model_module": "@jupyter-widgets/controls",
      "_model_module_version": "1.5.0",
      "_model_name": "FloatProgressModel",
      "_view_count": null,
      "_view_module": "@jupyter-widgets/controls",
      "_view_module_version": "1.5.0",
      "_view_name": "ProgressView",
      "bar_style": "success",
      "description": "",
      "description_tooltip": null,
      "layout": "IPY_MODEL_a708cd777c2f443f9c997386ff64c992",
      "max": 85,
      "min": 0,
      "orientation": "horizontal",
      "style": "IPY_MODEL_45636581103841de8fc965883fbfd0fc",
      "value": 85
     }
    },
    "54174b5181104b32b5379b975046f942": {
     "model_module": "@jupyter-widgets/base",
     "model_module_version": "1.2.0",
     "model_name": "LayoutModel",
     "state": {
      "_model_module": "@jupyter-widgets/base",
      "_model_module_version": "1.2.0",
      "_model_name": "LayoutModel",
      "_view_count": null,
      "_view_module": "@jupyter-widgets/base",
      "_view_module_version": "1.2.0",
      "_view_name": "LayoutView",
      "align_content": null,
      "align_items": null,
      "align_self": null,
      "border": null,
      "bottom": null,
      "display": null,
      "flex": null,
      "flex_flow": null,
      "grid_area": null,
      "grid_auto_columns": null,
      "grid_auto_flow": null,
      "grid_auto_rows": null,
      "grid_column": null,
      "grid_gap": null,
      "grid_row": null,
      "grid_template_areas": null,
      "grid_template_columns": null,
      "grid_template_rows": null,
      "height": null,
      "justify_content": null,
      "justify_items": null,
      "left": null,
      "margin": null,
      "max_height": null,
      "max_width": null,
      "min_height": null,
      "min_width": null,
      "object_fit": null,
      "object_position": null,
      "order": null,
      "overflow": null,
      "overflow_x": null,
      "overflow_y": null,
      "padding": null,
      "right": null,
      "top": null,
      "visibility": null,
      "width": null
     }
    },
    "5449e6f4e1d3423488ff8bea71316ff9": {
     "model_module": "@jupyter-widgets/base",
     "model_module_version": "1.2.0",
     "model_name": "LayoutModel",
     "state": {
      "_model_module": "@jupyter-widgets/base",
      "_model_module_version": "1.2.0",
      "_model_name": "LayoutModel",
      "_view_count": null,
      "_view_module": "@jupyter-widgets/base",
      "_view_module_version": "1.2.0",
      "_view_name": "LayoutView",
      "align_content": null,
      "align_items": null,
      "align_self": null,
      "border": null,
      "bottom": null,
      "display": null,
      "flex": null,
      "flex_flow": null,
      "grid_area": null,
      "grid_auto_columns": null,
      "grid_auto_flow": null,
      "grid_auto_rows": null,
      "grid_column": null,
      "grid_gap": null,
      "grid_row": null,
      "grid_template_areas": null,
      "grid_template_columns": null,
      "grid_template_rows": null,
      "height": null,
      "justify_content": null,
      "justify_items": null,
      "left": null,
      "margin": null,
      "max_height": null,
      "max_width": null,
      "min_height": null,
      "min_width": null,
      "object_fit": null,
      "object_position": null,
      "order": null,
      "overflow": null,
      "overflow_x": null,
      "overflow_y": null,
      "padding": null,
      "right": null,
      "top": null,
      "visibility": null,
      "width": null
     }
    },
    "5559661cb5414407aa3dd7d403baf1f4": {
     "model_module": "@jupyter-widgets/controls",
     "model_module_version": "1.5.0",
     "model_name": "HTMLModel",
     "state": {
      "_dom_classes": [],
      "_model_module": "@jupyter-widgets/controls",
      "_model_module_version": "1.5.0",
      "_model_name": "HTMLModel",
      "_view_count": null,
      "_view_module": "@jupyter-widgets/controls",
      "_view_module_version": "1.5.0",
      "_view_name": "HTMLView",
      "description": "",
      "description_tooltip": null,
      "layout": "IPY_MODEL_014f806c3b8948248e5be9bd5370178b",
      "placeholder": "​",
      "style": "IPY_MODEL_116d8f74ba924b25a7308b884e415bf8",
      "value": "100%"
     }
    },
    "57cd1596aead47ad85987147a0f1bb75": {
     "model_module": "@jupyter-widgets/base",
     "model_module_version": "1.2.0",
     "model_name": "LayoutModel",
     "state": {
      "_model_module": "@jupyter-widgets/base",
      "_model_module_version": "1.2.0",
      "_model_name": "LayoutModel",
      "_view_count": null,
      "_view_module": "@jupyter-widgets/base",
      "_view_module_version": "1.2.0",
      "_view_name": "LayoutView",
      "align_content": null,
      "align_items": null,
      "align_self": null,
      "border": null,
      "bottom": null,
      "display": null,
      "flex": null,
      "flex_flow": null,
      "grid_area": null,
      "grid_auto_columns": null,
      "grid_auto_flow": null,
      "grid_auto_rows": null,
      "grid_column": null,
      "grid_gap": null,
      "grid_row": null,
      "grid_template_areas": null,
      "grid_template_columns": null,
      "grid_template_rows": null,
      "height": null,
      "justify_content": null,
      "justify_items": null,
      "left": null,
      "margin": null,
      "max_height": null,
      "max_width": null,
      "min_height": null,
      "min_width": null,
      "object_fit": null,
      "object_position": null,
      "order": null,
      "overflow": null,
      "overflow_x": null,
      "overflow_y": null,
      "padding": null,
      "right": null,
      "top": null,
      "visibility": null,
      "width": null
     }
    },
    "5b1c1ad9f82d491d98e71923057a6181": {
     "model_module": "@jupyter-widgets/controls",
     "model_module_version": "1.5.0",
     "model_name": "ProgressStyleModel",
     "state": {
      "_model_module": "@jupyter-widgets/controls",
      "_model_module_version": "1.5.0",
      "_model_name": "ProgressStyleModel",
      "_view_count": null,
      "_view_module": "@jupyter-widgets/base",
      "_view_module_version": "1.2.0",
      "_view_name": "StyleView",
      "bar_color": null,
      "description_width": ""
     }
    },
    "5d18daca7f9f47f382fc87bfeecaacd8": {
     "model_module": "@jupyter-widgets/controls",
     "model_module_version": "1.5.0",
     "model_name": "HBoxModel",
     "state": {
      "_dom_classes": [],
      "_model_module": "@jupyter-widgets/controls",
      "_model_module_version": "1.5.0",
      "_model_name": "HBoxModel",
      "_view_count": null,
      "_view_module": "@jupyter-widgets/controls",
      "_view_module_version": "1.5.0",
      "_view_name": "HBoxView",
      "box_style": "",
      "children": [
       "IPY_MODEL_763c597f7f6540d7ad6441bfc2ee1102",
       "IPY_MODEL_3a68b633b5664faf999bd2bbacf79125",
       "IPY_MODEL_71747cffadbf40a3bf5aa0f534113c00"
      ],
      "layout": "IPY_MODEL_67c0e33e08c746afa24f28e0cd242c21"
     }
    },
    "5dd3fb0b143041b685b6c9164782ab53": {
     "model_module": "@jupyter-widgets/controls",
     "model_module_version": "1.5.0",
     "model_name": "DescriptionStyleModel",
     "state": {
      "_model_module": "@jupyter-widgets/controls",
      "_model_module_version": "1.5.0",
      "_model_name": "DescriptionStyleModel",
      "_view_count": null,
      "_view_module": "@jupyter-widgets/base",
      "_view_module_version": "1.2.0",
      "_view_name": "StyleView",
      "description_width": ""
     }
    },
    "5f0c8b819326464aa17802c497be68ff": {
     "model_module": "@jupyter-widgets/base",
     "model_module_version": "1.2.0",
     "model_name": "LayoutModel",
     "state": {
      "_model_module": "@jupyter-widgets/base",
      "_model_module_version": "1.2.0",
      "_model_name": "LayoutModel",
      "_view_count": null,
      "_view_module": "@jupyter-widgets/base",
      "_view_module_version": "1.2.0",
      "_view_name": "LayoutView",
      "align_content": null,
      "align_items": null,
      "align_self": null,
      "border": null,
      "bottom": null,
      "display": null,
      "flex": null,
      "flex_flow": null,
      "grid_area": null,
      "grid_auto_columns": null,
      "grid_auto_flow": null,
      "grid_auto_rows": null,
      "grid_column": null,
      "grid_gap": null,
      "grid_row": null,
      "grid_template_areas": null,
      "grid_template_columns": null,
      "grid_template_rows": null,
      "height": null,
      "justify_content": null,
      "justify_items": null,
      "left": null,
      "margin": null,
      "max_height": null,
      "max_width": null,
      "min_height": null,
      "min_width": null,
      "object_fit": null,
      "object_position": null,
      "order": null,
      "overflow": null,
      "overflow_x": null,
      "overflow_y": null,
      "padding": null,
      "right": null,
      "top": null,
      "visibility": null,
      "width": null
     }
    },
    "603976ce12a54beabcee636dd2c7f360": {
     "model_module": "@jupyter-widgets/controls",
     "model_module_version": "1.5.0",
     "model_name": "DescriptionStyleModel",
     "state": {
      "_model_module": "@jupyter-widgets/controls",
      "_model_module_version": "1.5.0",
      "_model_name": "DescriptionStyleModel",
      "_view_count": null,
      "_view_module": "@jupyter-widgets/base",
      "_view_module_version": "1.2.0",
      "_view_name": "StyleView",
      "description_width": ""
     }
    },
    "61362b3751dd446f951dac8dd2ba866d": {
     "model_module": "@jupyter-widgets/base",
     "model_module_version": "1.2.0",
     "model_name": "LayoutModel",
     "state": {
      "_model_module": "@jupyter-widgets/base",
      "_model_module_version": "1.2.0",
      "_model_name": "LayoutModel",
      "_view_count": null,
      "_view_module": "@jupyter-widgets/base",
      "_view_module_version": "1.2.0",
      "_view_name": "LayoutView",
      "align_content": null,
      "align_items": null,
      "align_self": null,
      "border": null,
      "bottom": null,
      "display": null,
      "flex": null,
      "flex_flow": null,
      "grid_area": null,
      "grid_auto_columns": null,
      "grid_auto_flow": null,
      "grid_auto_rows": null,
      "grid_column": null,
      "grid_gap": null,
      "grid_row": null,
      "grid_template_areas": null,
      "grid_template_columns": null,
      "grid_template_rows": null,
      "height": null,
      "justify_content": null,
      "justify_items": null,
      "left": null,
      "margin": null,
      "max_height": null,
      "max_width": null,
      "min_height": null,
      "min_width": null,
      "object_fit": null,
      "object_position": null,
      "order": null,
      "overflow": null,
      "overflow_x": null,
      "overflow_y": null,
      "padding": null,
      "right": null,
      "top": null,
      "visibility": null,
      "width": null
     }
    },
    "61eb3dc9f5d7484fb066701c67282025": {
     "model_module": "@jupyter-widgets/controls",
     "model_module_version": "1.5.0",
     "model_name": "HTMLModel",
     "state": {
      "_dom_classes": [],
      "_model_module": "@jupyter-widgets/controls",
      "_model_module_version": "1.5.0",
      "_model_name": "HTMLModel",
      "_view_count": null,
      "_view_module": "@jupyter-widgets/controls",
      "_view_module_version": "1.5.0",
      "_view_name": "HTMLView",
      "description": "",
      "description_tooltip": null,
      "layout": "IPY_MODEL_51e0f5f1345946108aac585330a0e406",
      "placeholder": "​",
      "style": "IPY_MODEL_22e5e82c38a44d4aa9ada5253584984a",
      "value": "Downloading: 100%"
     }
    },
    "64b55627276d4d509d6345fc92f203d2": {
     "model_module": "@jupyter-widgets/base",
     "model_module_version": "1.2.0",
     "model_name": "LayoutModel",
     "state": {
      "_model_module": "@jupyter-widgets/base",
      "_model_module_version": "1.2.0",
      "_model_name": "LayoutModel",
      "_view_count": null,
      "_view_module": "@jupyter-widgets/base",
      "_view_module_version": "1.2.0",
      "_view_name": "LayoutView",
      "align_content": null,
      "align_items": null,
      "align_self": null,
      "border": null,
      "bottom": null,
      "display": null,
      "flex": null,
      "flex_flow": null,
      "grid_area": null,
      "grid_auto_columns": null,
      "grid_auto_flow": null,
      "grid_auto_rows": null,
      "grid_column": null,
      "grid_gap": null,
      "grid_row": null,
      "grid_template_areas": null,
      "grid_template_columns": null,
      "grid_template_rows": null,
      "height": null,
      "justify_content": null,
      "justify_items": null,
      "left": null,
      "margin": null,
      "max_height": null,
      "max_width": null,
      "min_height": null,
      "min_width": null,
      "object_fit": null,
      "object_position": null,
      "order": null,
      "overflow": null,
      "overflow_x": null,
      "overflow_y": null,
      "padding": null,
      "right": null,
      "top": null,
      "visibility": null,
      "width": null
     }
    },
    "67c0e33e08c746afa24f28e0cd242c21": {
     "model_module": "@jupyter-widgets/base",
     "model_module_version": "1.2.0",
     "model_name": "LayoutModel",
     "state": {
      "_model_module": "@jupyter-widgets/base",
      "_model_module_version": "1.2.0",
      "_model_name": "LayoutModel",
      "_view_count": null,
      "_view_module": "@jupyter-widgets/base",
      "_view_module_version": "1.2.0",
      "_view_name": "LayoutView",
      "align_content": null,
      "align_items": null,
      "align_self": null,
      "border": null,
      "bottom": null,
      "display": null,
      "flex": null,
      "flex_flow": null,
      "grid_area": null,
      "grid_auto_columns": null,
      "grid_auto_flow": null,
      "grid_auto_rows": null,
      "grid_column": null,
      "grid_gap": null,
      "grid_row": null,
      "grid_template_areas": null,
      "grid_template_columns": null,
      "grid_template_rows": null,
      "height": null,
      "justify_content": null,
      "justify_items": null,
      "left": null,
      "margin": null,
      "max_height": null,
      "max_width": null,
      "min_height": null,
      "min_width": null,
      "object_fit": null,
      "object_position": null,
      "order": null,
      "overflow": null,
      "overflow_x": null,
      "overflow_y": null,
      "padding": null,
      "right": null,
      "top": null,
      "visibility": null,
      "width": null
     }
    },
    "68321a0f68c7483d9561c8e4bf5fd630": {
     "model_module": "@jupyter-widgets/controls",
     "model_module_version": "1.5.0",
     "model_name": "ProgressStyleModel",
     "state": {
      "_model_module": "@jupyter-widgets/controls",
      "_model_module_version": "1.5.0",
      "_model_name": "ProgressStyleModel",
      "_view_count": null,
      "_view_module": "@jupyter-widgets/base",
      "_view_module_version": "1.2.0",
      "_view_name": "StyleView",
      "bar_color": null,
      "description_width": ""
     }
    },
    "687c579dd22e4922ba99f31759c57d44": {
     "model_module": "@jupyter-widgets/base",
     "model_module_version": "1.2.0",
     "model_name": "LayoutModel",
     "state": {
      "_model_module": "@jupyter-widgets/base",
      "_model_module_version": "1.2.0",
      "_model_name": "LayoutModel",
      "_view_count": null,
      "_view_module": "@jupyter-widgets/base",
      "_view_module_version": "1.2.0",
      "_view_name": "LayoutView",
      "align_content": null,
      "align_items": null,
      "align_self": null,
      "border": null,
      "bottom": null,
      "display": null,
      "flex": null,
      "flex_flow": null,
      "grid_area": null,
      "grid_auto_columns": null,
      "grid_auto_flow": null,
      "grid_auto_rows": null,
      "grid_column": null,
      "grid_gap": null,
      "grid_row": null,
      "grid_template_areas": null,
      "grid_template_columns": null,
      "grid_template_rows": null,
      "height": null,
      "justify_content": null,
      "justify_items": null,
      "left": null,
      "margin": null,
      "max_height": null,
      "max_width": null,
      "min_height": null,
      "min_width": null,
      "object_fit": null,
      "object_position": null,
      "order": null,
      "overflow": null,
      "overflow_x": null,
      "overflow_y": null,
      "padding": null,
      "right": null,
      "top": null,
      "visibility": null,
      "width": null
     }
    },
    "699a3b31ef6540169eea486fa987c5c1": {
     "model_module": "@jupyter-widgets/base",
     "model_module_version": "1.2.0",
     "model_name": "LayoutModel",
     "state": {
      "_model_module": "@jupyter-widgets/base",
      "_model_module_version": "1.2.0",
      "_model_name": "LayoutModel",
      "_view_count": null,
      "_view_module": "@jupyter-widgets/base",
      "_view_module_version": "1.2.0",
      "_view_name": "LayoutView",
      "align_content": null,
      "align_items": null,
      "align_self": null,
      "border": null,
      "bottom": null,
      "display": null,
      "flex": null,
      "flex_flow": null,
      "grid_area": null,
      "grid_auto_columns": null,
      "grid_auto_flow": null,
      "grid_auto_rows": null,
      "grid_column": null,
      "grid_gap": null,
      "grid_row": null,
      "grid_template_areas": null,
      "grid_template_columns": null,
      "grid_template_rows": null,
      "height": null,
      "justify_content": null,
      "justify_items": null,
      "left": null,
      "margin": null,
      "max_height": null,
      "max_width": null,
      "min_height": null,
      "min_width": null,
      "object_fit": null,
      "object_position": null,
      "order": null,
      "overflow": null,
      "overflow_x": null,
      "overflow_y": null,
      "padding": null,
      "right": null,
      "top": null,
      "visibility": null,
      "width": null
     }
    },
    "6ab335fdf69045a7a183225814ac50b4": {
     "model_module": "@jupyter-widgets/base",
     "model_module_version": "1.2.0",
     "model_name": "LayoutModel",
     "state": {
      "_model_module": "@jupyter-widgets/base",
      "_model_module_version": "1.2.0",
      "_model_name": "LayoutModel",
      "_view_count": null,
      "_view_module": "@jupyter-widgets/base",
      "_view_module_version": "1.2.0",
      "_view_name": "LayoutView",
      "align_content": null,
      "align_items": null,
      "align_self": null,
      "border": null,
      "bottom": null,
      "display": null,
      "flex": null,
      "flex_flow": null,
      "grid_area": null,
      "grid_auto_columns": null,
      "grid_auto_flow": null,
      "grid_auto_rows": null,
      "grid_column": null,
      "grid_gap": null,
      "grid_row": null,
      "grid_template_areas": null,
      "grid_template_columns": null,
      "grid_template_rows": null,
      "height": null,
      "justify_content": null,
      "justify_items": null,
      "left": null,
      "margin": null,
      "max_height": null,
      "max_width": null,
      "min_height": null,
      "min_width": null,
      "object_fit": null,
      "object_position": null,
      "order": null,
      "overflow": null,
      "overflow_x": null,
      "overflow_y": null,
      "padding": null,
      "right": null,
      "top": null,
      "visibility": null,
      "width": null
     }
    },
    "6b1c56f42b6242d8a7fdc62c9da29f54": {
     "model_module": "@jupyter-widgets/controls",
     "model_module_version": "1.5.0",
     "model_name": "HBoxModel",
     "state": {
      "_dom_classes": [],
      "_model_module": "@jupyter-widgets/controls",
      "_model_module_version": "1.5.0",
      "_model_name": "HBoxModel",
      "_view_count": null,
      "_view_module": "@jupyter-widgets/controls",
      "_view_module_version": "1.5.0",
      "_view_name": "HBoxView",
      "box_style": "",
      "children": [
       "IPY_MODEL_ac40289a8a0b40bc93da88fc9adcb7f9",
       "IPY_MODEL_943e736502ee4084a9e94623d6650a6b",
       "IPY_MODEL_74f527b8620e4233904b8397d18096a3"
      ],
      "layout": "IPY_MODEL_8b6b4d8555ff4719b9e300fed72a7cba"
     }
    },
    "6ebdb03f75bb44248a6ad230f1916d8f": {
     "model_module": "@jupyter-widgets/base",
     "model_module_version": "1.2.0",
     "model_name": "LayoutModel",
     "state": {
      "_model_module": "@jupyter-widgets/base",
      "_model_module_version": "1.2.0",
      "_model_name": "LayoutModel",
      "_view_count": null,
      "_view_module": "@jupyter-widgets/base",
      "_view_module_version": "1.2.0",
      "_view_name": "LayoutView",
      "align_content": null,
      "align_items": null,
      "align_self": null,
      "border": null,
      "bottom": null,
      "display": null,
      "flex": null,
      "flex_flow": null,
      "grid_area": null,
      "grid_auto_columns": null,
      "grid_auto_flow": null,
      "grid_auto_rows": null,
      "grid_column": null,
      "grid_gap": null,
      "grid_row": null,
      "grid_template_areas": null,
      "grid_template_columns": null,
      "grid_template_rows": null,
      "height": null,
      "justify_content": null,
      "justify_items": null,
      "left": null,
      "margin": null,
      "max_height": null,
      "max_width": null,
      "min_height": null,
      "min_width": null,
      "object_fit": null,
      "object_position": null,
      "order": null,
      "overflow": null,
      "overflow_x": null,
      "overflow_y": null,
      "padding": null,
      "right": null,
      "top": null,
      "visibility": null,
      "width": null
     }
    },
    "6f7df5e67488466ea320eb703571f18e": {
     "model_module": "@jupyter-widgets/controls",
     "model_module_version": "1.5.0",
     "model_name": "FloatProgressModel",
     "state": {
      "_dom_classes": [],
      "_model_module": "@jupyter-widgets/controls",
      "_model_module_version": "1.5.0",
      "_model_name": "FloatProgressModel",
      "_view_count": null,
      "_view_module": "@jupyter-widgets/controls",
      "_view_module_version": "1.5.0",
      "_view_name": "ProgressView",
      "bar_style": "success",
      "description": "",
      "description_tooltip": null,
      "layout": "IPY_MODEL_4cb8ed4b37a246f1ab2c28c3c97d1b0e",
      "max": 377670039,
      "min": 0,
      "orientation": "horizontal",
      "style": "IPY_MODEL_fc442d74a9034ec6aba19dab42e2b97a",
      "value": 377670039
     }
    },
    "70786689be0f4c5d89f24f37c9d37ba2": {
     "model_module": "@jupyter-widgets/base",
     "model_module_version": "1.2.0",
     "model_name": "LayoutModel",
     "state": {
      "_model_module": "@jupyter-widgets/base",
      "_model_module_version": "1.2.0",
      "_model_name": "LayoutModel",
      "_view_count": null,
      "_view_module": "@jupyter-widgets/base",
      "_view_module_version": "1.2.0",
      "_view_name": "LayoutView",
      "align_content": null,
      "align_items": null,
      "align_self": null,
      "border": null,
      "bottom": null,
      "display": null,
      "flex": null,
      "flex_flow": null,
      "grid_area": null,
      "grid_auto_columns": null,
      "grid_auto_flow": null,
      "grid_auto_rows": null,
      "grid_column": null,
      "grid_gap": null,
      "grid_row": null,
      "grid_template_areas": null,
      "grid_template_columns": null,
      "grid_template_rows": null,
      "height": null,
      "justify_content": null,
      "justify_items": null,
      "left": null,
      "margin": null,
      "max_height": null,
      "max_width": null,
      "min_height": null,
      "min_width": null,
      "object_fit": null,
      "object_position": null,
      "order": null,
      "overflow": null,
      "overflow_x": null,
      "overflow_y": null,
      "padding": null,
      "right": null,
      "top": null,
      "visibility": null,
      "width": null
     }
    },
    "71747cffadbf40a3bf5aa0f534113c00": {
     "model_module": "@jupyter-widgets/controls",
     "model_module_version": "1.5.0",
     "model_name": "HTMLModel",
     "state": {
      "_dom_classes": [],
      "_model_module": "@jupyter-widgets/controls",
      "_model_module_version": "1.5.0",
      "_model_name": "HTMLModel",
      "_view_count": null,
      "_view_module": "@jupyter-widgets/controls",
      "_view_module_version": "1.5.0",
      "_view_name": "HTMLView",
      "description": "",
      "description_tooltip": null,
      "layout": "IPY_MODEL_5f0c8b819326464aa17802c497be68ff",
      "placeholder": "​",
      "style": "IPY_MODEL_5dd3fb0b143041b685b6c9164782ab53",
      "value": " 268/268 [00:00&lt;00:00, 7.66kB/s]"
     }
    },
    "74f527b8620e4233904b8397d18096a3": {
     "model_module": "@jupyter-widgets/controls",
     "model_module_version": "1.5.0",
     "model_name": "HTMLModel",
     "state": {
      "_dom_classes": [],
      "_model_module": "@jupyter-widgets/controls",
      "_model_module_version": "1.5.0",
      "_model_name": "HTMLModel",
      "_view_count": null,
      "_view_module": "@jupyter-widgets/controls",
      "_view_module_version": "1.5.0",
      "_view_name": "HTMLView",
      "description": "",
      "description_tooltip": null,
      "layout": "IPY_MODEL_8e8fbf8933944694a78faff62a9f46f8",
      "placeholder": "​",
      "style": "IPY_MODEL_fe53a6cd10ca4aee803c98f027ca23d3",
      "value": " 1.80k/1.80k [00:00&lt;00:00, 52.1kB/s]"
     }
    },
    "763c597f7f6540d7ad6441bfc2ee1102": {
     "model_module": "@jupyter-widgets/controls",
     "model_module_version": "1.5.0",
     "model_name": "HTMLModel",
     "state": {
      "_dom_classes": [],
      "_model_module": "@jupyter-widgets/controls",
      "_model_module_version": "1.5.0",
      "_model_name": "HTMLModel",
      "_view_count": null,
      "_view_module": "@jupyter-widgets/controls",
      "_view_module_version": "1.5.0",
      "_view_name": "HTMLView",
      "description": "",
      "description_tooltip": null,
      "layout": "IPY_MODEL_ab6c2e67ee7c423da8fcdada2d18d883",
      "placeholder": "​",
      "style": "IPY_MODEL_a5b1e1bcf377460ebabc8ba88957206e",
      "value": "Downloading: 100%"
     }
    },
    "76c3fdccb19945e194c441769a1f53b0": {
     "model_module": "@jupyter-widgets/base",
     "model_module_version": "1.2.0",
     "model_name": "LayoutModel",
     "state": {
      "_model_module": "@jupyter-widgets/base",
      "_model_module_version": "1.2.0",
      "_model_name": "LayoutModel",
      "_view_count": null,
      "_view_module": "@jupyter-widgets/base",
      "_view_module_version": "1.2.0",
      "_view_name": "LayoutView",
      "align_content": null,
      "align_items": null,
      "align_self": null,
      "border": null,
      "bottom": null,
      "display": null,
      "flex": null,
      "flex_flow": null,
      "grid_area": null,
      "grid_auto_columns": null,
      "grid_auto_flow": null,
      "grid_auto_rows": null,
      "grid_column": null,
      "grid_gap": null,
      "grid_row": null,
      "grid_template_areas": null,
      "grid_template_columns": null,
      "grid_template_rows": null,
      "height": null,
      "justify_content": null,
      "justify_items": null,
      "left": null,
      "margin": null,
      "max_height": null,
      "max_width": null,
      "min_height": null,
      "min_width": null,
      "object_fit": null,
      "object_position": null,
      "order": null,
      "overflow": null,
      "overflow_x": null,
      "overflow_y": null,
      "padding": null,
      "right": null,
      "top": null,
      "visibility": null,
      "width": null
     }
    },
    "78f37dd782e643d0985b47de288eb6a6": {
     "model_module": "@jupyter-widgets/base",
     "model_module_version": "1.2.0",
     "model_name": "LayoutModel",
     "state": {
      "_model_module": "@jupyter-widgets/base",
      "_model_module_version": "1.2.0",
      "_model_name": "LayoutModel",
      "_view_count": null,
      "_view_module": "@jupyter-widgets/base",
      "_view_module_version": "1.2.0",
      "_view_name": "LayoutView",
      "align_content": null,
      "align_items": null,
      "align_self": null,
      "border": null,
      "bottom": null,
      "display": null,
      "flex": null,
      "flex_flow": null,
      "grid_area": null,
      "grid_auto_columns": null,
      "grid_auto_flow": null,
      "grid_auto_rows": null,
      "grid_column": null,
      "grid_gap": null,
      "grid_row": null,
      "grid_template_areas": null,
      "grid_template_columns": null,
      "grid_template_rows": null,
      "height": null,
      "justify_content": null,
      "justify_items": null,
      "left": null,
      "margin": null,
      "max_height": null,
      "max_width": null,
      "min_height": null,
      "min_width": null,
      "object_fit": null,
      "object_position": null,
      "order": null,
      "overflow": null,
      "overflow_x": null,
      "overflow_y": null,
      "padding": null,
      "right": null,
      "top": null,
      "visibility": null,
      "width": null
     }
    },
    "7cbf979a424948e5b3ebaec357f88d8a": {
     "model_module": "@jupyter-widgets/controls",
     "model_module_version": "1.5.0",
     "model_name": "ProgressStyleModel",
     "state": {
      "_model_module": "@jupyter-widgets/controls",
      "_model_module_version": "1.5.0",
      "_model_name": "ProgressStyleModel",
      "_view_count": null,
      "_view_module": "@jupyter-widgets/base",
      "_view_module_version": "1.2.0",
      "_view_name": "StyleView",
      "bar_color": null,
      "description_width": ""
     }
    },
    "7e7b797b5cb14a1c9fbb7c626fa3eda7": {
     "model_module": "@jupyter-widgets/controls",
     "model_module_version": "1.5.0",
     "model_name": "HTMLModel",
     "state": {
      "_dom_classes": [],
      "_model_module": "@jupyter-widgets/controls",
      "_model_module_version": "1.5.0",
      "_model_name": "HTMLModel",
      "_view_count": null,
      "_view_module": "@jupyter-widgets/controls",
      "_view_module_version": "1.5.0",
      "_view_name": "HTMLView",
      "description": "",
      "description_tooltip": null,
      "layout": "IPY_MODEL_0192714f1557428782b46793c05eb26d",
      "placeholder": "​",
      "style": "IPY_MODEL_130c075c66da402f8ec2f22337850c88",
      "value": "100%"
     }
    },
    "8422cbba208b46b698793f1b28333011": {
     "model_module": "@jupyter-widgets/base",
     "model_module_version": "1.2.0",
     "model_name": "LayoutModel",
     "state": {
      "_model_module": "@jupyter-widgets/base",
      "_model_module_version": "1.2.0",
      "_model_name": "LayoutModel",
      "_view_count": null,
      "_view_module": "@jupyter-widgets/base",
      "_view_module_version": "1.2.0",
      "_view_name": "LayoutView",
      "align_content": null,
      "align_items": null,
      "align_self": null,
      "border": null,
      "bottom": null,
      "display": null,
      "flex": null,
      "flex_flow": null,
      "grid_area": null,
      "grid_auto_columns": null,
      "grid_auto_flow": null,
      "grid_auto_rows": null,
      "grid_column": null,
      "grid_gap": null,
      "grid_row": null,
      "grid_template_areas": null,
      "grid_template_columns": null,
      "grid_template_rows": null,
      "height": null,
      "justify_content": null,
      "justify_items": null,
      "left": null,
      "margin": null,
      "max_height": null,
      "max_width": null,
      "min_height": null,
      "min_width": null,
      "object_fit": null,
      "object_position": null,
      "order": null,
      "overflow": null,
      "overflow_x": null,
      "overflow_y": null,
      "padding": null,
      "right": null,
      "top": null,
      "visibility": null,
      "width": null
     }
    },
    "853be7d9a3d24adfbdc9a07d181425cc": {
     "model_module": "@jupyter-widgets/controls",
     "model_module_version": "1.5.0",
     "model_name": "HBoxModel",
     "state": {
      "_dom_classes": [],
      "_model_module": "@jupyter-widgets/controls",
      "_model_module_version": "1.5.0",
      "_model_name": "HBoxModel",
      "_view_count": null,
      "_view_module": "@jupyter-widgets/controls",
      "_view_module_version": "1.5.0",
      "_view_name": "HBoxView",
      "box_style": "",
      "children": [
       "IPY_MODEL_17a09ff9015f4eb2b91ee77b1f7f76e0",
       "IPY_MODEL_9528d69e9b0549f59f84e94f34e5a583",
       "IPY_MODEL_8665ac85023c43c3a1599c381ab07ffa"
      ],
      "layout": "IPY_MODEL_76c3fdccb19945e194c441769a1f53b0"
     }
    },
    "8561afcd5dde4e70b02b984fc2e7dc21": {
     "model_module": "@jupyter-widgets/controls",
     "model_module_version": "1.5.0",
     "model_name": "DescriptionStyleModel",
     "state": {
      "_model_module": "@jupyter-widgets/controls",
      "_model_module_version": "1.5.0",
      "_model_name": "DescriptionStyleModel",
      "_view_count": null,
      "_view_module": "@jupyter-widgets/base",
      "_view_module_version": "1.2.0",
      "_view_name": "StyleView",
      "description_width": ""
     }
    },
    "858b51c4d34342cd8112c716ea13b479": {
     "model_module": "@jupyter-widgets/controls",
     "model_module_version": "1.5.0",
     "model_name": "HTMLModel",
     "state": {
      "_dom_classes": [],
      "_model_module": "@jupyter-widgets/controls",
      "_model_module_version": "1.5.0",
      "_model_name": "HTMLModel",
      "_view_count": null,
      "_view_module": "@jupyter-widgets/controls",
      "_view_module_version": "1.5.0",
      "_view_name": "HTMLView",
      "description": "",
      "description_tooltip": null,
      "layout": "IPY_MODEL_fb8d383652fc4ad8a56e011f74f5a7a2",
      "placeholder": "​",
      "style": "IPY_MODEL_1b6343b6e6714e58a39e5ca1adfa47ef",
      "value": "Downloading: 100%"
     }
    },
    "8665ac85023c43c3a1599c381ab07ffa": {
     "model_module": "@jupyter-widgets/controls",
     "model_module_version": "1.5.0",
     "model_name": "HTMLModel",
     "state": {
      "_dom_classes": [],
      "_model_module": "@jupyter-widgets/controls",
      "_model_module_version": "1.5.0",
      "_model_name": "HTMLModel",
      "_view_count": null,
      "_view_module": "@jupyter-widgets/controls",
      "_view_module_version": "1.5.0",
      "_view_name": "HTMLView",
      "description": "",
      "description_tooltip": null,
      "layout": "IPY_MODEL_d9813a20998b4f739de3fa1592fa6f6c",
      "placeholder": "​",
      "style": "IPY_MODEL_d21e46e22de04ebe9e02b44e71de04f2",
      "value": " 360M/360M [04:37&lt;00:00, 1.07MB/s]"
     }
    },
    "8b6b4d8555ff4719b9e300fed72a7cba": {
     "model_module": "@jupyter-widgets/base",
     "model_module_version": "1.2.0",
     "model_name": "LayoutModel",
     "state": {
      "_model_module": "@jupyter-widgets/base",
      "_model_module_version": "1.2.0",
      "_model_name": "LayoutModel",
      "_view_count": null,
      "_view_module": "@jupyter-widgets/base",
      "_view_module_version": "1.2.0",
      "_view_name": "LayoutView",
      "align_content": null,
      "align_items": null,
      "align_self": null,
      "border": null,
      "bottom": null,
      "display": null,
      "flex": null,
      "flex_flow": null,
      "grid_area": null,
      "grid_auto_columns": null,
      "grid_auto_flow": null,
      "grid_auto_rows": null,
      "grid_column": null,
      "grid_gap": null,
      "grid_row": null,
      "grid_template_areas": null,
      "grid_template_columns": null,
      "grid_template_rows": null,
      "height": null,
      "justify_content": null,
      "justify_items": null,
      "left": null,
      "margin": null,
      "max_height": null,
      "max_width": null,
      "min_height": null,
      "min_width": null,
      "object_fit": null,
      "object_position": null,
      "order": null,
      "overflow": null,
      "overflow_x": null,
      "overflow_y": null,
      "padding": null,
      "right": null,
      "top": null,
      "visibility": null,
      "width": null
     }
    },
    "8bdf8edddbaa4e33a214cebad3f124c2": {
     "model_module": "@jupyter-widgets/controls",
     "model_module_version": "1.5.0",
     "model_name": "ProgressStyleModel",
     "state": {
      "_model_module": "@jupyter-widgets/controls",
      "_model_module_version": "1.5.0",
      "_model_name": "ProgressStyleModel",
      "_view_count": null,
      "_view_module": "@jupyter-widgets/base",
      "_view_module_version": "1.2.0",
      "_view_name": "StyleView",
      "bar_color": null,
      "description_width": ""
     }
    },
    "8c9a575f1f4b44809c5ffb12436b7966": {
     "model_module": "@jupyter-widgets/controls",
     "model_module_version": "1.5.0",
     "model_name": "HTMLModel",
     "state": {
      "_dom_classes": [],
      "_model_module": "@jupyter-widgets/controls",
      "_model_module_version": "1.5.0",
      "_model_name": "HTMLModel",
      "_view_count": null,
      "_view_module": "@jupyter-widgets/controls",
      "_view_module_version": "1.5.0",
      "_view_name": "HTMLView",
      "description": "",
      "description_tooltip": null,
      "layout": "IPY_MODEL_e9db0953aab746658b52ce84cae39f97",
      "placeholder": "​",
      "style": "IPY_MODEL_8561afcd5dde4e70b02b984fc2e7dc21",
      "value": "Downloading: 100%"
     }
    },
    "8e40a7c27db24510a46ef0331459ee1c": {
     "model_module": "@jupyter-widgets/base",
     "model_module_version": "1.2.0",
     "model_name": "LayoutModel",
     "state": {
      "_model_module": "@jupyter-widgets/base",
      "_model_module_version": "1.2.0",
      "_model_name": "LayoutModel",
      "_view_count": null,
      "_view_module": "@jupyter-widgets/base",
      "_view_module_version": "1.2.0",
      "_view_name": "LayoutView",
      "align_content": null,
      "align_items": null,
      "align_self": null,
      "border": null,
      "bottom": null,
      "display": null,
      "flex": null,
      "flex_flow": null,
      "grid_area": null,
      "grid_auto_columns": null,
      "grid_auto_flow": null,
      "grid_auto_rows": null,
      "grid_column": null,
      "grid_gap": null,
      "grid_row": null,
      "grid_template_areas": null,
      "grid_template_columns": null,
      "grid_template_rows": null,
      "height": null,
      "justify_content": null,
      "justify_items": null,
      "left": null,
      "margin": null,
      "max_height": null,
      "max_width": null,
      "min_height": null,
      "min_width": null,
      "object_fit": null,
      "object_position": null,
      "order": null,
      "overflow": null,
      "overflow_x": null,
      "overflow_y": null,
      "padding": null,
      "right": null,
      "top": null,
      "visibility": null,
      "width": null
     }
    },
    "8e8fbf8933944694a78faff62a9f46f8": {
     "model_module": "@jupyter-widgets/base",
     "model_module_version": "1.2.0",
     "model_name": "LayoutModel",
     "state": {
      "_model_module": "@jupyter-widgets/base",
      "_model_module_version": "1.2.0",
      "_model_name": "LayoutModel",
      "_view_count": null,
      "_view_module": "@jupyter-widgets/base",
      "_view_module_version": "1.2.0",
      "_view_name": "LayoutView",
      "align_content": null,
      "align_items": null,
      "align_self": null,
      "border": null,
      "bottom": null,
      "display": null,
      "flex": null,
      "flex_flow": null,
      "grid_area": null,
      "grid_auto_columns": null,
      "grid_auto_flow": null,
      "grid_auto_rows": null,
      "grid_column": null,
      "grid_gap": null,
      "grid_row": null,
      "grid_template_areas": null,
      "grid_template_columns": null,
      "grid_template_rows": null,
      "height": null,
      "justify_content": null,
      "justify_items": null,
      "left": null,
      "margin": null,
      "max_height": null,
      "max_width": null,
      "min_height": null,
      "min_width": null,
      "object_fit": null,
      "object_position": null,
      "order": null,
      "overflow": null,
      "overflow_x": null,
      "overflow_y": null,
      "padding": null,
      "right": null,
      "top": null,
      "visibility": null,
      "width": null
     }
    },
    "91d0ff447851441dadb2cf95ef2efa41": {
     "model_module": "@jupyter-widgets/controls",
     "model_module_version": "1.5.0",
     "model_name": "HTMLModel",
     "state": {
      "_dom_classes": [],
      "_model_module": "@jupyter-widgets/controls",
      "_model_module_version": "1.5.0",
      "_model_name": "HTMLModel",
      "_view_count": null,
      "_view_module": "@jupyter-widgets/controls",
      "_view_module_version": "1.5.0",
      "_view_name": "HTMLView",
      "description": "",
      "description_tooltip": null,
      "layout": "IPY_MODEL_61362b3751dd446f951dac8dd2ba866d",
      "placeholder": "​",
      "style": "IPY_MODEL_16828f598c3845edb70d9a3b91cd0030",
      "value": " 1680/1680 [00:59&lt;00:00, 31.08ex/s]"
     }
    },
    "93d4c6792018431bb2aa44dbab7ac413": {
     "model_module": "@jupyter-widgets/controls",
     "model_module_version": "1.5.0",
     "model_name": "HTMLModel",
     "state": {
      "_dom_classes": [],
      "_model_module": "@jupyter-widgets/controls",
      "_model_module_version": "1.5.0",
      "_model_name": "HTMLModel",
      "_view_count": null,
      "_view_module": "@jupyter-widgets/controls",
      "_view_module_version": "1.5.0",
      "_view_name": "HTMLView",
      "description": "",
      "description_tooltip": null,
      "layout": "IPY_MODEL_06ea7ced00074f18be8d701840e57af5",
      "placeholder": "​",
      "style": "IPY_MODEL_adfc9c18f1394afba35adb8ca6d804c8",
      "value": " 181/181 [00:00&lt;00:00, 5.61kB/s]"
     }
    },
    "943e736502ee4084a9e94623d6650a6b": {
     "model_module": "@jupyter-widgets/controls",
     "model_module_version": "1.5.0",
     "model_name": "FloatProgressModel",
     "state": {
      "_dom_classes": [],
      "_model_module": "@jupyter-widgets/controls",
      "_model_module_version": "1.5.0",
      "_model_name": "FloatProgressModel",
      "_view_count": null,
      "_view_module": "@jupyter-widgets/controls",
      "_view_module_version": "1.5.0",
      "_view_name": "ProgressView",
      "bar_style": "success",
      "description": "",
      "description_tooltip": null,
      "layout": "IPY_MODEL_8e40a7c27db24510a46ef0331459ee1c",
      "max": 1843,
      "min": 0,
      "orientation": "horizontal",
      "style": "IPY_MODEL_68321a0f68c7483d9561c8e4bf5fd630",
      "value": 1843
     }
    },
    "9528d69e9b0549f59f84e94f34e5a583": {
     "model_module": "@jupyter-widgets/controls",
     "model_module_version": "1.5.0",
     "model_name": "FloatProgressModel",
     "state": {
      "_dom_classes": [],
      "_model_module": "@jupyter-widgets/controls",
      "_model_module_version": "1.5.0",
      "_model_name": "FloatProgressModel",
      "_view_count": null,
      "_view_module": "@jupyter-widgets/controls",
      "_view_module_version": "1.5.0",
      "_view_name": "ProgressView",
      "bar_style": "success",
      "description": "",
      "description_tooltip": null,
      "layout": "IPY_MODEL_4b6973c261204b2bb27596bfe26aea7d",
      "max": 377670039,
      "min": 0,
      "orientation": "horizontal",
      "style": "IPY_MODEL_ea368ae3cbb54a73a06d6fdf30457c02",
      "value": 377670039
     }
    },
    "960e03228c4540ac97e2144de0599956": {
     "model_module": "@jupyter-widgets/base",
     "model_module_version": "1.2.0",
     "model_name": "LayoutModel",
     "state": {
      "_model_module": "@jupyter-widgets/base",
      "_model_module_version": "1.2.0",
      "_model_name": "LayoutModel",
      "_view_count": null,
      "_view_module": "@jupyter-widgets/base",
      "_view_module_version": "1.2.0",
      "_view_name": "LayoutView",
      "align_content": null,
      "align_items": null,
      "align_self": null,
      "border": null,
      "bottom": null,
      "display": null,
      "flex": null,
      "flex_flow": null,
      "grid_area": null,
      "grid_auto_columns": null,
      "grid_auto_flow": null,
      "grid_auto_rows": null,
      "grid_column": null,
      "grid_gap": null,
      "grid_row": null,
      "grid_template_areas": null,
      "grid_template_columns": null,
      "grid_template_rows": null,
      "height": null,
      "justify_content": null,
      "justify_items": null,
      "left": null,
      "margin": null,
      "max_height": null,
      "max_width": null,
      "min_height": null,
      "min_width": null,
      "object_fit": null,
      "object_position": null,
      "order": null,
      "overflow": null,
      "overflow_x": null,
      "overflow_y": null,
      "padding": null,
      "right": null,
      "top": null,
      "visibility": null,
      "width": null
     }
    },
    "9ceca09d9fdb4a0495d33bf3eef7e65e": {
     "model_module": "@jupyter-widgets/base",
     "model_module_version": "1.2.0",
     "model_name": "LayoutModel",
     "state": {
      "_model_module": "@jupyter-widgets/base",
      "_model_module_version": "1.2.0",
      "_model_name": "LayoutModel",
      "_view_count": null,
      "_view_module": "@jupyter-widgets/base",
      "_view_module_version": "1.2.0",
      "_view_name": "LayoutView",
      "align_content": null,
      "align_items": null,
      "align_self": null,
      "border": null,
      "bottom": null,
      "display": null,
      "flex": null,
      "flex_flow": null,
      "grid_area": null,
      "grid_auto_columns": null,
      "grid_auto_flow": null,
      "grid_auto_rows": null,
      "grid_column": null,
      "grid_gap": null,
      "grid_row": null,
      "grid_template_areas": null,
      "grid_template_columns": null,
      "grid_template_rows": null,
      "height": null,
      "justify_content": null,
      "justify_items": null,
      "left": null,
      "margin": null,
      "max_height": null,
      "max_width": null,
      "min_height": null,
      "min_width": null,
      "object_fit": null,
      "object_position": null,
      "order": null,
      "overflow": null,
      "overflow_x": null,
      "overflow_y": null,
      "padding": null,
      "right": null,
      "top": null,
      "visibility": null,
      "width": null
     }
    },
    "a0488c5f2aea43388491367308426d38": {
     "model_module": "@jupyter-widgets/controls",
     "model_module_version": "1.5.0",
     "model_name": "HTMLModel",
     "state": {
      "_dom_classes": [],
      "_model_module": "@jupyter-widgets/controls",
      "_model_module_version": "1.5.0",
      "_model_name": "HTMLModel",
      "_view_count": null,
      "_view_module": "@jupyter-widgets/controls",
      "_view_module_version": "1.5.0",
      "_view_name": "HTMLView",
      "description": "",
      "description_tooltip": null,
      "layout": "IPY_MODEL_f7b66384620143b4b38997bc64f81191",
      "placeholder": "​",
      "style": "IPY_MODEL_02fd98c15acc4ca8b973d4682a8bf684",
      "value": " 363M/363M [00:07&lt;00:00, 51.4MB/s]"
     }
    },
    "a5858da3495c4995adf804fc96ef938f": {
     "model_module": "@jupyter-widgets/base",
     "model_module_version": "1.2.0",
     "model_name": "LayoutModel",
     "state": {
      "_model_module": "@jupyter-widgets/base",
      "_model_module_version": "1.2.0",
      "_model_name": "LayoutModel",
      "_view_count": null,
      "_view_module": "@jupyter-widgets/base",
      "_view_module_version": "1.2.0",
      "_view_name": "LayoutView",
      "align_content": null,
      "align_items": null,
      "align_self": null,
      "border": null,
      "bottom": null,
      "display": null,
      "flex": null,
      "flex_flow": null,
      "grid_area": null,
      "grid_auto_columns": null,
      "grid_auto_flow": null,
      "grid_auto_rows": null,
      "grid_column": null,
      "grid_gap": null,
      "grid_row": null,
      "grid_template_areas": null,
      "grid_template_columns": null,
      "grid_template_rows": null,
      "height": null,
      "justify_content": null,
      "justify_items": null,
      "left": null,
      "margin": null,
      "max_height": null,
      "max_width": null,
      "min_height": null,
      "min_width": null,
      "object_fit": null,
      "object_position": null,
      "order": null,
      "overflow": null,
      "overflow_x": null,
      "overflow_y": null,
      "padding": null,
      "right": null,
      "top": null,
      "visibility": null,
      "width": null
     }
    },
    "a5b0355d9a2e4125b7244ae5582212c8": {
     "model_module": "@jupyter-widgets/base",
     "model_module_version": "1.2.0",
     "model_name": "LayoutModel",
     "state": {
      "_model_module": "@jupyter-widgets/base",
      "_model_module_version": "1.2.0",
      "_model_name": "LayoutModel",
      "_view_count": null,
      "_view_module": "@jupyter-widgets/base",
      "_view_module_version": "1.2.0",
      "_view_name": "LayoutView",
      "align_content": null,
      "align_items": null,
      "align_self": null,
      "border": null,
      "bottom": null,
      "display": null,
      "flex": null,
      "flex_flow": null,
      "grid_area": null,
      "grid_auto_columns": null,
      "grid_auto_flow": null,
      "grid_auto_rows": null,
      "grid_column": null,
      "grid_gap": null,
      "grid_row": null,
      "grid_template_areas": null,
      "grid_template_columns": null,
      "grid_template_rows": null,
      "height": null,
      "justify_content": null,
      "justify_items": null,
      "left": null,
      "margin": null,
      "max_height": null,
      "max_width": null,
      "min_height": null,
      "min_width": null,
      "object_fit": null,
      "object_position": null,
      "order": null,
      "overflow": null,
      "overflow_x": null,
      "overflow_y": null,
      "padding": null,
      "right": null,
      "top": null,
      "visibility": null,
      "width": null
     }
    },
    "a5b1e1bcf377460ebabc8ba88957206e": {
     "model_module": "@jupyter-widgets/controls",
     "model_module_version": "1.5.0",
     "model_name": "DescriptionStyleModel",
     "state": {
      "_model_module": "@jupyter-widgets/controls",
      "_model_module_version": "1.5.0",
      "_model_name": "DescriptionStyleModel",
      "_view_count": null,
      "_view_module": "@jupyter-widgets/base",
      "_view_module_version": "1.2.0",
      "_view_name": "StyleView",
      "description_width": ""
     }
    },
    "a60bf0d288ce49f39ce301698528515a": {
     "model_module": "@jupyter-widgets/controls",
     "model_module_version": "1.5.0",
     "model_name": "HTMLModel",
     "state": {
      "_dom_classes": [],
      "_model_module": "@jupyter-widgets/controls",
      "_model_module_version": "1.5.0",
      "_model_name": "HTMLModel",
      "_view_count": null,
      "_view_module": "@jupyter-widgets/controls",
      "_view_module_version": "1.5.0",
      "_view_name": "HTMLView",
      "description": "",
      "description_tooltip": null,
      "layout": "IPY_MODEL_47ae20ba4e5946debdd789af83114d3e",
      "placeholder": "​",
      "style": "IPY_MODEL_d578ce02e48c49d7838c002d1d2217fb",
      "value": " 7.97k/7.97k [04:37&lt;00:00, 17.0B/s]"
     }
    },
    "a6e7f6bb9bf5486389689d79e499869b": {
     "model_module": "@jupyter-widgets/controls",
     "model_module_version": "1.5.0",
     "model_name": "DescriptionStyleModel",
     "state": {
      "_model_module": "@jupyter-widgets/controls",
      "_model_module_version": "1.5.0",
      "_model_name": "DescriptionStyleModel",
      "_view_count": null,
      "_view_module": "@jupyter-widgets/base",
      "_view_module_version": "1.2.0",
      "_view_name": "StyleView",
      "description_width": ""
     }
    },
    "a708cd777c2f443f9c997386ff64c992": {
     "model_module": "@jupyter-widgets/base",
     "model_module_version": "1.2.0",
     "model_name": "LayoutModel",
     "state": {
      "_model_module": "@jupyter-widgets/base",
      "_model_module_version": "1.2.0",
      "_model_name": "LayoutModel",
      "_view_count": null,
      "_view_module": "@jupyter-widgets/base",
      "_view_module_version": "1.2.0",
      "_view_name": "LayoutView",
      "align_content": null,
      "align_items": null,
      "align_self": null,
      "border": null,
      "bottom": null,
      "display": null,
      "flex": null,
      "flex_flow": null,
      "grid_area": null,
      "grid_auto_columns": null,
      "grid_auto_flow": null,
      "grid_auto_rows": null,
      "grid_column": null,
      "grid_gap": null,
      "grid_row": null,
      "grid_template_areas": null,
      "grid_template_columns": null,
      "grid_template_rows": null,
      "height": null,
      "justify_content": null,
      "justify_items": null,
      "left": null,
      "margin": null,
      "max_height": null,
      "max_width": null,
      "min_height": null,
      "min_width": null,
      "object_fit": null,
      "object_position": null,
      "order": null,
      "overflow": null,
      "overflow_x": null,
      "overflow_y": null,
      "padding": null,
      "right": null,
      "top": null,
      "visibility": null,
      "width": null
     }
    },
    "a7e7d95121934bd4b3cf322636b5ec52": {
     "model_module": "@jupyter-widgets/controls",
     "model_module_version": "1.5.0",
     "model_name": "HTMLModel",
     "state": {
      "_dom_classes": [],
      "_model_module": "@jupyter-widgets/controls",
      "_model_module_version": "1.5.0",
      "_model_name": "HTMLModel",
      "_view_count": null,
      "_view_module": "@jupyter-widgets/controls",
      "_view_module_version": "1.5.0",
      "_view_name": "HTMLView",
      "description": "",
      "description_tooltip": null,
      "layout": "IPY_MODEL_0a7e1500d4764332aae441c0afbe12bf",
      "placeholder": "​",
      "style": "IPY_MODEL_44acbd5e884948b5929f15336986a08e",
      "value": "Upload file runs/Oct19_15-22-32_c16c65cbdbe5/events.out.tfevents.1634657020.c16c65cbdbe5.77.2: 100%"
     }
    },
    "a8070a9f2d004a77be3853f10d415ece": {
     "model_module": "@jupyter-widgets/base",
     "model_module_version": "1.2.0",
     "model_name": "LayoutModel",
     "state": {
      "_model_module": "@jupyter-widgets/base",
      "_model_module_version": "1.2.0",
      "_model_name": "LayoutModel",
      "_view_count": null,
      "_view_module": "@jupyter-widgets/base",
      "_view_module_version": "1.2.0",
      "_view_name": "LayoutView",
      "align_content": null,
      "align_items": null,
      "align_self": null,
      "border": null,
      "bottom": null,
      "display": null,
      "flex": null,
      "flex_flow": null,
      "grid_area": null,
      "grid_auto_columns": null,
      "grid_auto_flow": null,
      "grid_auto_rows": null,
      "grid_column": null,
      "grid_gap": null,
      "grid_row": null,
      "grid_template_areas": null,
      "grid_template_columns": null,
      "grid_template_rows": null,
      "height": null,
      "justify_content": null,
      "justify_items": null,
      "left": null,
      "margin": null,
      "max_height": null,
      "max_width": null,
      "min_height": null,
      "min_width": null,
      "object_fit": null,
      "object_position": null,
      "order": null,
      "overflow": null,
      "overflow_x": null,
      "overflow_y": null,
      "padding": null,
      "right": null,
      "top": null,
      "visibility": null,
      "width": null
     }
    },
    "aab53fb4053649c4b31b916a7d3c39bf": {
     "model_module": "@jupyter-widgets/controls",
     "model_module_version": "1.5.0",
     "model_name": "ProgressStyleModel",
     "state": {
      "_model_module": "@jupyter-widgets/controls",
      "_model_module_version": "1.5.0",
      "_model_name": "ProgressStyleModel",
      "_view_count": null,
      "_view_module": "@jupyter-widgets/base",
      "_view_module_version": "1.2.0",
      "_view_name": "StyleView",
      "bar_color": null,
      "description_width": ""
     }
    },
    "ab6c2e67ee7c423da8fcdada2d18d883": {
     "model_module": "@jupyter-widgets/base",
     "model_module_version": "1.2.0",
     "model_name": "LayoutModel",
     "state": {
      "_model_module": "@jupyter-widgets/base",
      "_model_module_version": "1.2.0",
      "_model_name": "LayoutModel",
      "_view_count": null,
      "_view_module": "@jupyter-widgets/base",
      "_view_module_version": "1.2.0",
      "_view_name": "LayoutView",
      "align_content": null,
      "align_items": null,
      "align_self": null,
      "border": null,
      "bottom": null,
      "display": null,
      "flex": null,
      "flex_flow": null,
      "grid_area": null,
      "grid_auto_columns": null,
      "grid_auto_flow": null,
      "grid_auto_rows": null,
      "grid_column": null,
      "grid_gap": null,
      "grid_row": null,
      "grid_template_areas": null,
      "grid_template_columns": null,
      "grid_template_rows": null,
      "height": null,
      "justify_content": null,
      "justify_items": null,
      "left": null,
      "margin": null,
      "max_height": null,
      "max_width": null,
      "min_height": null,
      "min_width": null,
      "object_fit": null,
      "object_position": null,
      "order": null,
      "overflow": null,
      "overflow_x": null,
      "overflow_y": null,
      "padding": null,
      "right": null,
      "top": null,
      "visibility": null,
      "width": null
     }
    },
    "ac40289a8a0b40bc93da88fc9adcb7f9": {
     "model_module": "@jupyter-widgets/controls",
     "model_module_version": "1.5.0",
     "model_name": "HTMLModel",
     "state": {
      "_dom_classes": [],
      "_model_module": "@jupyter-widgets/controls",
      "_model_module_version": "1.5.0",
      "_model_name": "HTMLModel",
      "_view_count": null,
      "_view_module": "@jupyter-widgets/controls",
      "_view_module_version": "1.5.0",
      "_view_name": "HTMLView",
      "description": "",
      "description_tooltip": null,
      "layout": "IPY_MODEL_50c55e7188bc4d6a88ae83995ffa2366",
      "placeholder": "​",
      "style": "IPY_MODEL_f55bd5328793422fb0e2101442855dec",
      "value": "Downloading: 100%"
     }
    },
    "ad4c383574b24eb9a1523dddd1ff59a7": {
     "model_module": "@jupyter-widgets/base",
     "model_module_version": "1.2.0",
     "model_name": "LayoutModel",
     "state": {
      "_model_module": "@jupyter-widgets/base",
      "_model_module_version": "1.2.0",
      "_model_name": "LayoutModel",
      "_view_count": null,
      "_view_module": "@jupyter-widgets/base",
      "_view_module_version": "1.2.0",
      "_view_name": "LayoutView",
      "align_content": null,
      "align_items": null,
      "align_self": null,
      "border": null,
      "bottom": null,
      "display": null,
      "flex": null,
      "flex_flow": null,
      "grid_area": null,
      "grid_auto_columns": null,
      "grid_auto_flow": null,
      "grid_auto_rows": null,
      "grid_column": null,
      "grid_gap": null,
      "grid_row": null,
      "grid_template_areas": null,
      "grid_template_columns": null,
      "grid_template_rows": null,
      "height": null,
      "justify_content": null,
      "justify_items": null,
      "left": null,
      "margin": null,
      "max_height": null,
      "max_width": null,
      "min_height": null,
      "min_width": null,
      "object_fit": null,
      "object_position": null,
      "order": null,
      "overflow": null,
      "overflow_x": null,
      "overflow_y": null,
      "padding": null,
      "right": null,
      "top": null,
      "visibility": null,
      "width": null
     }
    },
    "adfc9c18f1394afba35adb8ca6d804c8": {
     "model_module": "@jupyter-widgets/controls",
     "model_module_version": "1.5.0",
     "model_name": "DescriptionStyleModel",
     "state": {
      "_model_module": "@jupyter-widgets/controls",
      "_model_module_version": "1.5.0",
      "_model_name": "DescriptionStyleModel",
      "_view_count": null,
      "_view_module": "@jupyter-widgets/base",
      "_view_module_version": "1.2.0",
      "_view_name": "StyleView",
      "description_width": ""
     }
    },
    "af132b79295747b0a185e9a38539338b": {
     "model_module": "@jupyter-widgets/controls",
     "model_module_version": "1.5.0",
     "model_name": "DescriptionStyleModel",
     "state": {
      "_model_module": "@jupyter-widgets/controls",
      "_model_module_version": "1.5.0",
      "_model_name": "DescriptionStyleModel",
      "_view_count": null,
      "_view_module": "@jupyter-widgets/base",
      "_view_module_version": "1.2.0",
      "_view_name": "StyleView",
      "description_width": ""
     }
    },
    "af4f488264484b5fb9813e592bc28ed3": {
     "model_module": "@jupyter-widgets/controls",
     "model_module_version": "1.5.0",
     "model_name": "ProgressStyleModel",
     "state": {
      "_model_module": "@jupyter-widgets/controls",
      "_model_module_version": "1.5.0",
      "_model_name": "ProgressStyleModel",
      "_view_count": null,
      "_view_module": "@jupyter-widgets/base",
      "_view_module_version": "1.2.0",
      "_view_name": "StyleView",
      "bar_color": null,
      "description_width": ""
     }
    },
    "af85987363eb41dba278a9ca1a8fc0dd": {
     "model_module": "@jupyter-widgets/controls",
     "model_module_version": "1.5.0",
     "model_name": "HTMLModel",
     "state": {
      "_dom_classes": [],
      "_model_module": "@jupyter-widgets/controls",
      "_model_module_version": "1.5.0",
      "_model_name": "HTMLModel",
      "_view_count": null,
      "_view_module": "@jupyter-widgets/controls",
      "_view_module_version": "1.5.0",
      "_view_name": "HTMLView",
      "description": "",
      "description_tooltip": null,
      "layout": "IPY_MODEL_c64da24052554c05a6ed4fa8b544c106",
      "placeholder": "​",
      "style": "IPY_MODEL_f0456d5e7be64144a8243fb9ea974d1b",
      "value": "Downloading: 100%"
     }
    },
    "b362a9179f894ff5b879bbae73fe41b2": {
     "model_module": "@jupyter-widgets/base",
     "model_module_version": "1.2.0",
     "model_name": "LayoutModel",
     "state": {
      "_model_module": "@jupyter-widgets/base",
      "_model_module_version": "1.2.0",
      "_model_name": "LayoutModel",
      "_view_count": null,
      "_view_module": "@jupyter-widgets/base",
      "_view_module_version": "1.2.0",
      "_view_name": "LayoutView",
      "align_content": null,
      "align_items": null,
      "align_self": null,
      "border": null,
      "bottom": null,
      "display": null,
      "flex": null,
      "flex_flow": null,
      "grid_area": null,
      "grid_auto_columns": null,
      "grid_auto_flow": null,
      "grid_auto_rows": null,
      "grid_column": null,
      "grid_gap": null,
      "grid_row": null,
      "grid_template_areas": null,
      "grid_template_columns": null,
      "grid_template_rows": null,
      "height": null,
      "justify_content": null,
      "justify_items": null,
      "left": null,
      "margin": null,
      "max_height": null,
      "max_width": null,
      "min_height": null,
      "min_width": null,
      "object_fit": null,
      "object_position": null,
      "order": null,
      "overflow": null,
      "overflow_x": null,
      "overflow_y": null,
      "padding": null,
      "right": null,
      "top": null,
      "visibility": null,
      "width": null
     }
    },
    "b477afdf889b479ba892b3e0110ee94f": {
     "model_module": "@jupyter-widgets/controls",
     "model_module_version": "1.5.0",
     "model_name": "FloatProgressModel",
     "state": {
      "_dom_classes": [],
      "_model_module": "@jupyter-widgets/controls",
      "_model_module_version": "1.5.0",
      "_model_name": "FloatProgressModel",
      "_view_count": null,
      "_view_module": "@jupyter-widgets/controls",
      "_view_module_version": "1.5.0",
      "_view_name": "ProgressView",
      "bar_style": "success",
      "description": "",
      "description_tooltip": null,
      "layout": "IPY_MODEL_6ebdb03f75bb44248a6ad230f1916d8f",
      "max": 380267417,
      "min": 0,
      "orientation": "horizontal",
      "style": "IPY_MODEL_480afa0ed5f14bbebb888a81b25a5428",
      "value": 380267417
     }
    },
    "b4ad8f1142834b04b72373b7b8cd9e97": {
     "model_module": "@jupyter-widgets/base",
     "model_module_version": "1.2.0",
     "model_name": "LayoutModel",
     "state": {
      "_model_module": "@jupyter-widgets/base",
      "_model_module_version": "1.2.0",
      "_model_name": "LayoutModel",
      "_view_count": null,
      "_view_module": "@jupyter-widgets/base",
      "_view_module_version": "1.2.0",
      "_view_name": "LayoutView",
      "align_content": null,
      "align_items": null,
      "align_self": null,
      "border": null,
      "bottom": null,
      "display": null,
      "flex": null,
      "flex_flow": null,
      "grid_area": null,
      "grid_auto_columns": null,
      "grid_auto_flow": null,
      "grid_auto_rows": null,
      "grid_column": null,
      "grid_gap": null,
      "grid_row": null,
      "grid_template_areas": null,
      "grid_template_columns": null,
      "grid_template_rows": null,
      "height": null,
      "justify_content": null,
      "justify_items": null,
      "left": null,
      "margin": null,
      "max_height": null,
      "max_width": null,
      "min_height": null,
      "min_width": null,
      "object_fit": null,
      "object_position": null,
      "order": null,
      "overflow": null,
      "overflow_x": null,
      "overflow_y": null,
      "padding": null,
      "right": null,
      "top": null,
      "visibility": null,
      "width": null
     }
    },
    "b5f579a82ca745e1b8baeff5df14e6b3": {
     "model_module": "@jupyter-widgets/base",
     "model_module_version": "1.2.0",
     "model_name": "LayoutModel",
     "state": {
      "_model_module": "@jupyter-widgets/base",
      "_model_module_version": "1.2.0",
      "_model_name": "LayoutModel",
      "_view_count": null,
      "_view_module": "@jupyter-widgets/base",
      "_view_module_version": "1.2.0",
      "_view_name": "LayoutView",
      "align_content": null,
      "align_items": null,
      "align_self": null,
      "border": null,
      "bottom": null,
      "display": null,
      "flex": null,
      "flex_flow": null,
      "grid_area": null,
      "grid_auto_columns": null,
      "grid_auto_flow": null,
      "grid_auto_rows": null,
      "grid_column": null,
      "grid_gap": null,
      "grid_row": null,
      "grid_template_areas": null,
      "grid_template_columns": null,
      "grid_template_rows": null,
      "height": null,
      "justify_content": null,
      "justify_items": null,
      "left": null,
      "margin": null,
      "max_height": null,
      "max_width": null,
      "min_height": null,
      "min_width": null,
      "object_fit": null,
      "object_position": null,
      "order": null,
      "overflow": null,
      "overflow_x": null,
      "overflow_y": null,
      "padding": null,
      "right": null,
      "top": null,
      "visibility": null,
      "width": null
     }
    },
    "b68e2ce04cbf4f6fa1adc245bc1bf6a3": {
     "model_module": "@jupyter-widgets/controls",
     "model_module_version": "1.5.0",
     "model_name": "FloatProgressModel",
     "state": {
      "_dom_classes": [],
      "_model_module": "@jupyter-widgets/controls",
      "_model_module_version": "1.5.0",
      "_model_name": "FloatProgressModel",
      "_view_count": null,
      "_view_module": "@jupyter-widgets/controls",
      "_view_module_version": "1.5.0",
      "_view_name": "ProgressView",
      "bar_style": "success",
      "description": "",
      "description_tooltip": null,
      "layout": "IPY_MODEL_3847f0eb02c64151bba5722abf51d4be",
      "max": 11790,
      "min": 0,
      "orientation": "horizontal",
      "style": "IPY_MODEL_aab53fb4053649c4b31b916a7d3c39bf",
      "value": 11790
     }
    },
    "ba0923f8b18949278eb44f7dd101addb": {
     "model_module": "@jupyter-widgets/controls",
     "model_module_version": "1.5.0",
     "model_name": "HBoxModel",
     "state": {
      "_dom_classes": [],
      "_model_module": "@jupyter-widgets/controls",
      "_model_module_version": "1.5.0",
      "_model_name": "HBoxModel",
      "_view_count": null,
      "_view_module": "@jupyter-widgets/controls",
      "_view_module_version": "1.5.0",
      "_view_name": "HBoxView",
      "box_style": "",
      "children": [
       "IPY_MODEL_7e7b797b5cb14a1c9fbb7c626fa3eda7",
       "IPY_MODEL_bc13eed455304b0d8f32383fdb3cd1d7",
       "IPY_MODEL_91d0ff447851441dadb2cf95ef2efa41"
      ],
      "layout": "IPY_MODEL_3904bfe781854100881b9e3806604792"
     }
    },
    "bc13eed455304b0d8f32383fdb3cd1d7": {
     "model_module": "@jupyter-widgets/controls",
     "model_module_version": "1.5.0",
     "model_name": "FloatProgressModel",
     "state": {
      "_dom_classes": [],
      "_model_module": "@jupyter-widgets/controls",
      "_model_module_version": "1.5.0",
      "_model_name": "FloatProgressModel",
      "_view_count": null,
      "_view_module": "@jupyter-widgets/controls",
      "_view_module_version": "1.5.0",
      "_view_name": "ProgressView",
      "bar_style": "success",
      "description": "",
      "description_tooltip": null,
      "layout": "IPY_MODEL_54174b5181104b32b5379b975046f942",
      "max": 1680,
      "min": 0,
      "orientation": "horizontal",
      "style": "IPY_MODEL_7cbf979a424948e5b3ebaec357f88d8a",
      "value": 1680
     }
    },
    "bdb861cb47834d2eba1a25dd78256858": {
     "model_module": "@jupyter-widgets/controls",
     "model_module_version": "1.5.0",
     "model_name": "FloatProgressModel",
     "state": {
      "_dom_classes": [],
      "_model_module": "@jupyter-widgets/controls",
      "_model_module_version": "1.5.0",
      "_model_name": "FloatProgressModel",
      "_view_count": null,
      "_view_module": "@jupyter-widgets/controls",
      "_view_module_version": "1.5.0",
      "_view_name": "ProgressView",
      "bar_style": "success",
      "description": "",
      "description_tooltip": null,
      "layout": "IPY_MODEL_8422cbba208b46b698793f1b28333011",
      "max": 181,
      "min": 0,
      "orientation": "horizontal",
      "style": "IPY_MODEL_f7f6ad344bcd4302bbd9b7846dbc9491",
      "value": 181
     }
    },
    "bf53200f59de4e818ee3a218b9184c51": {
     "model_module": "@jupyter-widgets/controls",
     "model_module_version": "1.5.0",
     "model_name": "HTMLModel",
     "state": {
      "_dom_classes": [],
      "_model_module": "@jupyter-widgets/controls",
      "_model_module_version": "1.5.0",
      "_model_name": "HTMLModel",
      "_view_count": null,
      "_view_module": "@jupyter-widgets/controls",
      "_view_module_version": "1.5.0",
      "_view_name": "HTMLView",
      "description": "",
      "description_tooltip": null,
      "layout": "IPY_MODEL_e9ade325aaa749ea9b32e4ff45a0ab8d",
      "placeholder": "​",
      "style": "IPY_MODEL_e83621d2a3894a4287ccf931430ae8b9",
      "value": "Downloading: 100%"
     }
    },
    "c4bc7ab6af97492786c9cbfbc1a4d145": {
     "model_module": "@jupyter-widgets/controls",
     "model_module_version": "1.5.0",
     "model_name": "HTMLModel",
     "state": {
      "_dom_classes": [],
      "_model_module": "@jupyter-widgets/controls",
      "_model_module_version": "1.5.0",
      "_model_name": "HTMLModel",
      "_view_count": null,
      "_view_module": "@jupyter-widgets/controls",
      "_view_module_version": "1.5.0",
      "_view_name": "HTMLView",
      "description": "",
      "description_tooltip": null,
      "layout": "IPY_MODEL_ee3cc5c9c2e44482be9fd0d65236b2ba",
      "placeholder": "​",
      "style": "IPY_MODEL_ff107f54e338411588b611ae3c85293f",
      "value": " 85.0/85.0 [00:00&lt;00:00, 2.78kB/s]"
     }
    },
    "c64da24052554c05a6ed4fa8b544c106": {
     "model_module": "@jupyter-widgets/base",
     "model_module_version": "1.2.0",
     "model_name": "LayoutModel",
     "state": {
      "_model_module": "@jupyter-widgets/base",
      "_model_module_version": "1.2.0",
      "_model_name": "LayoutModel",
      "_view_count": null,
      "_view_module": "@jupyter-widgets/base",
      "_view_module_version": "1.2.0",
      "_view_name": "LayoutView",
      "align_content": null,
      "align_items": null,
      "align_self": null,
      "border": null,
      "bottom": null,
      "display": null,
      "flex": null,
      "flex_flow": null,
      "grid_area": null,
      "grid_auto_columns": null,
      "grid_auto_flow": null,
      "grid_auto_rows": null,
      "grid_column": null,
      "grid_gap": null,
      "grid_row": null,
      "grid_template_areas": null,
      "grid_template_columns": null,
      "grid_template_rows": null,
      "height": null,
      "justify_content": null,
      "justify_items": null,
      "left": null,
      "margin": null,
      "max_height": null,
      "max_width": null,
      "min_height": null,
      "min_width": null,
      "object_fit": null,
      "object_position": null,
      "order": null,
      "overflow": null,
      "overflow_x": null,
      "overflow_y": null,
      "padding": null,
      "right": null,
      "top": null,
      "visibility": null,
      "width": null
     }
    },
    "c9934470d6dd47f8a5a0dbf4cc0179ff": {
     "model_module": "@jupyter-widgets/controls",
     "model_module_version": "1.5.0",
     "model_name": "HBoxModel",
     "state": {
      "_dom_classes": [],
      "_model_module": "@jupyter-widgets/controls",
      "_model_module_version": "1.5.0",
      "_model_name": "HBoxModel",
      "_view_count": null,
      "_view_module": "@jupyter-widgets/controls",
      "_view_module_version": "1.5.0",
      "_view_name": "HBoxView",
      "box_style": "",
      "children": [
       "IPY_MODEL_bf53200f59de4e818ee3a218b9184c51",
       "IPY_MODEL_bdb861cb47834d2eba1a25dd78256858",
       "IPY_MODEL_93d4c6792018431bb2aa44dbab7ac413"
      ],
      "layout": "IPY_MODEL_5449e6f4e1d3423488ff8bea71316ff9"
     }
    },
    "cb9df5508ed64efdad8b256a9fcd106d": {
     "model_module": "@jupyter-widgets/base",
     "model_module_version": "1.2.0",
     "model_name": "LayoutModel",
     "state": {
      "_model_module": "@jupyter-widgets/base",
      "_model_module_version": "1.2.0",
      "_model_name": "LayoutModel",
      "_view_count": null,
      "_view_module": "@jupyter-widgets/base",
      "_view_module_version": "1.2.0",
      "_view_name": "LayoutView",
      "align_content": null,
      "align_items": null,
      "align_self": null,
      "border": null,
      "bottom": null,
      "display": null,
      "flex": null,
      "flex_flow": null,
      "grid_area": null,
      "grid_auto_columns": null,
      "grid_auto_flow": null,
      "grid_auto_rows": null,
      "grid_column": null,
      "grid_gap": null,
      "grid_row": null,
      "grid_template_areas": null,
      "grid_template_columns": null,
      "grid_template_rows": null,
      "height": null,
      "justify_content": null,
      "justify_items": null,
      "left": null,
      "margin": null,
      "max_height": null,
      "max_width": null,
      "min_height": null,
      "min_width": null,
      "object_fit": null,
      "object_position": null,
      "order": null,
      "overflow": null,
      "overflow_x": null,
      "overflow_y": null,
      "padding": null,
      "right": null,
      "top": null,
      "visibility": null,
      "width": null
     }
    },
    "cd06015aca774a7ca4f813dadb747f1d": {
     "model_module": "@jupyter-widgets/controls",
     "model_module_version": "1.5.0",
     "model_name": "HBoxModel",
     "state": {
      "_dom_classes": [],
      "_model_module": "@jupyter-widgets/controls",
      "_model_module_version": "1.5.0",
      "_model_name": "HBoxModel",
      "_view_count": null,
      "_view_module": "@jupyter-widgets/controls",
      "_view_module_version": "1.5.0",
      "_view_name": "HBoxView",
      "box_style": "",
      "children": [
       "IPY_MODEL_61eb3dc9f5d7484fb066701c67282025",
       "IPY_MODEL_531931f7e6d0453682677a4ba20cbb46",
       "IPY_MODEL_c4bc7ab6af97492786c9cbfbc1a4d145"
      ],
      "layout": "IPY_MODEL_cb9df5508ed64efdad8b256a9fcd106d"
     }
    },
    "ce4b73b6bddc4cfb8c94f6447cbd19b4": {
     "model_module": "@jupyter-widgets/controls",
     "model_module_version": "1.5.0",
     "model_name": "FloatProgressModel",
     "state": {
      "_dom_classes": [],
      "_model_module": "@jupyter-widgets/controls",
      "_model_module_version": "1.5.0",
      "_model_name": "FloatProgressModel",
      "_view_count": null,
      "_view_module": "@jupyter-widgets/controls",
      "_view_module_version": "1.5.0",
      "_view_name": "ProgressView",
      "bar_style": "success",
      "description": "",
      "description_tooltip": null,
      "layout": "IPY_MODEL_ec1c3ebf957f4f86bbf4d0b0f042ea96",
      "max": 1938,
      "min": 0,
      "orientation": "horizontal",
      "style": "IPY_MODEL_af4f488264484b5fb9813e592bc28ed3",
      "value": 1938
     }
    },
    "d05016d3099e41b5bb0108376633ee1b": {
     "model_module": "@jupyter-widgets/controls",
     "model_module_version": "1.5.0",
     "model_name": "HBoxModel",
     "state": {
      "_dom_classes": [],
      "_model_module": "@jupyter-widgets/controls",
      "_model_module_version": "1.5.0",
      "_model_name": "HBoxModel",
      "_view_count": null,
      "_view_module": "@jupyter-widgets/controls",
      "_view_module_version": "1.5.0",
      "_view_name": "HBoxView",
      "box_style": "",
      "children": [
       "IPY_MODEL_af85987363eb41dba278a9ca1a8fc0dd",
       "IPY_MODEL_ce4b73b6bddc4cfb8c94f6447cbd19b4",
       "IPY_MODEL_0c50021a603247b88f18f54c505381e8"
      ],
      "layout": "IPY_MODEL_ad4c383574b24eb9a1523dddd1ff59a7"
     }
    },
    "d1693414e7964bfcbe95f6d95d5d4204": {
     "model_module": "@jupyter-widgets/base",
     "model_module_version": "1.2.0",
     "model_name": "LayoutModel",
     "state": {
      "_model_module": "@jupyter-widgets/base",
      "_model_module_version": "1.2.0",
      "_model_name": "LayoutModel",
      "_view_count": null,
      "_view_module": "@jupyter-widgets/base",
      "_view_module_version": "1.2.0",
      "_view_name": "LayoutView",
      "align_content": null,
      "align_items": null,
      "align_self": null,
      "border": null,
      "bottom": null,
      "display": null,
      "flex": null,
      "flex_flow": null,
      "grid_area": null,
      "grid_auto_columns": null,
      "grid_auto_flow": null,
      "grid_auto_rows": null,
      "grid_column": null,
      "grid_gap": null,
      "grid_row": null,
      "grid_template_areas": null,
      "grid_template_columns": null,
      "grid_template_rows": null,
      "height": null,
      "justify_content": null,
      "justify_items": null,
      "left": null,
      "margin": null,
      "max_height": null,
      "max_width": null,
      "min_height": null,
      "min_width": null,
      "object_fit": null,
      "object_position": null,
      "order": null,
      "overflow": null,
      "overflow_x": null,
      "overflow_y": null,
      "padding": null,
      "right": null,
      "top": null,
      "visibility": null,
      "width": null
     }
    },
    "d16ea3ef10684bf1b1092345ca92897a": {
     "model_module": "@jupyter-widgets/base",
     "model_module_version": "1.2.0",
     "model_name": "LayoutModel",
     "state": {
      "_model_module": "@jupyter-widgets/base",
      "_model_module_version": "1.2.0",
      "_model_name": "LayoutModel",
      "_view_count": null,
      "_view_module": "@jupyter-widgets/base",
      "_view_module_version": "1.2.0",
      "_view_name": "LayoutView",
      "align_content": null,
      "align_items": null,
      "align_self": null,
      "border": null,
      "bottom": null,
      "display": null,
      "flex": null,
      "flex_flow": null,
      "grid_area": null,
      "grid_auto_columns": null,
      "grid_auto_flow": null,
      "grid_auto_rows": null,
      "grid_column": null,
      "grid_gap": null,
      "grid_row": null,
      "grid_template_areas": null,
      "grid_template_columns": null,
      "grid_template_rows": null,
      "height": null,
      "justify_content": null,
      "justify_items": null,
      "left": null,
      "margin": null,
      "max_height": null,
      "max_width": null,
      "min_height": null,
      "min_width": null,
      "object_fit": null,
      "object_position": null,
      "order": null,
      "overflow": null,
      "overflow_x": null,
      "overflow_y": null,
      "padding": null,
      "right": null,
      "top": null,
      "visibility": null,
      "width": null
     }
    },
    "d21e46e22de04ebe9e02b44e71de04f2": {
     "model_module": "@jupyter-widgets/controls",
     "model_module_version": "1.5.0",
     "model_name": "DescriptionStyleModel",
     "state": {
      "_model_module": "@jupyter-widgets/controls",
      "_model_module_version": "1.5.0",
      "_model_name": "DescriptionStyleModel",
      "_view_count": null,
      "_view_module": "@jupyter-widgets/base",
      "_view_module_version": "1.2.0",
      "_view_name": "StyleView",
      "description_width": ""
     }
    },
    "d578ce02e48c49d7838c002d1d2217fb": {
     "model_module": "@jupyter-widgets/controls",
     "model_module_version": "1.5.0",
     "model_name": "DescriptionStyleModel",
     "state": {
      "_model_module": "@jupyter-widgets/controls",
      "_model_module_version": "1.5.0",
      "_model_name": "DescriptionStyleModel",
      "_view_count": null,
      "_view_module": "@jupyter-widgets/base",
      "_view_module_version": "1.2.0",
      "_view_name": "StyleView",
      "description_width": ""
     }
    },
    "d7a01acdb98f435489fed6bf1a5b3e4f": {
     "model_module": "@jupyter-widgets/controls",
     "model_module_version": "1.5.0",
     "model_name": "ProgressStyleModel",
     "state": {
      "_model_module": "@jupyter-widgets/controls",
      "_model_module_version": "1.5.0",
      "_model_name": "ProgressStyleModel",
      "_view_count": null,
      "_view_module": "@jupyter-widgets/base",
      "_view_module_version": "1.2.0",
      "_view_name": "StyleView",
      "bar_color": null,
      "description_width": ""
     }
    },
    "d896231bf5824211a55d494d48626fc6": {
     "model_module": "@jupyter-widgets/controls",
     "model_module_version": "1.5.0",
     "model_name": "HBoxModel",
     "state": {
      "_dom_classes": [],
      "_model_module": "@jupyter-widgets/controls",
      "_model_module_version": "1.5.0",
      "_model_name": "HBoxModel",
      "_view_count": null,
      "_view_module": "@jupyter-widgets/controls",
      "_view_module_version": "1.5.0",
      "_view_name": "HBoxView",
      "box_style": "",
      "children": [
       "IPY_MODEL_2392ea8eae7c4dbebc0e218cd7c5ce23",
       "IPY_MODEL_effd4c06dcdb44ae9027dbe846438c83",
       "IPY_MODEL_3d0635b79b6342b78a9689e092f60872"
      ],
      "layout": "IPY_MODEL_14dae264619940beab57908b986aa6bb"
     }
    },
    "d9813a20998b4f739de3fa1592fa6f6c": {
     "model_module": "@jupyter-widgets/base",
     "model_module_version": "1.2.0",
     "model_name": "LayoutModel",
     "state": {
      "_model_module": "@jupyter-widgets/base",
      "_model_module_version": "1.2.0",
      "_model_name": "LayoutModel",
      "_view_count": null,
      "_view_module": "@jupyter-widgets/base",
      "_view_module_version": "1.2.0",
      "_view_name": "LayoutView",
      "align_content": null,
      "align_items": null,
      "align_self": null,
      "border": null,
      "bottom": null,
      "display": null,
      "flex": null,
      "flex_flow": null,
      "grid_area": null,
      "grid_auto_columns": null,
      "grid_auto_flow": null,
      "grid_auto_rows": null,
      "grid_column": null,
      "grid_gap": null,
      "grid_row": null,
      "grid_template_areas": null,
      "grid_template_columns": null,
      "grid_template_rows": null,
      "height": null,
      "justify_content": null,
      "justify_items": null,
      "left": null,
      "margin": null,
      "max_height": null,
      "max_width": null,
      "min_height": null,
      "min_width": null,
      "object_fit": null,
      "object_position": null,
      "order": null,
      "overflow": null,
      "overflow_x": null,
      "overflow_y": null,
      "padding": null,
      "right": null,
      "top": null,
      "visibility": null,
      "width": null
     }
    },
    "df32789a34fe494c9a8791a8d8c70c69": {
     "model_module": "@jupyter-widgets/controls",
     "model_module_version": "1.5.0",
     "model_name": "HTMLModel",
     "state": {
      "_dom_classes": [],
      "_model_module": "@jupyter-widgets/controls",
      "_model_module_version": "1.5.0",
      "_model_name": "HTMLModel",
      "_view_count": null,
      "_view_module": "@jupyter-widgets/controls",
      "_view_module_version": "1.5.0",
      "_view_name": "HTMLView",
      "description": "",
      "description_tooltip": null,
      "layout": "IPY_MODEL_b5f579a82ca745e1b8baeff5df14e6b3",
      "placeholder": "​",
      "style": "IPY_MODEL_a6e7f6bb9bf5486389689d79e499869b",
      "value": " 4.55k/? [00:00&lt;00:00, 160kB/s]"
     }
    },
    "dfa667744f6645e2a2d878fd923cbb7a": {
     "model_module": "@jupyter-widgets/base",
     "model_module_version": "1.2.0",
     "model_name": "LayoutModel",
     "state": {
      "_model_module": "@jupyter-widgets/base",
      "_model_module_version": "1.2.0",
      "_model_name": "LayoutModel",
      "_view_count": null,
      "_view_module": "@jupyter-widgets/base",
      "_view_module_version": "1.2.0",
      "_view_name": "LayoutView",
      "align_content": null,
      "align_items": null,
      "align_self": null,
      "border": null,
      "bottom": null,
      "display": null,
      "flex": null,
      "flex_flow": null,
      "grid_area": null,
      "grid_auto_columns": null,
      "grid_auto_flow": null,
      "grid_auto_rows": null,
      "grid_column": null,
      "grid_gap": null,
      "grid_row": null,
      "grid_template_areas": null,
      "grid_template_columns": null,
      "grid_template_rows": null,
      "height": null,
      "justify_content": null,
      "justify_items": null,
      "left": null,
      "margin": null,
      "max_height": null,
      "max_width": null,
      "min_height": null,
      "min_width": null,
      "object_fit": null,
      "object_position": null,
      "order": null,
      "overflow": null,
      "overflow_x": null,
      "overflow_y": null,
      "padding": null,
      "right": null,
      "top": null,
      "visibility": null,
      "width": null
     }
    },
    "e0888123f0d2455d9f565939a8abda4e": {
     "model_module": "@jupyter-widgets/controls",
     "model_module_version": "1.5.0",
     "model_name": "HTMLModel",
     "state": {
      "_dom_classes": [],
      "_model_module": "@jupyter-widgets/controls",
      "_model_module_version": "1.5.0",
      "_model_name": "HTMLModel",
      "_view_count": null,
      "_view_module": "@jupyter-widgets/controls",
      "_view_module_version": "1.5.0",
      "_view_name": "HTMLView",
      "description": "",
      "description_tooltip": null,
      "layout": "IPY_MODEL_57cd1596aead47ad85987147a0f1bb75",
      "placeholder": "​",
      "style": "IPY_MODEL_2e27a56468684597ba7084d662a92309",
      "value": "Downloading: "
     }
    },
    "e344ea6026d44246923f7866fb272f85": {
     "model_module": "@jupyter-widgets/base",
     "model_module_version": "1.2.0",
     "model_name": "LayoutModel",
     "state": {
      "_model_module": "@jupyter-widgets/base",
      "_model_module_version": "1.2.0",
      "_model_name": "LayoutModel",
      "_view_count": null,
      "_view_module": "@jupyter-widgets/base",
      "_view_module_version": "1.2.0",
      "_view_name": "LayoutView",
      "align_content": null,
      "align_items": null,
      "align_self": null,
      "border": null,
      "bottom": null,
      "display": null,
      "flex": null,
      "flex_flow": null,
      "grid_area": null,
      "grid_auto_columns": null,
      "grid_auto_flow": null,
      "grid_auto_rows": null,
      "grid_column": null,
      "grid_gap": null,
      "grid_row": null,
      "grid_template_areas": null,
      "grid_template_columns": null,
      "grid_template_rows": null,
      "height": null,
      "justify_content": null,
      "justify_items": null,
      "left": null,
      "margin": null,
      "max_height": null,
      "max_width": null,
      "min_height": null,
      "min_width": null,
      "object_fit": null,
      "object_position": null,
      "order": null,
      "overflow": null,
      "overflow_x": null,
      "overflow_y": null,
      "padding": null,
      "right": null,
      "top": null,
      "visibility": null,
      "width": null
     }
    },
    "e62e6b3087364568b2919536eed930b4": {
     "model_module": "@jupyter-widgets/controls",
     "model_module_version": "1.5.0",
     "model_name": "FloatProgressModel",
     "state": {
      "_dom_classes": [],
      "_model_module": "@jupyter-widgets/controls",
      "_model_module_version": "1.5.0",
      "_model_name": "FloatProgressModel",
      "_view_count": null,
      "_view_module": "@jupyter-widgets/controls",
      "_view_module_version": "1.5.0",
      "_view_name": "ProgressView",
      "bar_style": "success",
      "description": "",
      "description_tooltip": null,
      "layout": "IPY_MODEL_78f37dd782e643d0985b47de288eb6a6",
      "max": 8164,
      "min": 0,
      "orientation": "horizontal",
      "style": "IPY_MODEL_5b1c1ad9f82d491d98e71923057a6181",
      "value": 8164
     }
    },
    "e83621d2a3894a4287ccf931430ae8b9": {
     "model_module": "@jupyter-widgets/controls",
     "model_module_version": "1.5.0",
     "model_name": "DescriptionStyleModel",
     "state": {
      "_model_module": "@jupyter-widgets/controls",
      "_model_module_version": "1.5.0",
      "_model_name": "DescriptionStyleModel",
      "_view_count": null,
      "_view_module": "@jupyter-widgets/base",
      "_view_module_version": "1.2.0",
      "_view_name": "StyleView",
      "description_width": ""
     }
    },
    "e9700e09f87a4884b1bdec05bd953c87": {
     "model_module": "@jupyter-widgets/controls",
     "model_module_version": "1.5.0",
     "model_name": "HBoxModel",
     "state": {
      "_dom_classes": [],
      "_model_module": "@jupyter-widgets/controls",
      "_model_module_version": "1.5.0",
      "_model_name": "HBoxModel",
      "_view_count": null,
      "_view_module": "@jupyter-widgets/controls",
      "_view_module_version": "1.5.0",
      "_view_name": "HBoxView",
      "box_style": "",
      "children": [
       "IPY_MODEL_a7e7d95121934bd4b3cf322636b5ec52",
       "IPY_MODEL_e62e6b3087364568b2919536eed930b4",
       "IPY_MODEL_a60bf0d288ce49f39ce301698528515a"
      ],
      "layout": "IPY_MODEL_6ab335fdf69045a7a183225814ac50b4"
     }
    },
    "e9ade325aaa749ea9b32e4ff45a0ab8d": {
     "model_module": "@jupyter-widgets/base",
     "model_module_version": "1.2.0",
     "model_name": "LayoutModel",
     "state": {
      "_model_module": "@jupyter-widgets/base",
      "_model_module_version": "1.2.0",
      "_model_name": "LayoutModel",
      "_view_count": null,
      "_view_module": "@jupyter-widgets/base",
      "_view_module_version": "1.2.0",
      "_view_name": "LayoutView",
      "align_content": null,
      "align_items": null,
      "align_self": null,
      "border": null,
      "bottom": null,
      "display": null,
      "flex": null,
      "flex_flow": null,
      "grid_area": null,
      "grid_auto_columns": null,
      "grid_auto_flow": null,
      "grid_auto_rows": null,
      "grid_column": null,
      "grid_gap": null,
      "grid_row": null,
      "grid_template_areas": null,
      "grid_template_columns": null,
      "grid_template_rows": null,
      "height": null,
      "justify_content": null,
      "justify_items": null,
      "left": null,
      "margin": null,
      "max_height": null,
      "max_width": null,
      "min_height": null,
      "min_width": null,
      "object_fit": null,
      "object_position": null,
      "order": null,
      "overflow": null,
      "overflow_x": null,
      "overflow_y": null,
      "padding": null,
      "right": null,
      "top": null,
      "visibility": null,
      "width": null
     }
    },
    "e9db0953aab746658b52ce84cae39f97": {
     "model_module": "@jupyter-widgets/base",
     "model_module_version": "1.2.0",
     "model_name": "LayoutModel",
     "state": {
      "_model_module": "@jupyter-widgets/base",
      "_model_module_version": "1.2.0",
      "_model_name": "LayoutModel",
      "_view_count": null,
      "_view_module": "@jupyter-widgets/base",
      "_view_module_version": "1.2.0",
      "_view_name": "LayoutView",
      "align_content": null,
      "align_items": null,
      "align_self": null,
      "border": null,
      "bottom": null,
      "display": null,
      "flex": null,
      "flex_flow": null,
      "grid_area": null,
      "grid_auto_columns": null,
      "grid_auto_flow": null,
      "grid_auto_rows": null,
      "grid_column": null,
      "grid_gap": null,
      "grid_row": null,
      "grid_template_areas": null,
      "grid_template_columns": null,
      "grid_template_rows": null,
      "height": null,
      "justify_content": null,
      "justify_items": null,
      "left": null,
      "margin": null,
      "max_height": null,
      "max_width": null,
      "min_height": null,
      "min_width": null,
      "object_fit": null,
      "object_position": null,
      "order": null,
      "overflow": null,
      "overflow_x": null,
      "overflow_y": null,
      "padding": null,
      "right": null,
      "top": null,
      "visibility": null,
      "width": null
     }
    },
    "ea368ae3cbb54a73a06d6fdf30457c02": {
     "model_module": "@jupyter-widgets/controls",
     "model_module_version": "1.5.0",
     "model_name": "ProgressStyleModel",
     "state": {
      "_model_module": "@jupyter-widgets/controls",
      "_model_module_version": "1.5.0",
      "_model_name": "ProgressStyleModel",
      "_view_count": null,
      "_view_module": "@jupyter-widgets/base",
      "_view_module_version": "1.2.0",
      "_view_name": "StyleView",
      "bar_color": null,
      "description_width": ""
     }
    },
    "ec1c3ebf957f4f86bbf4d0b0f042ea96": {
     "model_module": "@jupyter-widgets/base",
     "model_module_version": "1.2.0",
     "model_name": "LayoutModel",
     "state": {
      "_model_module": "@jupyter-widgets/base",
      "_model_module_version": "1.2.0",
      "_model_name": "LayoutModel",
      "_view_count": null,
      "_view_module": "@jupyter-widgets/base",
      "_view_module_version": "1.2.0",
      "_view_name": "LayoutView",
      "align_content": null,
      "align_items": null,
      "align_self": null,
      "border": null,
      "bottom": null,
      "display": null,
      "flex": null,
      "flex_flow": null,
      "grid_area": null,
      "grid_auto_columns": null,
      "grid_auto_flow": null,
      "grid_auto_rows": null,
      "grid_column": null,
      "grid_gap": null,
      "grid_row": null,
      "grid_template_areas": null,
      "grid_template_columns": null,
      "grid_template_rows": null,
      "height": null,
      "justify_content": null,
      "justify_items": null,
      "left": null,
      "margin": null,
      "max_height": null,
      "max_width": null,
      "min_height": null,
      "min_width": null,
      "object_fit": null,
      "object_position": null,
      "order": null,
      "overflow": null,
      "overflow_x": null,
      "overflow_y": null,
      "padding": null,
      "right": null,
      "top": null,
      "visibility": null,
      "width": null
     }
    },
    "ee3cc5c9c2e44482be9fd0d65236b2ba": {
     "model_module": "@jupyter-widgets/base",
     "model_module_version": "1.2.0",
     "model_name": "LayoutModel",
     "state": {
      "_model_module": "@jupyter-widgets/base",
      "_model_module_version": "1.2.0",
      "_model_name": "LayoutModel",
      "_view_count": null,
      "_view_module": "@jupyter-widgets/base",
      "_view_module_version": "1.2.0",
      "_view_name": "LayoutView",
      "align_content": null,
      "align_items": null,
      "align_self": null,
      "border": null,
      "bottom": null,
      "display": null,
      "flex": null,
      "flex_flow": null,
      "grid_area": null,
      "grid_auto_columns": null,
      "grid_auto_flow": null,
      "grid_auto_rows": null,
      "grid_column": null,
      "grid_gap": null,
      "grid_row": null,
      "grid_template_areas": null,
      "grid_template_columns": null,
      "grid_template_rows": null,
      "height": null,
      "justify_content": null,
      "justify_items": null,
      "left": null,
      "margin": null,
      "max_height": null,
      "max_width": null,
      "min_height": null,
      "min_width": null,
      "object_fit": null,
      "object_position": null,
      "order": null,
      "overflow": null,
      "overflow_x": null,
      "overflow_y": null,
      "padding": null,
      "right": null,
      "top": null,
      "visibility": null,
      "width": null
     }
    },
    "effd4c06dcdb44ae9027dbe846438c83": {
     "model_module": "@jupyter-widgets/controls",
     "model_module_version": "1.5.0",
     "model_name": "FloatProgressModel",
     "state": {
      "_dom_classes": [],
      "_model_module": "@jupyter-widgets/controls",
      "_model_module_version": "1.5.0",
      "_model_name": "FloatProgressModel",
      "_view_count": null,
      "_view_module": "@jupyter-widgets/controls",
      "_view_module_version": "1.5.0",
      "_view_name": "ProgressView",
      "bar_style": "success",
      "description": "",
      "description_tooltip": null,
      "layout": "IPY_MODEL_9ceca09d9fdb4a0495d33bf3eef7e65e",
      "max": 5,
      "min": 0,
      "orientation": "horizontal",
      "style": "IPY_MODEL_d7a01acdb98f435489fed6bf1a5b3e4f",
      "value": 5
     }
    },
    "f0456d5e7be64144a8243fb9ea974d1b": {
     "model_module": "@jupyter-widgets/controls",
     "model_module_version": "1.5.0",
     "model_name": "DescriptionStyleModel",
     "state": {
      "_model_module": "@jupyter-widgets/controls",
      "_model_module_version": "1.5.0",
      "_model_name": "DescriptionStyleModel",
      "_view_count": null,
      "_view_module": "@jupyter-widgets/base",
      "_view_module_version": "1.2.0",
      "_view_name": "StyleView",
      "description_width": ""
     }
    },
    "f55bd5328793422fb0e2101442855dec": {
     "model_module": "@jupyter-widgets/controls",
     "model_module_version": "1.5.0",
     "model_name": "DescriptionStyleModel",
     "state": {
      "_model_module": "@jupyter-widgets/controls",
      "_model_module_version": "1.5.0",
      "_model_name": "DescriptionStyleModel",
      "_view_count": null,
      "_view_module": "@jupyter-widgets/base",
      "_view_module_version": "1.2.0",
      "_view_name": "StyleView",
      "description_width": ""
     }
    },
    "f7b66384620143b4b38997bc64f81191": {
     "model_module": "@jupyter-widgets/base",
     "model_module_version": "1.2.0",
     "model_name": "LayoutModel",
     "state": {
      "_model_module": "@jupyter-widgets/base",
      "_model_module_version": "1.2.0",
      "_model_name": "LayoutModel",
      "_view_count": null,
      "_view_module": "@jupyter-widgets/base",
      "_view_module_version": "1.2.0",
      "_view_name": "LayoutView",
      "align_content": null,
      "align_items": null,
      "align_self": null,
      "border": null,
      "bottom": null,
      "display": null,
      "flex": null,
      "flex_flow": null,
      "grid_area": null,
      "grid_auto_columns": null,
      "grid_auto_flow": null,
      "grid_auto_rows": null,
      "grid_column": null,
      "grid_gap": null,
      "grid_row": null,
      "grid_template_areas": null,
      "grid_template_columns": null,
      "grid_template_rows": null,
      "height": null,
      "justify_content": null,
      "justify_items": null,
      "left": null,
      "margin": null,
      "max_height": null,
      "max_width": null,
      "min_height": null,
      "min_width": null,
      "object_fit": null,
      "object_position": null,
      "order": null,
      "overflow": null,
      "overflow_x": null,
      "overflow_y": null,
      "padding": null,
      "right": null,
      "top": null,
      "visibility": null,
      "width": null
     }
    },
    "f7f6ad344bcd4302bbd9b7846dbc9491": {
     "model_module": "@jupyter-widgets/controls",
     "model_module_version": "1.5.0",
     "model_name": "ProgressStyleModel",
     "state": {
      "_model_module": "@jupyter-widgets/controls",
      "_model_module_version": "1.5.0",
      "_model_name": "ProgressStyleModel",
      "_view_count": null,
      "_view_module": "@jupyter-widgets/base",
      "_view_module_version": "1.2.0",
      "_view_name": "StyleView",
      "bar_color": null,
      "description_width": ""
     }
    },
    "fb8d383652fc4ad8a56e011f74f5a7a2": {
     "model_module": "@jupyter-widgets/base",
     "model_module_version": "1.2.0",
     "model_name": "LayoutModel",
     "state": {
      "_model_module": "@jupyter-widgets/base",
      "_model_module_version": "1.2.0",
      "_model_name": "LayoutModel",
      "_view_count": null,
      "_view_module": "@jupyter-widgets/base",
      "_view_module_version": "1.2.0",
      "_view_name": "LayoutView",
      "align_content": null,
      "align_items": null,
      "align_self": null,
      "border": null,
      "bottom": null,
      "display": null,
      "flex": null,
      "flex_flow": null,
      "grid_area": null,
      "grid_auto_columns": null,
      "grid_auto_flow": null,
      "grid_auto_rows": null,
      "grid_column": null,
      "grid_gap": null,
      "grid_row": null,
      "grid_template_areas": null,
      "grid_template_columns": null,
      "grid_template_rows": null,
      "height": null,
      "justify_content": null,
      "justify_items": null,
      "left": null,
      "margin": null,
      "max_height": null,
      "max_width": null,
      "min_height": null,
      "min_width": null,
      "object_fit": null,
      "object_position": null,
      "order": null,
      "overflow": null,
      "overflow_x": null,
      "overflow_y": null,
      "padding": null,
      "right": null,
      "top": null,
      "visibility": null,
      "width": null
     }
    },
    "fc442d74a9034ec6aba19dab42e2b97a": {
     "model_module": "@jupyter-widgets/controls",
     "model_module_version": "1.5.0",
     "model_name": "ProgressStyleModel",
     "state": {
      "_model_module": "@jupyter-widgets/controls",
      "_model_module_version": "1.5.0",
      "_model_name": "ProgressStyleModel",
      "_view_count": null,
      "_view_module": "@jupyter-widgets/base",
      "_view_module_version": "1.2.0",
      "_view_name": "StyleView",
      "bar_color": null,
      "description_width": ""
     }
    },
    "fd43a043ce7c4b878ade15f6bbf55977": {
     "model_module": "@jupyter-widgets/controls",
     "model_module_version": "1.5.0",
     "model_name": "HBoxModel",
     "state": {
      "_dom_classes": [],
      "_model_module": "@jupyter-widgets/controls",
      "_model_module_version": "1.5.0",
      "_model_name": "HBoxModel",
      "_view_count": null,
      "_view_module": "@jupyter-widgets/controls",
      "_view_module_version": "1.5.0",
      "_view_name": "HBoxView",
      "box_style": "",
      "children": [
       "IPY_MODEL_e0888123f0d2455d9f565939a8abda4e",
       "IPY_MODEL_3544f17e723f4ade9356e0eacd57c4f5",
       "IPY_MODEL_df32789a34fe494c9a8791a8d8c70c69"
      ],
      "layout": "IPY_MODEL_b362a9179f894ff5b879bbae73fe41b2"
     }
    },
    "fe53a6cd10ca4aee803c98f027ca23d3": {
     "model_module": "@jupyter-widgets/controls",
     "model_module_version": "1.5.0",
     "model_name": "DescriptionStyleModel",
     "state": {
      "_model_module": "@jupyter-widgets/controls",
      "_model_module_version": "1.5.0",
      "_model_name": "DescriptionStyleModel",
      "_view_count": null,
      "_view_module": "@jupyter-widgets/base",
      "_view_module_version": "1.2.0",
      "_view_name": "StyleView",
      "description_width": ""
     }
    },
    "fe9d785b39be443584872ea994cb9c45": {
     "model_module": "@jupyter-widgets/controls",
     "model_module_version": "1.5.0",
     "model_name": "ProgressStyleModel",
     "state": {
      "_model_module": "@jupyter-widgets/controls",
      "_model_module_version": "1.5.0",
      "_model_name": "ProgressStyleModel",
      "_view_count": null,
      "_view_module": "@jupyter-widgets/base",
      "_view_module_version": "1.2.0",
      "_view_name": "StyleView",
      "bar_color": null,
      "description_width": ""
     }
    },
    "ff107f54e338411588b611ae3c85293f": {
     "model_module": "@jupyter-widgets/controls",
     "model_module_version": "1.5.0",
     "model_name": "DescriptionStyleModel",
     "state": {
      "_model_module": "@jupyter-widgets/controls",
      "_model_module_version": "1.5.0",
      "_model_name": "DescriptionStyleModel",
      "_view_count": null,
      "_view_module": "@jupyter-widgets/base",
      "_view_module_version": "1.2.0",
      "_view_name": "StyleView",
      "description_width": ""
     }
    },
    "ffce8896c8b148c6ba66a6a2f1e20069": {
     "model_module": "@jupyter-widgets/base",
     "model_module_version": "1.2.0",
     "model_name": "LayoutModel",
     "state": {
      "_model_module": "@jupyter-widgets/base",
      "_model_module_version": "1.2.0",
      "_model_name": "LayoutModel",
      "_view_count": null,
      "_view_module": "@jupyter-widgets/base",
      "_view_module_version": "1.2.0",
      "_view_name": "LayoutView",
      "align_content": null,
      "align_items": null,
      "align_self": null,
      "border": null,
      "bottom": null,
      "display": null,
      "flex": null,
      "flex_flow": null,
      "grid_area": null,
      "grid_auto_columns": null,
      "grid_auto_flow": null,
      "grid_auto_rows": null,
      "grid_column": null,
      "grid_gap": null,
      "grid_row": null,
      "grid_template_areas": null,
      "grid_template_columns": null,
      "grid_template_rows": null,
      "height": null,
      "justify_content": null,
      "justify_items": null,
      "left": null,
      "margin": null,
      "max_height": null,
      "max_width": null,
      "min_height": null,
      "min_width": null,
      "object_fit": null,
      "object_position": null,
      "order": null,
      "overflow": null,
      "overflow_x": null,
      "overflow_y": null,
      "padding": null,
      "right": null,
      "top": null,
      "visibility": null,
      "width": null
     }
    }
   }
  }
 },
 "nbformat": 4,
 "nbformat_minor": 1
}
